{
  "nbformat": 4,
  "nbformat_minor": 0,
  "metadata": {
    "colab": {
      "provenance": [],
      "collapsed_sections": [
        "s5uPDEkg01Em",
        "axo7H4678eLe",
        "f7Gd3d8c8xEa",
        "PY-ywF1HZVyb",
        "JvflZXs6iu-6",
        "W2nfvGe8fEKu",
        "fGXZyVG4oZqr"
      ]
    },
    "kernelspec": {
      "name": "python3",
      "display_name": "Python 3"
    },
    "language_info": {
      "name": "python"
    }
  },
  "cells": [
    {
      "cell_type": "code",
      "execution_count": null,
      "metadata": {
        "id": "YQC164XdcoOi"
      },
      "outputs": [],
      "source": [
        "  import tensorflow as tf"
      ]
    },
    {
      "cell_type": "code",
      "source": [
        "tf.__version__"
      ],
      "metadata": {
        "colab": {
          "base_uri": "https://localhost:8080/",
          "height": 35
        },
        "id": "4k-kfmB5dL2R",
        "outputId": "f19a113a-09fa-45dd-f0f5-82999811e5e3"
      },
      "execution_count": null,
      "outputs": [
        {
          "output_type": "execute_result",
          "data": {
            "text/plain": [
              "'2.9.2'"
            ],
            "application/vnd.google.colaboratory.intrinsic+json": {
              "type": "string"
            }
          },
          "metadata": {},
          "execution_count": 4
        }
      ]
    },
    {
      "cell_type": "markdown",
      "source": [
        "### Tensors Fundamental"
      ],
      "metadata": {
        "id": "zr3eZGtuvEAy"
      }
    },
    {
      "cell_type": "code",
      "source": [
        "scalar=tf.constant(7) #creates tensor\n",
        "scalar"
      ],
      "metadata": {
        "colab": {
          "base_uri": "https://localhost:8080/"
        },
        "id": "qEoZ4rRVdMRv",
        "outputId": "08e727f9-91ef-48cd-a144-d40b447676dd"
      },
      "execution_count": null,
      "outputs": [
        {
          "output_type": "execute_result",
          "data": {
            "text/plain": [
              "<tf.Tensor: shape=(), dtype=int32, numpy=7>"
            ]
          },
          "metadata": {},
          "execution_count": 5
        }
      ]
    },
    {
      "cell_type": "code",
      "source": [
        "#number of dimension of a tensor\n",
        "scalar.ndim"
      ],
      "metadata": {
        "colab": {
          "base_uri": "https://localhost:8080/"
        },
        "id": "QyG4dUR4jW23",
        "outputId": "4e8bb9b6-a530-4591-a945-e622cf0d7979"
      },
      "execution_count": null,
      "outputs": [
        {
          "output_type": "execute_result",
          "data": {
            "text/plain": [
              "0"
            ]
          },
          "metadata": {},
          "execution_count": 6
        }
      ]
    },
    {
      "cell_type": "code",
      "source": [
        "vector = tf.constant([29,12])\n",
        "vector"
      ],
      "metadata": {
        "colab": {
          "base_uri": "https://localhost:8080/"
        },
        "id": "D8xHwhpYjXAu",
        "outputId": "52d705ed-a021-4d39-db64-0b039f840f8b"
      },
      "execution_count": null,
      "outputs": [
        {
          "output_type": "execute_result",
          "data": {
            "text/plain": [
              "<tf.Tensor: shape=(2,), dtype=int32, numpy=array([29, 12], dtype=int32)>"
            ]
          },
          "metadata": {},
          "execution_count": 7
        }
      ]
    },
    {
      "cell_type": "code",
      "source": [
        "#check vector dimension \n",
        "vector.ndim"
      ],
      "metadata": {
        "colab": {
          "base_uri": "https://localhost:8080/"
        },
        "id": "uL3OZOyBjs3s",
        "outputId": "b44fe44b-2d9d-44c2-fa36-7f3025cecf0a"
      },
      "execution_count": null,
      "outputs": [
        {
          "output_type": "execute_result",
          "data": {
            "text/plain": [
              "1"
            ]
          },
          "metadata": {},
          "execution_count": 8
        }
      ]
    },
    {
      "cell_type": "code",
      "source": [
        "matrix= tf.constant([[10,7],\n",
        "                     [7,10]])"
      ],
      "metadata": {
        "id": "YOTmhOv_jzl_"
      },
      "execution_count": null,
      "outputs": []
    },
    {
      "cell_type": "code",
      "source": [
        "matrix.ndim"
      ],
      "metadata": {
        "colab": {
          "base_uri": "https://localhost:8080/"
        },
        "id": "Pt1Jcykwj0pI",
        "outputId": "8e07c1cb-b8c8-4dbb-88d4-4d94250f599c"
      },
      "execution_count": null,
      "outputs": [
        {
          "output_type": "execute_result",
          "data": {
            "text/plain": [
              "2"
            ]
          },
          "metadata": {},
          "execution_count": 10
        }
      ]
    },
    {
      "cell_type": "code",
      "source": [
        "a_matrix= tf.constant([[10.,7.],\n",
        "                     [7.,10.],\n",
        "                     [5,4]],dtype=tf.float16 )"
      ],
      "metadata": {
        "id": "d94tFfDrj1p7"
      },
      "execution_count": null,
      "outputs": []
    },
    {
      "cell_type": "code",
      "source": [
        " a_matrix.ndim  #matrix has 2 dimensions"
      ],
      "metadata": {
        "colab": {
          "base_uri": "https://localhost:8080/"
        },
        "id": "eODYYnUKkmDt",
        "outputId": "a6d789b4-eb14-4663-94c7-57e9046fbd9a"
      },
      "execution_count": null,
      "outputs": [
        {
          "output_type": "execute_result",
          "data": {
            "text/plain": [
              "2"
            ]
          },
          "metadata": {},
          "execution_count": 12
        }
      ]
    },
    {
      "cell_type": "code",
      "source": [
        "yensor=tf.constant([[[10,7],\n",
        "                     [7,10]],[[10,7],\n",
        "                     [7,10]],[[10,7],\n",
        "                     [7,10]]])"
      ],
      "metadata": {
        "id": "gnnGZq0OlCMJ"
      },
      "execution_count": null,
      "outputs": []
    },
    {
      "cell_type": "code",
      "source": [
        "yensor.ndim"
      ],
      "metadata": {
        "colab": {
          "base_uri": "https://localhost:8080/"
        },
        "id": "6TM51W_BlC9g",
        "outputId": "d2aa2f15-0f75-4c3f-a0ee-168681b89f74"
      },
      "execution_count": null,
      "outputs": [
        {
          "output_type": "execute_result",
          "data": {
            "text/plain": [
              "3"
            ]
          },
          "metadata": {},
          "execution_count": 14
        }
      ]
    },
    {
      "cell_type": "code",
      "source": [
        "## Creating tensor using variable"
      ],
      "metadata": {
        "id": "JVvzdLPjmQbX"
      },
      "execution_count": null,
      "outputs": []
    },
    {
      "cell_type": "code",
      "source": [
        "c_t=tf.Variable([10,7])\n",
        "uc_t=tf.constant([10,7])"
      ],
      "metadata": {
        "id": "t27eAi-vl1YS"
      },
      "execution_count": null,
      "outputs": []
    },
    {
      "cell_type": "code",
      "source": [
        "c_t,uc_t"
      ],
      "metadata": {
        "colab": {
          "base_uri": "https://localhost:8080/"
        },
        "id": "9mAByObVl16z",
        "outputId": "f22dc685-941b-42bf-c73c-505016c42eea"
      },
      "execution_count": null,
      "outputs": [
        {
          "output_type": "execute_result",
          "data": {
            "text/plain": [
              "(<tf.Variable 'Variable:0' shape=(2,) dtype=int32, numpy=array([10,  7], dtype=int32)>,\n",
              " <tf.Tensor: shape=(2,), dtype=int32, numpy=array([10,  7], dtype=int32)>)"
            ]
          },
          "metadata": {},
          "execution_count": 17
        }
      ]
    },
    {
      "cell_type": "code",
      "source": [
        "c_t[0].assign(7)"
      ],
      "metadata": {
        "colab": {
          "base_uri": "https://localhost:8080/"
        },
        "id": "NxRLCmiIl2Z0",
        "outputId": "0ed7fcbc-1f85-4726-b739-21bbd52bbb47"
      },
      "execution_count": null,
      "outputs": [
        {
          "output_type": "execute_result",
          "data": {
            "text/plain": [
              "<tf.Variable 'UnreadVariable' shape=(2,) dtype=int32, numpy=array([7, 7], dtype=int32)>"
            ]
          },
          "metadata": {},
          "execution_count": 18
        }
      ]
    },
    {
      "cell_type": "code",
      "source": [
        "# constant does allow changing tensor after declaration\n",
        "# variable allow value to change but we can't change shape and dtype"
      ],
      "metadata": {
        "id": "mggbSRTGnfGr"
      },
      "execution_count": null,
      "outputs": []
    },
    {
      "cell_type": "code",
      "source": [
        "# Random tensor(use to intialize weights)"
      ],
      "metadata": {
        "id": "IINr16zinfnD"
      },
      "execution_count": null,
      "outputs": []
    },
    {
      "cell_type": "code",
      "source": [
        "random1= tf.random.Generator.from_seed(42)  #set seed\n",
        "random1=random1.normal(shape=(4,2))\n",
        "random1"
      ],
      "metadata": {
        "colab": {
          "base_uri": "https://localhost:8080/"
        },
        "id": "prD7JPt_ngJO",
        "outputId": "8988122e-e6af-4410-9939-199869167648"
      },
      "execution_count": null,
      "outputs": [
        {
          "output_type": "execute_result",
          "data": {
            "text/plain": [
              "<tf.Tensor: shape=(4, 2), dtype=float32, numpy=\n",
              "array([[-0.7565803 , -0.06854702],\n",
              "       [ 0.07595026, -1.2573844 ],\n",
              "       [-0.23193763, -1.8107855 ],\n",
              "       [ 0.09988727, -0.50998646]], dtype=float32)>"
            ]
          },
          "metadata": {},
          "execution_count": 21
        }
      ]
    },
    {
      "cell_type": "code",
      "source": [
        "random2= tf.random.Generator.from_seed(7)  #set seed\n",
        "random2=random2.uniform(shape=(4,2))\n",
        "random2"
      ],
      "metadata": {
        "colab": {
          "base_uri": "https://localhost:8080/"
        },
        "id": "4ahFcbvYpkQ-",
        "outputId": "7419edf7-a084-4d1c-bcae-b344457d1a92"
      },
      "execution_count": null,
      "outputs": [
        {
          "output_type": "execute_result",
          "data": {
            "text/plain": [
              "<tf.Tensor: shape=(4, 2), dtype=float32, numpy=\n",
              "array([[0.39932835, 0.7840713 ],\n",
              "       [0.67880154, 0.73395896],\n",
              "       [0.5520444 , 0.10948515],\n",
              "       [0.6487982 , 0.9890779 ]], dtype=float32)>"
            ]
          },
          "metadata": {},
          "execution_count": 22
        }
      ]
    },
    {
      "cell_type": "code",
      "source": [
        "# setting seed are pseudo random number"
      ],
      "metadata": {
        "id": "-mXNKPFdp_VO"
      },
      "execution_count": null,
      "outputs": []
    },
    {
      "cell_type": "code",
      "source": [
        "## shuffle order of element in tensor(when we have to shuffle data so order doesn't affect learning)"
      ],
      "metadata": {
        "id": "NY1g9SgJriSi"
      },
      "execution_count": null,
      "outputs": []
    },
    {
      "cell_type": "code",
      "source": [
        "tf.random.shuffle(random2,seed=7)\n",
        "tf.random.set_seed(32)\n",
        "random2"
      ],
      "metadata": {
        "colab": {
          "base_uri": "https://localhost:8080/"
        },
        "id": "IqyysJHfsDgj",
        "outputId": "6868bb6b-ab7a-4caf-cffb-7cbf533361e4"
      },
      "execution_count": null,
      "outputs": [
        {
          "output_type": "execute_result",
          "data": {
            "text/plain": [
              "<tf.Tensor: shape=(4, 2), dtype=float32, numpy=\n",
              "array([[0.39932835, 0.7840713 ],\n",
              "       [0.67880154, 0.73395896],\n",
              "       [0.5520444 , 0.10948515],\n",
              "       [0.6487982 , 0.9890779 ]], dtype=float32)>"
            ]
          },
          "metadata": {},
          "execution_count": 25
        }
      ]
    },
    {
      "cell_type": "code",
      "source": [
        "new= tf.random.Generator.from_seed(5)\n",
        "new=new.normal(shape=(5,3))\n",
        "new"
      ],
      "metadata": {
        "colab": {
          "base_uri": "https://localhost:8080/"
        },
        "id": "7ERIVgYWuVrq",
        "outputId": "32527c37-ca46-437e-c45b-8b78b4134a5a"
      },
      "execution_count": null,
      "outputs": [
        {
          "output_type": "execute_result",
          "data": {
            "text/plain": [
              "<tf.Tensor: shape=(5, 3), dtype=float32, numpy=\n",
              "array([[ 1.0278524 ,  0.27974114, -0.01347923],\n",
              "       [ 1.845181  ,  0.97061104, -1.0242516 ],\n",
              "       [-0.6544423 , -0.29738766, -1.3240396 ],\n",
              "       [ 0.28785667, -0.8757901 , -0.08857018],\n",
              "       [ 0.69211644,  0.84215707, -0.06378496]], dtype=float32)>"
            ]
          },
          "metadata": {},
          "execution_count": 26
        }
      ]
    },
    {
      "cell_type": "code",
      "source": [
        "tf.random.set_seed(3)\n",
        "print(tf.random.shuffle(new))\n",
        "print(tf.random.shuffle(new))"
      ],
      "metadata": {
        "colab": {
          "base_uri": "https://localhost:8080/"
        },
        "id": "Y4Asy_wCNER3",
        "outputId": "411bf096-64ea-4daa-a770-d9b6c84e560f"
      },
      "execution_count": null,
      "outputs": [
        {
          "output_type": "stream",
          "name": "stdout",
          "text": [
            "tf.Tensor(\n",
            "[[ 0.69211644  0.84215707 -0.06378496]\n",
            " [-0.6544423  -0.29738766 -1.3240396 ]\n",
            " [ 1.845181    0.97061104 -1.0242516 ]\n",
            " [ 0.28785667 -0.8757901  -0.08857018]\n",
            " [ 1.0278524   0.27974114 -0.01347923]], shape=(5, 3), dtype=float32)\n",
            "tf.Tensor(\n",
            "[[-0.6544423  -0.29738766 -1.3240396 ]\n",
            " [ 0.69211644  0.84215707 -0.06378496]\n",
            " [ 1.0278524   0.27974114 -0.01347923]\n",
            " [ 1.845181    0.97061104 -1.0242516 ]\n",
            " [ 0.28785667 -0.8757901  -0.08857018]], shape=(5, 3), dtype=float32)\n"
          ]
        }
      ]
    },
    {
      "cell_type": "code",
      "source": [
        "#if we want shuffle order to be reproducable we have set global as well as operational seed"
      ],
      "metadata": {
        "id": "Q4vMRAwRN4BM"
      },
      "execution_count": null,
      "outputs": []
    },
    {
      "cell_type": "code",
      "source": [
        "tf.ones([10,7]) # Create tensor of all ones"
      ],
      "metadata": {
        "colab": {
          "base_uri": "https://localhost:8080/"
        },
        "id": "wrj4sxyBN41r",
        "outputId": "c6a14968-2264-4b1b-fcd1-8afa25cafedc"
      },
      "execution_count": null,
      "outputs": [
        {
          "output_type": "execute_result",
          "data": {
            "text/plain": [
              "<tf.Tensor: shape=(10, 7), dtype=float32, numpy=\n",
              "array([[1., 1., 1., 1., 1., 1., 1.],\n",
              "       [1., 1., 1., 1., 1., 1., 1.],\n",
              "       [1., 1., 1., 1., 1., 1., 1.],\n",
              "       [1., 1., 1., 1., 1., 1., 1.],\n",
              "       [1., 1., 1., 1., 1., 1., 1.],\n",
              "       [1., 1., 1., 1., 1., 1., 1.],\n",
              "       [1., 1., 1., 1., 1., 1., 1.],\n",
              "       [1., 1., 1., 1., 1., 1., 1.],\n",
              "       [1., 1., 1., 1., 1., 1., 1.],\n",
              "       [1., 1., 1., 1., 1., 1., 1.]], dtype=float32)>"
            ]
          },
          "metadata": {},
          "execution_count": 29
        }
      ]
    },
    {
      "cell_type": "code",
      "source": [
        "tf.zeros(shape=(3,5))"
      ],
      "metadata": {
        "colab": {
          "base_uri": "https://localhost:8080/"
        },
        "id": "LyFzP7xRQyDM",
        "outputId": "24e11c4c-4031-4d0b-98b0-8a30b33b4e31"
      },
      "execution_count": null,
      "outputs": [
        {
          "output_type": "execute_result",
          "data": {
            "text/plain": [
              "<tf.Tensor: shape=(3, 5), dtype=float32, numpy=\n",
              "array([[0., 0., 0., 0., 0.],\n",
              "       [0., 0., 0., 0., 0.],\n",
              "       [0., 0., 0., 0., 0.]], dtype=float32)>"
            ]
          },
          "metadata": {},
          "execution_count": 30
        }
      ]
    },
    {
      "cell_type": "code",
      "source": [
        "# turn numpyy arra into tensors the main difference between numpy and tensor is that tensor can run on GPU at faster computing speed"
      ],
      "metadata": {
        "id": "k22ZIEW0RHsT"
      },
      "execution_count": null,
      "outputs": []
    },
    {
      "cell_type": "code",
      "source": [
        "import numpy as np\n",
        "a=np.arange(1,25,dtype=np.int32)\n",
        "a"
      ],
      "metadata": {
        "colab": {
          "base_uri": "https://localhost:8080/"
        },
        "id": "-ggzF1nERUtv",
        "outputId": "209e9a40-2f6f-4579-b1d7-ca64120b7339"
      },
      "execution_count": null,
      "outputs": [
        {
          "output_type": "execute_result",
          "data": {
            "text/plain": [
              "array([ 1,  2,  3,  4,  5,  6,  7,  8,  9, 10, 11, 12, 13, 14, 15, 16, 17,\n",
              "       18, 19, 20, 21, 22, 23, 24], dtype=int32)"
            ]
          },
          "metadata": {},
          "execution_count": 32
        }
      ]
    },
    {
      "cell_type": "code",
      "source": [
        "A=tf.constant(a,shape=(2,3,4))\n",
        "A"
      ],
      "metadata": {
        "colab": {
          "base_uri": "https://localhost:8080/"
        },
        "id": "e2IZUWYGRstN",
        "outputId": "4baeb53a-784e-4950-b015-b81d24ed28d4"
      },
      "execution_count": null,
      "outputs": [
        {
          "output_type": "execute_result",
          "data": {
            "text/plain": [
              "<tf.Tensor: shape=(2, 3, 4), dtype=int32, numpy=\n",
              "array([[[ 1,  2,  3,  4],\n",
              "        [ 5,  6,  7,  8],\n",
              "        [ 9, 10, 11, 12]],\n",
              "\n",
              "       [[13, 14, 15, 16],\n",
              "        [17, 18, 19, 20],\n",
              "        [21, 22, 23, 24]]], dtype=int32)>"
            ]
          },
          "metadata": {},
          "execution_count": 33
        }
      ]
    },
    {
      "cell_type": "code",
      "source": [
        "b= np.arange(1,95,6)\n",
        "b"
      ],
      "metadata": {
        "colab": {
          "base_uri": "https://localhost:8080/"
        },
        "id": "dKPCypzXScLr",
        "outputId": "10383366-6ce0-4959-ae3d-e0c718db9309"
      },
      "execution_count": null,
      "outputs": [
        {
          "output_type": "execute_result",
          "data": {
            "text/plain": [
              "array([ 1,  7, 13, 19, 25, 31, 37, 43, 49, 55, 61, 67, 73, 79, 85, 91])"
            ]
          },
          "metadata": {},
          "execution_count": 34
        }
      ]
    },
    {
      "cell_type": "code",
      "source": [
        "m=tf.constant(b,shape=(4,2,2))\n",
        "m"
      ],
      "metadata": {
        "colab": {
          "base_uri": "https://localhost:8080/"
        },
        "id": "ukC4dB6pTEHj",
        "outputId": "d839c28b-13ad-4ce1-c23a-549e83de96c0"
      },
      "execution_count": null,
      "outputs": [
        {
          "output_type": "execute_result",
          "data": {
            "text/plain": [
              "<tf.Tensor: shape=(4, 2, 2), dtype=int64, numpy=\n",
              "array([[[ 1,  7],\n",
              "        [13, 19]],\n",
              "\n",
              "       [[25, 31],\n",
              "        [37, 43]],\n",
              "\n",
              "       [[49, 55],\n",
              "        [61, 67]],\n",
              "\n",
              "       [[73, 79],\n",
              "        [85, 91]]])>"
            ]
          },
          "metadata": {},
          "execution_count": 35
        }
      ]
    },
    {
      "cell_type": "code",
      "source": [
        "m.ndim"
      ],
      "metadata": {
        "colab": {
          "base_uri": "https://localhost:8080/"
        },
        "id": "xdWsFIknTwqu",
        "outputId": "2141eed0-22c5-4b38-d1ff-708681aaad45"
      },
      "execution_count": null,
      "outputs": [
        {
          "output_type": "execute_result",
          "data": {
            "text/plain": [
              "3"
            ]
          },
          "metadata": {},
          "execution_count": 36
        }
      ]
    },
    {
      "cell_type": "code",
      "source": [
        "## Information from tensors"
      ],
      "metadata": {
        "id": "odyhil1vRtcJ"
      },
      "execution_count": null,
      "outputs": []
    },
    {
      "cell_type": "code",
      "source": [
        "a=np.arange(6,132,step=4)"
      ],
      "metadata": {
        "id": "W_yConcNRA57"
      },
      "execution_count": null,
      "outputs": []
    },
    {
      "cell_type": "code",
      "source": [
        "len(a)"
      ],
      "metadata": {
        "colab": {
          "base_uri": "https://localhost:8080/"
        },
        "id": "DnoCHCCZN5V5",
        "outputId": "11b70f9c-69b7-4140-f4aa-07e2080c1209"
      },
      "execution_count": null,
      "outputs": [
        {
          "output_type": "execute_result",
          "data": {
            "text/plain": [
              "32"
            ]
          },
          "metadata": {},
          "execution_count": 39
        }
      ]
    },
    {
      "cell_type": "code",
      "source": [
        "fd=tf.constant(a,shape=(2,4,2,2))\n",
        "fd"
      ],
      "metadata": {
        "colab": {
          "base_uri": "https://localhost:8080/"
        },
        "id": "y3w_KH6WNnbI",
        "outputId": "ad5cfe1c-3aba-48ab-c173-06c61d9e9852"
      },
      "execution_count": null,
      "outputs": [
        {
          "output_type": "execute_result",
          "data": {
            "text/plain": [
              "<tf.Tensor: shape=(2, 4, 2, 2), dtype=int64, numpy=\n",
              "array([[[[  6,  10],\n",
              "         [ 14,  18]],\n",
              "\n",
              "        [[ 22,  26],\n",
              "         [ 30,  34]],\n",
              "\n",
              "        [[ 38,  42],\n",
              "         [ 46,  50]],\n",
              "\n",
              "        [[ 54,  58],\n",
              "         [ 62,  66]]],\n",
              "\n",
              "\n",
              "       [[[ 70,  74],\n",
              "         [ 78,  82]],\n",
              "\n",
              "        [[ 86,  90],\n",
              "         [ 94,  98]],\n",
              "\n",
              "        [[102, 106],\n",
              "         [110, 114]],\n",
              "\n",
              "        [[118, 122],\n",
              "         [126, 130]]]])>"
            ]
          },
          "metadata": {},
          "execution_count": 40
        }
      ]
    },
    {
      "cell_type": "code",
      "source": [
        "fd[1][2]"
      ],
      "metadata": {
        "colab": {
          "base_uri": "https://localhost:8080/"
        },
        "id": "Qq4zT4QSVLWU",
        "outputId": "4c4c9c6d-ccaf-4098-fd1d-ce2c781f8030"
      },
      "execution_count": null,
      "outputs": [
        {
          "output_type": "execute_result",
          "data": {
            "text/plain": [
              "<tf.Tensor: shape=(2, 2), dtype=int64, numpy=\n",
              "array([[102, 106],\n",
              "       [110, 114]])>"
            ]
          },
          "metadata": {},
          "execution_count": 41
        }
      ]
    },
    {
      "cell_type": "code",
      "source": [
        "fd.shape,fd.ndim,tf.size(fd)"
      ],
      "metadata": {
        "colab": {
          "base_uri": "https://localhost:8080/"
        },
        "id": "UvQAHXdnVL35",
        "outputId": "48e1f7d3-7bbc-4230-b6c7-504660fd0709"
      },
      "execution_count": null,
      "outputs": [
        {
          "output_type": "execute_result",
          "data": {
            "text/plain": [
              "(TensorShape([2, 4, 2, 2]), 4, <tf.Tensor: shape=(), dtype=int32, numpy=32>)"
            ]
          },
          "metadata": {},
          "execution_count": 42
        }
      ]
    },
    {
      "cell_type": "markdown",
      "source": [
        "### Attributes of Tensor"
      ],
      "metadata": {
        "id": "Amg7WPyJWAlO"
      }
    },
    {
      "cell_type": "code",
      "source": [
        "print(\"Datatype \",fd.dtype)\n",
        "print(\"Dimension \",fd.ndim)\n",
        "print(\"Shape\",fd.shape)\n",
        "print(\"element in first axis \",fd.shape[0])\n",
        "print(\"element in last axis \",fd.shape[-1])\n",
        "print(\"Total ele \",tf.size(fd))\n",
        "print(\"Total ele \",tf.size(fd).numpy())\n"
      ],
      "metadata": {
        "colab": {
          "base_uri": "https://localhost:8080/"
        },
        "id": "lONheQPFWBTF",
        "outputId": "69336f17-cb71-430a-e68c-d121c6c15bdc"
      },
      "execution_count": null,
      "outputs": [
        {
          "output_type": "stream",
          "name": "stdout",
          "text": [
            "Datatype  <dtype: 'int64'>\n",
            "Dimension  4\n",
            "Shape (2, 4, 2, 2)\n",
            "element in first axis  2\n",
            "element in last axis  2\n",
            "Total ele  tf.Tensor(32, shape=(), dtype=int32)\n",
            "Total ele  32\n"
          ]
        }
      ]
    },
    {
      "cell_type": "code",
      "source": [
        "a=np.zeros([4,2,3,7])"
      ],
      "metadata": {
        "id": "E3zLcshpXhSi"
      },
      "execution_count": null,
      "outputs": []
    },
    {
      "cell_type": "code",
      "source": [
        "ten=tf.constant(a)"
      ],
      "metadata": {
        "id": "7VZg7xFw03a8"
      },
      "execution_count": null,
      "outputs": []
    },
    {
      "cell_type": "code",
      "source": [
        "ten.ndim"
      ],
      "metadata": {
        "colab": {
          "base_uri": "https://localhost:8080/"
        },
        "id": "R1pXXHrd0388",
        "outputId": "d0e607ed-171e-40df-bc4e-037dfd666d1f"
      },
      "execution_count": null,
      "outputs": [
        {
          "output_type": "execute_result",
          "data": {
            "text/plain": [
              "4"
            ]
          },
          "metadata": {},
          "execution_count": 47
        }
      ]
    },
    {
      "cell_type": "code",
      "source": [
        "tf.size(ten).numpy()"
      ],
      "metadata": {
        "colab": {
          "base_uri": "https://localhost:8080/"
        },
        "id": "BbtXmm3W04Hk",
        "outputId": "88903aa2-faa4-421a-e7cf-25f6d653c8d5"
      },
      "execution_count": null,
      "outputs": [
        {
          "output_type": "execute_result",
          "data": {
            "text/plain": [
              "168"
            ]
          },
          "metadata": {},
          "execution_count": 48
        }
      ]
    },
    {
      "cell_type": "code",
      "source": [
        "ten.shape[-1]"
      ],
      "metadata": {
        "colab": {
          "base_uri": "https://localhost:8080/"
        },
        "id": "molA2Hez04T2",
        "outputId": "4b67a076-db17-48b0-a40d-0efc116865ca"
      },
      "execution_count": null,
      "outputs": [
        {
          "output_type": "execute_result",
          "data": {
            "text/plain": [
              "7"
            ]
          },
          "metadata": {},
          "execution_count": 49
        }
      ]
    },
    {
      "cell_type": "code",
      "source": [
        "ten.shape[0]"
      ],
      "metadata": {
        "colab": {
          "base_uri": "https://localhost:8080/"
        },
        "id": "Zxj-klbN2U8d",
        "outputId": "56f2e957-8982-4c4f-940a-42d2b3a244ec"
      },
      "execution_count": null,
      "outputs": [
        {
          "output_type": "execute_result",
          "data": {
            "text/plain": [
              "4"
            ]
          },
          "metadata": {},
          "execution_count": 50
        }
      ]
    },
    {
      "cell_type": "code",
      "source": [
        "print(\"Datatype \",ten.dtype)\n",
        "print(\"Dimension \",ten.ndim)\n",
        "print(\"Shape\",ten.shape)\n",
        "print(\"element in first axis \",ten.shape[0])\n",
        "print(\"element in last axis \",ten.shape[-1])\n",
        "print(\"Total ele \",tf.size(ten))\n",
        "print(\"Total ele \",tf.size(ten).numpy())"
      ],
      "metadata": {
        "colab": {
          "base_uri": "https://localhost:8080/"
        },
        "id": "xtWVoRs72Qe3",
        "outputId": "cdb92869-07b4-4efa-dbf3-6e3e51e9fab8"
      },
      "execution_count": null,
      "outputs": [
        {
          "output_type": "stream",
          "name": "stdout",
          "text": [
            "Datatype  <dtype: 'float64'>\n",
            "Dimension  4\n",
            "Shape (4, 2, 3, 7)\n",
            "element in first axis  4\n",
            "element in last axis  7\n",
            "Total ele  tf.Tensor(168, shape=(), dtype=int32)\n",
            "Total ele  168\n"
          ]
        }
      ]
    },
    {
      "cell_type": "code",
      "source": [
        " ten[:2,:2,:2,:2]"
      ],
      "metadata": {
        "colab": {
          "base_uri": "https://localhost:8080/"
        },
        "id": "uglST2fN2RJp",
        "outputId": "70e1ebe6-ef5a-42ab-8285-2d189c440328"
      },
      "execution_count": null,
      "outputs": [
        {
          "output_type": "execute_result",
          "data": {
            "text/plain": [
              "<tf.Tensor: shape=(2, 2, 2, 2), dtype=float64, numpy=\n",
              "array([[[[0., 0.],\n",
              "         [0., 0.]],\n",
              "\n",
              "        [[0., 0.],\n",
              "         [0., 0.]]],\n",
              "\n",
              "\n",
              "       [[[0., 0.],\n",
              "         [0., 0.]],\n",
              "\n",
              "        [[0., 0.],\n",
              "         [0., 0.]]]])>"
            ]
          },
          "metadata": {},
          "execution_count": 52
        }
      ]
    },
    {
      "cell_type": "code",
      "source": [
        "#get first element from each dim except last\n",
        "ten[:1,:,:1,:1]"
      ],
      "metadata": {
        "colab": {
          "base_uri": "https://localhost:8080/"
        },
        "id": "u9RURfTi2R99",
        "outputId": "bb45ed9e-527f-4203-cd9f-52b13ca842ed"
      },
      "execution_count": null,
      "outputs": [
        {
          "output_type": "execute_result",
          "data": {
            "text/plain": [
              "<tf.Tensor: shape=(1, 2, 1, 1), dtype=float64, numpy=\n",
              "array([[[[0.]],\n",
              "\n",
              "        [[0.]]]])>"
            ]
          },
          "metadata": {},
          "execution_count": 53
        }
      ]
    },
    {
      "cell_type": "code",
      "source": [
        "ten"
      ],
      "metadata": {
        "colab": {
          "base_uri": "https://localhost:8080/"
        },
        "id": "ZQ_LCurV2SZ_",
        "outputId": "d9ee4a0a-9e82-4918-9ad1-6e99d8d9d0f1"
      },
      "execution_count": null,
      "outputs": [
        {
          "output_type": "execute_result",
          "data": {
            "text/plain": [
              "<tf.Tensor: shape=(4, 2, 3, 7), dtype=float64, numpy=\n",
              "array([[[[0., 0., 0., 0., 0., 0., 0.],\n",
              "         [0., 0., 0., 0., 0., 0., 0.],\n",
              "         [0., 0., 0., 0., 0., 0., 0.]],\n",
              "\n",
              "        [[0., 0., 0., 0., 0., 0., 0.],\n",
              "         [0., 0., 0., 0., 0., 0., 0.],\n",
              "         [0., 0., 0., 0., 0., 0., 0.]]],\n",
              "\n",
              "\n",
              "       [[[0., 0., 0., 0., 0., 0., 0.],\n",
              "         [0., 0., 0., 0., 0., 0., 0.],\n",
              "         [0., 0., 0., 0., 0., 0., 0.]],\n",
              "\n",
              "        [[0., 0., 0., 0., 0., 0., 0.],\n",
              "         [0., 0., 0., 0., 0., 0., 0.],\n",
              "         [0., 0., 0., 0., 0., 0., 0.]]],\n",
              "\n",
              "\n",
              "       [[[0., 0., 0., 0., 0., 0., 0.],\n",
              "         [0., 0., 0., 0., 0., 0., 0.],\n",
              "         [0., 0., 0., 0., 0., 0., 0.]],\n",
              "\n",
              "        [[0., 0., 0., 0., 0., 0., 0.],\n",
              "         [0., 0., 0., 0., 0., 0., 0.],\n",
              "         [0., 0., 0., 0., 0., 0., 0.]]],\n",
              "\n",
              "\n",
              "       [[[0., 0., 0., 0., 0., 0., 0.],\n",
              "         [0., 0., 0., 0., 0., 0., 0.],\n",
              "         [0., 0., 0., 0., 0., 0., 0.]],\n",
              "\n",
              "        [[0., 0., 0., 0., 0., 0., 0.],\n",
              "         [0., 0., 0., 0., 0., 0., 0.],\n",
              "         [0., 0., 0., 0., 0., 0., 0.]]]])>"
            ]
          },
          "metadata": {},
          "execution_count": 54
        }
      ]
    },
    {
      "cell_type": "code",
      "source": [
        "# Create rank2 \n",
        "r2=np.arange(45,step=4)"
      ],
      "metadata": {
        "id": "gpMA9vV-4LVp"
      },
      "execution_count": null,
      "outputs": []
    },
    {
      "cell_type": "code",
      "source": [
        "len(r2)"
      ],
      "metadata": {
        "colab": {
          "base_uri": "https://localhost:8080/"
        },
        "id": "3UpgeJO_4LkV",
        "outputId": "d56bbc5a-45f2-45b5-84ad-28a6b49278c5"
      },
      "execution_count": null,
      "outputs": [
        {
          "output_type": "execute_result",
          "data": {
            "text/plain": [
              "12"
            ]
          },
          "metadata": {},
          "execution_count": 56
        }
      ]
    },
    {
      "cell_type": "code",
      "source": [
        "rk2=tf.constant(r2,shape=(3,4))"
      ],
      "metadata": {
        "id": "R_CsQLtv4MUm"
      },
      "execution_count": null,
      "outputs": []
    },
    {
      "cell_type": "code",
      "source": [
        "rk2[1][2].numpy()"
      ],
      "metadata": {
        "colab": {
          "base_uri": "https://localhost:8080/"
        },
        "id": "VhrBT6Zm4Mfq",
        "outputId": "459ca113-6a08-45c2-96d8-8d5965b22726"
      },
      "execution_count": null,
      "outputs": [
        {
          "output_type": "execute_result",
          "data": {
            "text/plain": [
              "24"
            ]
          },
          "metadata": {},
          "execution_count": 58
        }
      ]
    },
    {
      "cell_type": "code",
      "source": [
        "rk2"
      ],
      "metadata": {
        "colab": {
          "base_uri": "https://localhost:8080/"
        },
        "id": "OiK7Zt-D6msY",
        "outputId": "703ae0f7-e10f-4118-b918-45d5995aaa6c"
      },
      "execution_count": null,
      "outputs": [
        {
          "output_type": "execute_result",
          "data": {
            "text/plain": [
              "<tf.Tensor: shape=(3, 4), dtype=int64, numpy=\n",
              "array([[ 0,  4,  8, 12],\n",
              "       [16, 20, 24, 28],\n",
              "       [32, 36, 40, 44]])>"
            ]
          },
          "metadata": {},
          "execution_count": 59
        }
      ]
    },
    {
      "cell_type": "code",
      "source": [
        "rk2[:,-1]"
      ],
      "metadata": {
        "colab": {
          "base_uri": "https://localhost:8080/"
        },
        "id": "jnSerHLL55Pq",
        "outputId": "72543825-afa4-4f2d-8667-42831fad8109"
      },
      "execution_count": null,
      "outputs": [
        {
          "output_type": "execute_result",
          "data": {
            "text/plain": [
              "<tf.Tensor: shape=(3,), dtype=int64, numpy=array([12, 28, 44])>"
            ]
          },
          "metadata": {},
          "execution_count": 60
        }
      ]
    },
    {
      "cell_type": "code",
      "source": [
        "rk3=rk2[...,tf.newaxis]\n",
        "rk3"
      ],
      "metadata": {
        "colab": {
          "base_uri": "https://localhost:8080/"
        },
        "id": "jc-x_9yz6PBC",
        "outputId": "d3b4309d-b7bd-43ba-de59-f7aea2c38c64"
      },
      "execution_count": null,
      "outputs": [
        {
          "output_type": "execute_result",
          "data": {
            "text/plain": [
              "<tf.Tensor: shape=(3, 4, 1), dtype=int64, numpy=\n",
              "array([[[ 0],\n",
              "        [ 4],\n",
              "        [ 8],\n",
              "        [12]],\n",
              "\n",
              "       [[16],\n",
              "        [20],\n",
              "        [24],\n",
              "        [28]],\n",
              "\n",
              "       [[32],\n",
              "        [36],\n",
              "        [40],\n",
              "        [44]]])>"
            ]
          },
          "metadata": {},
          "execution_count": 61
        }
      ]
    },
    {
      "cell_type": "code",
      "source": [
        "tf.expand_dims(rk2,axis=0).ndim"
      ],
      "metadata": {
        "colab": {
          "base_uri": "https://localhost:8080/"
        },
        "id": "UEKt6R6r7bOR",
        "outputId": "ccdcd33b-8246-4114-fefe-3a8cd15a54a0"
      },
      "execution_count": null,
      "outputs": [
        {
          "output_type": "execute_result",
          "data": {
            "text/plain": [
              "3"
            ]
          },
          "metadata": {},
          "execution_count": 62
        }
      ]
    },
    {
      "cell_type": "markdown",
      "source": [
        "### Tensor Operation"
      ],
      "metadata": {
        "id": "CkpBenxj71NB"
      }
    },
    {
      "cell_type": "code",
      "source": [
        "tensor=tf.constant([[10,17],[3,4]])\n",
        "tensor+10"
      ],
      "metadata": {
        "colab": {
          "base_uri": "https://localhost:8080/"
        },
        "id": "tE1nZLny7j0y",
        "outputId": "b479e277-b7c0-4b83-f82e-9729f8f0f8e6"
      },
      "execution_count": null,
      "outputs": [
        {
          "output_type": "execute_result",
          "data": {
            "text/plain": [
              "<tf.Tensor: shape=(2, 2), dtype=int32, numpy=\n",
              "array([[20, 27],\n",
              "       [13, 14]], dtype=int32)>"
            ]
          },
          "metadata": {},
          "execution_count": 64
        }
      ]
    },
    {
      "cell_type": "code",
      "source": [
        "tensor #tensor is unchanged"
      ],
      "metadata": {
        "colab": {
          "base_uri": "https://localhost:8080/"
        },
        "id": "QyJTmTaKz6iy",
        "outputId": "b6b9e0d6-4c9e-4f23-d3ae-7a9742602ea9"
      },
      "execution_count": null,
      "outputs": [
        {
          "output_type": "execute_result",
          "data": {
            "text/plain": [
              "<tf.Tensor: shape=(2, 2), dtype=int32, numpy=\n",
              "array([[10, 17],\n",
              "       [ 3,  4]], dtype=int32)>"
            ]
          },
          "metadata": {},
          "execution_count": 65
        }
      ]
    },
    {
      "cell_type": "code",
      "source": [
        "tensor*10"
      ],
      "metadata": {
        "colab": {
          "base_uri": "https://localhost:8080/"
        },
        "id": "wwXJwrhi7bq-",
        "outputId": "bd61b069-2305-43bc-92b3-7be5cdd12d74"
      },
      "execution_count": null,
      "outputs": [
        {
          "output_type": "execute_result",
          "data": {
            "text/plain": [
              "<tf.Tensor: shape=(2, 2), dtype=int32, numpy=\n",
              "array([[100, 170],\n",
              "       [ 30,  40]], dtype=int32)>"
            ]
          },
          "metadata": {},
          "execution_count": 66
        }
      ]
    },
    {
      "cell_type": "code",
      "source": [
        "tf.multiply(tensor,10)    #tensorflow built in operation "
      ],
      "metadata": {
        "colab": {
          "base_uri": "https://localhost:8080/"
        },
        "id": "xj-lP8Nm6QI5",
        "outputId": "2608da43-7475-4455-b52e-e0b20a37c0ac"
      },
      "execution_count": null,
      "outputs": [
        {
          "output_type": "execute_result",
          "data": {
            "text/plain": [
              "<tf.Tensor: shape=(2, 2), dtype=int32, numpy=\n",
              "array([[100, 170],\n",
              "       [ 30,  40]], dtype=int32)>"
            ]
          },
          "metadata": {},
          "execution_count": 67
        }
      ]
    },
    {
      "cell_type": "code",
      "source": [
        "#tf built in funciton operate faster  on gpu"
      ],
      "metadata": {
        "id": "RTzUgkWZ0W7W"
      },
      "execution_count": null,
      "outputs": []
    },
    {
      "cell_type": "markdown",
      "source": [
        "###Matrix Multiplication\n"
      ],
      "metadata": {
        "id": "s5uPDEkg01Em"
      }
    },
    {
      "cell_type": "code",
      "source": [
        "# ml matrix multiplicaition is very common operation"
      ],
      "metadata": {
        "id": "DFGg1hoF0i2J"
      },
      "execution_count": null,
      "outputs": []
    },
    {
      "cell_type": "code",
      "source": [
        "tf.linalg.matmul(tensor,tensor)"
      ],
      "metadata": {
        "colab": {
          "base_uri": "https://localhost:8080/"
        },
        "id": "ySvo3fQS1E1q",
        "outputId": "1b563e00-dc26-427e-8dcf-3b9daa66f6c7"
      },
      "execution_count": null,
      "outputs": [
        {
          "output_type": "execute_result",
          "data": {
            "text/plain": [
              "<tf.Tensor: shape=(2, 2), dtype=int32, numpy=\n",
              "array([[151, 238],\n",
              "       [ 42,  67]], dtype=int32)>"
            ]
          },
          "metadata": {},
          "execution_count": 70
        }
      ]
    },
    {
      "cell_type": "code",
      "source": [
        "tensor*tensor"
      ],
      "metadata": {
        "colab": {
          "base_uri": "https://localhost:8080/"
        },
        "id": "RrARZqDp1E_a",
        "outputId": "5d8dc2f2-73b9-4df7-f8ae-cf2e762deac2"
      },
      "execution_count": null,
      "outputs": [
        {
          "output_type": "execute_result",
          "data": {
            "text/plain": [
              "<tf.Tensor: shape=(2, 2), dtype=int32, numpy=\n",
              "array([[100, 289],\n",
              "       [  9,  16]], dtype=int32)>"
            ]
          },
          "metadata": {},
          "execution_count": 71
        }
      ]
    },
    {
      "cell_type": "code",
      "source": [
        "t1=tf.constant([[1,2,5],[7,2,1],[3,3,3]])\n",
        "t2=tf.constant([[3,5],[6,7],[1,8]])"
      ],
      "metadata": {
        "id": "710gFkPW1FES"
      },
      "execution_count": null,
      "outputs": []
    },
    {
      "cell_type": "code",
      "source": [
        "tf.linalg.matmul(t1,t2)"
      ],
      "metadata": {
        "colab": {
          "base_uri": "https://localhost:8080/"
        },
        "id": "2GzTN1301FHW",
        "outputId": "dcb621b4-912f-4e71-988e-72a99902167c"
      },
      "execution_count": null,
      "outputs": [
        {
          "output_type": "execute_result",
          "data": {
            "text/plain": [
              "<tf.Tensor: shape=(3, 2), dtype=int32, numpy=\n",
              "array([[20, 59],\n",
              "       [34, 57],\n",
              "       [30, 60]], dtype=int32)>"
            ]
          },
          "metadata": {},
          "execution_count": 73
        }
      ]
    },
    {
      "cell_type": "code",
      "source": [
        "t1@t2"
      ],
      "metadata": {
        "colab": {
          "base_uri": "https://localhost:8080/"
        },
        "id": "AhyIkdy81FKL",
        "outputId": "e3426729-5f51-46de-d1ff-7f3aa5099db5"
      },
      "execution_count": null,
      "outputs": [
        {
          "output_type": "execute_result",
          "data": {
            "text/plain": [
              "<tf.Tensor: shape=(3, 2), dtype=int32, numpy=\n",
              "array([[20, 59],\n",
              "       [34, 57],\n",
              "       [30, 60]], dtype=int32)>"
            ]
          },
          "metadata": {},
          "execution_count": 74
        }
      ]
    },
    {
      "cell_type": "code",
      "source": [
        "X=tf.constant([[1,2,3,9]\n",
        "               ,[5,9,4,6]])\n",
        "Y=tf.constant([[1,12],[13,96],[24,6],\n",
        "               [1,23],[3,6],[3,6]\n",
        "               ,[4,2],[3,9],[2,6]])"
      ],
      "metadata": {
        "id": "ndrCY3vW0ggw"
      },
      "execution_count": null,
      "outputs": []
    },
    {
      "cell_type": "code",
      "source": [
        "X=tf.reshape(X,(2,4))"
      ],
      "metadata": {
        "id": "W2G-lk_23wq0"
      },
      "execution_count": null,
      "outputs": []
    },
    {
      "cell_type": "code",
      "source": [
        "Y=tf.reshape(Y,(2,9))"
      ],
      "metadata": {
        "id": "YGbSLS5q6QqR"
      },
      "execution_count": null,
      "outputs": []
    },
    {
      "cell_type": "code",
      "source": [
        "X"
      ],
      "metadata": {
        "colab": {
          "base_uri": "https://localhost:8080/"
        },
        "id": "WpH9ltFj458Q",
        "outputId": "064af1f8-fa47-4b2b-9862-883c85c04f8f"
      },
      "execution_count": null,
      "outputs": [
        {
          "output_type": "execute_result",
          "data": {
            "text/plain": [
              "<tf.Tensor: shape=(2, 4), dtype=int32, numpy=\n",
              "array([[1, 2, 3, 9],\n",
              "       [5, 9, 4, 6]], dtype=int32)>"
            ]
          },
          "metadata": {},
          "execution_count": 78
        }
      ]
    },
    {
      "cell_type": "code",
      "source": [
        "tf.transpose(X)"
      ],
      "metadata": {
        "colab": {
          "base_uri": "https://localhost:8080/"
        },
        "id": "zVYiljk5468A",
        "outputId": "a4df2354-e98a-4cfb-8ff1-0ca19590dcf2"
      },
      "execution_count": null,
      "outputs": [
        {
          "output_type": "execute_result",
          "data": {
            "text/plain": [
              "<tf.Tensor: shape=(4, 2), dtype=int32, numpy=\n",
              "array([[1, 5],\n",
              "       [2, 9],\n",
              "       [3, 4],\n",
              "       [9, 6]], dtype=int32)>"
            ]
          },
          "metadata": {},
          "execution_count": 79
        }
      ]
    },
    {
      "cell_type": "code",
      "source": [
        "tf.reshape(X,(2,4))"
      ],
      "metadata": {
        "colab": {
          "base_uri": "https://localhost:8080/"
        },
        "id": "PJTICEFa47GT",
        "outputId": "63bf2a09-151a-4d09-bd42-3eec50d4ab78"
      },
      "execution_count": null,
      "outputs": [
        {
          "output_type": "execute_result",
          "data": {
            "text/plain": [
              "<tf.Tensor: shape=(2, 4), dtype=int32, numpy=\n",
              "array([[1, 2, 3, 9],\n",
              "       [5, 9, 4, 6]], dtype=int32)>"
            ]
          },
          "metadata": {},
          "execution_count": 80
        }
      ]
    },
    {
      "cell_type": "markdown",
      "source": [
        "##### In neural network a lot of transormation is done"
      ],
      "metadata": {
        "id": "axo7H4678eLe"
      }
    },
    {
      "cell_type": "code",
      "source": [
        "tf.transpose(X)@Y"
      ],
      "metadata": {
        "colab": {
          "base_uri": "https://localhost:8080/"
        },
        "id": "wnYfMS_U6LsP",
        "outputId": "2970f9cb-7833-4cd0-b560-76e8bf9addff"
      },
      "execution_count": null,
      "outputs": [
        {
          "output_type": "execute_result",
          "data": {
            "text/plain": [
              "<tf.Tensor: shape=(4, 9), dtype=int32, numpy=\n",
              "array([[ 31,  27,  43, 116,  34,  21,  46,  33,  33],\n",
              "       [ 56,  51,  80, 228,  66,  39,  83,  64,  60],\n",
              "       [ 27,  48,  63, 304,  80,  30,  39,  77,  33],\n",
              "       [ 45, 126, 153, 888, 228,  72,  63, 219,  63]], dtype=int32)>"
            ]
          },
          "metadata": {},
          "execution_count": 81
        }
      ]
    },
    {
      "cell_type": "markdown",
      "source": [
        "#### Dot product is also called matrix multiplication\n",
        "\n",
        "\n",
        "*   tf.matmul()\n",
        "*   tf.tensordot()\n"
      ],
      "metadata": {
        "id": "f7Gd3d8c8xEa"
      }
    },
    {
      "cell_type": "code",
      "source": [
        "X,Y"
      ],
      "metadata": {
        "colab": {
          "base_uri": "https://localhost:8080/"
        },
        "id": "E3bMX4Uw6N8H",
        "outputId": "f387b610-e34d-41fe-a5f5-995562114825"
      },
      "execution_count": null,
      "outputs": [
        {
          "output_type": "execute_result",
          "data": {
            "text/plain": [
              "(<tf.Tensor: shape=(2, 4), dtype=int32, numpy=\n",
              " array([[1, 2, 3, 9],\n",
              "        [5, 9, 4, 6]], dtype=int32)>,\n",
              " <tf.Tensor: shape=(2, 9), dtype=int32, numpy=\n",
              " array([[ 1, 12, 13, 96, 24,  6,  1, 23,  3],\n",
              "        [ 6,  3,  6,  4,  2,  3,  9,  2,  6]], dtype=int32)>)"
            ]
          },
          "metadata": {},
          "execution_count": 82
        }
      ]
    },
    {
      "cell_type": "code",
      "source": [
        "tf.tensordot(tf.transpose(X),Y,axes=1)"
      ],
      "metadata": {
        "colab": {
          "base_uri": "https://localhost:8080/"
        },
        "id": "tXH-DJcc7Wcp",
        "outputId": "37750e99-2f3f-45d9-bd2a-f9c463b39195"
      },
      "execution_count": null,
      "outputs": [
        {
          "output_type": "execute_result",
          "data": {
            "text/plain": [
              "<tf.Tensor: shape=(4, 9), dtype=int32, numpy=\n",
              "array([[ 31,  27,  43, 116,  34,  21,  46,  33,  33],\n",
              "       [ 56,  51,  80, 228,  66,  39,  83,  64,  60],\n",
              "       [ 27,  48,  63, 304,  80,  30,  39,  77,  33],\n",
              "       [ 45, 126, 153, 888, 228,  72,  63, 219,  63]], dtype=int32)>"
            ]
          },
          "metadata": {},
          "execution_count": 83
        }
      ]
    },
    {
      "cell_type": "code",
      "source": [
        "m=tf.constant([[13,24,53],\n",
        "    [32,34,19]])\n",
        "n=tf.constant([[34,25,5],\n",
        "               [8,76,12]])"
      ],
      "metadata": {
        "id": "J6kYbQ_X_nrg"
      },
      "execution_count": null,
      "outputs": []
    },
    {
      "cell_type": "code",
      "source": [
        "m@tf.transpose(n)"
      ],
      "metadata": {
        "colab": {
          "base_uri": "https://localhost:8080/"
        },
        "id": "dqdjhzC_Acql",
        "outputId": "0cf642d4-db9d-4ecd-e05f-ab49da54e199"
      },
      "execution_count": null,
      "outputs": [
        {
          "output_type": "execute_result",
          "data": {
            "text/plain": [
              "<tf.Tensor: shape=(2, 2), dtype=int32, numpy=\n",
              "array([[1307, 2564],\n",
              "       [2033, 3068]], dtype=int32)>"
            ]
          },
          "metadata": {},
          "execution_count": 85
        }
      ]
    },
    {
      "cell_type": "code",
      "source": [
        "tf.transpose(m)@n"
      ],
      "metadata": {
        "colab": {
          "base_uri": "https://localhost:8080/"
        },
        "id": "t3Fpaq31AdQ_",
        "outputId": "0860707b-761e-4224-cbd4-404387e5fa9d"
      },
      "execution_count": null,
      "outputs": [
        {
          "output_type": "execute_result",
          "data": {
            "text/plain": [
              "<tf.Tensor: shape=(3, 3), dtype=int32, numpy=\n",
              "array([[ 698, 2757,  449],\n",
              "       [1088, 3184,  528],\n",
              "       [1954, 2769,  493]], dtype=int32)>"
            ]
          },
          "metadata": {},
          "execution_count": 86
        }
      ]
    },
    {
      "cell_type": "code",
      "source": [
        "tf.reshape(m,(3,2))@n"
      ],
      "metadata": {
        "colab": {
          "base_uri": "https://localhost:8080/"
        },
        "id": "GeYWKchPAdix",
        "outputId": "0fe53619-7098-4d9a-c1f2-bceff63f8bfe"
      },
      "execution_count": null,
      "outputs": [
        {
          "output_type": "execute_result",
          "data": {
            "text/plain": [
              "<tf.Tensor: shape=(3, 3), dtype=int32, numpy=\n",
              "array([[ 634, 2149,  353],\n",
              "       [2058, 3757,  649],\n",
              "       [1308, 2294,  398]], dtype=int32)>"
            ]
          },
          "metadata": {},
          "execution_count": 87
        }
      ]
    },
    {
      "cell_type": "code",
      "source": [
        "print('Normal Y ')\n",
        "print(n)\n",
        "print('Reshaped Y ')\n",
        "print(tf.reshape(n,(3,2)))\n",
        "print('Transpose Y ')\n",
        "print(tf.transpose(n))"
      ],
      "metadata": {
        "colab": {
          "base_uri": "https://localhost:8080/"
        },
        "id": "EawqwEktAdte",
        "outputId": "a1e9e8e5-1e77-49fd-e638-b4bd4ba9c5b2"
      },
      "execution_count": null,
      "outputs": [
        {
          "output_type": "stream",
          "name": "stdout",
          "text": [
            "Normal Y \n",
            "tf.Tensor(\n",
            "[[34 25  5]\n",
            " [ 8 76 12]], shape=(2, 3), dtype=int32)\n",
            "Reshaped Y \n",
            "tf.Tensor(\n",
            "[[34 25]\n",
            " [ 5  8]\n",
            " [76 12]], shape=(3, 2), dtype=int32)\n",
            "Transpose Y \n",
            "tf.Tensor(\n",
            "[[34  8]\n",
            " [25 76]\n",
            " [ 5 12]], shape=(3, 2), dtype=int32)\n"
          ]
        }
      ]
    },
    {
      "cell_type": "markdown",
      "source": [
        " Generally when performing multiplication on two tensor and axes doesn't line up we will more often use transpose"
      ],
      "metadata": {
        "id": "6ZGB4xn_Dlvo"
      }
    },
    {
      "cell_type": "markdown",
      "source": [
        "**Change Datatype**\n",
        "\n",
        "\n",
        "> tf.cast\n"
      ],
      "metadata": {
        "id": "MbGTX4obomsE"
      }
    },
    {
      "cell_type": "code",
      "source": [
        "#default dataype is float32 or int32\n",
        "C=tf.constant([1.3,2.3])\n",
        "C.dtype"
      ],
      "metadata": {
        "colab": {
          "base_uri": "https://localhost:8080/"
        },
        "id": "QfvyDEkTorfo",
        "outputId": "526a6fe2-3d3f-4098-974c-977304c51f87"
      },
      "execution_count": null,
      "outputs": [
        {
          "output_type": "execute_result",
          "data": {
            "text/plain": [
              "tf.float32"
            ]
          },
          "metadata": {},
          "execution_count": 89
        }
      ]
    },
    {
      "cell_type": "code",
      "source": [
        "#default dataype is float32 or int32\n",
        "d=tf.constant([1,2])\n",
        "d.dtype"
      ],
      "metadata": {
        "colab": {
          "base_uri": "https://localhost:8080/"
        },
        "id": "CjiAQGIfpAeg",
        "outputId": "41bd746c-7a26-4a9e-fe3d-ae42034e5692"
      },
      "execution_count": null,
      "outputs": [
        {
          "output_type": "execute_result",
          "data": {
            "text/plain": [
              "tf.int32"
            ]
          },
          "metadata": {},
          "execution_count": 90
        }
      ]
    },
    {
      "cell_type": "code",
      "source": [
        "# Modern accelarator can run model faster in 16 bit precision"
      ],
      "metadata": {
        "id": "5SosIgCSpHCi"
      },
      "execution_count": null,
      "outputs": []
    },
    {
      "cell_type": "code",
      "source": [
        "D=tf.cast(C,dtype=tf.float16)"
      ],
      "metadata": {
        "id": "EGsQ3dYDpxh5"
      },
      "execution_count": null,
      "outputs": []
    },
    {
      "cell_type": "code",
      "source": [
        "e=tf.cast(d,dtype=tf.float16)\n",
        "e"
      ],
      "metadata": {
        "colab": {
          "base_uri": "https://localhost:8080/"
        },
        "id": "wY1rG6awqA3C",
        "outputId": "22b6838d-88e0-47e9-e8d0-3d954d7b6918"
      },
      "execution_count": null,
      "outputs": [
        {
          "output_type": "execute_result",
          "data": {
            "text/plain": [
              "<tf.Tensor: shape=(2,), dtype=float16, numpy=array([1., 2.], dtype=float16)>"
            ]
          },
          "metadata": {},
          "execution_count": 93
        }
      ]
    },
    {
      "cell_type": "markdown",
      "source": [
        "Aggregating tensor\n",
        "\n",
        "\n",
        "> Agrregation in tensor is condensing them from multiple values to smaller amount values\n",
        "\n",
        "\n"
      ],
      "metadata": {
        "id": "btuI2E_Dq8hY"
      }
    },
    {
      "cell_type": "code",
      "source": [
        "# Get absolu value\n",
        "D= tf.constant([-7,-10])\n",
        "D"
      ],
      "metadata": {
        "colab": {
          "base_uri": "https://localhost:8080/"
        },
        "id": "HqqDrsVyq_VO",
        "outputId": "38d59f2b-d2ac-41b9-fe34-b5bc6843a07f"
      },
      "execution_count": null,
      "outputs": [
        {
          "output_type": "execute_result",
          "data": {
            "text/plain": [
              "<tf.Tensor: shape=(2,), dtype=int32, numpy=array([ -7, -10], dtype=int32)>"
            ]
          },
          "metadata": {},
          "execution_count": 94
        }
      ]
    },
    {
      "cell_type": "code",
      "source": [
        "tf.abs(D)"
      ],
      "metadata": {
        "colab": {
          "base_uri": "https://localhost:8080/"
        },
        "id": "FT1M4_dNtRs-",
        "outputId": "a938e894-b72a-483c-b84c-9a9d6007f279"
      },
      "execution_count": null,
      "outputs": [
        {
          "output_type": "execute_result",
          "data": {
            "text/plain": [
              "<tf.Tensor: shape=(2,), dtype=int32, numpy=array([ 7, 10], dtype=int32)>"
            ]
          },
          "metadata": {},
          "execution_count": 95
        }
      ]
    },
    {
      "cell_type": "markdown",
      "source": [
        "Forms of aggregation \n",
        "\n",
        "* get min\n",
        "* get max\n",
        "* get mean \n",
        "* get sum"
      ],
      "metadata": {
        "id": "zRfTXBjDuVmu"
      }
    },
    {
      "cell_type": "code",
      "source": [
        "tn=tf.constant(np.arange(80,step=7),shape=(3,4))"
      ],
      "metadata": {
        "id": "y_BdbEzntSYx"
      },
      "execution_count": null,
      "outputs": []
    },
    {
      "cell_type": "code",
      "source": [
        "tn"
      ],
      "metadata": {
        "colab": {
          "base_uri": "https://localhost:8080/"
        },
        "id": "ozGTv4mdtrd7",
        "outputId": "12810a79-e055-4e7f-fdc0-d696e0ed36c1"
      },
      "execution_count": null,
      "outputs": [
        {
          "output_type": "execute_result",
          "data": {
            "text/plain": [
              "<tf.Tensor: shape=(3, 4), dtype=int64, numpy=\n",
              "array([[ 0,  7, 14, 21],\n",
              "       [28, 35, 42, 49],\n",
              "       [56, 63, 70, 77]])>"
            ]
          },
          "metadata": {},
          "execution_count": 97
        }
      ]
    },
    {
      "cell_type": "code",
      "source": [
        "tf.reduce_min(tn,axis=1,keepdims=True)"
      ],
      "metadata": {
        "colab": {
          "base_uri": "https://localhost:8080/"
        },
        "id": "ylj2sYB1vGAa",
        "outputId": "a9e8cdd0-4aa9-4e5b-ba5f-dd9bd2e5a43b"
      },
      "execution_count": null,
      "outputs": [
        {
          "output_type": "execute_result",
          "data": {
            "text/plain": [
              "<tf.Tensor: shape=(3, 1), dtype=int64, numpy=\n",
              "array([[ 0],\n",
              "       [28],\n",
              "       [56]])>"
            ]
          },
          "metadata": {},
          "execution_count": 98
        }
      ]
    },
    {
      "cell_type": "code",
      "source": [
        "tf.reduce_max(tn,axis=0)"
      ],
      "metadata": {
        "colab": {
          "base_uri": "https://localhost:8080/"
        },
        "id": "eO1z-RRtvGj9",
        "outputId": "def34dbc-a9a7-41a3-bbe4-f2f2bb359f04"
      },
      "execution_count": null,
      "outputs": [
        {
          "output_type": "execute_result",
          "data": {
            "text/plain": [
              "<tf.Tensor: shape=(4,), dtype=int64, numpy=array([56, 63, 70, 77])>"
            ]
          },
          "metadata": {},
          "execution_count": 99
        }
      ]
    },
    {
      "cell_type": "code",
      "source": [
        "tf.reduce_mean(tn,axis=0)"
      ],
      "metadata": {
        "colab": {
          "base_uri": "https://localhost:8080/"
        },
        "id": "A9r1Xd1atr_B",
        "outputId": "5b6a745e-e9e2-41ac-f87e-c5566341c3f4"
      },
      "execution_count": null,
      "outputs": [
        {
          "output_type": "execute_result",
          "data": {
            "text/plain": [
              "<tf.Tensor: shape=(4,), dtype=int64, numpy=array([28, 35, 42, 49])>"
            ]
          },
          "metadata": {},
          "execution_count": 100
        }
      ]
    },
    {
      "cell_type": "code",
      "source": [
        "tf.reduce_sum(tn,axis=0)"
      ],
      "metadata": {
        "colab": {
          "base_uri": "https://localhost:8080/"
        },
        "id": "Ian5zRKotTez",
        "outputId": "2b636e08-0d81-4f6a-d06e-7d0d3ff5da2b"
      },
      "execution_count": null,
      "outputs": [
        {
          "output_type": "execute_result",
          "data": {
            "text/plain": [
              "<tf.Tensor: shape=(4,), dtype=int64, numpy=array([ 84, 105, 126, 147])>"
            ]
          },
          "metadata": {},
          "execution_count": 101
        }
      ]
    },
    {
      "cell_type": "code",
      "source": [
        "E=tf.constant(np.random.randint(0,100,size=50))"
      ],
      "metadata": {
        "id": "UDy5_HsByB34"
      },
      "execution_count": null,
      "outputs": []
    },
    {
      "cell_type": "code",
      "source": [
        "tf.reduce_min(E)"
      ],
      "metadata": {
        "colab": {
          "base_uri": "https://localhost:8080/"
        },
        "id": "LKlV6EHVyQ_k",
        "outputId": "4f2b3586-e04e-4d01-aab8-7951d30c241f"
      },
      "execution_count": null,
      "outputs": [
        {
          "output_type": "execute_result",
          "data": {
            "text/plain": [
              "<tf.Tensor: shape=(), dtype=int64, numpy=5>"
            ]
          },
          "metadata": {},
          "execution_count": 103
        }
      ]
    },
    {
      "cell_type": "code",
      "source": [
        "tf.reduce_max(E)"
      ],
      "metadata": {
        "colab": {
          "base_uri": "https://localhost:8080/"
        },
        "id": "gf_KhGZpyTlN",
        "outputId": "da6863a4-7003-454e-f3c7-fd161b856bea"
      },
      "execution_count": null,
      "outputs": [
        {
          "output_type": "execute_result",
          "data": {
            "text/plain": [
              "<tf.Tensor: shape=(), dtype=int64, numpy=95>"
            ]
          },
          "metadata": {},
          "execution_count": 104
        }
      ]
    },
    {
      "cell_type": "code",
      "source": [
        "tf.reduce_mean(E)"
      ],
      "metadata": {
        "colab": {
          "base_uri": "https://localhost:8080/"
        },
        "id": "fx6XsPl4yT5o",
        "outputId": "5bb0b044-c26d-439b-ccc8-d72149e70f05"
      },
      "execution_count": null,
      "outputs": [
        {
          "output_type": "execute_result",
          "data": {
            "text/plain": [
              "<tf.Tensor: shape=(), dtype=int64, numpy=50>"
            ]
          },
          "metadata": {},
          "execution_count": 105
        }
      ]
    },
    {
      "cell_type": "code",
      "source": [
        "tf.reduce_sum(E)"
      ],
      "metadata": {
        "colab": {
          "base_uri": "https://localhost:8080/"
        },
        "id": "FZvbtCH-yUKs",
        "outputId": "fe655d3a-0a1d-4d95-f35a-e8bee6403537"
      },
      "execution_count": null,
      "outputs": [
        {
          "output_type": "execute_result",
          "data": {
            "text/plain": [
              "<tf.Tensor: shape=(), dtype=int64, numpy=2543>"
            ]
          },
          "metadata": {},
          "execution_count": 106
        }
      ]
    },
    {
      "cell_type": "code",
      "source": [
        "F=tf.reshape(E,shape=(5,10))"
      ],
      "metadata": {
        "id": "qW77Toe9qBZZ"
      },
      "execution_count": null,
      "outputs": []
    },
    {
      "cell_type": "code",
      "source": [
        "E=tf.cast(E,dtype=tf.int32)"
      ],
      "metadata": {
        "id": "nJ2DHk8Fz0yj"
      },
      "execution_count": null,
      "outputs": []
    },
    {
      "cell_type": "code",
      "source": [
        "tf.math.reduce_variance(tf.cast(E,dtype=tf.float32))"
      ],
      "metadata": {
        "colab": {
          "base_uri": "https://localhost:8080/"
        },
        "id": "FhczdGjczOIJ",
        "outputId": "aadd379d-4660-467c-9242-7edc59028c7d"
      },
      "execution_count": null,
      "outputs": [
        {
          "output_type": "execute_result",
          "data": {
            "text/plain": [
              "<tf.Tensor: shape=(), dtype=float32, numpy=675.7204>"
            ]
          },
          "metadata": {},
          "execution_count": 109
        }
      ]
    },
    {
      "cell_type": "code",
      "source": [
        "#Another way to find variance and std \n",
        "import tensorflow_probability as tfp"
      ],
      "metadata": {
        "id": "6RTGq1V50grb"
      },
      "execution_count": null,
      "outputs": []
    },
    {
      "cell_type": "code",
      "source": [
        "tfp.stats.variance(E)"
      ],
      "metadata": {
        "colab": {
          "base_uri": "https://localhost:8080/"
        },
        "id": "yHKKMjHrzbNO",
        "outputId": "1265cb7f-f177-404f-d52a-716606e2e5b1"
      },
      "execution_count": null,
      "outputs": [
        {
          "output_type": "execute_result",
          "data": {
            "text/plain": [
              "<tf.Tensor: shape=(), dtype=int32, numpy=676>"
            ]
          },
          "metadata": {},
          "execution_count": 111
        }
      ]
    },
    {
      "cell_type": "code",
      "source": [
        "tf.math.reduce_std(tf.cast(E,dtype=tf.float64))"
      ],
      "metadata": {
        "colab": {
          "base_uri": "https://localhost:8080/"
        },
        "id": "hLcUGSIpzudQ",
        "outputId": "3bab9eb6-6edf-4e89-8f8d-53e886e8bbe6"
      },
      "execution_count": null,
      "outputs": [
        {
          "output_type": "execute_result",
          "data": {
            "text/plain": [
              "<tf.Tensor: shape=(), dtype=float64, numpy=25.994622520821494>"
            ]
          },
          "metadata": {},
          "execution_count": 112
        }
      ]
    },
    {
      "cell_type": "code",
      "source": [
        "# If we get type error go see documentation"
      ],
      "metadata": {
        "id": "fLuztvDQzvHD"
      },
      "execution_count": null,
      "outputs": []
    },
    {
      "cell_type": "markdown",
      "source": [
        "positional max and min\n",
        "\n",
        "1.   F[tf.argmax(F)]\n",
        "2.   tf.reduce_max(F)\n",
        "\n"
      ],
      "metadata": {
        "id": "hhl7qWSm9ev8"
      }
    },
    {
      "cell_type": "code",
      "source": [
        "tf.random.set_seed(42)\n",
        "F=tf.random.uniform(shape=[50])\n",
        "F"
      ],
      "metadata": {
        "id": "iXaChuOU1vXd",
        "colab": {
          "base_uri": "https://localhost:8080/"
        },
        "outputId": "dd506c71-2d35-4a7f-9317-7e849030b94f"
      },
      "execution_count": null,
      "outputs": [
        {
          "output_type": "execute_result",
          "data": {
            "text/plain": [
              "<tf.Tensor: shape=(50,), dtype=float32, numpy=\n",
              "array([0.6645621 , 0.44100678, 0.3528825 , 0.46448255, 0.03366041,\n",
              "       0.68467236, 0.74011743, 0.8724445 , 0.22632635, 0.22319686,\n",
              "       0.3103881 , 0.7223358 , 0.13318717, 0.5480639 , 0.5746088 ,\n",
              "       0.8996835 , 0.00946367, 0.5212307 , 0.6345445 , 0.1993283 ,\n",
              "       0.72942245, 0.54583454, 0.10756552, 0.6767061 , 0.6602763 ,\n",
              "       0.33695042, 0.60141766, 0.21062577, 0.8527372 , 0.44062173,\n",
              "       0.9485276 , 0.23752594, 0.81179297, 0.5263394 , 0.494308  ,\n",
              "       0.21612847, 0.8457197 , 0.8718841 , 0.3083862 , 0.6868038 ,\n",
              "       0.23764038, 0.7817228 , 0.9671384 , 0.06870162, 0.79873943,\n",
              "       0.66028714, 0.5871513 , 0.16461694, 0.7381023 , 0.32054043],\n",
              "      dtype=float32)>"
            ]
          },
          "metadata": {},
          "execution_count": 114
        }
      ]
    },
    {
      "cell_type": "code",
      "source": [
        "tf.reduce_max(F)"
      ],
      "metadata": {
        "id": "FONV73361wDk",
        "colab": {
          "base_uri": "https://localhost:8080/"
        },
        "outputId": "63979fd4-ab2a-4c27-d7a4-ede9743c7c6d"
      },
      "execution_count": null,
      "outputs": [
        {
          "output_type": "execute_result",
          "data": {
            "text/plain": [
              "<tf.Tensor: shape=(), dtype=float32, numpy=0.9671384>"
            ]
          },
          "metadata": {},
          "execution_count": 115
        }
      ]
    },
    {
      "cell_type": "code",
      "source": [
        "#Return index of largest element across axis\n",
        "tf.argmax(F)"
      ],
      "metadata": {
        "colab": {
          "base_uri": "https://localhost:8080/"
        },
        "id": "z_5z3I4F-lz5",
        "outputId": "5d1d7549-6525-479c-91c8-546930b30d8d"
      },
      "execution_count": null,
      "outputs": [
        {
          "output_type": "execute_result",
          "data": {
            "text/plain": [
              "<tf.Tensor: shape=(), dtype=int64, numpy=42>"
            ]
          },
          "metadata": {},
          "execution_count": 116
        }
      ]
    },
    {
      "cell_type": "code",
      "source": [
        "F[tf.argmax(F)]"
      ],
      "metadata": {
        "colab": {
          "base_uri": "https://localhost:8080/"
        },
        "id": "AWVsF5rx-yUK",
        "outputId": "4623d0a5-bf4c-47ff-8dbc-6c5db1852d3e"
      },
      "execution_count": null,
      "outputs": [
        {
          "output_type": "execute_result",
          "data": {
            "text/plain": [
              "<tf.Tensor: shape=(), dtype=float32, numpy=0.9671384>"
            ]
          },
          "metadata": {},
          "execution_count": 117
        }
      ]
    },
    {
      "cell_type": "code",
      "source": [
        " F[tf.argmin(F)]"
      ],
      "metadata": {
        "colab": {
          "base_uri": "https://localhost:8080/"
        },
        "id": "_kJtwL7KAbNO",
        "outputId": "ae979755-ce5e-4fd2-96c2-2c0b224a8d8f"
      },
      "execution_count": null,
      "outputs": [
        {
          "output_type": "execute_result",
          "data": {
            "text/plain": [
              "<tf.Tensor: shape=(), dtype=float32, numpy=0.009463668>"
            ]
          },
          "metadata": {},
          "execution_count": 118
        }
      ]
    },
    {
      "cell_type": "markdown",
      "source": [
        "**Squeezing a tensor**(Remove single dimension)"
      ],
      "metadata": {
        "id": "alYD_l7DX3EJ"
      }
    },
    {
      "cell_type": "code",
      "source": [
        "tf.random.set_seed(30)\n",
        "G= tf.constant(tf.random.uniform(shape=[50]),shape=(1,1,1,1,50))\n",
        "G"
      ],
      "metadata": {
        "id": "G5qGI4fz1wUr",
        "colab": {
          "base_uri": "https://localhost:8080/"
        },
        "outputId": "8e04ab26-029b-4390-8e28-b75ce089d7b5"
      },
      "execution_count": null,
      "outputs": [
        {
          "output_type": "execute_result",
          "data": {
            "text/plain": [
              "<tf.Tensor: shape=(1, 1, 1, 1, 50), dtype=float32, numpy=\n",
              "array([[[[[0.5937799 , 0.05667603, 0.6462511 , 0.830739  , 0.06096888,\n",
              "           0.4103918 , 0.9489596 , 0.33922124, 0.4374851 , 0.41155684,\n",
              "           0.9732108 , 0.0500797 , 0.93884313, 0.39715505, 0.42824984,\n",
              "           0.7619152 , 0.39822114, 0.5956578 , 0.8779398 , 0.10043168,\n",
              "           0.21331716, 0.62426984, 0.06184375, 0.8005818 , 0.8525226 ,\n",
              "           0.2827022 , 0.8048171 , 0.8986236 , 0.34012854, 0.7785393 ,\n",
              "           0.08257508, 0.8811574 , 0.48566425, 0.04855621, 0.97528064,\n",
              "           0.44055486, 0.9242524 , 0.49590588, 0.03022087, 0.4040637 ,\n",
              "           0.28982878, 0.86573505, 0.48220754, 0.02629268, 0.41429532,\n",
              "           0.20661616, 0.61409974, 0.78117085, 0.0346334 , 0.4491408 ]]]]],\n",
              "      dtype=float32)>"
            ]
          },
          "metadata": {},
          "execution_count": 119
        }
      ]
    },
    {
      "cell_type": "code",
      "source": [
        "G_squeeze=tf.squeeze(G)\n",
        "G_squeeze,G_squeeze.shape"
      ],
      "metadata": {
        "colab": {
          "base_uri": "https://localhost:8080/"
        },
        "id": "Ppw7tlKDZDtK",
        "outputId": "7dbd367e-dce4-4090-ebc6-98180f5b5edf"
      },
      "execution_count": null,
      "outputs": [
        {
          "output_type": "execute_result",
          "data": {
            "text/plain": [
              "(<tf.Tensor: shape=(50,), dtype=float32, numpy=\n",
              " array([0.5937799 , 0.05667603, 0.6462511 , 0.830739  , 0.06096888,\n",
              "        0.4103918 , 0.9489596 , 0.33922124, 0.4374851 , 0.41155684,\n",
              "        0.9732108 , 0.0500797 , 0.93884313, 0.39715505, 0.42824984,\n",
              "        0.7619152 , 0.39822114, 0.5956578 , 0.8779398 , 0.10043168,\n",
              "        0.21331716, 0.62426984, 0.06184375, 0.8005818 , 0.8525226 ,\n",
              "        0.2827022 , 0.8048171 , 0.8986236 , 0.34012854, 0.7785393 ,\n",
              "        0.08257508, 0.8811574 , 0.48566425, 0.04855621, 0.97528064,\n",
              "        0.44055486, 0.9242524 , 0.49590588, 0.03022087, 0.4040637 ,\n",
              "        0.28982878, 0.86573505, 0.48220754, 0.02629268, 0.41429532,\n",
              "        0.20661616, 0.61409974, 0.78117085, 0.0346334 , 0.4491408 ],\n",
              "       dtype=float32)>, TensorShape([50]))"
            ]
          },
          "metadata": {},
          "execution_count": 120
        }
      ]
    },
    {
      "cell_type": "markdown",
      "source": [
        "### [**One-Hot Encoding**]\n",
        "\n",
        "\n",
        "> Form of numerical encoding"
      ],
      "metadata": {
        "id": "PY-ywF1HZVyb"
      }
    },
    {
      "cell_type": "code",
      "source": [
        "sl=[0,1,2,3] # could be red,green,blue,purple\n",
        "\n",
        "tf.one_hot(sl,depth=4)"
      ],
      "metadata": {
        "colab": {
          "base_uri": "https://localhost:8080/"
        },
        "id": "DKr0rMViYz2N",
        "outputId": "f34963ed-6417-4b6c-9a21-8b440e67c85f"
      },
      "execution_count": null,
      "outputs": [
        {
          "output_type": "execute_result",
          "data": {
            "text/plain": [
              "<tf.Tensor: shape=(4, 4), dtype=float32, numpy=\n",
              "array([[1., 0., 0., 0.],\n",
              "       [0., 1., 0., 0.],\n",
              "       [0., 0., 1., 0.],\n",
              "       [0., 0., 0., 1.]], dtype=float32)>"
            ]
          },
          "metadata": {},
          "execution_count": 121
        }
      ]
    },
    {
      "cell_type": "code",
      "source": [
        "# Specify custom value for one_hot\n",
        "tf.one_hot(sl,depth=4,on_value=\"love dl \",off_value=\"hate ml\")"
      ],
      "metadata": {
        "colab": {
          "base_uri": "https://localhost:8080/"
        },
        "id": "WMs3RTDIZTwE",
        "outputId": "aa0aa23c-9137-4c4f-f1ab-23273699db36"
      },
      "execution_count": null,
      "outputs": [
        {
          "output_type": "execute_result",
          "data": {
            "text/plain": [
              "<tf.Tensor: shape=(4, 4), dtype=string, numpy=\n",
              "array([[b'love dl ', b'hate ml', b'hate ml', b'hate ml'],\n",
              "       [b'hate ml', b'love dl ', b'hate ml', b'hate ml'],\n",
              "       [b'hate ml', b'hate ml', b'love dl ', b'hate ml'],\n",
              "       [b'hate ml', b'hate ml', b'hate ml', b'love dl ']], dtype=object)>"
            ]
          },
          "metadata": {},
          "execution_count": 122
        }
      ]
    },
    {
      "cell_type": "code",
      "source": [
        "colour=[1,2,4,3]\n",
        "tf.one_hot(colour,depth=5 ,on_value='fu',off_value='not_today')"
      ],
      "metadata": {
        "colab": {
          "base_uri": "https://localhost:8080/"
        },
        "id": "i2SbYzKmZUZG",
        "outputId": "8973c381-9d8d-47f9-8a46-146f6f3e9f79"
      },
      "execution_count": null,
      "outputs": [
        {
          "output_type": "execute_result",
          "data": {
            "text/plain": [
              "<tf.Tensor: shape=(4, 5), dtype=string, numpy=\n",
              "array([[b'not_today', b'fu', b'not_today', b'not_today', b'not_today'],\n",
              "       [b'not_today', b'not_today', b'fu', b'not_today', b'not_today'],\n",
              "       [b'not_today', b'not_today', b'not_today', b'not_today', b'fu'],\n",
              "       [b'not_today', b'not_today', b'not_today', b'fu', b'not_today']],\n",
              "      dtype=object)>"
            ]
          },
          "metadata": {},
          "execution_count": 123
        }
      ]
    },
    {
      "cell_type": "code",
      "source": [
        "colour=tf.constant(colour)\n",
        "colour"
      ],
      "metadata": {
        "colab": {
          "base_uri": "https://localhost:8080/"
        },
        "id": "ZRwHPoFKdGYq",
        "outputId": "d7872daf-c5df-4d54-b83a-d176ffc1769f"
      },
      "execution_count": null,
      "outputs": [
        {
          "output_type": "execute_result",
          "data": {
            "text/plain": [
              "<tf.Tensor: shape=(4,), dtype=int32, numpy=array([1, 2, 4, 3], dtype=int32)>"
            ]
          },
          "metadata": {},
          "execution_count": 124
        }
      ]
    },
    {
      "cell_type": "code",
      "source": [
        "tf.one_hot(colour,depth=5)"
      ],
      "metadata": {
        "colab": {
          "base_uri": "https://localhost:8080/"
        },
        "id": "pMluo7jqeTQ5",
        "outputId": "8134bc40-17f3-42d5-ba19-fec21522e97a"
      },
      "execution_count": null,
      "outputs": [
        {
          "output_type": "execute_result",
          "data": {
            "text/plain": [
              "<tf.Tensor: shape=(4, 5), dtype=float32, numpy=\n",
              "array([[0., 1., 0., 0., 0.],\n",
              "       [0., 0., 1., 0., 0.],\n",
              "       [0., 0., 0., 0., 1.],\n",
              "       [0., 0., 0., 1., 0.]], dtype=float32)>"
            ]
          },
          "metadata": {},
          "execution_count": 125
        }
      ]
    },
    {
      "cell_type": "markdown",
      "source": [
        "Practice maths\n",
        "Square,log,square_root"
      ],
      "metadata": {
        "id": "l7CCVFgOhVbh"
      }
    },
    {
      "cell_type": "code",
      "source": [
        "H=tf.cast(tf.range(1,10),dtype='float16')\n",
        "H"
      ],
      "metadata": {
        "colab": {
          "base_uri": "https://localhost:8080/"
        },
        "id": "sNO2xJ5EeUGV",
        "outputId": "4000f844-9a3c-4202-8750-c3758cd03dc7"
      },
      "execution_count": null,
      "outputs": [
        {
          "output_type": "execute_result",
          "data": {
            "text/plain": [
              "<tf.Tensor: shape=(9,), dtype=float16, numpy=array([1., 2., 3., 4., 5., 6., 7., 8., 9.], dtype=float16)>"
            ]
          },
          "metadata": {},
          "execution_count": 126
        }
      ]
    },
    {
      "cell_type": "code",
      "source": [
        "tf.square(H)"
      ],
      "metadata": {
        "colab": {
          "base_uri": "https://localhost:8080/"
        },
        "id": "es4KLAYfeUcZ",
        "outputId": "0c47080b-33ee-495c-9a46-796354ccf0e7"
      },
      "execution_count": null,
      "outputs": [
        {
          "output_type": "execute_result",
          "data": {
            "text/plain": [
              "<tf.Tensor: shape=(9,), dtype=float16, numpy=array([ 1.,  4.,  9., 16., 25., 36., 49., 64., 81.], dtype=float16)>"
            ]
          },
          "metadata": {},
          "execution_count": 127
        }
      ]
    },
    {
      "cell_type": "code",
      "source": [
        "tf.sqrt(H)"
      ],
      "metadata": {
        "colab": {
          "base_uri": "https://localhost:8080/"
        },
        "id": "mXqoYDBceVQS",
        "outputId": "2c6606c3-50bf-44b1-85f6-c097182f7292"
      },
      "execution_count": null,
      "outputs": [
        {
          "output_type": "execute_result",
          "data": {
            "text/plain": [
              "<tf.Tensor: shape=(9,), dtype=float16, numpy=\n",
              "array([1.   , 1.414, 1.732, 2.   , 2.236, 2.45 , 2.646, 2.828, 3.   ],\n",
              "      dtype=float16)>"
            ]
          },
          "metadata": {},
          "execution_count": 128
        }
      ]
    },
    {
      "cell_type": "code",
      "source": [
        "tf.math.log(H)"
      ],
      "metadata": {
        "colab": {
          "base_uri": "https://localhost:8080/"
        },
        "id": "GyMh2i1wiH3o",
        "outputId": "cea33b96-1bc5-4db0-86e7-c293c016ff18"
      },
      "execution_count": null,
      "outputs": [
        {
          "output_type": "execute_result",
          "data": {
            "text/plain": [
              "<tf.Tensor: shape=(9,), dtype=float16, numpy=\n",
              "array([0.    , 0.6934, 1.099 , 1.387 , 1.609 , 1.792 , 1.946 , 2.08  ,\n",
              "       2.197 ], dtype=float16)>"
            ]
          },
          "metadata": {},
          "execution_count": 129
        }
      ]
    },
    {
      "cell_type": "code",
      "source": [
        "H=tf.range(1,15)\n",
        "tf.cast(H,tf.half)"
      ],
      "metadata": {
        "colab": {
          "base_uri": "https://localhost:8080/"
        },
        "id": "9N3Af6eLiT8S",
        "outputId": "5c54e760-2397-4318-8ff3-0501b85714fd"
      },
      "execution_count": null,
      "outputs": [
        {
          "output_type": "execute_result",
          "data": {
            "text/plain": [
              "<tf.Tensor: shape=(14,), dtype=float16, numpy=\n",
              "array([ 1.,  2.,  3.,  4.,  5.,  6.,  7.,  8.,  9., 10., 11., 12., 13.,\n",
              "       14.], dtype=float16)>"
            ]
          },
          "metadata": {},
          "execution_count": 130
        }
      ]
    },
    {
      "cell_type": "code",
      "source": [
        "tf.math.is_nan(tf.cast(H,tf.half))"
      ],
      "metadata": {
        "colab": {
          "base_uri": "https://localhost:8080/"
        },
        "id": "YsF_Plc8iuoO",
        "outputId": "04dbcd40-a9ea-439f-8fb6-2841fe9a04c3"
      },
      "execution_count": null,
      "outputs": [
        {
          "output_type": "execute_result",
          "data": {
            "text/plain": [
              "<tf.Tensor: shape=(14,), dtype=bool, numpy=\n",
              "array([False, False, False, False, False, False, False, False, False,\n",
              "       False, False, False, False, False])>"
            ]
          },
          "metadata": {},
          "execution_count": 131
        }
      ]
    },
    {
      "cell_type": "markdown",
      "source": [
        "### Tensors and numpy\n",
        "\n",
        "TensorFlow interacts beautifully with Numpy"
      ],
      "metadata": {
        "id": "JvflZXs6iu-6"
      }
    },
    {
      "cell_type": "code",
      "source": [
        "J=tf.constant(np.array([1.,3,4.]))"
      ],
      "metadata": {
        "id": "vLMHR_fNivP9"
      },
      "execution_count": null,
      "outputs": []
    },
    {
      "cell_type": "code",
      "source": [
        "np.array(J),type(np.array(J))"
      ],
      "metadata": {
        "id": "14IAgVJgive3",
        "colab": {
          "base_uri": "https://localhost:8080/"
        },
        "outputId": "e5e10480-2f61-484c-c865-ee5a3a29f570"
      },
      "execution_count": null,
      "outputs": [
        {
          "output_type": "execute_result",
          "data": {
            "text/plain": [
              "(array([1., 3., 4.]), numpy.ndarray)"
            ]
          },
          "metadata": {},
          "execution_count": 133
        }
      ]
    },
    {
      "cell_type": "code",
      "source": [
        "J.numpy(),type(J.numpy())"
      ],
      "metadata": {
        "colab": {
          "base_uri": "https://localhost:8080/"
        },
        "id": "ibh_EdVZM8Q9",
        "outputId": "f5aac8e6-807a-4530-8828-2acc80844569"
      },
      "execution_count": null,
      "outputs": [
        {
          "output_type": "execute_result",
          "data": {
            "text/plain": [
              "(array([1., 3., 4.]), numpy.ndarray)"
            ]
          },
          "metadata": {},
          "execution_count": 134
        }
      ]
    },
    {
      "cell_type": "code",
      "source": [
        "J.numpy()[0]"
      ],
      "metadata": {
        "colab": {
          "base_uri": "https://localhost:8080/"
        },
        "id": "_LN4SiBWNQRw",
        "outputId": "0ec812fb-528d-4cb4-f842-97a63a45e45f"
      },
      "execution_count": null,
      "outputs": [
        {
          "output_type": "execute_result",
          "data": {
            "text/plain": [
              "1.0"
            ]
          },
          "metadata": {},
          "execution_count": 135
        }
      ]
    },
    {
      "cell_type": "code",
      "source": [
        "# Default tyoe of each are slightly diffeent\n",
        "numpy_j=tf.constant(np.array([3.,6.,.3]))\n",
        "tensor_j=tf.constant([3.,6.,.3])\n",
        "numpy_j.dtype,tensor_j.dtype"
      ],
      "metadata": {
        "colab": {
          "base_uri": "https://localhost:8080/"
        },
        "id": "VgAub9jkM8bg",
        "outputId": "b3be62bd-dd3c-4a61-8d6e-c08208ec619c"
      },
      "execution_count": null,
      "outputs": [
        {
          "output_type": "execute_result",
          "data": {
            "text/plain": [
              "(tf.float64, tf.float32)"
            ]
          },
          "metadata": {},
          "execution_count": 136
        }
      ]
    },
    {
      "cell_type": "code",
      "source": [
        "vr=tf.constant([2,3,4,2])\n",
        "vr,vr.ndim,vr.shape,tf.rank(vr).numpy()"
      ],
      "metadata": {
        "colab": {
          "base_uri": "https://localhost:8080/"
        },
        "id": "C_mQzjZpM8mv",
        "outputId": "ddd43914-1e2e-4562-acb5-fb3f46f621be"
      },
      "execution_count": null,
      "outputs": [
        {
          "output_type": "execute_result",
          "data": {
            "text/plain": [
              "(<tf.Tensor: shape=(4,), dtype=int32, numpy=array([2, 3, 4, 2], dtype=int32)>,\n",
              " 1,\n",
              " TensorShape([4]),\n",
              " 1)"
            ]
          },
          "metadata": {},
          "execution_count": 137
        }
      ]
    },
    {
      "cell_type": "code",
      "source": [
        "sr=tf.constant(3)\n",
        "sr,sr.ndim,sr.shape,tf.rank(sr).numpy()"
      ],
      "metadata": {
        "colab": {
          "base_uri": "https://localhost:8080/"
        },
        "id": "xBDc1wkJO2k2",
        "outputId": "ca558d87-9cae-48d5-cf66-fc1572f20c6a"
      },
      "execution_count": null,
      "outputs": [
        {
          "output_type": "execute_result",
          "data": {
            "text/plain": [
              "(<tf.Tensor: shape=(), dtype=int32, numpy=3>, 0, TensorShape([]), 0)"
            ]
          },
          "metadata": {},
          "execution_count": 138
        }
      ]
    },
    {
      "cell_type": "code",
      "source": [
        "mx=tf.constant([[1,4,6,3],\n",
        "               [4,8,2,9],\n",
        "               [3,86,23,55]])\n",
        "mx,mx.shape,tf.rank(mx).numpy(),tf.size(mx).numpy()"
      ],
      "metadata": {
        "colab": {
          "base_uri": "https://localhost:8080/"
        },
        "id": "MrfM-9QvO3BS",
        "outputId": "5366ee81-1092-4d6b-8f78-a0ef6fd2111b"
      },
      "execution_count": null,
      "outputs": [
        {
          "output_type": "execute_result",
          "data": {
            "text/plain": [
              "(<tf.Tensor: shape=(3, 4), dtype=int32, numpy=\n",
              " array([[ 1,  4,  6,  3],\n",
              "        [ 4,  8,  2,  9],\n",
              "        [ 3, 86, 23, 55]], dtype=int32)>, TensorShape([3, 4]), 2, 12)"
            ]
          },
          "metadata": {},
          "execution_count": 139
        }
      ]
    },
    {
      "cell_type": "code",
      "source": [
        "tf.random.set_seed(32)\n",
        "a=tf.random.uniform(shape=(5,300))\n",
        "b=tf.random.uniform(shape=(5,300))\n",
        "print(a)\n",
        "print(b)"
      ],
      "metadata": {
        "colab": {
          "base_uri": "https://localhost:8080/"
        },
        "id": "pAujmO0wO3i_",
        "outputId": "b3864d9d-bf89-49b0-e83e-31ed414e1a01"
      },
      "execution_count": null,
      "outputs": [
        {
          "output_type": "stream",
          "name": "stdout",
          "text": [
            "tf.Tensor(\n",
            "[[0.54520595 0.13372338 0.45232666 ... 0.45167708 0.8256048  0.9252931 ]\n",
            " [0.7212399  0.6417098  0.1694361  ... 0.40947497 0.52742505 0.6555792 ]\n",
            " [0.22098267 0.41154444 0.5549755  ... 0.95074594 0.4237417  0.01903772]\n",
            " [0.9836285  0.69332993 0.81684124 ... 0.5581968  0.36444438 0.19124126]\n",
            " [0.16698074 0.7840066  0.29173386 ... 0.88283336 0.35702634 0.76522374]], shape=(5, 300), dtype=float32)\n",
            "tf.Tensor(\n",
            "[[0.20274532 0.0362395  0.45186257 ... 0.69017184 0.01630318 0.5514674 ]\n",
            " [0.9618223  0.75508356 0.25777328 ... 0.22629893 0.40577734 0.00108409]\n",
            " [0.7881732  0.9828061  0.01896739 ... 0.3543836  0.15920365 0.76062274]\n",
            " [0.14122677 0.21683455 0.7634512  ... 0.9755899  0.3852471  0.06009662]\n",
            " [0.05427301 0.01137054 0.31931353 ... 0.5983254  0.02609873 0.6930649 ]], shape=(5, 300), dtype=float32)\n"
          ]
        }
      ]
    },
    {
      "cell_type": "code",
      "source": [
        "# 4.\n",
        "tf.matmul(a,tf.reshape(b,(300,5)))"
      ],
      "metadata": {
        "colab": {
          "base_uri": "https://localhost:8080/"
        },
        "id": "x3M81wcRM8zI",
        "outputId": "adbe4ef6-fc11-46ec-ca54-919cb38edc4a"
      },
      "execution_count": null,
      "outputs": [
        {
          "output_type": "execute_result",
          "data": {
            "text/plain": [
              "<tf.Tensor: shape=(5, 5), dtype=float32, numpy=\n",
              "array([[75.64762 , 73.56679 , 75.77454 , 75.62358 , 75.80945 ],\n",
              "       [76.67738 , 73.55655 , 72.740234, 72.56367 , 75.00712 ],\n",
              "       [76.37172 , 75.43523 , 77.82565 , 76.52347 , 77.844765],\n",
              "       [73.14754 , 72.31564 , 72.21898 , 70.1387  , 70.89406 ],\n",
              "       [77.3753  , 75.660904, 73.66423 , 77.18773 , 78.14657 ]],\n",
              "      dtype=float32)>"
            ]
          },
          "metadata": {},
          "execution_count": 141
        }
      ]
    },
    {
      "cell_type": "code",
      "source": [
        "# 5.\n",
        "tf.tensordot(tf.reshape(a,(300,5)),b,1)"
      ],
      "metadata": {
        "colab": {
          "base_uri": "https://localhost:8080/"
        },
        "id": "-i_yol94T632",
        "outputId": "ce88f791-cb43-4190-8d5d-b4a52b81a1ce"
      },
      "execution_count": null,
      "outputs": [
        {
          "output_type": "execute_result",
          "data": {
            "text/plain": [
              "<tf.Tensor: shape=(300, 300), dtype=float32, numpy=\n",
              "array([[0.66989064, 0.6100071 , 0.7155847 , ..., 1.2945164 , 0.22030252,\n",
              "        1.3210255 ],\n",
              "       [1.4130359 , 1.4019376 , 1.0572022 , ..., 1.8022512 , 0.5555213 ,\n",
              "        1.5222584 ],\n",
              "       [1.0558859 , 0.96709806, 0.9291327 , ..., 1.1413665 , 0.7202397 ,\n",
              "        0.16103193],\n",
              "       ...,\n",
              "       [0.833067  , 0.8526717 , 0.44352165, ..., 0.8074335 , 0.3200858 ,\n",
              "        0.7854406 ],\n",
              "       [0.34011096, 0.27500167, 0.34948114, ..., 0.605096  , 0.13705574,\n",
              "        0.6268087 ],\n",
              "       [1.0458835 , 1.0793886 , 0.85187167, ..., 1.5822356 , 0.36358443,\n",
              "        1.5689299 ]], dtype=float32)>"
            ]
          },
          "metadata": {},
          "execution_count": 142
        }
      ]
    },
    {
      "cell_type": "code",
      "source": [
        "# 6.\n",
        "tf.random.set_seed(29)\n",
        "t=tf.random.uniform(shape=(224,224,3),seed=5)"
      ],
      "metadata": {
        "id": "C8w821emVhpD"
      },
      "execution_count": null,
      "outputs": []
    },
    {
      "cell_type": "code",
      "source": [
        "tf.reduce_max(t,axis=1)\n",
        "tf.reduce_min(t,axis=1)"
      ],
      "metadata": {
        "colab": {
          "base_uri": "https://localhost:8080/"
        },
        "id": "Gq_EOPDkWL3E",
        "outputId": "5b299c89-a066-4085-c646-4e7e45a3f80e"
      },
      "execution_count": null,
      "outputs": [
        {
          "output_type": "execute_result",
          "data": {
            "text/plain": [
              "<tf.Tensor: shape=(224, 3), dtype=float32, numpy=\n",
              "array([[7.34126568e-03, 7.12645054e-03, 5.43951988e-03],\n",
              "       [9.83715057e-04, 8.81910324e-04, 4.23336029e-03],\n",
              "       [2.99930573e-03, 7.30061531e-03, 6.38508797e-03],\n",
              "       [1.36721134e-03, 6.48856163e-03, 1.54560804e-02],\n",
              "       [2.52830982e-03, 3.49068642e-03, 1.35600567e-03],\n",
              "       [5.91516495e-04, 2.31623650e-04, 2.51448154e-03],\n",
              "       [3.91173363e-03, 4.05120850e-03, 3.62300873e-03],\n",
              "       [1.48923397e-02, 6.82091713e-03, 1.09752417e-02],\n",
              "       [1.26934052e-03, 8.86142254e-03, 8.98122787e-04],\n",
              "       [1.41382217e-04, 4.05025482e-03, 4.01151180e-03],\n",
              "       [8.10623169e-05, 7.33733177e-04, 1.04894638e-02],\n",
              "       [8.43644142e-03, 6.22105598e-03, 1.08802319e-03],\n",
              "       [4.60112095e-03, 3.47459316e-03, 9.73224640e-04],\n",
              "       [8.30066204e-03, 1.56176090e-02, 3.18455696e-03],\n",
              "       [3.63659859e-03, 1.11269951e-03, 2.26736069e-03],\n",
              "       [2.20239162e-03, 4.22716141e-03, 6.57427311e-03],\n",
              "       [2.18641758e-03, 7.90119171e-04, 5.40614128e-04],\n",
              "       [9.89556313e-04, 6.65521622e-03, 7.35020638e-03],\n",
              "       [5.69832325e-03, 2.29728222e-03, 1.01053715e-03],\n",
              "       [4.14013863e-04, 3.31509113e-03, 4.45449352e-03],\n",
              "       [1.73488855e-02, 3.32093239e-03, 3.62670422e-03],\n",
              "       [2.88808346e-03, 3.70109081e-03, 4.67109680e-03],\n",
              "       [1.98757648e-02, 1.07618570e-02, 1.64177418e-02],\n",
              "       [1.14294291e-02, 4.21929359e-03, 2.62880325e-03],\n",
              "       [6.91890717e-04, 1.14706755e-02, 5.12635708e-03],\n",
              "       [2.11000443e-04, 4.45222855e-03, 8.17775726e-05],\n",
              "       [3.11291218e-03, 8.00406933e-03, 2.23827362e-03],\n",
              "       [5.71131706e-04, 9.85860825e-04, 7.70032406e-03],\n",
              "       [2.69472599e-03, 3.77857685e-03, 1.38343573e-02],\n",
              "       [4.37819958e-03, 4.81200218e-03, 3.38435173e-04],\n",
              "       [2.15959549e-03, 1.09896660e-02, 9.27448273e-05],\n",
              "       [2.25484371e-03, 1.97887421e-04, 2.94947624e-03],\n",
              "       [6.77466393e-04, 7.99417496e-04, 3.25930119e-03],\n",
              "       [8.34465027e-07, 7.45415688e-04, 6.03556633e-04],\n",
              "       [3.24332714e-03, 3.40604782e-03, 5.81860542e-04],\n",
              "       [1.98137760e-03, 3.58426571e-03, 4.44293022e-04],\n",
              "       [1.52730942e-03, 7.80022144e-03, 2.55107880e-03],\n",
              "       [1.09790564e-02, 5.64336777e-04, 2.08091736e-03],\n",
              "       [1.29413605e-03, 6.87134266e-03, 1.23984814e-02],\n",
              "       [1.39204264e-02, 1.13737583e-03, 7.60197639e-04],\n",
              "       [2.44426727e-03, 3.08549404e-03, 3.31079960e-03],\n",
              "       [2.02214718e-03, 5.84244728e-04, 1.53899193e-04],\n",
              "       [5.82098961e-04, 5.17535210e-03, 1.15954876e-03],\n",
              "       [7.10999966e-03, 1.23119354e-03, 2.40170956e-03],\n",
              "       [1.13687515e-02, 2.14898586e-03, 1.06704235e-03],\n",
              "       [4.17041779e-03, 1.97720528e-03, 1.98543072e-03],\n",
              "       [1.66034698e-03, 8.45563412e-03, 8.93354416e-04],\n",
              "       [3.66973877e-03, 1.04033947e-03, 3.89146805e-03],\n",
              "       [5.62191010e-04, 1.36011839e-02, 2.86591053e-03],\n",
              "       [9.71913338e-04, 9.79697704e-03, 5.84459305e-03],\n",
              "       [2.71093845e-03, 5.65302372e-03, 2.44474411e-03],\n",
              "       [4.11450863e-03, 1.22089386e-02, 1.07550621e-03],\n",
              "       [1.79147720e-03, 8.03554058e-03, 2.13146210e-04],\n",
              "       [1.89292431e-03, 7.71820545e-03, 8.38887691e-03],\n",
              "       [3.03864479e-03, 6.36374950e-03, 3.32427025e-03],\n",
              "       [1.36864185e-03, 7.46726990e-04, 4.28235531e-03],\n",
              "       [5.84614277e-03, 1.12056732e-03, 4.34756279e-03],\n",
              "       [1.49893761e-03, 2.32505798e-03, 1.44435167e-02],\n",
              "       [1.84535980e-03, 1.05738640e-04, 6.95252419e-03],\n",
              "       [1.70748234e-02, 2.45988369e-03, 5.93900681e-04],\n",
              "       [3.50463390e-03, 1.75786018e-03, 5.00273705e-03],\n",
              "       [1.69789791e-03, 2.54893303e-03, 2.33542919e-03],\n",
              "       [4.64081764e-03, 3.52716446e-03, 6.90424442e-03],\n",
              "       [3.16202641e-03, 1.06954575e-03, 9.04345512e-03],\n",
              "       [6.15978241e-03, 2.12931633e-03, 1.91366673e-03],\n",
              "       [6.17384911e-04, 6.11734390e-03, 2.68936157e-04],\n",
              "       [1.65387392e-02, 8.52322578e-03, 1.01641417e-02],\n",
              "       [1.41797066e-02, 1.46234035e-03, 2.37953663e-03],\n",
              "       [9.63211060e-05, 9.53555107e-04, 2.35545635e-03],\n",
              "       [1.57070160e-03, 2.57587433e-03, 3.95774841e-05],\n",
              "       [2.57647038e-03, 5.78200817e-03, 1.66225433e-03],\n",
              "       [1.21793747e-02, 5.71298599e-03, 6.77883625e-03],\n",
              "       [1.60086155e-03, 1.05162859e-02, 1.23990774e-02],\n",
              "       [1.10414028e-02, 1.90663338e-03, 2.92778015e-04],\n",
              "       [2.33769417e-04, 6.28948212e-04, 1.85012817e-04],\n",
              "       [8.98492336e-03, 1.31464005e-03, 1.28805637e-03],\n",
              "       [4.84097004e-03, 7.15506077e-03, 2.22492218e-03],\n",
              "       [1.16789341e-03, 5.07438183e-03, 1.93691254e-03],\n",
              "       [7.37762451e-03, 6.19888306e-06, 1.06931925e-02],\n",
              "       [1.02019310e-03, 2.77376175e-03, 5.43344021e-03],\n",
              "       [1.80470943e-03, 3.75032425e-03, 1.75976753e-03],\n",
              "       [8.62944126e-03, 7.00759888e-03, 1.69312954e-03],\n",
              "       [5.56123257e-03, 4.17780876e-03, 2.45606899e-03],\n",
              "       [1.20953321e-02, 6.38163090e-03, 2.45940685e-03],\n",
              "       [1.02341175e-03, 1.89976692e-02, 1.48749352e-03],\n",
              "       [3.73327732e-03, 7.35282898e-04, 1.43051147e-06],\n",
              "       [1.53481960e-03, 1.17456913e-03, 8.94808769e-03],\n",
              "       [2.18904018e-03, 2.09724903e-03, 2.69651413e-04],\n",
              "       [5.33294678e-03, 1.57165527e-03, 2.90167332e-03],\n",
              "       [1.99711323e-03, 1.96278095e-03, 6.16717339e-03],\n",
              "       [3.53038311e-03, 2.56681442e-03, 1.63435936e-04],\n",
              "       [1.16336346e-03, 2.39622593e-03, 1.42121315e-03],\n",
              "       [3.03351879e-03, 7.86614418e-03, 1.40416622e-03],\n",
              "       [2.15649605e-04, 1.35442019e-02, 4.71305847e-03],\n",
              "       [2.35736370e-03, 4.85968590e-03, 5.65767288e-04],\n",
              "       [7.53748417e-03, 1.28114223e-03, 7.11929798e-03],\n",
              "       [2.68292427e-03, 1.08070374e-02, 5.80906868e-04],\n",
              "       [6.50477409e-03, 1.77025795e-03, 6.25371933e-04],\n",
              "       [1.25617981e-02, 1.10898018e-02, 6.60753250e-03],\n",
              "       [9.63211060e-05, 3.72695923e-03, 8.61525536e-04],\n",
              "       [1.91025734e-02, 6.19173050e-04, 8.45313072e-04],\n",
              "       [8.94069672e-04, 5.04183769e-03, 2.39932537e-03],\n",
              "       [6.97124004e-03, 7.22849369e-03, 4.32026386e-03],\n",
              "       [4.91714478e-03, 4.20677662e-03, 9.22656059e-03],\n",
              "       [3.60548496e-03, 2.66826153e-03, 1.76095963e-03],\n",
              "       [1.07967854e-03, 1.49011612e-05, 4.41908836e-04],\n",
              "       [3.45623493e-03, 7.22563267e-03, 3.93867493e-03],\n",
              "       [1.71232224e-03, 6.25145435e-03, 5.49507141e-03],\n",
              "       [4.76145744e-03, 8.62121582e-04, 1.07975006e-02],\n",
              "       [7.80713558e-03, 5.68938255e-03, 6.79636002e-03],\n",
              "       [2.80404091e-03, 1.53446198e-03, 1.33275986e-03],\n",
              "       [1.51991844e-03, 7.43389130e-04, 2.93016434e-04],\n",
              "       [2.66468525e-03, 1.07288361e-05, 2.52258778e-03],\n",
              "       [2.84159184e-03, 4.23216820e-03, 1.72865391e-03],\n",
              "       [3.47089767e-03, 1.05190277e-03, 7.29906559e-03],\n",
              "       [2.30598450e-03, 9.93561745e-03, 4.28009033e-03],\n",
              "       [1.34420395e-03, 3.14712524e-04, 3.44610214e-03],\n",
              "       [4.04095650e-03, 1.18542910e-02, 4.94086742e-03],\n",
              "       [1.83129311e-03, 2.55513191e-03, 2.80380249e-04],\n",
              "       [8.65817070e-03, 2.82549858e-03, 3.00168991e-04],\n",
              "       [1.47581100e-04, 1.06298923e-02, 1.92499161e-03],\n",
              "       [3.92282009e-03, 1.41739845e-04, 1.16608143e-02],\n",
              "       [4.06038761e-03, 1.67046785e-02, 4.10437584e-03],\n",
              "       [3.71348858e-03, 1.54662132e-03, 1.68490410e-03],\n",
              "       [3.19147110e-03, 7.66873360e-04, 4.52160835e-03],\n",
              "       [7.54559040e-03, 1.17647648e-03, 1.18049383e-02],\n",
              "       [6.45804405e-03, 4.16409969e-03, 4.04775143e-03],\n",
              "       [1.04777813e-02, 9.72640514e-03, 5.39374352e-03],\n",
              "       [3.09705734e-03, 7.39276409e-03, 7.29787350e-03],\n",
              "       [7.74574280e-03, 7.79891014e-03, 1.54420137e-02],\n",
              "       [6.37173653e-04, 2.83193588e-03, 9.52005386e-04],\n",
              "       [9.14573669e-04, 5.71238995e-03, 5.66983223e-03],\n",
              "       [1.49548054e-03, 1.90985203e-03, 9.54377651e-03],\n",
              "       [9.33051109e-04, 7.44998455e-03, 2.38418579e-06],\n",
              "       [2.85100937e-03, 5.42938709e-03, 1.14738941e-02],\n",
              "       [1.03809834e-02, 7.76171684e-03, 9.13381577e-04],\n",
              "       [6.63995743e-03, 2.46763229e-04, 1.70898438e-02],\n",
              "       [1.83355808e-03, 6.91640377e-03, 5.41043282e-03],\n",
              "       [1.54590607e-03, 3.52907181e-03, 2.24380493e-02],\n",
              "       [6.48379326e-04, 1.07896328e-03, 3.39150429e-04],\n",
              "       [1.15666389e-02, 1.13337040e-02, 1.78271532e-02],\n",
              "       [8.22424889e-04, 4.01258469e-03, 1.13129616e-04],\n",
              "       [6.14643097e-04, 4.81486320e-04, 1.84786320e-03],\n",
              "       [4.09066677e-03, 3.85487080e-03, 3.13353539e-03],\n",
              "       [5.84125519e-05, 2.87592411e-03, 7.08317757e-03],\n",
              "       [5.44679165e-03, 1.71911716e-03, 7.86221027e-03],\n",
              "       [4.51350212e-03, 9.70482826e-04, 1.09624863e-03],\n",
              "       [2.81798840e-03, 2.36034393e-03, 4.22108173e-03],\n",
              "       [4.42874432e-03, 3.54766846e-04, 1.48320198e-03],\n",
              "       [2.51090527e-03, 3.15523148e-03, 1.60620213e-02],\n",
              "       [1.14595890e-03, 3.36837769e-03, 2.81131268e-03],\n",
              "       [1.99520588e-03, 5.49554825e-04, 3.25691700e-03],\n",
              "       [1.22753382e-02, 2.12550163e-04, 1.99627876e-03],\n",
              "       [2.42972374e-03, 5.78594208e-03, 5.79237938e-03],\n",
              "       [6.88195229e-03, 2.58564949e-04, 2.95722485e-03],\n",
              "       [9.64879990e-04, 7.11905956e-03, 8.27431679e-04],\n",
              "       [5.73039055e-04, 4.92691994e-03, 2.36952305e-03],\n",
              "       [1.61850452e-03, 2.23875046e-03, 1.93524361e-03],\n",
              "       [6.64973259e-03, 1.94370747e-03, 6.84893131e-03],\n",
              "       [4.75525856e-04, 1.47531033e-02, 4.11689281e-03],\n",
              "       [1.19596720e-02, 3.13484669e-03, 8.34846497e-03],\n",
              "       [1.80912018e-03, 2.07936764e-03, 1.30571127e-02],\n",
              "       [2.24661827e-03, 5.51939011e-05, 7.82132149e-04],\n",
              "       [5.49829006e-03, 1.28722191e-03, 9.35292244e-03],\n",
              "       [2.86316872e-03, 1.03449821e-03, 7.83038139e-03],\n",
              "       [2.61614323e-02, 1.38407946e-02, 1.45994425e-02],\n",
              "       [1.36781931e-02, 1.21234655e-02, 1.71520710e-02],\n",
              "       [8.42320919e-03, 4.76360321e-04, 4.73320484e-03],\n",
              "       [2.24626064e-03, 1.88243389e-03, 2.07889080e-03],\n",
              "       [2.86567211e-03, 2.30824947e-03, 2.54285336e-03],\n",
              "       [2.06196308e-03, 5.29909134e-03, 7.25984573e-04],\n",
              "       [9.93561745e-03, 1.10274553e-02, 4.00900841e-04],\n",
              "       [2.00414658e-03, 2.40528584e-03, 9.65726376e-03],\n",
              "       [8.66413116e-04, 3.32248211e-03, 1.05917454e-03],\n",
              "       [5.37788868e-03, 2.16150284e-03, 1.37459040e-02],\n",
              "       [5.16653061e-03, 2.40552425e-03, 1.33049488e-03],\n",
              "       [4.30488586e-03, 1.04783773e-02, 1.24025345e-03],\n",
              "       [1.10203028e-02, 4.38117981e-03, 2.36344337e-02],\n",
              "       [1.06763840e-03, 3.06439400e-03, 2.44772434e-03],\n",
              "       [8.98957253e-04, 1.79688931e-02, 5.07879257e-03],\n",
              "       [1.70719624e-03, 5.71012497e-05, 3.17764282e-03],\n",
              "       [5.00202179e-03, 7.77125359e-03, 1.22122765e-02],\n",
              "       [1.02519989e-04, 2.81751156e-03, 7.27486610e-03],\n",
              "       [3.56388092e-03, 4.42814827e-03, 8.57830048e-04],\n",
              "       [7.21216202e-05, 2.59912014e-03, 4.17327881e-03],\n",
              "       [3.12650204e-03, 1.49979591e-02, 3.09824944e-03],\n",
              "       [1.01487637e-02, 7.09056854e-03, 9.09209251e-04],\n",
              "       [7.51554966e-03, 8.55576992e-03, 9.63330269e-03],\n",
              "       [9.57691669e-03, 1.30543709e-02, 3.86679173e-03],\n",
              "       [4.31382656e-03, 1.76048279e-03, 2.90238857e-03],\n",
              "       [3.99816036e-03, 9.84907150e-04, 7.57730007e-03],\n",
              "       [2.99215317e-05, 1.33061409e-03, 3.64112854e-03],\n",
              "       [2.91109085e-04, 1.32242441e-02, 2.57313251e-03],\n",
              "       [5.47122955e-03, 1.25646591e-03, 6.83999062e-03],\n",
              "       [9.06825066e-04, 4.36007977e-03, 2.38418579e-07],\n",
              "       [9.26136971e-04, 1.91199780e-03, 1.19030476e-03],\n",
              "       [5.03027439e-03, 6.44207001e-04, 3.05306911e-03],\n",
              "       [1.60272121e-02, 1.62303448e-03, 5.50329685e-03],\n",
              "       [2.15101242e-03, 3.53717804e-03, 6.90221786e-04],\n",
              "       [3.84056568e-03, 7.67087936e-03, 9.16755199e-03],\n",
              "       [4.09293175e-03, 7.19296932e-03, 2.67505646e-04],\n",
              "       [5.26547432e-04, 1.49830580e-02, 6.10589981e-03],\n",
              "       [1.00898743e-03, 3.48818302e-03, 1.57316923e-02],\n",
              "       [7.35759735e-03, 8.39829445e-03, 3.00312042e-03],\n",
              "       [3.45110893e-04, 3.80277634e-04, 9.17315483e-04],\n",
              "       [2.18737125e-03, 2.06005573e-03, 5.14864922e-04],\n",
              "       [8.79406929e-04, 3.52597237e-03, 1.25849247e-03],\n",
              "       [6.79492950e-06, 1.24398470e-02, 3.47971916e-04],\n",
              "       [1.06019974e-02, 5.27071953e-03, 2.77161598e-04],\n",
              "       [1.38092041e-03, 5.01823425e-03, 1.86084509e-02],\n",
              "       [2.15315819e-03, 3.62598896e-03, 1.98161602e-03],\n",
              "       [6.15775585e-03, 4.31048870e-03, 2.54547596e-03],\n",
              "       [6.13093376e-04, 3.82757187e-03, 3.31759453e-04],\n",
              "       [7.58290291e-03, 2.15327740e-03, 1.46200657e-02],\n",
              "       [4.61339951e-04, 2.06828117e-03, 8.58008862e-03],\n",
              "       [9.47594643e-03, 3.49283218e-05, 3.03065777e-03],\n",
              "       [4.50849533e-04, 1.67763233e-03, 1.47616863e-03],\n",
              "       [6.07609749e-04, 1.39955282e-02, 4.86338139e-03],\n",
              "       [3.97086143e-04, 4.90295887e-03, 1.48105621e-03],\n",
              "       [6.97839260e-03, 5.79392910e-03, 1.00798607e-02],\n",
              "       [3.62467766e-03, 9.50539112e-03, 5.67197800e-04],\n",
              "       [6.39355183e-03, 1.06163025e-02, 3.15201283e-03],\n",
              "       [4.00280952e-03, 5.72991371e-03, 1.42431259e-03],\n",
              "       [2.55489349e-03, 1.34503841e-03, 2.60150433e-03]], dtype=float32)>"
            ]
          },
          "metadata": {},
          "execution_count": 144
        }
      ]
    },
    {
      "cell_type": "code",
      "source": [
        "# 8.\n",
        "tf.random.set_seed(29)\n",
        "k=tf.random.uniform(maxval=5,shape=(1,224,224,3),seed=5)"
      ],
      "metadata": {
        "id": "NUwjMV_5Wjsx"
      },
      "execution_count": null,
      "outputs": []
    },
    {
      "cell_type": "code",
      "source": [
        "tf.squeeze(k)"
      ],
      "metadata": {
        "colab": {
          "base_uri": "https://localhost:8080/"
        },
        "id": "qKYhaxZVXfOz",
        "outputId": "438d654b-2592-4ce1-8eae-576d8c53f451"
      },
      "execution_count": null,
      "outputs": [
        {
          "output_type": "execute_result",
          "data": {
            "text/plain": [
              "<tf.Tensor: shape=(224, 224, 3), dtype=float32, numpy=\n",
              "array([[[1.4021009 , 1.8675518 , 1.5603298 ],\n",
              "        [0.09304941, 2.3895252 , 3.9792376 ],\n",
              "        [1.4920115 , 4.8368244 , 4.783265  ],\n",
              "        ...,\n",
              "        [3.8914852 , 4.2835016 , 0.18297315],\n",
              "        [0.29164493, 2.1747541 , 4.42418   ],\n",
              "        [2.644087  , 3.4301102 , 1.6405797 ]],\n",
              "\n",
              "       [[2.2442217 , 3.3641057 , 3.6955488 ],\n",
              "        [4.2341833 , 4.0697374 , 1.2494171 ],\n",
              "        [4.074918  , 0.65579116, 2.2132015 ],\n",
              "        ...,\n",
              "        [1.6810381 , 4.8352575 , 1.0307878 ],\n",
              "        [4.089391  , 0.74312925, 3.877151  ],\n",
              "        [1.5994054 , 1.5617597 , 3.538745  ]],\n",
              "\n",
              "       [[0.87142944, 3.9099956 , 4.300552  ],\n",
              "        [0.9679508 , 0.6646091 , 1.994552  ],\n",
              "        [0.58356464, 3.5265775 , 1.5822071 ],\n",
              "        ...,\n",
              "        [0.8082652 , 0.03650308, 4.3051105 ],\n",
              "        [0.01499653, 2.9171033 , 0.06836355],\n",
              "        [2.925424  , 3.2992463 , 2.007956  ]],\n",
              "\n",
              "       ...,\n",
              "\n",
              "       [[1.1992943 , 0.16962767, 0.01576006],\n",
              "        [1.1302    , 4.56438   , 0.46879768],\n",
              "        [4.3520026 , 3.268526  , 2.156924  ],\n",
              "        ...,\n",
              "        [3.683886  , 0.74048936, 3.394618  ],\n",
              "        [2.269063  , 4.0763946 , 2.9468746 ],\n",
              "        [1.0677522 , 1.9942677 , 2.3604612 ]],\n",
              "\n",
              "       [[2.8382814 , 0.7049906 , 3.3455367 ],\n",
              "        [3.4346719 , 0.1458323 , 3.7660937 ],\n",
              "        [3.4140062 , 2.746768  , 3.4628618 ],\n",
              "        ...,\n",
              "        [2.4529946 , 0.06133318, 1.4482927 ],\n",
              "        [2.0263422 , 4.34974   , 2.2380626 ],\n",
              "        [3.331287  , 1.6445816 , 4.344756  ]],\n",
              "\n",
              "       [[4.071517  , 2.2787428 , 2.5234847 ],\n",
              "        [3.4637356 , 3.8853264 , 2.304172  ],\n",
              "        [0.0880295 , 1.814971  , 1.3041431 ],\n",
              "        ...,\n",
              "        [3.3807082 , 0.03183067, 2.9057531 ],\n",
              "        [4.2997365 , 0.9405315 , 0.3104484 ],\n",
              "        [0.15711844, 3.7400627 , 3.7339492 ]]], dtype=float32)>"
            ]
          },
          "metadata": {},
          "execution_count": 146
        }
      ]
    },
    {
      "cell_type": "code",
      "source": [
        "m=tf.random.uniform(maxval=10,shape=[10],dtype=tf.int32)\n",
        "m"
      ],
      "metadata": {
        "colab": {
          "base_uri": "https://localhost:8080/"
        },
        "id": "uG3BdjgRXvtW",
        "outputId": "7acfc85a-8a1d-4d94-8b4c-d4042626f41b"
      },
      "execution_count": null,
      "outputs": [
        {
          "output_type": "execute_result",
          "data": {
            "text/plain": [
              "<tf.Tensor: shape=(10,), dtype=int32, numpy=array([0, 2, 7, 1, 6, 9, 0, 6, 7, 7], dtype=int32)>"
            ]
          },
          "metadata": {},
          "execution_count": 147
        }
      ]
    },
    {
      "cell_type": "code",
      "source": [
        "m[tf.argmax(m)]"
      ],
      "metadata": {
        "colab": {
          "base_uri": "https://localhost:8080/"
        },
        "id": "mgAF3MccXwK0",
        "outputId": "073766d6-d1be-4d7b-e020-ad30e9b62208"
      },
      "execution_count": null,
      "outputs": [
        {
          "output_type": "execute_result",
          "data": {
            "text/plain": [
              "<tf.Tensor: shape=(), dtype=int32, numpy=9>"
            ]
          },
          "metadata": {},
          "execution_count": 148
        }
      ]
    },
    {
      "cell_type": "code",
      "source": [
        "tf.one_hot(m,depth=10)"
      ],
      "metadata": {
        "colab": {
          "base_uri": "https://localhost:8080/"
        },
        "id": "l0ydtFvAY0cy",
        "outputId": "f5bd92d0-b045-45d6-9f19-f7a3d3f25ca8"
      },
      "execution_count": null,
      "outputs": [
        {
          "output_type": "execute_result",
          "data": {
            "text/plain": [
              "<tf.Tensor: shape=(10, 10), dtype=float32, numpy=\n",
              "array([[1., 0., 0., 0., 0., 0., 0., 0., 0., 0.],\n",
              "       [0., 0., 1., 0., 0., 0., 0., 0., 0., 0.],\n",
              "       [0., 0., 0., 0., 0., 0., 0., 1., 0., 0.],\n",
              "       [0., 1., 0., 0., 0., 0., 0., 0., 0., 0.],\n",
              "       [0., 0., 0., 0., 0., 0., 1., 0., 0., 0.],\n",
              "       [0., 0., 0., 0., 0., 0., 0., 0., 0., 1.],\n",
              "       [1., 0., 0., 0., 0., 0., 0., 0., 0., 0.],\n",
              "       [0., 0., 0., 0., 0., 0., 1., 0., 0., 0.],\n",
              "       [0., 0., 0., 0., 0., 0., 0., 1., 0., 0.],\n",
              "       [0., 0., 0., 0., 0., 0., 0., 1., 0., 0.]], dtype=float32)>"
            ]
          },
          "metadata": {},
          "execution_count": 149
        }
      ]
    },
    {
      "cell_type": "code",
      "source": [
        "tf.constant(m,shape=(2,5))"
      ],
      "metadata": {
        "colab": {
          "base_uri": "https://localhost:8080/"
        },
        "id": "XmTRq6Fmc59j",
        "outputId": "0452777c-6842-463a-ef89-1f2dbb192298"
      },
      "execution_count": null,
      "outputs": [
        {
          "output_type": "execute_result",
          "data": {
            "text/plain": [
              "<tf.Tensor: shape=(2, 5), dtype=int32, numpy=\n",
              "array([[0, 2, 7, 1, 6],\n",
              "       [9, 0, 6, 7, 7]], dtype=int32)>"
            ]
          },
          "metadata": {},
          "execution_count": 150
        }
      ]
    },
    {
      "cell_type": "code",
      "source": [
        "lg=tf.random.uniform(minval=2,maxval=50,shape=(4,5),dtype=tf.float32)\n",
        "lg"
      ],
      "metadata": {
        "colab": {
          "base_uri": "https://localhost:8080/"
        },
        "id": "b-3vaoVRdF1a",
        "outputId": "72eb43d9-ccf9-4b38-9fb0-c63dd24460f2"
      },
      "execution_count": null,
      "outputs": [
        {
          "output_type": "execute_result",
          "data": {
            "text/plain": [
              "<tf.Tensor: shape=(4, 5), dtype=float32, numpy=\n",
              "array([[27.800293,  5.90576 , 36.361595,  9.458206, 28.51223 ],\n",
              "       [24.542377, 37.44001 , 11.845106, 15.251904, 15.23428 ],\n",
              "       [20.733606, 21.383923, 34.907066, 38.752346, 38.925186],\n",
              "       [43.934692, 12.453445, 41.465004, 40.94112 , 40.482018]],\n",
              "      dtype=float32)>"
            ]
          },
          "metadata": {},
          "execution_count": 151
        }
      ]
    },
    {
      "cell_type": "code",
      "source": [
        "lg=tf.math.log(lg)\n",
        "lg"
      ],
      "metadata": {
        "colab": {
          "base_uri": "https://localhost:8080/"
        },
        "id": "5uQMUo2teGmW",
        "outputId": "6e5ad9c6-0298-4cba-adde-cd33737a62b1"
      },
      "execution_count": null,
      "outputs": [
        {
          "output_type": "execute_result",
          "data": {
            "text/plain": [
              "<tf.Tensor: shape=(4, 5), dtype=float32, numpy=\n",
              "array([[3.3250465, 1.7759281, 3.5935133, 2.2468827, 3.3503332],\n",
              "       [3.2004013, 3.62274  , 2.4719148, 2.7247043, 2.7235482],\n",
              "       [3.031756 , 3.0626392, 3.5526893, 3.6571913, 3.6616416],\n",
              "       [3.7827044, 2.5219972, 3.7248497, 3.7121348, 3.7008579]],\n",
              "      dtype=float32)>"
            ]
          },
          "metadata": {},
          "execution_count": 152
        }
      ]
    },
    {
      "cell_type": "code",
      "source": [
        "lg=tf.math.exp(lg)\n",
        "lg"
      ],
      "metadata": {
        "colab": {
          "base_uri": "https://localhost:8080/"
        },
        "id": "u4ofc6OkeYPn",
        "outputId": "63352f9d-d70a-40ee-ed6b-523c976d8b02"
      },
      "execution_count": null,
      "outputs": [
        {
          "output_type": "execute_result",
          "data": {
            "text/plain": [
              "<tf.Tensor: shape=(4, 5), dtype=float32, numpy=\n",
              "array([[27.800293 ,  5.90576  , 36.3616   ,  9.458205 , 28.512232 ],\n",
              "       [24.542377 , 37.440014 , 11.845106 , 15.251903 , 15.234281 ],\n",
              "       [20.733606 , 21.38392  , 34.907066 , 38.752346 , 38.92519  ],\n",
              "       [43.934696 , 12.4534445, 41.465    , 40.941116 , 40.482018 ]],\n",
              "      dtype=float32)>"
            ]
          },
          "metadata": {},
          "execution_count": 153
        }
      ]
    },
    {
      "cell_type": "code",
      "source": [
        "tf.reduce_mean(lg,axis=0)"
      ],
      "metadata": {
        "colab": {
          "base_uri": "https://localhost:8080/"
        },
        "id": "_kpUHMQzedZI",
        "outputId": "dbc26b5b-2cde-4cdb-d8a2-e87855747a78"
      },
      "execution_count": null,
      "outputs": [
        {
          "output_type": "execute_result",
          "data": {
            "text/plain": [
              "<tf.Tensor: shape=(5,), dtype=float32, numpy=\n",
              "array([29.252743, 19.295784, 31.144691, 26.100893, 30.788431],\n",
              "      dtype=float32)>"
            ]
          },
          "metadata": {},
          "execution_count": 154
        }
      ]
    },
    {
      "cell_type": "markdown",
      "source": [
        "## Tensorflow Beginners function\n",
        "Load data\n",
        "\n",
        "Built NN\n",
        "\n",
        "Train NN\n",
        "\n",
        "Evaluate Accuracy"
      ],
      "metadata": {
        "id": "W2nfvGe8fEKu"
      }
    },
    {
      "cell_type": "code",
      "source": [
        "mnist=tf.keras.datasets.mnist\n",
        "(X_train,y_train),(X_test,y_test)=mnist.load_data()"
      ],
      "metadata": {
        "colab": {
          "base_uri": "https://localhost:8080/"
        },
        "id": "EBiVbzNDffCH",
        "outputId": "48b1fcc3-a9a1-4180-bd23-632ec5cab033"
      },
      "execution_count": null,
      "outputs": [
        {
          "output_type": "stream",
          "name": "stdout",
          "text": [
            "Downloading data from https://storage.googleapis.com/tensorflow/tf-keras-datasets/mnist.npz\n",
            "11490434/11490434 [==============================] - 1s 0us/step\n"
          ]
        }
      ]
    },
    {
      "cell_type": "code",
      "source": [
        "# Scaling neural network\n",
        "X_train,X_test=X_train/255.0,X_test/255.0"
      ],
      "metadata": {
        "id": "6oJNIWdMgd6C"
      },
      "execution_count": null,
      "outputs": []
    },
    {
      "cell_type": "code",
      "source": [
        "# Creating neuaral network\n",
        "\n",
        "model=tf.keras.Sequential([\n",
        "    tf.keras.layers.Flatten(input_shape=(28,28)),\n",
        "    tf.keras.layers.Dense(128,activation='relu'),\n",
        "    tf.keras.layers.Dropout(0.2),\n",
        "    tf.keras.layers.Dense(10)\n",
        "])"
      ],
      "metadata": {
        "id": "3VT5A24ai9Ao"
      },
      "execution_count": null,
      "outputs": []
    },
    {
      "cell_type": "code",
      "source": [
        "# Choose loss funciton \n",
        "loss_fn = tf.keras.losses.SparseCategoricalCrossentropy(from_logits=True)"
      ],
      "metadata": {
        "id": "jBpmWhZXi9Qf"
      },
      "execution_count": null,
      "outputs": []
    },
    {
      "cell_type": "code",
      "source": [
        "# Choose optimizer\n",
        "model.compile(optimizer='adam',loss=loss_fn,metrics=['accuracy'])"
      ],
      "metadata": {
        "id": "_POq6bsykmVl"
      },
      "execution_count": null,
      "outputs": []
    },
    {
      "cell_type": "code",
      "source": [
        "model.fit(X_train,y_train,epochs=10)"
      ],
      "metadata": {
        "colab": {
          "base_uri": "https://localhost:8080/"
        },
        "id": "eVAMNjDli9en",
        "outputId": "917625dc-5644-4e33-aab8-c94ea7de77d6"
      },
      "execution_count": null,
      "outputs": [
        {
          "output_type": "stream",
          "name": "stdout",
          "text": [
            "Epoch 1/10\n",
            "1875/1875 [==============================] - 6s 3ms/step - loss: 0.2981 - accuracy: 0.9126\n",
            "Epoch 2/10\n",
            "1875/1875 [==============================] - 9s 5ms/step - loss: 0.1468 - accuracy: 0.9567\n",
            "Epoch 3/10\n",
            "1875/1875 [==============================] - 9s 5ms/step - loss: 0.1105 - accuracy: 0.9663\n",
            "Epoch 4/10\n",
            "1875/1875 [==============================] - 6s 3ms/step - loss: 0.0905 - accuracy: 0.9724\n",
            "Epoch 5/10\n",
            "1875/1875 [==============================] - 5s 3ms/step - loss: 0.0789 - accuracy: 0.9754\n",
            "Epoch 6/10\n",
            "1875/1875 [==============================] - 5s 3ms/step - loss: 0.0673 - accuracy: 0.9788\n",
            "Epoch 7/10\n",
            "1875/1875 [==============================] - 5s 3ms/step - loss: 0.0612 - accuracy: 0.9807\n",
            "Epoch 8/10\n",
            "1875/1875 [==============================] - 5s 3ms/step - loss: 0.0535 - accuracy: 0.9832\n",
            "Epoch 9/10\n",
            "1875/1875 [==============================] - 5s 3ms/step - loss: 0.0497 - accuracy: 0.9834\n",
            "Epoch 10/10\n",
            "1875/1875 [==============================] - 5s 3ms/step - loss: 0.0460 - accuracy: 0.9849\n"
          ]
        },
        {
          "output_type": "execute_result",
          "data": {
            "text/plain": [
              "<keras.callbacks.History at 0x7f8a1e7fcbe0>"
            ]
          },
          "metadata": {},
          "execution_count": 160
        }
      ]
    },
    {
      "cell_type": "code",
      "source": [
        "model.evaluate(X_test,y_test,verbose=2)"
      ],
      "metadata": {
        "colab": {
          "base_uri": "https://localhost:8080/"
        },
        "id": "-NuVsoSEi9wb",
        "outputId": "bdb805d7-6611-4d4f-cd07-1f3d62830fb8"
      },
      "execution_count": null,
      "outputs": [
        {
          "output_type": "stream",
          "name": "stdout",
          "text": [
            "313/313 - 1s - loss: 0.0709 - accuracy: 0.9790 - 601ms/epoch - 2ms/step\n"
          ]
        },
        {
          "output_type": "execute_result",
          "data": {
            "text/plain": [
              "[0.07088503241539001, 0.9789999723434448]"
            ]
          },
          "metadata": {},
          "execution_count": 161
        }
      ]
    },
    {
      "cell_type": "code",
      "source": [
        "#Gives us probability of belonging to each category\n",
        "probabilty_model=tf.keras.Sequential([\n",
        "    model,\n",
        "    tf.keras.layers.Softmax()\n",
        "])"
      ],
      "metadata": {
        "id": "YsbNRAUMmopH"
      },
      "execution_count": null,
      "outputs": []
    },
    {
      "cell_type": "code",
      "source": [
        "# Gives us what category do image belong to\n",
        "tf.argmax(probabilty_model(X_test[:10]),axis=1)"
      ],
      "metadata": {
        "colab": {
          "base_uri": "https://localhost:8080/"
        },
        "id": "U6uhxsJtm9jI",
        "outputId": "f0f390f4-a2aa-4686-d48f-76d214e9260f"
      },
      "execution_count": null,
      "outputs": [
        {
          "output_type": "execute_result",
          "data": {
            "text/plain": [
              "<tf.Tensor: shape=(10,), dtype=int64, numpy=array([7, 2, 1, 0, 4, 1, 4, 9, 5, 9])>"
            ]
          },
          "metadata": {},
          "execution_count": 165
        }
      ]
    },
    {
      "cell_type": "code",
      "source": [
        "y_test[:10]"
      ],
      "metadata": {
        "colab": {
          "base_uri": "https://localhost:8080/"
        },
        "id": "SEXhLvBCnbg6",
        "outputId": "2616a27f-cca1-4878-8272-de115bfc8f0d"
      },
      "execution_count": null,
      "outputs": [
        {
          "output_type": "execute_result",
          "data": {
            "text/plain": [
              "array([7, 2, 1, 0, 4, 1, 4, 9, 5, 9], dtype=uint8)"
            ]
          },
          "metadata": {},
          "execution_count": 164
        }
      ]
    }
  ]
}