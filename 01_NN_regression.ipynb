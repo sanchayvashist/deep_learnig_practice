{
  "nbformat": 4,
  "nbformat_minor": 0,
  "metadata": {
    "colab": {
      "provenance": []
    },
    "kernelspec": {
      "name": "python3",
      "display_name": "Python 3"
    },
    "language_info": {
      "name": "python"
    }
  },
  "cells": [
    {
      "cell_type": "markdown",
      "source": [
        "## Neural Network with Regresssion\n",
        "\n",
        "> Arichitecture of NN\n",
        "\n",
        "> Input and Ouput Shape\n",
        "\n",
        "> Create Custom data\n",
        "\n",
        "> Steps in modeling\n",
        "\n",
        "> Different evaluation model\n",
        "\n",
        "> Saving and loading model"
      ],
      "metadata": {
        "id": "ndgwR0ct8Zz-"
      }
    },
    {
      "cell_type": "markdown",
      "source": [
        "In regresssion problem we try to find relationship of one or more dependent variable with independent variables\n",
        "> Predicting a number"
      ],
      "metadata": {
        "id": "1VO42tPu8jOA"
      }
    },
    {
      "cell_type": "code",
      "source": [
        "# Import tensorflow\n",
        "import tensorflow as tf\n",
        "print(tf.__version__)"
      ],
      "metadata": {
        "colab": {
          "base_uri": "https://localhost:8080/"
        },
        "id": "Q1mbxeUT8qgU",
        "outputId": "ed8a7a6c-2f70-4772-d85d-e78389d5b74d"
      },
      "execution_count": null,
      "outputs": [
        {
          "output_type": "stream",
          "name": "stdout",
          "text": [
            "2.9.2\n"
          ]
        }
      ]
    },
    {
      "cell_type": "markdown",
      "source": [
        "#### Create data to view and fit"
      ],
      "metadata": {
        "id": "d7DZn7iQ8qrw"
      }
    },
    {
      "cell_type": "code",
      "source": [
        "import numpy as np \n",
        "import matplotlib.pyplot as plt\n",
        "\n",
        "#Create feature \n",
        "X=np.arange(-7.0,14.1,step=3)\n",
        "#Create labels \n",
        "y=np.arange(3.0,24.1,step=3)\n",
        "\n",
        "#Visualize it\n",
        "plt.scatter(X,y)"
      ],
      "metadata": {
        "colab": {
          "base_uri": "https://localhost:8080/",
          "height": 286
        },
        "id": "eEkpGEQO8rA0",
        "outputId": "52f81d99-b488-481e-ea86-cf7c29e0967f"
      },
      "execution_count": null,
      "outputs": [
        {
          "output_type": "execute_result",
          "data": {
            "text/plain": [
              "<matplotlib.collections.PathCollection at 0x7f947e029fa0>"
            ]
          },
          "metadata": {},
          "execution_count": 2
        },
        {
          "output_type": "display_data",
          "data": {
            "text/plain": [
              "<Figure size 432x288 with 1 Axes>"
            ],
            "image/png": "[encoded data removed]"
          },
          "metadata": {
            "needs_background": "light"
          }
        }
      ]
    },
    {
      "cell_type": "code",
      "source": [
        "y==X+10"
      ],
      "metadata": {
        "colab": {
          "base_uri": "https://localhost:8080/"
        },
        "id": "v8H4p_nL8rnq",
        "outputId": "c8d80aaf-b7ff-41ec-94fe-6a10a08f6495"
      },
      "execution_count": null,
      "outputs": [
        {
          "output_type": "execute_result",
          "data": {
            "text/plain": [
              "array([ True,  True,  True,  True,  True,  True,  True,  True])"
            ]
          },
          "metadata": {},
          "execution_count": 3
        }
      ]
    },
    {
      "cell_type": "markdown",
      "source": [
        "## Input and Output Shape"
      ],
      "metadata": {
        "id": "Ltpd-anu9cYW"
      }
    },
    {
      "cell_type": "code",
      "source": [
        "# Create a demo tensor for out house price prediction problem \n",
        "house_info=tf.constant(['bedroom','bathroom','garage'])\n",
        "house_price=tf.constant([923042])\n",
        "house_info,house_price"
      ],
      "metadata": {
        "colab": {
          "base_uri": "https://localhost:8080/"
        },
        "id": "YRux0aIy-KzZ",
        "outputId": "5b822d51-16f7-48e3-d742-c90fba067379"
      },
      "execution_count": null,
      "outputs": [
        {
          "output_type": "execute_result",
          "data": {
            "text/plain": [
              "(<tf.Tensor: shape=(3,), dtype=string, numpy=array([b'bedroom', b'bathroom', b'garage'], dtype=object)>,\n",
              " <tf.Tensor: shape=(1,), dtype=int32, numpy=array([923042], dtype=int32)>)"
            ]
          },
          "metadata": {},
          "execution_count": 4
        }
      ]
    },
    {
      "cell_type": "code",
      "source": [
        "# O-rank or scalar tensor we have no shape\n",
        "X[0],y[0]"
      ],
      "metadata": {
        "colab": {
          "base_uri": "https://localhost:8080/"
        },
        "id": "_dSCm-8e-LWg",
        "outputId": "7fcf844e-fd2d-411d-beb3-fafc115f91a7"
      },
      "execution_count": null,
      "outputs": [
        {
          "output_type": "execute_result",
          "data": {
            "text/plain": [
              "(-7.0, 3.0)"
            ]
          },
          "metadata": {},
          "execution_count": 5
        }
      ]
    },
    {
      "cell_type": "code",
      "source": [
        " X=tf.constant(X)\n",
        " y=tf.constant(y)\n",
        " X,y"
      ],
      "metadata": {
        "colab": {
          "base_uri": "https://localhost:8080/"
        },
        "id": "Uxj6USNI_DaM",
        "outputId": "9ef3dedf-feec-49a7-9286-82569c9f254c"
      },
      "execution_count": null,
      "outputs": [
        {
          "output_type": "execute_result",
          "data": {
            "text/plain": [
              "(<tf.Tensor: shape=(8,), dtype=float64, numpy=array([-7., -4., -1.,  2.,  5.,  8., 11., 14.])>,\n",
              " <tf.Tensor: shape=(8,), dtype=float64, numpy=array([ 3.,  6.,  9., 12., 15., 18., 21., 24.])>)"
            ]
          },
          "metadata": {},
          "execution_count": 6
        }
      ]
    },
    {
      "cell_type": "code",
      "source": [
        "X.ndim"
      ],
      "metadata": {
        "colab": {
          "base_uri": "https://localhost:8080/"
        },
        "id": "RcraJRSkFvg2",
        "outputId": "c925d73f-5c1c-4679-c887-da55e61cf411"
      },
      "execution_count": null,
      "outputs": [
        {
          "output_type": "execute_result",
          "data": {
            "text/plain": [
              "1"
            ]
          },
          "metadata": {},
          "execution_count": 7
        }
      ]
    },
    {
      "cell_type": "code",
      "source": [
        " plt.scatter(X,y)"
      ],
      "metadata": {
        "colab": {
          "base_uri": "https://localhost:8080/",
          "height": 286
        },
        "id": "Iq3NIAZ4_ECH",
        "outputId": "3aa6d06d-6eb5-46b2-ad2d-7d66e3987fb8"
      },
      "execution_count": null,
      "outputs": [
        {
          "output_type": "execute_result",
          "data": {
            "text/plain": [
              "<matplotlib.collections.PathCollection at 0x7f9479e27790>"
            ]
          },
          "metadata": {},
          "execution_count": 8
        },
        {
          "output_type": "display_data",
          "data": {
            "text/plain": [
              "<Figure size 432x288 with 1 Axes>"
            ],
            "image/png": "[encoded data removed]"
          },
          "metadata": {
            "needs_background": "light"
          }
        }
      ]
    },
    {
      "cell_type": "markdown",
      "source": [
        "### Steps in modelling with Tf\n",
        "1. Creating a model=input + hidden + output layer\n",
        "2. Compiing a model=loss function + optimizer\n",
        "3. Fitting a model"
      ],
      "metadata": {
        "id": "E7dnLRHuAPIH"
      }
    },
    {
      "cell_type": "markdown",
      "source": [
        "**Alternative**\n",
        "\n",
        "model=tf.keras.Sequential()\n",
        "\n",
        "model.add(tf.kearas.layers.Dense(1))"
      ],
      "metadata": {
        "id": "FN1hUzBQDaGP"
      }
    },
    {
      "cell_type": "code",
      "source": [
        "# Set random seed\n",
        "tf.random.set_seed(42)\n",
        "\n",
        "model=tf.keras.Sequential([\n",
        "  tf.keras.layers.Dense(1,activation='relu'),\n",
        "\n",
        "])\n",
        "\n",
        "model.compile(loss=tf.keras.losses.mae,\n",
        "              optimizer=tf.keras.optimizers.SGD(), # can alse write \"sgd\"\n",
        "              metrics=[\"mae\"])\n",
        "\n",
        "model.fit(tf.expand_dims(X,axis=-1),y,epochs=5)"
      ],
      "metadata": {
        "colab": {
          "base_uri": "https://localhost:8080/"
        },
        "id": "h4mxbWWzAPpW",
        "outputId": "1ae3ab5d-45ed-4530-aaa2-22622f16abc5"
      },
      "execution_count": null,
      "outputs": [
        {
          "output_type": "stream",
          "name": "stdout",
          "text": [
            "Epoch 1/5\n",
            "1/1 [==============================] - 0s 324ms/step - loss: 10.6497 - mae: 10.6497\n",
            "Epoch 2/5\n",
            "1/1 [==============================] - 0s 8ms/step - loss: 10.3958 - mae: 10.3958\n",
            "Epoch 3/5\n",
            "1/1 [==============================] - 0s 10ms/step - loss: 10.1419 - mae: 10.1419\n",
            "Epoch 4/5\n",
            "1/1 [==============================] - 0s 7ms/step - loss: 9.8880 - mae: 9.8880\n",
            "Epoch 5/5\n",
            "1/1 [==============================] - 0s 5ms/step - loss: 9.6341 - mae: 9.6341\n"
          ]
        },
        {
          "output_type": "execute_result",
          "data": {
            "text/plain": [
              "<keras.callbacks.History at 0x7f94794b07c0>"
            ]
          },
          "metadata": {},
          "execution_count": 9
        }
      ]
    },
    {
      "cell_type": "code",
      "source": [
        "## Checkout\n",
        "X,y"
      ],
      "metadata": {
        "colab": {
          "base_uri": "https://localhost:8080/"
        },
        "id": "UUX8mRP3_BAK",
        "outputId": "8dcbc505-2fe4-4f91-80e0-37e40b33db37"
      },
      "execution_count": null,
      "outputs": [
        {
          "output_type": "execute_result",
          "data": {
            "text/plain": [
              "(<tf.Tensor: shape=(8,), dtype=float64, numpy=array([-7., -4., -1.,  2.,  5.,  8., 11., 14.])>,\n",
              " <tf.Tensor: shape=(8,), dtype=float64, numpy=array([ 3.,  6.,  9., 12., 15., 18., 21., 24.])>)"
            ]
          },
          "metadata": {},
          "execution_count": 10
        }
      ]
    },
    {
      "cell_type": "code",
      "source": [
        "# Try and make prediciton using our model\n",
        "y_pred=model.predict([17.0])"
      ],
      "metadata": {
        "colab": {
          "base_uri": "https://localhost:8080/"
        },
        "id": "XSoqAk1uH2q_",
        "outputId": "c510f736-8c6f-4e60-ec23-ec0ffb42a229"
      },
      "execution_count": null,
      "outputs": [
        {
          "output_type": "stream",
          "name": "stdout",
          "text": [
            "1/1 [==============================] - 0s 96ms/step\n"
          ]
        }
      ]
    },
    {
      "cell_type": "code",
      "source": [
        "y_pred+11"
      ],
      "metadata": {
        "colab": {
          "base_uri": "https://localhost:8080/"
        },
        "id": "hhnmtgcEH3uv",
        "outputId": "dcd69dc4-48d8-49da-d2ca-577e312b57ec"
      },
      "execution_count": null,
      "outputs": [
        {
          "output_type": "execute_result",
          "data": {
            "text/plain": [
              "array([[24.97227]], dtype=float32)"
            ]
          },
          "metadata": {},
          "execution_count": 12
        }
      ]
    },
    {
      "cell_type": "markdown",
      "source": [
        " # Improve our model\n",
        " > We can improve our model mby altering the steps we took to create a model\n",
        " 1. **Create a model** - We might add more layers or neurons, change activation function\n",
        " 2. **Compiling a model** - Change optimazition or **learning rate**\n",
        " 3. **Fitiing a model** - no. of epoches,increase data"
      ],
      "metadata": {
        "id": "myaSM6I9IQ73"
      }
    },
    {
      "cell_type": "code",
      "source": [
        "model=tf.keras.Sequential()\n",
        "model.add(tf.keras.layers.Dense(1))\n",
        "model.compile(loss=tf.keras.losses.mae,\n",
        "              optimizer=tf.keras.optimizers.SGD(),\n",
        "              metrics=[\"mae\"])\n",
        "model.fit(tf.expand_dims(X,axis=-1),y,epochs=100)"
      ],
      "metadata": {
        "colab": {
          "base_uri": "https://localhost:8080/"
        },
        "id": "YgjT47CrIRxS",
        "outputId": "1265cb67-d9ec-4b1c-9d9b-50f353504336"
      },
      "execution_count": null,
      "outputs": [
        {
          "output_type": "stream",
          "name": "stdout",
          "text": [
            "Epoch 1/100\n",
            "1/1 [==============================] - 0s 282ms/step - loss: 11.2219 - mae: 11.2219\n",
            "Epoch 2/100\n",
            "1/1 [==============================] - 0s 7ms/step - loss: 11.0894 - mae: 11.0894\n",
            "Epoch 3/100\n",
            "1/1 [==============================] - 0s 9ms/step - loss: 10.9569 - mae: 10.9569\n",
            "Epoch 4/100\n",
            "1/1 [==============================] - 0s 7ms/step - loss: 10.8244 - mae: 10.8244\n",
            "Epoch 5/100\n",
            "1/1 [==============================] - 0s 7ms/step - loss: 10.6919 - mae: 10.6919\n",
            "Epoch 6/100\n",
            "1/1 [==============================] - 0s 6ms/step - loss: 10.5594 - mae: 10.5594\n",
            "Epoch 7/100\n",
            "1/1 [==============================] - 0s 10ms/step - loss: 10.4269 - mae: 10.4269\n",
            "Epoch 8/100\n",
            "1/1 [==============================] - 0s 6ms/step - loss: 10.2944 - mae: 10.2944\n",
            "Epoch 9/100\n",
            "1/1 [==============================] - 0s 5ms/step - loss: 10.1619 - mae: 10.1619\n",
            "Epoch 10/100\n",
            "1/1 [==============================] - 0s 5ms/step - loss: 10.0294 - mae: 10.0294\n",
            "Epoch 11/100\n",
            "1/1 [==============================] - 0s 6ms/step - loss: 9.8969 - mae: 9.8969\n",
            "Epoch 12/100\n",
            "1/1 [==============================] - 0s 6ms/step - loss: 9.7644 - mae: 9.7644\n",
            "Epoch 13/100\n",
            "1/1 [==============================] - 0s 6ms/step - loss: 9.6319 - mae: 9.6319\n",
            "Epoch 14/100\n",
            "1/1 [==============================] - 0s 6ms/step - loss: 9.4994 - mae: 9.4994\n",
            "Epoch 15/100\n",
            "1/1 [==============================] - 0s 5ms/step - loss: 9.3669 - mae: 9.3669\n",
            "Epoch 16/100\n",
            "1/1 [==============================] - 0s 6ms/step - loss: 9.2344 - mae: 9.2344\n",
            "Epoch 17/100\n",
            "1/1 [==============================] - 0s 6ms/step - loss: 9.1019 - mae: 9.1019\n",
            "Epoch 18/100\n",
            "1/1 [==============================] - 0s 5ms/step - loss: 8.9694 - mae: 8.9694\n",
            "Epoch 19/100\n",
            "1/1 [==============================] - 0s 6ms/step - loss: 8.8369 - mae: 8.8369\n",
            "Epoch 20/100\n",
            "1/1 [==============================] - 0s 5ms/step - loss: 8.7044 - mae: 8.7044\n",
            "Epoch 21/100\n",
            "1/1 [==============================] - 0s 6ms/step - loss: 8.5719 - mae: 8.5719\n",
            "Epoch 22/100\n",
            "1/1 [==============================] - 0s 17ms/step - loss: 8.4394 - mae: 8.4394\n",
            "Epoch 23/100\n",
            "1/1 [==============================] - 0s 6ms/step - loss: 8.3069 - mae: 8.3069\n",
            "Epoch 24/100\n",
            "1/1 [==============================] - 0s 6ms/step - loss: 8.1744 - mae: 8.1744\n",
            "Epoch 25/100\n",
            "1/1 [==============================] - 0s 6ms/step - loss: 8.0419 - mae: 8.0419\n",
            "Epoch 26/100\n",
            "1/1 [==============================] - 0s 14ms/step - loss: 7.9094 - mae: 7.9094\n",
            "Epoch 27/100\n",
            "1/1 [==============================] - 0s 6ms/step - loss: 7.7769 - mae: 7.7769\n",
            "Epoch 28/100\n",
            "1/1 [==============================] - 0s 6ms/step - loss: 7.6444 - mae: 7.6444\n",
            "Epoch 29/100\n",
            "1/1 [==============================] - 0s 6ms/step - loss: 7.5119 - mae: 7.5119\n",
            "Epoch 30/100\n",
            "1/1 [==============================] - 0s 6ms/step - loss: 7.3794 - mae: 7.3794\n",
            "Epoch 31/100\n",
            "1/1 [==============================] - 0s 13ms/step - loss: 7.2750 - mae: 7.2750\n",
            "Epoch 32/100\n",
            "1/1 [==============================] - 0s 6ms/step - loss: 7.2694 - mae: 7.2694\n",
            "Epoch 33/100\n",
            "1/1 [==============================] - 0s 6ms/step - loss: 7.2638 - mae: 7.2638\n",
            "Epoch 34/100\n",
            "1/1 [==============================] - 0s 7ms/step - loss: 7.2581 - mae: 7.2581\n",
            "Epoch 35/100\n",
            "1/1 [==============================] - 0s 7ms/step - loss: 7.2525 - mae: 7.2525\n",
            "Epoch 36/100\n",
            "1/1 [==============================] - 0s 6ms/step - loss: 7.2469 - mae: 7.2469\n",
            "Epoch 37/100\n",
            "1/1 [==============================] - 0s 7ms/step - loss: 7.2412 - mae: 7.2412\n",
            "Epoch 38/100\n",
            "1/1 [==============================] - 0s 7ms/step - loss: 7.2356 - mae: 7.2356\n",
            "Epoch 39/100\n",
            "1/1 [==============================] - 0s 6ms/step - loss: 7.2300 - mae: 7.2300\n",
            "Epoch 40/100\n",
            "1/1 [==============================] - 0s 6ms/step - loss: 7.2244 - mae: 7.2244\n",
            "Epoch 41/100\n",
            "1/1 [==============================] - 0s 5ms/step - loss: 7.2188 - mae: 7.2188\n",
            "Epoch 42/100\n",
            "1/1 [==============================] - 0s 6ms/step - loss: 7.2131 - mae: 7.2131\n",
            "Epoch 43/100\n",
            "1/1 [==============================] - 0s 6ms/step - loss: 7.2075 - mae: 7.2075\n",
            "Epoch 44/100\n",
            "1/1 [==============================] - 0s 6ms/step - loss: 7.2019 - mae: 7.2019\n",
            "Epoch 45/100\n",
            "1/1 [==============================] - 0s 6ms/step - loss: 7.1962 - mae: 7.1962\n",
            "Epoch 46/100\n",
            "1/1 [==============================] - 0s 6ms/step - loss: 7.1906 - mae: 7.1906\n",
            "Epoch 47/100\n",
            "1/1 [==============================] - 0s 6ms/step - loss: 7.1850 - mae: 7.1850\n",
            "Epoch 48/100\n",
            "1/1 [==============================] - 0s 6ms/step - loss: 7.1794 - mae: 7.1794\n",
            "Epoch 49/100\n",
            "1/1 [==============================] - 0s 6ms/step - loss: 7.1737 - mae: 7.1737\n",
            "Epoch 50/100\n",
            "1/1 [==============================] - 0s 6ms/step - loss: 7.1681 - mae: 7.1681\n",
            "Epoch 51/100\n",
            "1/1 [==============================] - 0s 6ms/step - loss: 7.1625 - mae: 7.1625\n",
            "Epoch 52/100\n",
            "1/1 [==============================] - 0s 6ms/step - loss: 7.1569 - mae: 7.1569\n",
            "Epoch 53/100\n",
            "1/1 [==============================] - 0s 6ms/step - loss: 7.1512 - mae: 7.1512\n",
            "Epoch 54/100\n",
            "1/1 [==============================] - 0s 6ms/step - loss: 7.1456 - mae: 7.1456\n",
            "Epoch 55/100\n",
            "1/1 [==============================] - 0s 6ms/step - loss: 7.1400 - mae: 7.1400\n",
            "Epoch 56/100\n",
            "1/1 [==============================] - 0s 6ms/step - loss: 7.1344 - mae: 7.1344\n",
            "Epoch 57/100\n",
            "1/1 [==============================] - 0s 6ms/step - loss: 7.1287 - mae: 7.1287\n",
            "Epoch 58/100\n",
            "1/1 [==============================] - 0s 6ms/step - loss: 7.1231 - mae: 7.1231\n",
            "Epoch 59/100\n",
            "1/1 [==============================] - 0s 5ms/step - loss: 7.1175 - mae: 7.1175\n",
            "Epoch 60/100\n",
            "1/1 [==============================] - 0s 6ms/step - loss: 7.1119 - mae: 7.1119\n",
            "Epoch 61/100\n",
            "1/1 [==============================] - 0s 6ms/step - loss: 7.1062 - mae: 7.1062\n",
            "Epoch 62/100\n",
            "1/1 [==============================] - 0s 6ms/step - loss: 7.1006 - mae: 7.1006\n",
            "Epoch 63/100\n",
            "1/1 [==============================] - 0s 6ms/step - loss: 7.0950 - mae: 7.0950\n",
            "Epoch 64/100\n",
            "1/1 [==============================] - 0s 6ms/step - loss: 7.0894 - mae: 7.0894\n",
            "Epoch 65/100\n",
            "1/1 [==============================] - 0s 6ms/step - loss: 7.0838 - mae: 7.0838\n",
            "Epoch 66/100\n",
            "1/1 [==============================] - 0s 6ms/step - loss: 7.0781 - mae: 7.0781\n",
            "Epoch 67/100\n",
            "1/1 [==============================] - 0s 6ms/step - loss: 7.0725 - mae: 7.0725\n",
            "Epoch 68/100\n",
            "1/1 [==============================] - 0s 6ms/step - loss: 7.0669 - mae: 7.0669\n",
            "Epoch 69/100\n",
            "1/1 [==============================] - 0s 6ms/step - loss: 7.0613 - mae: 7.0613\n",
            "Epoch 70/100\n",
            "1/1 [==============================] - 0s 6ms/step - loss: 7.0556 - mae: 7.0556\n",
            "Epoch 71/100\n",
            "1/1 [==============================] - 0s 5ms/step - loss: 7.0500 - mae: 7.0500\n",
            "Epoch 72/100\n",
            "1/1 [==============================] - 0s 6ms/step - loss: 7.0444 - mae: 7.0444\n",
            "Epoch 73/100\n",
            "1/1 [==============================] - 0s 5ms/step - loss: 7.0388 - mae: 7.0388\n",
            "Epoch 74/100\n",
            "1/1 [==============================] - 0s 6ms/step - loss: 7.0331 - mae: 7.0331\n",
            "Epoch 75/100\n",
            "1/1 [==============================] - 0s 6ms/step - loss: 7.0275 - mae: 7.0275\n",
            "Epoch 76/100\n",
            "1/1 [==============================] - 0s 6ms/step - loss: 7.0219 - mae: 7.0219\n",
            "Epoch 77/100\n",
            "1/1 [==============================] - 0s 6ms/step - loss: 7.0163 - mae: 7.0163\n",
            "Epoch 78/100\n",
            "1/1 [==============================] - 0s 6ms/step - loss: 7.0106 - mae: 7.0106\n",
            "Epoch 79/100\n",
            "1/1 [==============================] - 0s 6ms/step - loss: 7.0050 - mae: 7.0050\n",
            "Epoch 80/100\n",
            "1/1 [==============================] - 0s 6ms/step - loss: 6.9994 - mae: 6.9994\n",
            "Epoch 81/100\n",
            "1/1 [==============================] - 0s 6ms/step - loss: 6.9938 - mae: 6.9938\n",
            "Epoch 82/100\n",
            "1/1 [==============================] - 0s 6ms/step - loss: 6.9881 - mae: 6.9881\n",
            "Epoch 83/100\n",
            "1/1 [==============================] - 0s 6ms/step - loss: 6.9825 - mae: 6.9825\n",
            "Epoch 84/100\n",
            "1/1 [==============================] - 0s 6ms/step - loss: 6.9769 - mae: 6.9769\n",
            "Epoch 85/100\n",
            "1/1 [==============================] - 0s 6ms/step - loss: 6.9713 - mae: 6.9713\n",
            "Epoch 86/100\n",
            "1/1 [==============================] - 0s 5ms/step - loss: 6.9656 - mae: 6.9656\n",
            "Epoch 87/100\n",
            "1/1 [==============================] - 0s 5ms/step - loss: 6.9600 - mae: 6.9600\n",
            "Epoch 88/100\n",
            "1/1 [==============================] - 0s 6ms/step - loss: 6.9544 - mae: 6.9544\n",
            "Epoch 89/100\n",
            "1/1 [==============================] - 0s 6ms/step - loss: 6.9488 - mae: 6.9488\n",
            "Epoch 90/100\n",
            "1/1 [==============================] - 0s 8ms/step - loss: 6.9431 - mae: 6.9431\n",
            "Epoch 91/100\n",
            "1/1 [==============================] - 0s 6ms/step - loss: 6.9375 - mae: 6.9375\n",
            "Epoch 92/100\n",
            "1/1 [==============================] - 0s 5ms/step - loss: 6.9319 - mae: 6.9319\n",
            "Epoch 93/100\n",
            "1/1 [==============================] - 0s 5ms/step - loss: 6.9263 - mae: 6.9263\n",
            "Epoch 94/100\n",
            "1/1 [==============================] - 0s 5ms/step - loss: 6.9206 - mae: 6.9206\n",
            "Epoch 95/100\n",
            "1/1 [==============================] - 0s 5ms/step - loss: 6.9150 - mae: 6.9150\n",
            "Epoch 96/100\n",
            "1/1 [==============================] - 0s 5ms/step - loss: 6.9094 - mae: 6.9094\n",
            "Epoch 97/100\n",
            "1/1 [==============================] - 0s 5ms/step - loss: 6.9038 - mae: 6.9038\n",
            "Epoch 98/100\n",
            "1/1 [==============================] - 0s 5ms/step - loss: 6.8981 - mae: 6.8981\n",
            "Epoch 99/100\n",
            "1/1 [==============================] - 0s 5ms/step - loss: 6.8925 - mae: 6.8925\n",
            "Epoch 100/100\n",
            "1/1 [==============================] - 0s 5ms/step - loss: 6.8869 - mae: 6.8869\n"
          ]
        },
        {
          "output_type": "execute_result",
          "data": {
            "text/plain": [
              "<keras.callbacks.History at 0x7f947955c400>"
            ]
          },
          "metadata": {},
          "execution_count": 13
        }
      ]
    },
    {
      "cell_type": "code",
      "source": [
        "X,y"
      ],
      "metadata": {
        "colab": {
          "base_uri": "https://localhost:8080/"
        },
        "id": "0yChKLDfITJT",
        "outputId": "b7f64f89-ed0f-4660-9212-6c6189ca6c86"
      },
      "execution_count": null,
      "outputs": [
        {
          "output_type": "execute_result",
          "data": {
            "text/plain": [
              "(<tf.Tensor: shape=(8,), dtype=float64, numpy=array([-7., -4., -1.,  2.,  5.,  8., 11., 14.])>,\n",
              " <tf.Tensor: shape=(8,), dtype=float64, numpy=array([ 3.,  6.,  9., 12., 15., 18., 21., 24.])>)"
            ]
          },
          "metadata": {},
          "execution_count": 14
        }
      ]
    },
    {
      "cell_type": "code",
      "source": [
        "model.predict([17.0])"
      ],
      "metadata": {
        "colab": {
          "base_uri": "https://localhost:8080/"
        },
        "id": "bd6ky4tHL1zF",
        "outputId": "9608f1c0-76ec-45e9-9944-5f6761bd96a9"
      },
      "execution_count": null,
      "outputs": [
        {
          "output_type": "stream",
          "name": "stdout",
          "text": [
            "1/1 [==============================] - 0s 250ms/step\n"
          ]
        },
        {
          "output_type": "execute_result",
          "data": {
            "text/plain": [
              "array([[29.739855]], dtype=float32)"
            ]
          },
          "metadata": {},
          "execution_count": 15
        }
      ]
    },
    {
      "cell_type": "markdown",
      "source": [
        "#### 2nd try"
      ],
      "metadata": {
        "id": "4Ppla4Feq7Lo"
      }
    },
    {
      "cell_type": "code",
      "source": [
        "model=tf.keras.Sequential()\n",
        "model.add(tf.keras.layers.Dense(50,activation=None))\n",
        "\n",
        "model.add(tf.keras.layers.Dropout(0.2))\n",
        "\n",
        "model.add(tf.keras.layers.Dense(1))\n",
        "model.compile(loss=tf.keras.losses.mae,\n",
        "              optimizer=tf.keras.optimizers.Adam(lr=0.01),\n",
        "              metrics=[\"mae\"])\n",
        "model.fit(tf.expand_dims(X,axis=-1),y,epochs=100)"
      ],
      "metadata": {
        "colab": {
          "base_uri": "https://localhost:8080/"
        },
        "id": "dhVa26_wq-kc",
        "outputId": "54d39a23-42b3-486f-8721-5fff790be232"
      },
      "execution_count": null,
      "outputs": [
        {
          "output_type": "stream",
          "name": "stdout",
          "text": [
            "Epoch 1/100\n"
          ]
        },
        {
          "output_type": "stream",
          "name": "stderr",
          "text": [
            "/usr/local/lib/python3.8/dist-packages/keras/optimizers/optimizer_v2/adam.py:110: UserWarning: The `lr` argument is deprecated, use `learning_rate` instead.\n",
            "  super(Adam, self).__init__(name, **kwargs)\n"
          ]
        },
        {
          "output_type": "stream",
          "name": "stdout",
          "text": [
            "1/1 [==============================] - 0s 426ms/step - loss: 12.1271 - mae: 12.1271\n",
            "Epoch 2/100\n",
            "1/1 [==============================] - 0s 12ms/step - loss: 10.9559 - mae: 10.9559\n",
            "Epoch 3/100\n",
            "1/1 [==============================] - 0s 6ms/step - loss: 9.5263 - mae: 9.5263\n",
            "Epoch 4/100\n",
            "1/1 [==============================] - 0s 6ms/step - loss: 10.3343 - mae: 10.3343\n",
            "Epoch 5/100\n",
            "1/1 [==============================] - 0s 6ms/step - loss: 10.3225 - mae: 10.3225\n",
            "Epoch 6/100\n",
            "1/1 [==============================] - 0s 6ms/step - loss: 9.0609 - mae: 9.0609\n",
            "Epoch 7/100\n",
            "1/1 [==============================] - 0s 5ms/step - loss: 7.6286 - mae: 7.6286\n",
            "Epoch 8/100\n",
            "1/1 [==============================] - 0s 5ms/step - loss: 7.5142 - mae: 7.5142\n",
            "Epoch 9/100\n",
            "1/1 [==============================] - 0s 7ms/step - loss: 7.8105 - mae: 7.8105\n",
            "Epoch 10/100\n",
            "1/1 [==============================] - 0s 5ms/step - loss: 7.4679 - mae: 7.4679\n",
            "Epoch 11/100\n",
            "1/1 [==============================] - 0s 5ms/step - loss: 7.8308 - mae: 7.8308\n",
            "Epoch 12/100\n",
            "1/1 [==============================] - 0s 5ms/step - loss: 8.2705 - mae: 8.2705\n",
            "Epoch 13/100\n",
            "1/1 [==============================] - 0s 5ms/step - loss: 7.3316 - mae: 7.3316\n",
            "Epoch 14/100\n",
            "1/1 [==============================] - 0s 5ms/step - loss: 7.8444 - mae: 7.8444\n",
            "Epoch 15/100\n",
            "1/1 [==============================] - 0s 7ms/step - loss: 8.2561 - mae: 8.2561\n",
            "Epoch 16/100\n",
            "1/1 [==============================] - 0s 5ms/step - loss: 7.2676 - mae: 7.2676\n",
            "Epoch 17/100\n",
            "1/1 [==============================] - 0s 5ms/step - loss: 7.1404 - mae: 7.1404\n",
            "Epoch 18/100\n",
            "1/1 [==============================] - 0s 5ms/step - loss: 6.8043 - mae: 6.8043\n",
            "Epoch 19/100\n",
            "1/1 [==============================] - 0s 5ms/step - loss: 6.5187 - mae: 6.5187\n",
            "Epoch 20/100\n",
            "1/1 [==============================] - 0s 5ms/step - loss: 6.0287 - mae: 6.0287\n",
            "Epoch 21/100\n",
            "1/1 [==============================] - 0s 5ms/step - loss: 6.2784 - mae: 6.2784\n",
            "Epoch 22/100\n",
            "1/1 [==============================] - 0s 5ms/step - loss: 6.0336 - mae: 6.0336\n",
            "Epoch 23/100\n",
            "1/1 [==============================] - 0s 5ms/step - loss: 6.5909 - mae: 6.5909\n",
            "Epoch 24/100\n",
            "1/1 [==============================] - 0s 5ms/step - loss: 6.1702 - mae: 6.1702\n",
            "Epoch 25/100\n",
            "1/1 [==============================] - 0s 5ms/step - loss: 7.1226 - mae: 7.1226\n",
            "Epoch 26/100\n",
            "1/1 [==============================] - 0s 11ms/step - loss: 5.7356 - mae: 5.7356\n",
            "Epoch 27/100\n",
            "1/1 [==============================] - 0s 9ms/step - loss: 5.5326 - mae: 5.5326\n",
            "Epoch 28/100\n",
            "1/1 [==============================] - 0s 7ms/step - loss: 5.9720 - mae: 5.9720\n",
            "Epoch 29/100\n",
            "1/1 [==============================] - 0s 5ms/step - loss: 6.0874 - mae: 6.0874\n",
            "Epoch 30/100\n",
            "1/1 [==============================] - 0s 5ms/step - loss: 5.8751 - mae: 5.8751\n",
            "Epoch 31/100\n",
            "1/1 [==============================] - 0s 5ms/step - loss: 5.8593 - mae: 5.8593\n",
            "Epoch 32/100\n",
            "1/1 [==============================] - 0s 5ms/step - loss: 5.5702 - mae: 5.5702\n",
            "Epoch 33/100\n",
            "1/1 [==============================] - 0s 6ms/step - loss: 5.3105 - mae: 5.3105\n",
            "Epoch 34/100\n",
            "1/1 [==============================] - 0s 5ms/step - loss: 5.8092 - mae: 5.8092\n",
            "Epoch 35/100\n",
            "1/1 [==============================] - 0s 5ms/step - loss: 5.3207 - mae: 5.3207\n",
            "Epoch 36/100\n",
            "1/1 [==============================] - 0s 6ms/step - loss: 5.5373 - mae: 5.5373\n",
            "Epoch 37/100\n",
            "1/1 [==============================] - 0s 6ms/step - loss: 5.0615 - mae: 5.0615\n",
            "Epoch 38/100\n",
            "1/1 [==============================] - 0s 6ms/step - loss: 4.7146 - mae: 4.7146\n",
            "Epoch 39/100\n",
            "1/1 [==============================] - 0s 6ms/step - loss: 5.2544 - mae: 5.2544\n",
            "Epoch 40/100\n",
            "1/1 [==============================] - 0s 6ms/step - loss: 4.5660 - mae: 4.5660\n",
            "Epoch 41/100\n",
            "1/1 [==============================] - 0s 6ms/step - loss: 4.7187 - mae: 4.7187\n",
            "Epoch 42/100\n",
            "1/1 [==============================] - 0s 6ms/step - loss: 4.4161 - mae: 4.4161\n",
            "Epoch 43/100\n",
            "1/1 [==============================] - 0s 6ms/step - loss: 4.3444 - mae: 4.3444\n",
            "Epoch 44/100\n",
            "1/1 [==============================] - 0s 6ms/step - loss: 4.2784 - mae: 4.2784\n",
            "Epoch 45/100\n",
            "1/1 [==============================] - 0s 6ms/step - loss: 4.8276 - mae: 4.8276\n",
            "Epoch 46/100\n",
            "1/1 [==============================] - 0s 7ms/step - loss: 3.8763 - mae: 3.8763\n",
            "Epoch 47/100\n",
            "1/1 [==============================] - 0s 7ms/step - loss: 4.0704 - mae: 4.0704\n",
            "Epoch 48/100\n",
            "1/1 [==============================] - 0s 6ms/step - loss: 3.4925 - mae: 3.4925\n",
            "Epoch 49/100\n",
            "1/1 [==============================] - 0s 6ms/step - loss: 3.5437 - mae: 3.5437\n",
            "Epoch 50/100\n",
            "1/1 [==============================] - 0s 7ms/step - loss: 3.8119 - mae: 3.8119\n",
            "Epoch 51/100\n",
            "1/1 [==============================] - 0s 7ms/step - loss: 3.2506 - mae: 3.2506\n",
            "Epoch 52/100\n",
            "1/1 [==============================] - 0s 6ms/step - loss: 3.8095 - mae: 3.8095\n",
            "Epoch 53/100\n",
            "1/1 [==============================] - 0s 6ms/step - loss: 2.4541 - mae: 2.4541\n",
            "Epoch 54/100\n",
            "1/1 [==============================] - 0s 6ms/step - loss: 3.0902 - mae: 3.0902\n",
            "Epoch 55/100\n",
            "1/1 [==============================] - 0s 6ms/step - loss: 3.4031 - mae: 3.4031\n",
            "Epoch 56/100\n",
            "1/1 [==============================] - 0s 6ms/step - loss: 2.5101 - mae: 2.5101\n",
            "Epoch 57/100\n",
            "1/1 [==============================] - 0s 6ms/step - loss: 1.9862 - mae: 1.9862\n",
            "Epoch 58/100\n",
            "1/1 [==============================] - 0s 6ms/step - loss: 2.3510 - mae: 2.3510\n",
            "Epoch 59/100\n",
            "1/1 [==============================] - 0s 6ms/step - loss: 1.9998 - mae: 1.9998\n",
            "Epoch 60/100\n",
            "1/1 [==============================] - 0s 6ms/step - loss: 2.1041 - mae: 2.1041\n",
            "Epoch 61/100\n",
            "1/1 [==============================] - 0s 6ms/step - loss: 1.4302 - mae: 1.4302\n",
            "Epoch 62/100\n",
            "1/1 [==============================] - 0s 6ms/step - loss: 1.1378 - mae: 1.1378\n",
            "Epoch 63/100\n",
            "1/1 [==============================] - 0s 6ms/step - loss: 1.0831 - mae: 1.0831\n",
            "Epoch 64/100\n",
            "1/1 [==============================] - 0s 7ms/step - loss: 1.0568 - mae: 1.0568\n",
            "Epoch 65/100\n",
            "1/1 [==============================] - 0s 6ms/step - loss: 1.6036 - mae: 1.6036\n",
            "Epoch 66/100\n",
            "1/1 [==============================] - 0s 7ms/step - loss: 2.3308 - mae: 2.3308\n",
            "Epoch 67/100\n",
            "1/1 [==============================] - 0s 7ms/step - loss: 0.7436 - mae: 0.7436\n",
            "Epoch 68/100\n",
            "1/1 [==============================] - 0s 6ms/step - loss: 1.5116 - mae: 1.5116\n",
            "Epoch 69/100\n",
            "1/1 [==============================] - 0s 6ms/step - loss: 1.8133 - mae: 1.8133\n",
            "Epoch 70/100\n",
            "1/1 [==============================] - 0s 6ms/step - loss: 1.9209 - mae: 1.9209\n",
            "Epoch 71/100\n",
            "1/1 [==============================] - 0s 6ms/step - loss: 1.8239 - mae: 1.8239\n",
            "Epoch 72/100\n",
            "1/1 [==============================] - 0s 6ms/step - loss: 0.8821 - mae: 0.8821\n",
            "Epoch 73/100\n",
            "1/1 [==============================] - 0s 6ms/step - loss: 1.8443 - mae: 1.8443\n",
            "Epoch 74/100\n",
            "1/1 [==============================] - 0s 6ms/step - loss: 1.7002 - mae: 1.7002\n",
            "Epoch 75/100\n",
            "1/1 [==============================] - 0s 6ms/step - loss: 1.8041 - mae: 1.8041\n",
            "Epoch 76/100\n",
            "1/1 [==============================] - 0s 6ms/step - loss: 1.9509 - mae: 1.9509\n",
            "Epoch 77/100\n",
            "1/1 [==============================] - 0s 6ms/step - loss: 1.3551 - mae: 1.3551\n",
            "Epoch 78/100\n",
            "1/1 [==============================] - 0s 6ms/step - loss: 1.2642 - mae: 1.2642\n",
            "Epoch 79/100\n",
            "1/1 [==============================] - 0s 6ms/step - loss: 1.4220 - mae: 1.4220\n",
            "Epoch 80/100\n",
            "1/1 [==============================] - 0s 6ms/step - loss: 1.1747 - mae: 1.1747\n",
            "Epoch 81/100\n",
            "1/1 [==============================] - 0s 6ms/step - loss: 1.3002 - mae: 1.3002\n",
            "Epoch 82/100\n",
            "1/1 [==============================] - 0s 6ms/step - loss: 0.9992 - mae: 0.9992\n",
            "Epoch 83/100\n",
            "1/1 [==============================] - 0s 6ms/step - loss: 0.9563 - mae: 0.9563\n",
            "Epoch 84/100\n",
            "1/1 [==============================] - 0s 6ms/step - loss: 1.0304 - mae: 1.0304\n",
            "Epoch 85/100\n",
            "1/1 [==============================] - 0s 6ms/step - loss: 0.5341 - mae: 0.5341\n",
            "Epoch 86/100\n",
            "1/1 [==============================] - 0s 6ms/step - loss: 1.3190 - mae: 1.3190\n",
            "Epoch 87/100\n",
            "1/1 [==============================] - 0s 6ms/step - loss: 1.2836 - mae: 1.2836\n",
            "Epoch 88/100\n",
            "1/1 [==============================] - 0s 6ms/step - loss: 0.9986 - mae: 0.9986\n",
            "Epoch 89/100\n",
            "1/1 [==============================] - 0s 5ms/step - loss: 1.2803 - mae: 1.2803\n",
            "Epoch 90/100\n",
            "1/1 [==============================] - 0s 6ms/step - loss: 1.0930 - mae: 1.0930\n",
            "Epoch 91/100\n",
            "1/1 [==============================] - 0s 5ms/step - loss: 0.6759 - mae: 0.6759\n",
            "Epoch 92/100\n",
            "1/1 [==============================] - 0s 5ms/step - loss: 0.7495 - mae: 0.7495\n",
            "Epoch 93/100\n",
            "1/1 [==============================] - 0s 6ms/step - loss: 0.9813 - mae: 0.9813\n",
            "Epoch 94/100\n",
            "1/1 [==============================] - 0s 7ms/step - loss: 0.9956 - mae: 0.9956\n",
            "Epoch 95/100\n",
            "1/1 [==============================] - 0s 6ms/step - loss: 0.9084 - mae: 0.9084\n",
            "Epoch 96/100\n",
            "1/1 [==============================] - 0s 6ms/step - loss: 1.7636 - mae: 1.7636\n",
            "Epoch 97/100\n",
            "1/1 [==============================] - 0s 5ms/step - loss: 1.2736 - mae: 1.2736\n",
            "Epoch 98/100\n",
            "1/1 [==============================] - 0s 6ms/step - loss: 1.3049 - mae: 1.3049\n",
            "Epoch 99/100\n",
            "1/1 [==============================] - 0s 5ms/step - loss: 0.9002 - mae: 0.9002\n",
            "Epoch 100/100\n",
            "1/1 [==============================] - 0s 5ms/step - loss: 1.4645 - mae: 1.4645\n"
          ]
        },
        {
          "output_type": "execute_result",
          "data": {
            "text/plain": [
              "<keras.callbacks.History at 0x7f94793802e0>"
            ]
          },
          "metadata": {},
          "execution_count": 16
        }
      ]
    },
    {
      "cell_type": "code",
      "source": [
        "model.predict([17.0])"
      ],
      "metadata": {
        "colab": {
          "base_uri": "https://localhost:8080/"
        },
        "id": "MD2GoIdIrB92",
        "outputId": "4fdb21c2-86cd-4a34-d1ae-8fcdc282be4c"
      },
      "execution_count": null,
      "outputs": [
        {
          "output_type": "stream",
          "name": "stdout",
          "text": [
            "1/1 [==============================] - 0s 320ms/step\n"
          ]
        },
        {
          "output_type": "execute_result",
          "data": {
            "text/plain": [
              "array([[28.321966]], dtype=float32)"
            ]
          },
          "metadata": {},
          "execution_count": 17
        }
      ]
    },
    {
      "cell_type": "markdown",
      "source": [
        "**We care more about prediction that are made on  unseen data**"
      ],
      "metadata": {
        "id": "KDYChHsgrZcx"
      }
    },
    {
      "cell_type": "markdown",
      "source": [
        "> **Learning Rate is most important parameter**\n"
      ],
      "metadata": {
        "id": "M7-lfgbUsqeI"
      }
    },
    {
      "cell_type": "markdown",
      "source": [
        " ## Evaluating Performance\n",
        " In practice ,a typical workflow you'll follow is :\n",
        "'''\n",
        "Build a model -> Compiled it -> Evaluate it -> Tweak it _> fit it -> Evaluate it -> Tweak model"
      ],
      "metadata": {
        "id": "zGimFXGYsy9k"
      }
    },
    {
      "cell_type": "markdown",
      "source": [
        "When it comes to evaluation .. there are 3 words you should memorise\n",
        "> **Visualise, Visualise Visualise**\n",
        "* The data- what data are we working with\n",
        "* The model itself- What does model look like \n",
        "* THe Training of a made\n",
        "* The prediction of model"
      ],
      "metadata": {
        "id": "tb40ckC6tIep"
      }
    },
    {
      "cell_type": "code",
      "source": [
        "# bigger dataset \n",
        "X=tf.range(-100,100,4,dtype=tf.int32)\n",
        "X"
      ],
      "metadata": {
        "colab": {
          "base_uri": "https://localhost:8080/"
        },
        "id": "3WP0C5W7ua_r",
        "outputId": "2022ec27-5bae-4c54-bda8-246c5d5facf8"
      },
      "execution_count": null,
      "outputs": [
        {
          "output_type": "execute_result",
          "data": {
            "text/plain": [
              "<tf.Tensor: shape=(50,), dtype=int32, numpy=\n",
              "array([-100,  -96,  -92,  -88,  -84,  -80,  -76,  -72,  -68,  -64,  -60,\n",
              "        -56,  -52,  -48,  -44,  -40,  -36,  -32,  -28,  -24,  -20,  -16,\n",
              "        -12,   -8,   -4,    0,    4,    8,   12,   16,   20,   24,   28,\n",
              "         32,   36,   40,   44,   48,   52,   56,   60,   64,   68,   72,\n",
              "         76,   80,   84,   88,   92,   96], dtype=int32)>"
            ]
          },
          "metadata": {},
          "execution_count": 18
        }
      ]
    },
    {
      "cell_type": "code",
      "source": [
        "y=X+10\n",
        "y"
      ],
      "metadata": {
        "colab": {
          "base_uri": "https://localhost:8080/"
        },
        "id": "KshqS7oLui0-",
        "outputId": "b9846935-c551-4ef5-b240-0c2d935ac40d"
      },
      "execution_count": null,
      "outputs": [
        {
          "output_type": "execute_result",
          "data": {
            "text/plain": [
              "<tf.Tensor: shape=(50,), dtype=int32, numpy=\n",
              "array([-90, -86, -82, -78, -74, -70, -66, -62, -58, -54, -50, -46, -42,\n",
              "       -38, -34, -30, -26, -22, -18, -14, -10,  -6,  -2,   2,   6,  10,\n",
              "        14,  18,  22,  26,  30,  34,  38,  42,  46,  50,  54,  58,  62,\n",
              "        66,  70,  74,  78,  82,  86,  90,  94,  98, 102, 106], dtype=int32)>"
            ]
          },
          "metadata": {},
          "execution_count": 19
        }
      ]
    },
    {
      "cell_type": "code",
      "source": [
        "plt.scatter(X,y)"
      ],
      "metadata": {
        "colab": {
          "base_uri": "https://localhost:8080/",
          "height": 282
        },
        "id": "-O1dCzDwukzW",
        "outputId": "5d07847c-25d8-4313-ce4c-76ab7faf4a95"
      },
      "execution_count": null,
      "outputs": [
        {
          "output_type": "execute_result",
          "data": {
            "text/plain": [
              "<matplotlib.collections.PathCollection at 0x7f947858d670>"
            ]
          },
          "metadata": {},
          "execution_count": 20
        },
        {
          "output_type": "display_data",
          "data": {
            "text/plain": [
              "<Figure size 432x288 with 1 Axes>"
            ],
            "image/png": "[encoded data removed]"
          },
          "metadata": {
            "needs_background": "light"
          }
        }
      ]
    },
    {
      "cell_type": "markdown",
      "source": [
        "#### The 3 sets ...\n",
        "* Training Set- Model learns from this datawhich(70-80%)\n",
        "* Validation Set - Model get tuned on this data(10-15%)\n",
        "* Test Set - Model gets evaluated on this data to test what it has learn (10-15%)"
      ],
      "metadata": {
        "id": "5HXKkClEv16N"
      }
    },
    {
      "cell_type": "code",
      "source": [
        "len(X)"
      ],
      "metadata": {
        "colab": {
          "base_uri": "https://localhost:8080/"
        },
        "id": "3DG84FCnwx3G",
        "outputId": "11e6e569-a5da-4b29-c307-16d8a5f2927a"
      },
      "execution_count": null,
      "outputs": [
        {
          "output_type": "execute_result",
          "data": {
            "text/plain": [
              "50"
            ]
          },
          "metadata": {},
          "execution_count": 21
        }
      ]
    },
    {
      "cell_type": "code",
      "source": [
        "X_train=X[:40] #First 40 training samples (80% of data)\n",
        "X_test=X[40:]  # Last 10 testing samples()\n",
        "\n",
        "y_train=y[:40] #First 40 training samples (80% of data)\n",
        "y_test=y[40:]  \n",
        "len(X_train),len(X_test),len(y)"
      ],
      "metadata": {
        "colab": {
          "base_uri": "https://localhost:8080/"
        },
        "id": "CtS_7KOWutZT",
        "outputId": "e013e461-229d-48ea-86f4-f1db2b36aa83"
      },
      "execution_count": null,
      "outputs": [
        {
          "output_type": "execute_result",
          "data": {
            "text/plain": [
              "(40, 10, 50)"
            ]
          },
          "metadata": {},
          "execution_count": 22
        }
      ]
    },
    {
      "cell_type": "markdown",
      "source": [
        "### Visualizing the data\n",
        "Now we've got our data in training and test test sets"
      ],
      "metadata": {
        "id": "8JF7Q3G-uu8U"
      }
    },
    {
      "cell_type": "code",
      "source": [
        "plt.figure(figsize=(10,7))\n",
        "plt.scatter(X_train,y_train,c='b',label='Training data')\n",
        "plt.scatter(X_test,y_test,c='g',label='Test data')\n",
        "plt.legend()"
      ],
      "metadata": {
        "colab": {
          "base_uri": "https://localhost:8080/",
          "height": 445
        },
        "id": "aHJPe3XKzOPX",
        "outputId": "7a251fdf-a1e5-4209-e11f-1e32b3f333c0"
      },
      "execution_count": null,
      "outputs": [
        {
          "output_type": "execute_result",
          "data": {
            "text/plain": [
              "<matplotlib.legend.Legend at 0x7f94784f45e0>"
            ]
          },
          "metadata": {},
          "execution_count": 23
        },
        {
          "output_type": "display_data",
          "data": {
            "text/plain": [
              "<Figure size 720x504 with 1 Axes>"
            ],
            "image/png": "[encoded data removed]"
          },
          "metadata": {
            "needs_background": "light"
          }
        }
      ]
    },
    {
      "cell_type": "code",
      "source": [
        "# Let's have a look at how "
      ],
      "metadata": {
        "id": "LX8AVNXd0ir4"
      },
      "execution_count": null,
      "outputs": []
    },
    {
      "cell_type": "code",
      "source": [
        "# Let's create a model which builds automatically by defining input_shape\n",
        "tf.random.set_seed(42)\n",
        "\n",
        "model=tf.keras.Sequential([\n",
        "    tf.keras.layers.Dense(30,input_shape=[1],name='input_layer'),      #Fully connected netowork\n",
        "    tf.keras.layers.Dropout(0.1),\n",
        "    tf.keras.layers.Dense(1,name='output_layer')\n",
        "],name=\"Model\")\n",
        "\n",
        "model.compile(loss=tf.keras.losses.mean_absolute_error,\n",
        "              optimizer=tf.keras.optimizers.Adam(lr=0.01),\n",
        "              metrics=['mae'])"
      ],
      "metadata": {
        "id": "_-ZUvlW34jOA"
      },
      "execution_count": null,
      "outputs": []
    },
    {
      "cell_type": "code",
      "source": [
        "model.fit(X_train,y_train,epochs=100,verbose=1)"
      ],
      "metadata": {
        "colab": {
          "base_uri": "https://localhost:8080/"
        },
        "id": "Y-o1r4C-5f1i",
        "outputId": "17593199-3e3c-429e-dce3-855c604155e8"
      },
      "execution_count": null,
      "outputs": [
        {
          "output_type": "stream",
          "name": "stdout",
          "text": [
            "Epoch 1/100\n",
            "2/2 [==============================] - 1s 8ms/step - loss: 24.0160 - mae: 24.0160\n",
            "Epoch 2/100\n",
            "2/2 [==============================] - 0s 13ms/step - loss: 12.2057 - mae: 12.2057\n",
            "Epoch 3/100\n",
            "2/2 [==============================] - 0s 7ms/step - loss: 11.0043 - mae: 11.0043\n",
            "Epoch 4/100\n",
            "2/2 [==============================] - 0s 5ms/step - loss: 12.4933 - mae: 12.4933\n",
            "Epoch 5/100\n",
            "2/2 [==============================] - 0s 7ms/step - loss: 10.9564 - mae: 10.9564\n",
            "Epoch 6/100\n",
            "2/2 [==============================] - 0s 4ms/step - loss: 11.8371 - mae: 11.8371\n",
            "Epoch 7/100\n",
            "2/2 [==============================] - 0s 7ms/step - loss: 8.8235 - mae: 8.8235\n",
            "Epoch 8/100\n",
            "2/2 [==============================] - 0s 4ms/step - loss: 8.5026 - mae: 8.5026\n",
            "Epoch 9/100\n",
            "2/2 [==============================] - 0s 5ms/step - loss: 8.9940 - mae: 8.9940\n",
            "Epoch 10/100\n",
            "2/2 [==============================] - 0s 5ms/step - loss: 8.8222 - mae: 8.8222\n",
            "Epoch 11/100\n",
            "2/2 [==============================] - 0s 5ms/step - loss: 8.8511 - mae: 8.8511\n",
            "Epoch 12/100\n",
            "2/2 [==============================] - 0s 4ms/step - loss: 7.9575 - mae: 7.9575\n",
            "Epoch 13/100\n",
            "2/2 [==============================] - 0s 5ms/step - loss: 9.1798 - mae: 9.1798\n",
            "Epoch 14/100\n",
            "2/2 [==============================] - 0s 5ms/step - loss: 8.4420 - mae: 8.4420\n",
            "Epoch 15/100\n",
            "2/2 [==============================] - 0s 12ms/step - loss: 8.3962 - mae: 8.3962\n",
            "Epoch 16/100\n",
            "2/2 [==============================] - 0s 5ms/step - loss: 7.1037 - mae: 7.1037\n",
            "Epoch 17/100\n",
            "2/2 [==============================] - 0s 4ms/step - loss: 7.0266 - mae: 7.0266\n",
            "Epoch 18/100\n",
            "2/2 [==============================] - 0s 10ms/step - loss: 8.3447 - mae: 8.3447\n",
            "Epoch 19/100\n",
            "2/2 [==============================] - 0s 19ms/step - loss: 8.6469 - mae: 8.6469\n",
            "Epoch 20/100\n",
            "2/2 [==============================] - 0s 4ms/step - loss: 8.5576 - mae: 8.5576\n",
            "Epoch 21/100\n",
            "2/2 [==============================] - 0s 7ms/step - loss: 7.8414 - mae: 7.8414\n",
            "Epoch 22/100\n",
            "2/2 [==============================] - 0s 5ms/step - loss: 7.4875 - mae: 7.4875\n",
            "Epoch 23/100\n",
            "2/2 [==============================] - 0s 4ms/step - loss: 6.1797 - mae: 6.1797\n",
            "Epoch 24/100\n",
            "2/2 [==============================] - 0s 4ms/step - loss: 6.8548 - mae: 6.8548\n",
            "Epoch 25/100\n",
            "2/2 [==============================] - 0s 4ms/step - loss: 7.2267 - mae: 7.2267\n",
            "Epoch 26/100\n",
            "2/2 [==============================] - 0s 14ms/step - loss: 7.0798 - mae: 7.0798\n",
            "Epoch 27/100\n",
            "2/2 [==============================] - 0s 4ms/step - loss: 6.5320 - mae: 6.5320\n",
            "Epoch 28/100\n",
            "2/2 [==============================] - 0s 4ms/step - loss: 6.1688 - mae: 6.1688\n",
            "Epoch 29/100\n",
            "2/2 [==============================] - 0s 4ms/step - loss: 6.4196 - mae: 6.4196\n",
            "Epoch 30/100\n",
            "2/2 [==============================] - 0s 8ms/step - loss: 7.0315 - mae: 7.0315\n",
            "Epoch 31/100\n",
            "2/2 [==============================] - 0s 4ms/step - loss: 6.5399 - mae: 6.5399\n",
            "Epoch 32/100\n",
            "2/2 [==============================] - 0s 8ms/step - loss: 6.4342 - mae: 6.4342\n",
            "Epoch 33/100\n",
            "2/2 [==============================] - 0s 4ms/step - loss: 5.0341 - mae: 5.0341\n",
            "Epoch 34/100\n",
            "2/2 [==============================] - 0s 5ms/step - loss: 6.2904 - mae: 6.2904\n",
            "Epoch 35/100\n",
            "2/2 [==============================] - 0s 23ms/step - loss: 5.4956 - mae: 5.4956\n",
            "Epoch 36/100\n",
            "2/2 [==============================] - 0s 10ms/step - loss: 6.6166 - mae: 6.6166\n",
            "Epoch 37/100\n",
            "2/2 [==============================] - 0s 4ms/step - loss: 6.4947 - mae: 6.4947\n",
            "Epoch 38/100\n",
            "2/2 [==============================] - 0s 4ms/step - loss: 5.3489 - mae: 5.3489\n",
            "Epoch 39/100\n",
            "2/2 [==============================] - 0s 4ms/step - loss: 5.7174 - mae: 5.7174\n",
            "Epoch 40/100\n",
            "2/2 [==============================] - 0s 3ms/step - loss: 5.6535 - mae: 5.6535\n",
            "Epoch 41/100\n",
            "2/2 [==============================] - 0s 11ms/step - loss: 4.9662 - mae: 4.9662\n",
            "Epoch 42/100\n",
            "2/2 [==============================] - 0s 21ms/step - loss: 4.5547 - mae: 4.5547\n",
            "Epoch 43/100\n",
            "2/2 [==============================] - 0s 11ms/step - loss: 4.3034 - mae: 4.3034\n",
            "Epoch 44/100\n",
            "2/2 [==============================] - 0s 7ms/step - loss: 3.3699 - mae: 3.3699\n",
            "Epoch 45/100\n",
            "2/2 [==============================] - 0s 7ms/step - loss: 4.3576 - mae: 4.3576\n",
            "Epoch 46/100\n",
            "2/2 [==============================] - 0s 10ms/step - loss: 5.0979 - mae: 5.0979\n",
            "Epoch 47/100\n",
            "2/2 [==============================] - 0s 4ms/step - loss: 4.7327 - mae: 4.7327\n",
            "Epoch 48/100\n",
            "2/2 [==============================] - 0s 4ms/step - loss: 4.9950 - mae: 4.9950\n",
            "Epoch 49/100\n",
            "2/2 [==============================] - 0s 5ms/step - loss: 3.8964 - mae: 3.8964\n",
            "Epoch 50/100\n",
            "2/2 [==============================] - 0s 5ms/step - loss: 3.2947 - mae: 3.2947\n",
            "Epoch 51/100\n",
            "2/2 [==============================] - 0s 10ms/step - loss: 3.2240 - mae: 3.2240\n",
            "Epoch 52/100\n",
            "2/2 [==============================] - 0s 5ms/step - loss: 3.5424 - mae: 3.5424\n",
            "Epoch 53/100\n",
            "2/2 [==============================] - 0s 16ms/step - loss: 2.9762 - mae: 2.9762\n",
            "Epoch 54/100\n",
            "2/2 [==============================] - 0s 5ms/step - loss: 3.4936 - mae: 3.4936\n",
            "Epoch 55/100\n",
            "2/2 [==============================] - 0s 5ms/step - loss: 2.9933 - mae: 2.9933\n",
            "Epoch 56/100\n",
            "2/2 [==============================] - 0s 4ms/step - loss: 2.7925 - mae: 2.7925\n",
            "Epoch 57/100\n",
            "2/2 [==============================] - 0s 19ms/step - loss: 4.3991 - mae: 4.3991\n",
            "Epoch 58/100\n",
            "2/2 [==============================] - 0s 16ms/step - loss: 3.5998 - mae: 3.5998\n",
            "Epoch 59/100\n",
            "2/2 [==============================] - 0s 5ms/step - loss: 3.6541 - mae: 3.6541\n",
            "Epoch 60/100\n",
            "2/2 [==============================] - 0s 6ms/step - loss: 3.4905 - mae: 3.4905\n",
            "Epoch 61/100\n",
            "2/2 [==============================] - 0s 6ms/step - loss: 3.3775 - mae: 3.3775\n",
            "Epoch 62/100\n",
            "2/2 [==============================] - 0s 11ms/step - loss: 2.7938 - mae: 2.7938\n",
            "Epoch 63/100\n",
            "2/2 [==============================] - 0s 5ms/step - loss: 4.0607 - mae: 4.0607\n",
            "Epoch 64/100\n",
            "2/2 [==============================] - 0s 6ms/step - loss: 3.2885 - mae: 3.2885\n",
            "Epoch 65/100\n",
            "2/2 [==============================] - 0s 6ms/step - loss: 3.3142 - mae: 3.3142\n",
            "Epoch 66/100\n",
            "2/2 [==============================] - 0s 9ms/step - loss: 3.0305 - mae: 3.0305\n",
            "Epoch 67/100\n",
            "2/2 [==============================] - 0s 13ms/step - loss: 3.2738 - mae: 3.2738\n",
            "Epoch 68/100\n",
            "2/2 [==============================] - 0s 5ms/step - loss: 3.0733 - mae: 3.0733\n",
            "Epoch 69/100\n",
            "2/2 [==============================] - 0s 4ms/step - loss: 3.3831 - mae: 3.3831\n",
            "Epoch 70/100\n",
            "2/2 [==============================] - 0s 7ms/step - loss: 2.9793 - mae: 2.9793\n",
            "Epoch 71/100\n",
            "2/2 [==============================] - 0s 6ms/step - loss: 2.7359 - mae: 2.7359\n",
            "Epoch 72/100\n",
            "2/2 [==============================] - 0s 19ms/step - loss: 2.7961 - mae: 2.7961\n",
            "Epoch 73/100\n",
            "2/2 [==============================] - 0s 8ms/step - loss: 2.6008 - mae: 2.6008\n",
            "Epoch 74/100\n",
            "2/2 [==============================] - 0s 7ms/step - loss: 2.4546 - mae: 2.4546\n",
            "Epoch 75/100\n",
            "2/2 [==============================] - 0s 7ms/step - loss: 2.4814 - mae: 2.4814\n",
            "Epoch 76/100\n",
            "2/2 [==============================] - 0s 7ms/step - loss: 2.6903 - mae: 2.6903\n",
            "Epoch 77/100\n",
            "2/2 [==============================] - 0s 14ms/step - loss: 2.4726 - mae: 2.4726\n",
            "Epoch 78/100\n",
            "2/2 [==============================] - 0s 7ms/step - loss: 2.4056 - mae: 2.4056\n",
            "Epoch 79/100\n",
            "2/2 [==============================] - 0s 7ms/step - loss: 2.9480 - mae: 2.9480\n",
            "Epoch 80/100\n",
            "2/2 [==============================] - 0s 12ms/step - loss: 2.1490 - mae: 2.1490\n",
            "Epoch 81/100\n",
            "2/2 [==============================] - 0s 8ms/step - loss: 2.3897 - mae: 2.3897\n",
            "Epoch 82/100\n",
            "2/2 [==============================] - 0s 7ms/step - loss: 2.8700 - mae: 2.8700\n",
            "Epoch 83/100\n",
            "2/2 [==============================] - 0s 7ms/step - loss: 2.3045 - mae: 2.3045\n",
            "Epoch 84/100\n",
            "2/2 [==============================] - 0s 5ms/step - loss: 2.2766 - mae: 2.2766\n",
            "Epoch 85/100\n",
            "2/2 [==============================] - 0s 5ms/step - loss: 3.0476 - mae: 3.0476\n",
            "Epoch 86/100\n",
            "2/2 [==============================] - 0s 4ms/step - loss: 2.7018 - mae: 2.7018\n",
            "Epoch 87/100\n",
            "2/2 [==============================] - 0s 6ms/step - loss: 2.6080 - mae: 2.6080\n",
            "Epoch 88/100\n",
            "2/2 [==============================] - 0s 10ms/step - loss: 3.2716 - mae: 3.2716\n",
            "Epoch 89/100\n",
            "2/2 [==============================] - 0s 6ms/step - loss: 4.2473 - mae: 4.2473\n",
            "Epoch 90/100\n",
            "2/2 [==============================] - 0s 11ms/step - loss: 3.2772 - mae: 3.2772\n",
            "Epoch 91/100\n",
            "2/2 [==============================] - 0s 15ms/step - loss: 3.9728 - mae: 3.9728\n",
            "Epoch 92/100\n",
            "2/2 [==============================] - 0s 6ms/step - loss: 2.6784 - mae: 2.6784\n",
            "Epoch 93/100\n",
            "2/2 [==============================] - 0s 7ms/step - loss: 2.8148 - mae: 2.8148\n",
            "Epoch 94/100\n",
            "2/2 [==============================] - 0s 6ms/step - loss: 4.1944 - mae: 4.1944\n",
            "Epoch 95/100\n",
            "2/2 [==============================] - 0s 7ms/step - loss: 2.7244 - mae: 2.7244\n",
            "Epoch 96/100\n",
            "2/2 [==============================] - 0s 5ms/step - loss: 3.1015 - mae: 3.1015\n",
            "Epoch 97/100\n",
            "2/2 [==============================] - 0s 8ms/step - loss: 3.5800 - mae: 3.5800\n",
            "Epoch 98/100\n",
            "2/2 [==============================] - 0s 5ms/step - loss: 2.2834 - mae: 2.2834\n",
            "Epoch 99/100\n",
            "2/2 [==============================] - 0s 39ms/step - loss: 3.0430 - mae: 3.0430\n",
            "Epoch 100/100\n",
            "2/2 [==============================] - 0s 7ms/step - loss: 2.3204 - mae: 2.3204\n"
          ]
        },
        {
          "output_type": "execute_result",
          "data": {
            "text/plain": [
              "<keras.callbacks.History at 0x7f94784daaf0>"
            ]
          },
          "metadata": {},
          "execution_count": 26
        }
      ]
    },
    {
      "cell_type": "code",
      "source": [
        "model.summary()"
      ],
      "metadata": {
        "colab": {
          "base_uri": "https://localhost:8080/"
        },
        "id": "olpJpZ8D8UNs",
        "outputId": "5a9eaff1-0985-46df-ffa1-39de79e8ead6"
      },
      "execution_count": null,
      "outputs": [
        {
          "output_type": "stream",
          "name": "stdout",
          "text": [
            "Model: \"Model\"\n",
            "_________________________________________________________________\n",
            " Layer (type)                Output Shape              Param #   \n",
            "=================================================================\n",
            " input_layer (Dense)         (None, 30)                60        \n",
            "                                                                 \n",
            " dropout_1 (Dropout)         (None, 30)                0         \n",
            "                                                                 \n",
            " output_layer (Dense)        (None, 1)                 31        \n",
            "                                                                 \n",
            "=================================================================\n",
            "Total params: 91\n",
            "Trainable params: 91\n",
            "Non-trainable params: 0\n",
            "_________________________________________________________________\n"
          ]
        }
      ]
    },
    {
      "cell_type": "markdown",
      "source": [
        "* Total param - total number of parameters in model \n",
        "* Train  params - these are parameters (patterns) the model can update it as trains\n",
        "* Non-Trainable params - THese parameters aren't updated during parameter (When we u)"
      ],
      "metadata": {
        "id": "D0zsgl8R5ydJ"
      }
    },
    {
      "cell_type": "code",
      "source": [
        "from tensorflow.keras.utils import plot_model\n",
        "plot_model(model=model,show_shapes=True)   #Vary handy whem we create bigger model"
      ],
      "metadata": {
        "colab": {
          "base_uri": "https://localhost:8080/",
          "height": 422
        },
        "id": "brsOSaum6bDj",
        "outputId": "df48b5d3-4eae-450f-86c1-9de3cb223310"
      },
      "execution_count": null,
      "outputs": [
        {
          "output_type": "execute_result",
          "data": {
            "image/png": "[encoded data removed]",
            "text/plain": [
              "<IPython.core.display.Image object>"
            ]
          },
          "metadata": {},
          "execution_count": 28
        }
      ]
    },
    {
      "cell_type": "markdown",
      "source": [
        "### Visualise our model's prediction\n",
        "> Plot them against ground truth labels\n",
        "\n",
        "often you'll see this in form of y_test or y_true versus y_pred"
      ],
      "metadata": {
        "id": "vC75zWxU6bXS"
      }
    },
    {
      "cell_type": "code",
      "source": [
        "y_pred=model.predict(X_test)\n",
        "y_pred"
      ],
      "metadata": {
        "colab": {
          "base_uri": "https://localhost:8080/"
        },
        "id": "mGw68UTr6cq8",
        "outputId": "e7197e60-6551-4f01-9227-cd18150f15ee"
      },
      "execution_count": null,
      "outputs": [
        {
          "output_type": "stream",
          "name": "stdout",
          "text": [
            "1/1 [==============================] - 0s 107ms/step\n"
          ]
        },
        {
          "output_type": "execute_result",
          "data": {
            "text/plain": [
              "array([[ 68.95064 ],\n",
              "       [ 72.87901 ],\n",
              "       [ 76.807396],\n",
              "       [ 80.735756],\n",
              "       [ 84.66415 ],\n",
              "       [ 88.592514],\n",
              "       [ 92.5209  ],\n",
              "       [ 96.44927 ],\n",
              "       [100.37764 ],\n",
              "       [104.306015]], dtype=float32)"
            ]
          },
          "metadata": {},
          "execution_count": 29
        }
      ]
    },
    {
      "cell_type": "code",
      "source": [
        "y_test"
      ],
      "metadata": {
        "colab": {
          "base_uri": "https://localhost:8080/"
        },
        "id": "Gx13oHt0AcwM",
        "outputId": "6cd6cca0-8fa9-4e83-f45e-b0dd23278b95"
      },
      "execution_count": null,
      "outputs": [
        {
          "output_type": "execute_result",
          "data": {
            "text/plain": [
              "<tf.Tensor: shape=(10,), dtype=int32, numpy=array([ 70,  74,  78,  82,  86,  90,  94,  98, 102, 106], dtype=int32)>"
            ]
          },
          "metadata": {},
          "execution_count": 30
        }
      ]
    },
    {
      "cell_type": "markdown",
      "source": [
        "**Note** if you feel like you're going to reusee some kind functionality in future, it'a good idea to cinvert to funciton"
      ],
      "metadata": {
        "id": "umPIfzCrA9c8"
      }
    },
    {
      "cell_type": "code",
      "source": [
        "def fun_plot(train_data=X_train,\n",
        "             train_labels=y_train,\n",
        "             test_data=X_test,\n",
        "             test_labels=y_test,\n",
        "             predictions=y_pred):\n",
        "  plt.figure(figsize=(10,7))\n",
        "  plt.scatter(train_data,train_labels,c=\"b\",label=\"Training data\")\n",
        "  plt.scatter(test_data,test_labels,c=\"g\",label=\"Testing data \")\n",
        "  plt.scatter(test_data,predictions,c='r',label=\"Predictions\")\n",
        "  plt.legend()"
      ],
      "metadata": {
        "id": "eCXDQZBJFNkQ"
      },
      "execution_count": null,
      "outputs": []
    },
    {
      "cell_type": "code",
      "source": [
        "fun_plot()"
      ],
      "metadata": {
        "colab": {
          "base_uri": "https://localhost:8080/",
          "height": 428
        },
        "id": "4oQrrJPAGQxE",
        "outputId": "4a4924b7-3727-458d-e924-818a21d3519b"
      },
      "execution_count": null,
      "outputs": [
        {
          "output_type": "display_data",
          "data": {
            "text/plain": [
              "<Figure size 720x504 with 1 Axes>"
            ],
            "image/png": "[encoded data removed]"
          },
          "metadata": {
            "needs_background": "light"
          }
        }
      ]
    },
    {
      "cell_type": "markdown",
      "source": [
        "### Evaluating our model's prediction with regression evaluation metrics\n",
        "\n",
        "For regression 2 main type of metrics are -\n",
        "\n",
        "> mean absolute error\n",
        "> * tf.keras.losses.mae\n",
        "> * tf.metrics.mean_absolute_error()\n",
        "\n",
        "> mean square error(WHen larger error are more significant than smaller error)\n",
        "\n",
        "> Huber (MSE+MAE less sensative to outliers)"
      ],
      "metadata": {
        "id": "r5ZXHLNQGtR5"
      }
    },
    {
      "cell_type": "code",
      "source": [
        "# Evaluate model on the test \n",
        "model.evaluate(X_test,y_test)"
      ],
      "metadata": {
        "colab": {
          "base_uri": "https://localhost:8080/"
        },
        "id": "mvJ-TAZlH6mR",
        "outputId": "b138c7c3-34b7-4e31-ffd4-4acebe89b1c9"
      },
      "execution_count": null,
      "outputs": [
        {
          "output_type": "stream",
          "name": "stdout",
          "text": [
            "1/1 [==============================] - 0s 258ms/step - loss: 1.3717 - mae: 1.3717\n"
          ]
        },
        {
          "output_type": "execute_result",
          "data": {
            "text/plain": [
              "[1.3716751337051392, 1.3716751337051392]"
            ]
          },
          "metadata": {},
          "execution_count": 33
        }
      ]
    },
    {
      "cell_type": "code",
      "source": [
        "tf.constant(y_pred)"
      ],
      "metadata": {
        "colab": {
          "base_uri": "https://localhost:8080/"
        },
        "id": "cnDXe3wjJhBO",
        "outputId": "420e9e9f-16af-49ad-f538-928af305f487"
      },
      "execution_count": null,
      "outputs": [
        {
          "output_type": "execute_result",
          "data": {
            "text/plain": [
              "<tf.Tensor: shape=(10, 1), dtype=float32, numpy=\n",
              "array([[ 68.95064 ],\n",
              "       [ 72.87901 ],\n",
              "       [ 76.807396],\n",
              "       [ 80.735756],\n",
              "       [ 84.66415 ],\n",
              "       [ 88.592514],\n",
              "       [ 92.5209  ],\n",
              "       [ 96.44927 ],\n",
              "       [100.37764 ],\n",
              "       [104.306015]], dtype=float32)>"
            ]
          },
          "metadata": {},
          "execution_count": 34
        }
      ]
    },
    {
      "cell_type": "code",
      "source": [
        "y_test"
      ],
      "metadata": {
        "colab": {
          "base_uri": "https://localhost:8080/"
        },
        "id": "egwbBKb5Ji2L",
        "outputId": "56687201-f860-48da-ad8f-b18cfa23961b"
      },
      "execution_count": null,
      "outputs": [
        {
          "output_type": "execute_result",
          "data": {
            "text/plain": [
              "<tf.Tensor: shape=(10,), dtype=int32, numpy=array([ 70,  74,  78,  82,  86,  90,  94,  98, 102, 106], dtype=int32)>"
            ]
          },
          "metadata": {},
          "execution_count": 35
        }
      ]
    },
    {
      "cell_type": "code",
      "source": [
        "# Calculate absolute error\n",
        "tf.metrics.mean_absolute_error(y_true=y_test,y_pred=tf.constant(y_pred))"
      ],
      "metadata": {
        "colab": {
          "base_uri": "https://localhost:8080/"
        },
        "id": "BYQS1zqPJHFB",
        "outputId": "9da2a6ac-b1b0-45cb-bc04-50f885cc6d00"
      },
      "execution_count": null,
      "outputs": [
        {
          "output_type": "execute_result",
          "data": {
            "text/plain": [
              "<tf.Tensor: shape=(10,), dtype=float32, numpy=\n",
              "array([19.049362, 15.69679 , 13.115562, 11.305697, 10.267171, 10.      ,\n",
              "       10.504179, 11.779709, 13.826584, 16.644812], dtype=float32)>"
            ]
          },
          "metadata": {},
          "execution_count": 36
        }
      ]
    },
    {
      "cell_type": "code",
      "source": [
        "# lets write function for evaluate of mse and mae\n",
        "def mae(y_true,y_pred):\n",
        "  return tf.metrics.mean_absolute_error(y_true,tf.squeeze(y_pred)).numpy()\n",
        "def mse(y_true,y_pred):\n",
        "  return tf.metrics.mean_squared_error(y_true,tf.squeeze(y_pred)).numpy()\n",
        "def huber(y_true,y_pred):\n",
        "  return tf.keras.losses.Huber(y_true,y_pred)"
      ],
      "metadata": {
        "id": "-IjdWgpWLVq2"
      },
      "execution_count": null,
      "outputs": []
    },
    {
      "cell_type": "code",
      "source": [
        "# We can see that shape of pred and test tensor is differnet this is cause pf confusion\n",
        "mae_1=mae(y_test,y_pred)"
      ],
      "metadata": {
        "id": "9-WnOJs3JH94"
      },
      "execution_count": null,
      "outputs": []
    },
    {
      "cell_type": "code",
      "source": [
        "# Mean square error\n",
        "mse_1=mse(y_test,y_pred)"
      ],
      "metadata": {
        "id": "muwAjrAdK9zq"
      },
      "execution_count": null,
      "outputs": []
    },
    {
      "cell_type": "markdown",
      "source": [
        "### Running experiment to improve our model\n",
        "1. Get more data\n",
        "2. Make model larger(more complex)\n",
        "3. Train for longer\n",
        "\n",
        "3 modelling experiments:\n",
        "1. 'model-1'- train for 100 epochs\n",
        "2. 'model-2'- 2layers ,trained for 100 epochs\n",
        "3. 'model-3' - 2 layers,trained for 500 epochs"
      ],
      "metadata": {
        "id": "KhQnyuKkL6is"
      }
    },
    {
      "cell_type": "code",
      "source": [
        "X_train,y_train"
      ],
      "metadata": {
        "colab": {
          "base_uri": "https://localhost:8080/"
        },
        "id": "pxCS9GGKynY8",
        "outputId": "3f365aec-5f73-4675-bb2c-0203364d8214"
      },
      "execution_count": null,
      "outputs": [
        {
          "output_type": "execute_result",
          "data": {
            "text/plain": [
              "(<tf.Tensor: shape=(40,), dtype=int32, numpy=\n",
              " array([-100,  -96,  -92,  -88,  -84,  -80,  -76,  -72,  -68,  -64,  -60,\n",
              "         -56,  -52,  -48,  -44,  -40,  -36,  -32,  -28,  -24,  -20,  -16,\n",
              "         -12,   -8,   -4,    0,    4,    8,   12,   16,   20,   24,   28,\n",
              "          32,   36,   40,   44,   48,   52,   56], dtype=int32)>,\n",
              " <tf.Tensor: shape=(40,), dtype=int32, numpy=\n",
              " array([-90, -86, -82, -78, -74, -70, -66, -62, -58, -54, -50, -46, -42,\n",
              "        -38, -34, -30, -26, -22, -18, -14, -10,  -6,  -2,   2,   6,  10,\n",
              "         14,  18,  22,  26,  30,  34,  38,  42,  46,  50,  54,  58,  62,\n",
              "         66], dtype=int32)>)"
            ]
          },
          "metadata": {},
          "execution_count": 40
        }
      ]
    },
    {
      "cell_type": "code",
      "source": [
        "# Let's create a model which builds automatically by defining input_shape\n",
        "tf.random.set_seed(42)\n",
        "\n",
        "model_1=tf.keras.Sequential([\n",
        "    tf.keras.layers.Dense(30,input_shape=[1],name='input_layer'),      #Fully connected netowork\n",
        "    tf.keras.layers.Dropout(0.1),\n",
        "    tf.keras.layers.Dense(1,name='output_layer')\n",
        "],name=\"Model\")\n",
        "\n",
        "model_1.compile(loss=tf.keras.losses.mean_absolute_error,\n",
        "              optimizer=tf.keras.optimizers.Adam(lr=0.01),\n",
        "              metrics=['mse'])\n",
        "\n",
        "model_1.fit(X_train,y_train,epochs=150)"
      ],
      "metadata": {
        "colab": {
          "base_uri": "https://localhost:8080/"
        },
        "id": "jELvRi1I7sMQ",
        "outputId": "95fb3708-9554-4ac9-fd03-0f80a1fc9fa7"
      },
      "execution_count": null,
      "outputs": [
        {
          "output_type": "stream",
          "name": "stdout",
          "text": [
            "Epoch 1/150\n",
            "2/2 [==============================] - 1s 7ms/step - loss: 24.0160 - mse: 822.4147\n",
            "Epoch 2/150\n",
            "2/2 [==============================] - 0s 8ms/step - loss: 12.2057 - mse: 223.5804\n",
            "Epoch 3/150\n",
            "2/2 [==============================] - 0s 9ms/step - loss: 11.0043 - mse: 172.8970\n",
            "Epoch 4/150\n",
            "2/2 [==============================] - 0s 5ms/step - loss: 12.4933 - mse: 195.8985\n",
            "Epoch 5/150\n",
            "2/2 [==============================] - 0s 7ms/step - loss: 10.9564 - mse: 173.7109\n",
            "Epoch 6/150\n",
            "2/2 [==============================] - 0s 8ms/step - loss: 11.8371 - mse: 163.7250\n",
            "Epoch 7/150\n",
            "2/2 [==============================] - 0s 11ms/step - loss: 8.8235 - mse: 95.5598\n",
            "Epoch 8/150\n",
            "2/2 [==============================] - 0s 12ms/step - loss: 8.5026 - mse: 83.8218\n",
            "Epoch 9/150\n",
            "2/2 [==============================] - 0s 13ms/step - loss: 8.9940 - mse: 103.0085\n",
            "Epoch 10/150\n",
            "2/2 [==============================] - 0s 7ms/step - loss: 8.8222 - mse: 102.5001\n",
            "Epoch 11/150\n",
            "2/2 [==============================] - 0s 6ms/step - loss: 8.8511 - mse: 101.8375\n",
            "Epoch 12/150\n",
            "2/2 [==============================] - 0s 6ms/step - loss: 7.9575 - mse: 78.5174\n",
            "Epoch 13/150\n",
            "2/2 [==============================] - 0s 6ms/step - loss: 9.1798 - mse: 98.4150\n",
            "Epoch 14/150\n",
            "2/2 [==============================] - 0s 4ms/step - loss: 8.4420 - mse: 88.0852\n",
            "Epoch 15/150\n",
            "2/2 [==============================] - 0s 5ms/step - loss: 8.3962 - mse: 84.8671\n",
            "Epoch 16/150\n",
            "2/2 [==============================] - 0s 4ms/step - loss: 7.1037 - mse: 67.8768\n",
            "Epoch 17/150\n",
            "2/2 [==============================] - 0s 5ms/step - loss: 7.0266 - mse: 65.1436\n",
            "Epoch 18/150\n",
            "2/2 [==============================] - 0s 5ms/step - loss: 8.3447 - mse: 101.8322\n",
            "Epoch 19/150\n",
            "2/2 [==============================] - 0s 5ms/step - loss: 8.6469 - mse: 103.5597\n",
            "Epoch 20/150\n",
            "2/2 [==============================] - 0s 5ms/step - loss: 8.5576 - mse: 110.8692\n",
            "Epoch 21/150\n",
            "2/2 [==============================] - 0s 4ms/step - loss: 7.8414 - mse: 90.5579\n",
            "Epoch 22/150\n",
            "2/2 [==============================] - 0s 7ms/step - loss: 7.4875 - mse: 71.6184\n",
            "Epoch 23/150\n",
            "2/2 [==============================] - 0s 12ms/step - loss: 6.1797 - mse: 51.6662\n",
            "Epoch 24/150\n",
            "2/2 [==============================] - 0s 6ms/step - loss: 6.8548 - mse: 64.2004\n",
            "Epoch 25/150\n",
            "2/2 [==============================] - 0s 4ms/step - loss: 7.2267 - mse: 63.5039\n",
            "Epoch 26/150\n",
            "2/2 [==============================] - 0s 6ms/step - loss: 7.0798 - mse: 63.9635\n",
            "Epoch 27/150\n",
            "2/2 [==============================] - 0s 5ms/step - loss: 6.5320 - mse: 64.7228\n",
            "Epoch 28/150\n",
            "2/2 [==============================] - 0s 9ms/step - loss: 6.1688 - mse: 54.8912\n",
            "Epoch 29/150\n",
            "2/2 [==============================] - 0s 7ms/step - loss: 6.4196 - mse: 63.3379\n",
            "Epoch 30/150\n",
            "2/2 [==============================] - 0s 4ms/step - loss: 7.0315 - mse: 65.3183\n",
            "Epoch 31/150\n",
            "2/2 [==============================] - 0s 9ms/step - loss: 6.5399 - mse: 63.5510\n",
            "Epoch 32/150\n",
            "2/2 [==============================] - 0s 15ms/step - loss: 6.4342 - mse: 68.0470\n",
            "Epoch 33/150\n",
            "2/2 [==============================] - 0s 7ms/step - loss: 5.0341 - mse: 34.7535\n",
            "Epoch 34/150\n",
            "2/2 [==============================] - 0s 18ms/step - loss: 6.2904 - mse: 65.3643\n",
            "Epoch 35/150\n",
            "2/2 [==============================] - 0s 10ms/step - loss: 5.4956 - mse: 42.2706\n",
            "Epoch 36/150\n",
            "2/2 [==============================] - 0s 13ms/step - loss: 6.6166 - mse: 71.8854\n",
            "Epoch 37/150\n",
            "2/2 [==============================] - 0s 8ms/step - loss: 6.4947 - mse: 67.3701\n",
            "Epoch 38/150\n",
            "2/2 [==============================] - 0s 9ms/step - loss: 5.3489 - mse: 39.5660\n",
            "Epoch 39/150\n",
            "2/2 [==============================] - 0s 4ms/step - loss: 5.7174 - mse: 41.8678\n",
            "Epoch 40/150\n",
            "2/2 [==============================] - 0s 7ms/step - loss: 5.6535 - mse: 44.9855\n",
            "Epoch 41/150\n",
            "2/2 [==============================] - 0s 9ms/step - loss: 4.9662 - mse: 35.2828\n",
            "Epoch 42/150\n",
            "2/2 [==============================] - 0s 20ms/step - loss: 4.5547 - mse: 29.8309\n",
            "Epoch 43/150\n",
            "2/2 [==============================] - 0s 6ms/step - loss: 4.3034 - mse: 27.1194\n",
            "Epoch 44/150\n",
            "2/2 [==============================] - 0s 16ms/step - loss: 3.3699 - mse: 20.1107\n",
            "Epoch 45/150\n",
            "2/2 [==============================] - 0s 5ms/step - loss: 4.3576 - mse: 38.5297\n",
            "Epoch 46/150\n",
            "2/2 [==============================] - 0s 6ms/step - loss: 5.0979 - mse: 40.7331\n",
            "Epoch 47/150\n",
            "2/2 [==============================] - 0s 6ms/step - loss: 4.7327 - mse: 54.9834\n",
            "Epoch 48/150\n",
            "2/2 [==============================] - 0s 6ms/step - loss: 4.9950 - mse: 39.2006\n",
            "Epoch 49/150\n",
            "2/2 [==============================] - 0s 25ms/step - loss: 3.8964 - mse: 30.5221\n",
            "Epoch 50/150\n",
            "2/2 [==============================] - 0s 6ms/step - loss: 3.2947 - mse: 21.2541\n",
            "Epoch 51/150\n",
            "2/2 [==============================] - 0s 8ms/step - loss: 3.2240 - mse: 34.9909\n",
            "Epoch 52/150\n",
            "2/2 [==============================] - 0s 8ms/step - loss: 3.5424 - mse: 28.4512\n",
            "Epoch 53/150\n",
            "2/2 [==============================] - 0s 6ms/step - loss: 2.9762 - mse: 18.6150\n",
            "Epoch 54/150\n",
            "2/2 [==============================] - 0s 9ms/step - loss: 3.4936 - mse: 23.3757\n",
            "Epoch 55/150\n",
            "2/2 [==============================] - 0s 5ms/step - loss: 2.9933 - mse: 14.9683\n",
            "Epoch 56/150\n",
            "2/2 [==============================] - 0s 4ms/step - loss: 2.7925 - mse: 13.8327\n",
            "Epoch 57/150\n",
            "2/2 [==============================] - 0s 19ms/step - loss: 4.3991 - mse: 48.3764\n",
            "Epoch 58/150\n",
            "2/2 [==============================] - 0s 11ms/step - loss: 3.5998 - mse: 26.6904\n",
            "Epoch 59/150\n",
            "2/2 [==============================] - 0s 5ms/step - loss: 3.6541 - mse: 23.3710\n",
            "Epoch 60/150\n",
            "2/2 [==============================] - 0s 15ms/step - loss: 3.4905 - mse: 24.2712\n",
            "Epoch 61/150\n",
            "2/2 [==============================] - 0s 6ms/step - loss: 3.3775 - mse: 20.5152\n",
            "Epoch 62/150\n",
            "2/2 [==============================] - 0s 15ms/step - loss: 2.7938 - mse: 16.1815\n",
            "Epoch 63/150\n",
            "2/2 [==============================] - 0s 20ms/step - loss: 4.0607 - mse: 40.5643\n",
            "Epoch 64/150\n",
            "2/2 [==============================] - 0s 4ms/step - loss: 3.2885 - mse: 28.4122\n",
            "Epoch 65/150\n",
            "2/2 [==============================] - 0s 6ms/step - loss: 3.3142 - mse: 20.1565\n",
            "Epoch 66/150\n",
            "2/2 [==============================] - 0s 12ms/step - loss: 3.0305 - mse: 15.9914\n",
            "Epoch 67/150\n",
            "2/2 [==============================] - 0s 4ms/step - loss: 3.2738 - mse: 20.3447\n",
            "Epoch 68/150\n",
            "2/2 [==============================] - 0s 8ms/step - loss: 3.0733 - mse: 23.0261\n",
            "Epoch 69/150\n",
            "2/2 [==============================] - 0s 5ms/step - loss: 3.3831 - mse: 21.4279\n",
            "Epoch 70/150\n",
            "2/2 [==============================] - 0s 11ms/step - loss: 2.9793 - mse: 18.8772\n",
            "Epoch 71/150\n",
            "2/2 [==============================] - 0s 8ms/step - loss: 2.7359 - mse: 14.7173\n",
            "Epoch 72/150\n",
            "2/2 [==============================] - 0s 13ms/step - loss: 2.7961 - mse: 16.5115\n",
            "Epoch 73/150\n",
            "2/2 [==============================] - 0s 6ms/step - loss: 2.6008 - mse: 15.3754\n",
            "Epoch 74/150\n",
            "2/2 [==============================] - 0s 10ms/step - loss: 2.4546 - mse: 14.4214\n",
            "Epoch 75/150\n",
            "2/2 [==============================] - 0s 7ms/step - loss: 2.4814 - mse: 16.1895\n",
            "Epoch 76/150\n",
            "2/2 [==============================] - 0s 4ms/step - loss: 2.6903 - mse: 13.3335\n",
            "Epoch 77/150\n",
            "2/2 [==============================] - 0s 10ms/step - loss: 2.4726 - mse: 10.4671\n",
            "Epoch 78/150\n",
            "2/2 [==============================] - 0s 9ms/step - loss: 2.4056 - mse: 10.9749\n",
            "Epoch 79/150\n",
            "2/2 [==============================] - 0s 4ms/step - loss: 2.9480 - mse: 17.1444\n",
            "Epoch 80/150\n",
            "2/2 [==============================] - 0s 11ms/step - loss: 2.1490 - mse: 9.3702\n",
            "Epoch 81/150\n",
            "2/2 [==============================] - 0s 6ms/step - loss: 2.3897 - mse: 13.0817\n",
            "Epoch 82/150\n",
            "2/2 [==============================] - 0s 8ms/step - loss: 2.8700 - mse: 18.0501\n",
            "Epoch 83/150\n",
            "2/2 [==============================] - 0s 8ms/step - loss: 2.3045 - mse: 9.2309\n",
            "Epoch 84/150\n",
            "2/2 [==============================] - 0s 5ms/step - loss: 2.2766 - mse: 9.3839\n",
            "Epoch 85/150\n",
            "2/2 [==============================] - 0s 4ms/step - loss: 3.0476 - mse: 22.0999\n",
            "Epoch 86/150\n",
            "2/2 [==============================] - 0s 7ms/step - loss: 2.7018 - mse: 15.5874\n",
            "Epoch 87/150\n",
            "2/2 [==============================] - 0s 4ms/step - loss: 2.6080 - mse: 12.2711\n",
            "Epoch 88/150\n",
            "2/2 [==============================] - 0s 10ms/step - loss: 3.2716 - mse: 20.1085\n",
            "Epoch 89/150\n",
            "2/2 [==============================] - 0s 14ms/step - loss: 4.2473 - mse: 33.2016\n",
            "Epoch 90/150\n",
            "2/2 [==============================] - 0s 7ms/step - loss: 3.2772 - mse: 29.3758\n",
            "Epoch 91/150\n",
            "2/2 [==============================] - 0s 13ms/step - loss: 3.9728 - mse: 34.1578\n",
            "Epoch 92/150\n",
            "2/2 [==============================] - 0s 10ms/step - loss: 2.6784 - mse: 17.5046\n",
            "Epoch 93/150\n",
            "2/2 [==============================] - 0s 4ms/step - loss: 2.8148 - mse: 14.6029\n",
            "Epoch 94/150\n",
            "2/2 [==============================] - 0s 24ms/step - loss: 4.1944 - mse: 37.0324\n",
            "Epoch 95/150\n",
            "2/2 [==============================] - 0s 8ms/step - loss: 2.7244 - mse: 13.8898\n",
            "Epoch 96/150\n",
            "2/2 [==============================] - 0s 7ms/step - loss: 3.1015 - mse: 21.3354\n",
            "Epoch 97/150\n",
            "2/2 [==============================] - 0s 10ms/step - loss: 3.5800 - mse: 25.1081\n",
            "Epoch 98/150\n",
            "2/2 [==============================] - 0s 5ms/step - loss: 2.2834 - mse: 8.9097\n",
            "Epoch 99/150\n",
            "2/2 [==============================] - 0s 7ms/step - loss: 3.0430 - mse: 17.9546\n",
            "Epoch 100/150\n",
            "2/2 [==============================] - 0s 15ms/step - loss: 2.3204 - mse: 11.2296\n",
            "Epoch 101/150\n",
            "2/2 [==============================] - 0s 10ms/step - loss: 2.3701 - mse: 13.3432\n",
            "Epoch 102/150\n",
            "2/2 [==============================] - 0s 7ms/step - loss: 2.0186 - mse: 11.0848\n",
            "Epoch 103/150\n",
            "2/2 [==============================] - 0s 7ms/step - loss: 2.5282 - mse: 13.9966\n",
            "Epoch 104/150\n",
            "2/2 [==============================] - 0s 6ms/step - loss: 2.2076 - mse: 9.4847\n",
            "Epoch 105/150\n",
            "2/2 [==============================] - 0s 8ms/step - loss: 2.0170 - mse: 10.0199\n",
            "Epoch 106/150\n",
            "2/2 [==============================] - 0s 4ms/step - loss: 2.1368 - mse: 9.1268\n",
            "Epoch 107/150\n",
            "2/2 [==============================] - 0s 30ms/step - loss: 2.3375 - mse: 10.1192\n",
            "Epoch 108/150\n",
            "2/2 [==============================] - 0s 36ms/step - loss: 2.6193 - mse: 13.6097\n",
            "Epoch 109/150\n",
            "2/2 [==============================] - 0s 9ms/step - loss: 2.1074 - mse: 7.9441\n",
            "Epoch 110/150\n",
            "2/2 [==============================] - 0s 18ms/step - loss: 2.1421 - mse: 7.9626\n",
            "Epoch 111/150\n",
            "2/2 [==============================] - 0s 36ms/step - loss: 2.2474 - mse: 10.4180\n",
            "Epoch 112/150\n",
            "2/2 [==============================] - 0s 14ms/step - loss: 2.8052 - mse: 14.0385\n",
            "Epoch 113/150\n",
            "2/2 [==============================] - 0s 4ms/step - loss: 2.5016 - mse: 10.9184\n",
            "Epoch 114/150\n",
            "2/2 [==============================] - 0s 10ms/step - loss: 2.1635 - mse: 8.3741\n",
            "Epoch 115/150\n",
            "2/2 [==============================] - 0s 4ms/step - loss: 2.8496 - mse: 14.9093\n",
            "Epoch 116/150\n",
            "2/2 [==============================] - 0s 12ms/step - loss: 2.6070 - mse: 18.4879\n",
            "Epoch 117/150\n",
            "2/2 [==============================] - 0s 18ms/step - loss: 2.5233 - mse: 13.3197\n",
            "Epoch 118/150\n",
            "2/2 [==============================] - 0s 30ms/step - loss: 2.4629 - mse: 11.0279\n",
            "Epoch 119/150\n",
            "2/2 [==============================] - 0s 11ms/step - loss: 2.7428 - mse: 11.7064\n",
            "Epoch 120/150\n",
            "2/2 [==============================] - 0s 17ms/step - loss: 2.4357 - mse: 12.7011\n",
            "Epoch 121/150\n",
            "2/2 [==============================] - 0s 10ms/step - loss: 2.0267 - mse: 8.2808\n",
            "Epoch 122/150\n",
            "2/2 [==============================] - 0s 10ms/step - loss: 3.0394 - mse: 22.8793\n",
            "Epoch 123/150\n",
            "2/2 [==============================] - 0s 29ms/step - loss: 2.5227 - mse: 15.1949\n",
            "Epoch 124/150\n",
            "2/2 [==============================] - 0s 6ms/step - loss: 2.6516 - mse: 14.5332\n",
            "Epoch 125/150\n",
            "2/2 [==============================] - 0s 13ms/step - loss: 3.3138 - mse: 20.7575\n",
            "Epoch 126/150\n",
            "2/2 [==============================] - 0s 5ms/step - loss: 3.9077 - mse: 25.5907\n",
            "Epoch 127/150\n",
            "2/2 [==============================] - 0s 15ms/step - loss: 2.7580 - mse: 15.6230\n",
            "Epoch 128/150\n",
            "2/2 [==============================] - 0s 6ms/step - loss: 3.4985 - mse: 27.1552\n",
            "Epoch 129/150\n",
            "2/2 [==============================] - 0s 4ms/step - loss: 3.7688 - mse: 29.4515\n",
            "Epoch 130/150\n",
            "2/2 [==============================] - 0s 5ms/step - loss: 3.0643 - mse: 16.4923\n",
            "Epoch 131/150\n",
            "2/2 [==============================] - 0s 23ms/step - loss: 3.0831 - mse: 18.6615\n",
            "Epoch 132/150\n",
            "2/2 [==============================] - 0s 8ms/step - loss: 2.8054 - mse: 12.6308\n",
            "Epoch 133/150\n",
            "2/2 [==============================] - 0s 7ms/step - loss: 2.6885 - mse: 15.4390\n",
            "Epoch 134/150\n",
            "2/2 [==============================] - 0s 8ms/step - loss: 2.0155 - mse: 11.7093\n",
            "Epoch 135/150\n",
            "2/2 [==============================] - 0s 12ms/step - loss: 2.3190 - mse: 12.4368\n",
            "Epoch 136/150\n",
            "2/2 [==============================] - 0s 4ms/step - loss: 2.7138 - mse: 13.2091\n",
            "Epoch 137/150\n",
            "2/2 [==============================] - 0s 22ms/step - loss: 2.3042 - mse: 10.6791\n",
            "Epoch 138/150\n",
            "2/2 [==============================] - 0s 5ms/step - loss: 3.2033 - mse: 17.0504\n",
            "Epoch 139/150\n",
            "2/2 [==============================] - 0s 18ms/step - loss: 2.5197 - mse: 14.0784\n",
            "Epoch 140/150\n",
            "2/2 [==============================] - 0s 5ms/step - loss: 1.9241 - mse: 7.1586\n",
            "Epoch 141/150\n",
            "2/2 [==============================] - 0s 11ms/step - loss: 2.7064 - mse: 18.5358\n",
            "Epoch 142/150\n",
            "2/2 [==============================] - 0s 7ms/step - loss: 2.4199 - mse: 10.6493\n",
            "Epoch 143/150\n",
            "2/2 [==============================] - 0s 11ms/step - loss: 2.4297 - mse: 12.8520\n",
            "Epoch 144/150\n",
            "2/2 [==============================] - 0s 15ms/step - loss: 3.3855 - mse: 20.0051\n",
            "Epoch 145/150\n",
            "2/2 [==============================] - 0s 26ms/step - loss: 2.5016 - mse: 12.9139\n",
            "Epoch 146/150\n",
            "2/2 [==============================] - 0s 11ms/step - loss: 1.9078 - mse: 6.5484\n",
            "Epoch 147/150\n",
            "2/2 [==============================] - 0s 6ms/step - loss: 2.6504 - mse: 15.7512\n",
            "Epoch 148/150\n",
            "2/2 [==============================] - 0s 6ms/step - loss: 2.6165 - mse: 11.9264\n",
            "Epoch 149/150\n",
            "2/2 [==============================] - 0s 7ms/step - loss: 1.8399 - mse: 11.3160\n",
            "Epoch 150/150\n",
            "2/2 [==============================] - 0s 4ms/step - loss: 2.6727 - mse: 14.5239\n"
          ]
        },
        {
          "output_type": "execute_result",
          "data": {
            "text/plain": [
              "<keras.callbacks.History at 0x7f9481081670>"
            ]
          },
          "metadata": {},
          "execution_count": 41
        }
      ]
    },
    {
      "cell_type": "code",
      "source": [
        "y_pred3=model_1.predict(X_test)"
      ],
      "metadata": {
        "colab": {
          "base_uri": "https://localhost:8080/"
        },
        "id": "iKz7LAQF9wUM",
        "outputId": "a141e305-b1d5-4b34-dde9-835817168dfc"
      },
      "execution_count": null,
      "outputs": [
        {
          "output_type": "stream",
          "name": "stderr",
          "text": [
            "WARNING:tensorflow:5 out of the last 5 calls to <function Model.make_predict_function.<locals>.predict_function at 0x7f9481090dc0> triggered tf.function retracing. Tracing is expensive and the excessive number of tracings could be due to (1) creating @tf.function repeatedly in a loop, (2) passing tensors with different shapes, (3) passing Python objects instead of tensors. For (1), please define your @tf.function outside of the loop. For (2), @tf.function has reduce_retracing=True option that can avoid unnecessary retracing. For (3), please refer to https://www.tensorflow.org/guide/function#controlling_retracing and https://www.tensorflow.org/api_docs/python/tf/function for  more details.\n"
          ]
        },
        {
          "output_type": "stream",
          "name": "stdout",
          "text": [
            "1/1 [==============================] - 0s 198ms/step\n"
          ]
        }
      ]
    },
    {
      "cell_type": "code",
      "source": [
        "mae3=mae(y_test,y_pred3)\n",
        "mse3=mse(y_test,y_pred3)\n",
        "mae3,mse3"
      ],
      "metadata": {
        "colab": {
          "base_uri": "https://localhost:8080/"
        },
        "id": "f1P6E31W-lOM",
        "outputId": "96ef7ce8-058f-49af-d3bf-ed0abcac8c6c"
      },
      "execution_count": null,
      "outputs": [
        {
          "output_type": "execute_result",
          "data": {
            "text/plain": [
              "(2.31885, 5.4972925)"
            ]
          },
          "metadata": {},
          "execution_count": 43
        }
      ]
    },
    {
      "cell_type": "code",
      "source": [
        "fun_plot(predictions=y_pred3)"
      ],
      "metadata": {
        "colab": {
          "base_uri": "https://localhost:8080/",
          "height": 428
        },
        "id": "l6bGLJ0MAA7n",
        "outputId": "355cebf7-fbe3-4244-d380-d957e3a83ef2"
      },
      "execution_count": null,
      "outputs": [
        {
          "output_type": "display_data",
          "data": {
            "text/plain": [
              "<Figure size 720x504 with 1 Axes>"
            ],
            "image/png": "[encoded data removed]"
          },
          "metadata": {
            "needs_background": "light"
          }
        }
      ]
    },
    {
      "cell_type": "markdown",
      "source": [
        "**Note**: You want to start with small experiment(small model) and make sure they work and then improve"
      ],
      "metadata": {
        "id": "XXRbYYf9BDtP"
      }
    },
    {
      "cell_type": "markdown",
      "source": [
        "### Compare results of our experiments"
      ],
      "metadata": {
        "id": "PhUgt5kAA1XX"
      }
    },
    {
      "cell_type": "code",
      "source": [
        "import pandas as pd\n",
        "model_results=[['model_1',mae_1,mse_1],\n",
        "               ['model_2',mae3,mse3]]\n",
        "all_results=pd.DataFrame(model_results,columns=['model','mae','mse'])\n",
        "all_results"
      ],
      "metadata": {
        "colab": {
          "base_uri": "https://localhost:8080/",
          "height": 112
        },
        "id": "2IByNFHRBTWw",
        "outputId": "4638760a-acae-41ad-ec07-01811247241e"
      },
      "execution_count": null,
      "outputs": [
        {
          "output_type": "execute_result",
          "data": {
            "text/plain": [
              "     model       mae       mse\n",
              "0  model_1  1.371671  1.923805\n",
              "1  model_2  2.318850  5.497293"
            ],
            "text/html": [
              "\n",
              "  <div id=\"df-c509d805-a691-4618-be57-bf4161345180\">\n",
              "    <div class=\"colab-df-container\">\n",
              "      <div>\n",
              "<style scoped>\n",
              "    .dataframe tbody tr th:only-of-type {\n",
              "        vertical-align: middle;\n",
              "    }\n",
              "\n",
              "    .dataframe tbody tr th {\n",
              "        vertical-align: top;\n",
              "    }\n",
              "\n",
              "    .dataframe thead th {\n",
              "        text-align: right;\n",
              "    }\n",
              "</style>\n",
              "<table border=\"1\" class=\"dataframe\">\n",
              "  <thead>\n",
              "    <tr style=\"text-align: right;\">\n",
              "      <th></th>\n",
              "      <th>model</th>\n",
              "      <th>mae</th>\n",
              "      <th>mse</th>\n",
              "    </tr>\n",
              "  </thead>\n",
              "  <tbody>\n",
              "    <tr>\n",
              "      <th>0</th>\n",
              "      <td>model_1</td>\n",
              "      <td>1.371671</td>\n",
              "      <td>1.923805</td>\n",
              "    </tr>\n",
              "    <tr>\n",
              "      <th>1</th>\n",
              "      <td>model_2</td>\n",
              "      <td>2.318850</td>\n",
              "      <td>5.497293</td>\n",
              "    </tr>\n",
              "  </tbody>\n",
              "</table>\n",
              "</div>\n",
              "      <button class=\"colab-df-convert\" onclick=\"convertToInteractive('df-c509d805-a691-4618-be57-bf4161345180')\"\n",
              "              title=\"Convert this dataframe to an interactive table.\"\n",
              "              style=\"display:none;\">\n",
              "        \n",
              "  <svg xmlns=\"http://www.w3.org/2000/svg\" height=\"24px\"viewBox=\"0 0 24 24\"\n",
              "       width=\"24px\">\n",
              "    <path d=\"M0 0h24v24H0V0z\" fill=\"none\"/>\n",
              "    <path d=\"M18.56 5.44l.94 2.06.94-2.06 2.06-.94-2.06-.94-.94-2.06-.94 2.06-2.06.94zm-11 1L8.5 8.5l.94-2.06 2.06-.94-2.06-.94L8.5 2.5l-.94 2.06-2.06.94zm10 10l.94 2.06.94-2.06 2.06-.94-2.06-.94-.94-2.06-.94 2.06-2.06.94z\"/><path d=\"M17.41 7.96l-1.37-1.37c-.4-.4-.92-.59-1.43-.59-.52 0-1.04.2-1.43.59L10.3 9.45l-7.72 7.72c-.78.78-.78 2.05 0 2.83L4 21.41c.39.39.9.59 1.41.59.51 0 1.02-.2 1.41-.59l7.78-7.78 2.81-2.81c.8-.78.8-2.07 0-2.86zM5.41 20L4 18.59l7.72-7.72 1.47 1.35L5.41 20z\"/>\n",
              "  </svg>\n",
              "      </button>\n",
              "      \n",
              "  <style>\n",
              "    .colab-df-container {\n",
              "      display:flex;\n",
              "      flex-wrap:wrap;\n",
              "      gap: 12px;\n",
              "    }\n",
              "\n",
              "    .colab-df-convert {\n",
              "      background-color: #E8F0FE;\n",
              "      border: none;\n",
              "      border-radius: 50%;\n",
              "      cursor: pointer;\n",
              "      display: none;\n",
              "      fill: #1967D2;\n",
              "      height: 32px;\n",
              "      padding: 0 0 0 0;\n",
              "      width: 32px;\n",
              "    }\n",
              "\n",
              "    .colab-df-convert:hover {\n",
              "      background-color: #E2EBFA;\n",
              "      box-shadow: 0px 1px 2px rgba(60, 64, 67, 0.3), 0px 1px 3px 1px rgba(60, 64, 67, 0.15);\n",
              "      fill: #174EA6;\n",
              "    }\n",
              "\n",
              "    [theme=dark] .colab-df-convert {\n",
              "      background-color: #3B4455;\n",
              "      fill: #D2E3FC;\n",
              "    }\n",
              "\n",
              "    [theme=dark] .colab-df-convert:hover {\n",
              "      background-color: #434B5C;\n",
              "      box-shadow: 0px 1px 3px 1px rgba(0, 0, 0, 0.15);\n",
              "      filter: drop-shadow(0px 1px 2px rgba(0, 0, 0, 0.3));\n",
              "      fill: #FFFFFF;\n",
              "    }\n",
              "  </style>\n",
              "\n",
              "      <script>\n",
              "        const buttonEl =\n",
              "          document.querySelector('#df-c509d805-a691-4618-be57-bf4161345180 button.colab-df-convert');\n",
              "        buttonEl.style.display =\n",
              "          google.colab.kernel.accessAllowed ? 'block' : 'none';\n",
              "\n",
              "        async function convertToInteractive(key) {\n",
              "          const element = document.querySelector('#df-c509d805-a691-4618-be57-bf4161345180');\n",
              "          const dataTable =\n",
              "            await google.colab.kernel.invokeFunction('convertToInteractive',\n",
              "                                                     [key], {});\n",
              "          if (!dataTable) return;\n",
              "\n",
              "          const docLinkHtml = 'Like what you see? Visit the ' +\n",
              "            '<a target=\"_blank\" href=https://colab.research.google.com/notebooks/data_table.ipynb>data table notebook</a>'\n",
              "            + ' to learn more about interactive tables.';\n",
              "          element.innerHTML = '';\n",
              "          dataTable['output_type'] = 'display_data';\n",
              "          await google.colab.output.renderOutput(dataTable, element);\n",
              "          const docLink = document.createElement('div');\n",
              "          docLink.innerHTML = docLinkHtml;\n",
              "          element.appendChild(docLink);\n",
              "        }\n",
              "      </script>\n",
              "    </div>\n",
              "  </div>\n",
              "  "
            ]
          },
          "metadata": {},
          "execution_count": 45
        }
      ]
    },
    {
      "cell_type": "code",
      "source": [
        "model.summary()"
      ],
      "metadata": {
        "colab": {
          "base_uri": "https://localhost:8080/"
        },
        "id": "X-za5MXZBTyq",
        "outputId": "222a9824-8f20-4b85-ad8a-111060620cc9"
      },
      "execution_count": null,
      "outputs": [
        {
          "output_type": "stream",
          "name": "stdout",
          "text": [
            "Model: \"Model\"\n",
            "_________________________________________________________________\n",
            " Layer (type)                Output Shape              Param #   \n",
            "=================================================================\n",
            " input_layer (Dense)         (None, 30)                60        \n",
            "                                                                 \n",
            " dropout_1 (Dropout)         (None, 30)                0         \n",
            "                                                                 \n",
            " output_layer (Dense)        (None, 1)                 31        \n",
            "                                                                 \n",
            "=================================================================\n",
            "Total params: 91\n",
            "Trainable params: 91\n",
            "Non-trainable params: 0\n",
            "_________________________________________________________________\n"
          ]
        }
      ]
    },
    {
      "cell_type": "markdown",
      "source": [
        "**Note**: One of your main goals should be to minimize the time between your experiments.The more experiments you do,the more things you'll figure out what doesn't work,get closure to what does work"
      ],
      "metadata": {
        "id": "ad8U-2qZCq66"
      }
    },
    {
      "cell_type": "markdown",
      "source": [
        "## Tracking your experiments\n",
        "\n",
        "1.   Track Results of experiments - TensorBoard - a component of Tensorflow library to help track modelling experiments\n",
        "2. Weights & Biases- Plugs-in of TensorBoard"
      ],
      "metadata": {
        "id": "NK_HY0NgDMtX"
      }
    },
    {
      "cell_type": "markdown",
      "source": [
        "## Saving our model\n",
        "\n",
        "Saving our model allows us to use them outside of google collab such as in web application or web application\n",
        "1. the SavedModel foemat\n",
        "2. The HDF5 format"
      ],
      "metadata": {
        "id": "OJb0llQEDxe9"
      }
    },
    {
      "cell_type": "code",
      "source": [
        "# Save model \n",
        "model.save(\"best_model_format\")"
      ],
      "metadata": {
        "id": "ik1jBPhl8w9J"
      },
      "execution_count": null,
      "outputs": []
    },
    {
      "cell_type": "code",
      "source": [
        "# Save model as hdf5 file\n",
        "model.save('best_model_hdf5_format.h5')"
      ],
      "metadata": {
        "id": "oiMFgKm296lC"
      },
      "execution_count": null,
      "outputs": []
    },
    {
      "cell_type": "markdown",
      "source": [
        "## Loading in saved model"
      ],
      "metadata": {
        "id": "oFO1wEBp97NL"
      }
    },
    {
      "cell_type": "code",
      "source": [
        "saved_model=tf.keras.models.load_model(\"/content/best_model_format\")\n",
        "saved_model.summary()"
      ],
      "metadata": {
        "colab": {
          "base_uri": "https://localhost:8080/"
        },
        "id": "Qo1ZNUbl7_nu",
        "outputId": "cfde2d03-a424-4582-e6dc-f20152c1a787"
      },
      "execution_count": null,
      "outputs": [
        {
          "output_type": "stream",
          "name": "stdout",
          "text": [
            "Model: \"Model\"\n",
            "_________________________________________________________________\n",
            " Layer (type)                Output Shape              Param #   \n",
            "=================================================================\n",
            " input_layer (Dense)         (None, 30)                60        \n",
            "                                                                 \n",
            " dropout_1 (Dropout)         (None, 30)                0         \n",
            "                                                                 \n",
            " output_layer (Dense)        (None, 1)                 31        \n",
            "                                                                 \n",
            "=================================================================\n",
            "Total params: 91\n",
            "Trainable params: 91\n",
            "Non-trainable params: 0\n",
            "_________________________________________________________________\n"
          ]
        }
      ]
    },
    {
      "cell_type": "code",
      "source": [
        "model.summary()"
      ],
      "metadata": {
        "colab": {
          "base_uri": "https://localhost:8080/"
        },
        "id": "p1aN0T81AaJg",
        "outputId": "d18f3935-ea09-4847-b22a-bebfe6be76b0"
      },
      "execution_count": null,
      "outputs": [
        {
          "output_type": "stream",
          "name": "stdout",
          "text": [
            "Model: \"Model\"\n",
            "_________________________________________________________________\n",
            " Layer (type)                Output Shape              Param #   \n",
            "=================================================================\n",
            " input_layer (Dense)         (None, 30)                60        \n",
            "                                                                 \n",
            " dropout_1 (Dropout)         (None, 30)                0         \n",
            "                                                                 \n",
            " output_layer (Dense)        (None, 1)                 31        \n",
            "                                                                 \n",
            "=================================================================\n",
            "Total params: 91\n",
            "Trainable params: 91\n",
            "Non-trainable params: 0\n",
            "_________________________________________________________________\n"
          ]
        }
      ]
    },
    {
      "cell_type": "code",
      "source": [
        "#Compare model to saved model\n",
        "model_preds=model(y_test)\n",
        "smodel=saved_model(y_test)\n",
        "model_preds==smodel"
      ],
      "metadata": {
        "colab": {
          "base_uri": "https://localhost:8080/"
        },
        "id": "pXj4bIs9AfPX",
        "outputId": "0e386c15-9dc4-4f3f-c20d-69eb27dd1b7d"
      },
      "execution_count": null,
      "outputs": [
        {
          "output_type": "execute_result",
          "data": {
            "text/plain": [
              "<tf.Tensor: shape=(10, 1), dtype=bool, numpy=\n",
              "array([[ True],\n",
              "       [ True],\n",
              "       [ True],\n",
              "       [ True],\n",
              "       [ True],\n",
              "       [ True],\n",
              "       [ True],\n",
              "       [ True],\n",
              "       [ True],\n",
              "       [ True]])>"
            ]
          },
          "metadata": {},
          "execution_count": 51
        }
      ]
    },
    {
      "cell_type": "code",
      "source": [
        "mae(y_test,model_preds)==mae(y_test,smodel)"
      ],
      "metadata": {
        "colab": {
          "base_uri": "https://localhost:8080/"
        },
        "id": "2PaOW4JwAfe3",
        "outputId": "975f4723-1043-4442-d18d-77fd82bfafa3"
      },
      "execution_count": null,
      "outputs": [
        {
          "output_type": "execute_result",
          "data": {
            "text/plain": [
              "True"
            ]
          },
          "metadata": {},
          "execution_count": 52
        }
      ]
    },
    {
      "cell_type": "code",
      "source": [
        "# Load in model using h5 model\n",
        "load_h5_model=tf.keras.models.load_model('/content/best_model_hdf5_format.h5')\n",
        "load_h5_model.summary()"
      ],
      "metadata": {
        "colab": {
          "base_uri": "https://localhost:8080/"
        },
        "id": "XrWJph46Af0J",
        "outputId": "d5c48ee9-229f-4f65-bd3a-756c9c515c4c"
      },
      "execution_count": null,
      "outputs": [
        {
          "output_type": "stream",
          "name": "stdout",
          "text": [
            "Model: \"Model\"\n",
            "_________________________________________________________________\n",
            " Layer (type)                Output Shape              Param #   \n",
            "=================================================================\n",
            " input_layer (Dense)         (None, 30)                60        \n",
            "                                                                 \n",
            " dropout_1 (Dropout)         (None, 30)                0         \n",
            "                                                                 \n",
            " output_layer (Dense)        (None, 1)                 31        \n",
            "                                                                 \n",
            "=================================================================\n",
            "Total params: 91\n",
            "Trainable params: 91\n",
            "Non-trainable params: 0\n",
            "_________________________________________________________________\n"
          ]
        }
      ]
    },
    {
      "cell_type": "code",
      "source": [
        "# Check predicition\n",
        "h5_model=load_h5_model(y_test)\n",
        "h5_model==model_preds"
      ],
      "metadata": {
        "colab": {
          "base_uri": "https://localhost:8080/"
        },
        "id": "tzlM5JquCC-R",
        "outputId": "aefd2045-0fe0-468e-b0c8-7c7f87708bee"
      },
      "execution_count": null,
      "outputs": [
        {
          "output_type": "execute_result",
          "data": {
            "text/plain": [
              "<tf.Tensor: shape=(10, 1), dtype=bool, numpy=\n",
              "array([[ True],\n",
              "       [ True],\n",
              "       [ True],\n",
              "       [ True],\n",
              "       [ True],\n",
              "       [ True],\n",
              "       [ True],\n",
              "       [ True],\n",
              "       [ True],\n",
              "       [ True]])>"
            ]
          },
          "metadata": {},
          "execution_count": 54
        }
      ]
    },
    {
      "cell_type": "markdown",
      "source": [
        "### Download our collab file to use them outside\n",
        "1. Got to 'file tab' right click and download\n",
        "2. USe code\n",
        "3. Save it drive by connecting drive and copying it"
      ],
      "metadata": {
        "id": "kHFAI_r1CTd9"
      }
    },
    {
      "cell_type": "code",
      "source": [
        "from google.colab import files\n",
        "files.download(\"/content/best_model_format\")"
      ],
      "metadata": {
        "colab": {
          "base_uri": "https://localhost:8080/",
          "height": 34
        },
        "id": "D5FENcmjCUMI",
        "outputId": "587b0543-b794-4b3f-fb3c-f263a7b7041e"
      },
      "execution_count": null,
      "outputs": [
        {
          "output_type": "display_data",
          "data": {
            "text/plain": [
              "<IPython.core.display.Javascript object>"
            ],
            "application/javascript": [
              "\n",
              "    async function download(id, filename, size) {\n",
              "      if (!google.colab.kernel.accessAllowed) {\n",
              "        return;\n",
              "      }\n",
              "      const div = document.createElement('div');\n",
              "      const label = document.createElement('label');\n",
              "      label.textContent = `Downloading \"${filename}\": `;\n",
              "      div.appendChild(label);\n",
              "      const progress = document.createElement('progress');\n",
              "      progress.max = size;\n",
              "      div.appendChild(progress);\n",
              "      document.body.appendChild(div);\n",
              "\n",
              "      const buffers = [];\n",
              "      let downloaded = 0;\n",
              "\n",
              "      const channel = await google.colab.kernel.comms.open(id);\n",
              "      // Send a message to notify the kernel that we're ready.\n",
              "      channel.send({})\n",
              "\n",
              "      for await (const message of channel.messages) {\n",
              "        // Send a message to notify the kernel that we're ready.\n",
              "        channel.send({})\n",
              "        if (message.buffers) {\n",
              "          for (const buffer of message.buffers) {\n",
              "            buffers.push(buffer);\n",
              "            downloaded += buffer.byteLength;\n",
              "            progress.value = downloaded;\n",
              "          }\n",
              "        }\n",
              "      }\n",
              "      const blob = new Blob(buffers, {type: 'application/binary'});\n",
              "      const a = document.createElement('a');\n",
              "      a.href = window.URL.createObjectURL(blob);\n",
              "      a.download = filename;\n",
              "      div.appendChild(a);\n",
              "      a.click();\n",
              "      div.remove();\n",
              "    }\n",
              "  "
            ]
          },
          "metadata": {}
        },
        {
          "output_type": "display_data",
          "data": {
            "text/plain": [
              "<IPython.core.display.Javascript object>"
            ],
            "application/javascript": [
              "download(\"download_067bf49f-f5fa-4489-a98f-d5079da0f435\", \"best_model_format\", 4096)"
            ]
          },
          "metadata": {}
        }
      ]
    },
    {
      "cell_type": "code",
      "source": [
        "# Save a file from google collab to google drive\n",
        "!cp /content/best_model_hdf5_format.h5 /content/drive/MyDrive/Resume "
      ],
      "metadata": {
        "id": "-VqiACcECU2X"
      },
      "execution_count": null,
      "outputs": []
    },
    {
      "cell_type": "code",
      "source": [
        "!ls /content/drive/MyDrive/Resume "
      ],
      "metadata": {
        "colab": {
          "base_uri": "https://localhost:8080/"
        },
        "id": "cy_s8cHACVPm",
        "outputId": "faada96c-09e8-4504-9739-7ebba38534b1"
      },
      "execution_count": null,
      "outputs": [
        {
          "output_type": "stream",
          "name": "stdout",
          "text": [
            " best_model_hdf5_format.h5  'Copy of Sanchay Vashist(Resume).docx.pdf'\n"
          ]
        }
      ]
    },
    {
      "cell_type": "markdown",
      "source": [
        "## A larger Example"
      ],
      "metadata": {
        "id": "FMwJQW8NEwpj"
      }
    },
    {
      "cell_type": "code",
      "source": [
        "# import required libraries \n",
        "import tensorflow as tf\n",
        "import pandas as pd\n",
        "import matplotlib.pyplot as plt"
      ],
      "metadata": {
        "id": "S_RfI4E_E0zv"
      },
      "execution_count": null,
      "outputs": []
    },
    {
      "cell_type": "code",
      "source": [
        "# laoad data\n",
        "insurance=pd.read_csv(\"https://raw.githubusercontent.com/stedy/Machine-Learning-with-R-datasets/master/insurance.csv\")\n",
        "insurance"
      ],
      "metadata": {
        "colab": {
          "base_uri": "https://localhost:8080/",
          "height": 424
        },
        "id": "rQrzXK0ZI6tZ",
        "outputId": "e269c2d6-bf5e-4287-a3f5-fb3d687ae7b8"
      },
      "execution_count": null,
      "outputs": [
        {
          "output_type": "execute_result",
          "data": {
            "text/plain": [
              "      age     sex     bmi  children smoker     region      charges\n",
              "0      19  female  27.900         0    yes  southwest  16884.92400\n",
              "1      18    male  33.770         1     no  southeast   1725.55230\n",
              "2      28    male  33.000         3     no  southeast   4449.46200\n",
              "3      33    male  22.705         0     no  northwest  21984.47061\n",
              "4      32    male  28.880         0     no  northwest   3866.85520\n",
              "...   ...     ...     ...       ...    ...        ...          ...\n",
              "1333   50    male  30.970         3     no  northwest  10600.54830\n",
              "1334   18  female  31.920         0     no  northeast   2205.98080\n",
              "1335   18  female  36.850         0     no  southeast   1629.83350\n",
              "1336   21  female  25.800         0     no  southwest   2007.94500\n",
              "1337   61  female  29.070         0    yes  northwest  29141.36030\n",
              "\n",
              "[1338 rows x 7 columns]"
            ],
            "text/html": [
              "\n",
              "  <div id=\"df-2f566c76-00a1-4d39-9661-9453ecad1078\">\n",
              "    <div class=\"colab-df-container\">\n",
              "      <div>\n",
              "<style scoped>\n",
              "    .dataframe tbody tr th:only-of-type {\n",
              "        vertical-align: middle;\n",
              "    }\n",
              "\n",
              "    .dataframe tbody tr th {\n",
              "        vertical-align: top;\n",
              "    }\n",
              "\n",
              "    .dataframe thead th {\n",
              "        text-align: right;\n",
              "    }\n",
              "</style>\n",
              "<table border=\"1\" class=\"dataframe\">\n",
              "  <thead>\n",
              "    <tr style=\"text-align: right;\">\n",
              "      <th></th>\n",
              "      <th>age</th>\n",
              "      <th>sex</th>\n",
              "      <th>bmi</th>\n",
              "      <th>children</th>\n",
              "      <th>smoker</th>\n",
              "      <th>region</th>\n",
              "      <th>charges</th>\n",
              "    </tr>\n",
              "  </thead>\n",
              "  <tbody>\n",
              "    <tr>\n",
              "      <th>0</th>\n",
              "      <td>19</td>\n",
              "      <td>female</td>\n",
              "      <td>27.900</td>\n",
              "      <td>0</td>\n",
              "      <td>yes</td>\n",
              "      <td>southwest</td>\n",
              "      <td>16884.92400</td>\n",
              "    </tr>\n",
              "    <tr>\n",
              "      <th>1</th>\n",
              "      <td>18</td>\n",
              "      <td>male</td>\n",
              "      <td>33.770</td>\n",
              "      <td>1</td>\n",
              "      <td>no</td>\n",
              "      <td>southeast</td>\n",
              "      <td>1725.55230</td>\n",
              "    </tr>\n",
              "    <tr>\n",
              "      <th>2</th>\n",
              "      <td>28</td>\n",
              "      <td>male</td>\n",
              "      <td>33.000</td>\n",
              "      <td>3</td>\n",
              "      <td>no</td>\n",
              "      <td>southeast</td>\n",
              "      <td>4449.46200</td>\n",
              "    </tr>\n",
              "    <tr>\n",
              "      <th>3</th>\n",
              "      <td>33</td>\n",
              "      <td>male</td>\n",
              "      <td>22.705</td>\n",
              "      <td>0</td>\n",
              "      <td>no</td>\n",
              "      <td>northwest</td>\n",
              "      <td>21984.47061</td>\n",
              "    </tr>\n",
              "    <tr>\n",
              "      <th>4</th>\n",
              "      <td>32</td>\n",
              "      <td>male</td>\n",
              "      <td>28.880</td>\n",
              "      <td>0</td>\n",
              "      <td>no</td>\n",
              "      <td>northwest</td>\n",
              "      <td>3866.85520</td>\n",
              "    </tr>\n",
              "    <tr>\n",
              "      <th>...</th>\n",
              "      <td>...</td>\n",
              "      <td>...</td>\n",
              "      <td>...</td>\n",
              "      <td>...</td>\n",
              "      <td>...</td>\n",
              "      <td>...</td>\n",
              "      <td>...</td>\n",
              "    </tr>\n",
              "    <tr>\n",
              "      <th>1333</th>\n",
              "      <td>50</td>\n",
              "      <td>male</td>\n",
              "      <td>30.970</td>\n",
              "      <td>3</td>\n",
              "      <td>no</td>\n",
              "      <td>northwest</td>\n",
              "      <td>10600.54830</td>\n",
              "    </tr>\n",
              "    <tr>\n",
              "      <th>1334</th>\n",
              "      <td>18</td>\n",
              "      <td>female</td>\n",
              "      <td>31.920</td>\n",
              "      <td>0</td>\n",
              "      <td>no</td>\n",
              "      <td>northeast</td>\n",
              "      <td>2205.98080</td>\n",
              "    </tr>\n",
              "    <tr>\n",
              "      <th>1335</th>\n",
              "      <td>18</td>\n",
              "      <td>female</td>\n",
              "      <td>36.850</td>\n",
              "      <td>0</td>\n",
              "      <td>no</td>\n",
              "      <td>southeast</td>\n",
              "      <td>1629.83350</td>\n",
              "    </tr>\n",
              "    <tr>\n",
              "      <th>1336</th>\n",
              "      <td>21</td>\n",
              "      <td>female</td>\n",
              "      <td>25.800</td>\n",
              "      <td>0</td>\n",
              "      <td>no</td>\n",
              "      <td>southwest</td>\n",
              "      <td>2007.94500</td>\n",
              "    </tr>\n",
              "    <tr>\n",
              "      <th>1337</th>\n",
              "      <td>61</td>\n",
              "      <td>female</td>\n",
              "      <td>29.070</td>\n",
              "      <td>0</td>\n",
              "      <td>yes</td>\n",
              "      <td>northwest</td>\n",
              "      <td>29141.36030</td>\n",
              "    </tr>\n",
              "  </tbody>\n",
              "</table>\n",
              "<p>1338 rows × 7 columns</p>\n",
              "</div>\n",
              "      <button class=\"colab-df-convert\" onclick=\"convertToInteractive('df-2f566c76-00a1-4d39-9661-9453ecad1078')\"\n",
              "              title=\"Convert this dataframe to an interactive table.\"\n",
              "              style=\"display:none;\">\n",
              "        \n",
              "  <svg xmlns=\"http://www.w3.org/2000/svg\" height=\"24px\"viewBox=\"0 0 24 24\"\n",
              "       width=\"24px\">\n",
              "    <path d=\"M0 0h24v24H0V0z\" fill=\"none\"/>\n",
              "    <path d=\"M18.56 5.44l.94 2.06.94-2.06 2.06-.94-2.06-.94-.94-2.06-.94 2.06-2.06.94zm-11 1L8.5 8.5l.94-2.06 2.06-.94-2.06-.94L8.5 2.5l-.94 2.06-2.06.94zm10 10l.94 2.06.94-2.06 2.06-.94-2.06-.94-.94-2.06-.94 2.06-2.06.94z\"/><path d=\"M17.41 7.96l-1.37-1.37c-.4-.4-.92-.59-1.43-.59-.52 0-1.04.2-1.43.59L10.3 9.45l-7.72 7.72c-.78.78-.78 2.05 0 2.83L4 21.41c.39.39.9.59 1.41.59.51 0 1.02-.2 1.41-.59l7.78-7.78 2.81-2.81c.8-.78.8-2.07 0-2.86zM5.41 20L4 18.59l7.72-7.72 1.47 1.35L5.41 20z\"/>\n",
              "  </svg>\n",
              "      </button>\n",
              "      \n",
              "  <style>\n",
              "    .colab-df-container {\n",
              "      display:flex;\n",
              "      flex-wrap:wrap;\n",
              "      gap: 12px;\n",
              "    }\n",
              "\n",
              "    .colab-df-convert {\n",
              "      background-color: #E8F0FE;\n",
              "      border: none;\n",
              "      border-radius: 50%;\n",
              "      cursor: pointer;\n",
              "      display: none;\n",
              "      fill: #1967D2;\n",
              "      height: 32px;\n",
              "      padding: 0 0 0 0;\n",
              "      width: 32px;\n",
              "    }\n",
              "\n",
              "    .colab-df-convert:hover {\n",
              "      background-color: #E2EBFA;\n",
              "      box-shadow: 0px 1px 2px rgba(60, 64, 67, 0.3), 0px 1px 3px 1px rgba(60, 64, 67, 0.15);\n",
              "      fill: #174EA6;\n",
              "    }\n",
              "\n",
              "    [theme=dark] .colab-df-convert {\n",
              "      background-color: #3B4455;\n",
              "      fill: #D2E3FC;\n",
              "    }\n",
              "\n",
              "    [theme=dark] .colab-df-convert:hover {\n",
              "      background-color: #434B5C;\n",
              "      box-shadow: 0px 1px 3px 1px rgba(0, 0, 0, 0.15);\n",
              "      filter: drop-shadow(0px 1px 2px rgba(0, 0, 0, 0.3));\n",
              "      fill: #FFFFFF;\n",
              "    }\n",
              "  </style>\n",
              "\n",
              "      <script>\n",
              "        const buttonEl =\n",
              "          document.querySelector('#df-2f566c76-00a1-4d39-9661-9453ecad1078 button.colab-df-convert');\n",
              "        buttonEl.style.display =\n",
              "          google.colab.kernel.accessAllowed ? 'block' : 'none';\n",
              "\n",
              "        async function convertToInteractive(key) {\n",
              "          const element = document.querySelector('#df-2f566c76-00a1-4d39-9661-9453ecad1078');\n",
              "          const dataTable =\n",
              "            await google.colab.kernel.invokeFunction('convertToInteractive',\n",
              "                                                     [key], {});\n",
              "          if (!dataTable) return;\n",
              "\n",
              "          const docLinkHtml = 'Like what you see? Visit the ' +\n",
              "            '<a target=\"_blank\" href=https://colab.research.google.com/notebooks/data_table.ipynb>data table notebook</a>'\n",
              "            + ' to learn more about interactive tables.';\n",
              "          element.innerHTML = '';\n",
              "          dataTable['output_type'] = 'display_data';\n",
              "          await google.colab.output.renderOutput(dataTable, element);\n",
              "          const docLink = document.createElement('div');\n",
              "          docLink.innerHTML = docLinkHtml;\n",
              "          element.appendChild(docLink);\n",
              "        }\n",
              "      </script>\n",
              "    </div>\n",
              "  </div>\n",
              "  "
            ]
          },
          "metadata": {},
          "execution_count": 59
        }
      ]
    },
    {
      "cell_type": "code",
      "source": [
        "insurance.info()"
      ],
      "metadata": {
        "colab": {
          "base_uri": "https://localhost:8080/"
        },
        "id": "QhEG3V22J0oz",
        "outputId": "4f40b86b-e14d-42e0-b41a-7b3fd65873a6"
      },
      "execution_count": null,
      "outputs": [
        {
          "output_type": "stream",
          "name": "stdout",
          "text": [
            "<class 'pandas.core.frame.DataFrame'>\n",
            "RangeIndex: 1338 entries, 0 to 1337\n",
            "Data columns (total 7 columns):\n",
            " #   Column    Non-Null Count  Dtype  \n",
            "---  ------    --------------  -----  \n",
            " 0   age       1338 non-null   int64  \n",
            " 1   sex       1338 non-null   object \n",
            " 2   bmi       1338 non-null   float64\n",
            " 3   children  1338 non-null   int64  \n",
            " 4   smoker    1338 non-null   object \n",
            " 5   region    1338 non-null   object \n",
            " 6   charges   1338 non-null   float64\n",
            "dtypes: float64(2), int64(2), object(3)\n",
            "memory usage: 73.3+ KB\n"
          ]
        }
      ]
    },
    {
      "cell_type": "code",
      "source": [
        "# Let's try one hot encoding\n",
        "insurance_onehot=pd.get_dummies(insurance)\n",
        "insurance_onehot"
      ],
      "metadata": {
        "colab": {
          "base_uri": "https://localhost:8080/",
          "height": 488
        },
        "id": "iu_bx0YiKDyg",
        "outputId": "6c330799-d347-42c4-e819-87c374070346"
      },
      "execution_count": null,
      "outputs": [
        {
          "output_type": "execute_result",
          "data": {
            "text/plain": [
              "      age     bmi  children      charges  sex_female  sex_male  smoker_no  \\\n",
              "0      19  27.900         0  16884.92400           1         0          0   \n",
              "1      18  33.770         1   1725.55230           0         1          1   \n",
              "2      28  33.000         3   4449.46200           0         1          1   \n",
              "3      33  22.705         0  21984.47061           0         1          1   \n",
              "4      32  28.880         0   3866.85520           0         1          1   \n",
              "...   ...     ...       ...          ...         ...       ...        ...   \n",
              "1333   50  30.970         3  10600.54830           0         1          1   \n",
              "1334   18  31.920         0   2205.98080           1         0          1   \n",
              "1335   18  36.850         0   1629.83350           1         0          1   \n",
              "1336   21  25.800         0   2007.94500           1         0          1   \n",
              "1337   61  29.070         0  29141.36030           1         0          0   \n",
              "\n",
              "      smoker_yes  region_northeast  region_northwest  region_southeast  \\\n",
              "0              1                 0                 0                 0   \n",
              "1              0                 0                 0                 1   \n",
              "2              0                 0                 0                 1   \n",
              "3              0                 0                 1                 0   \n",
              "4              0                 0                 1                 0   \n",
              "...          ...               ...               ...               ...   \n",
              "1333           0                 0                 1                 0   \n",
              "1334           0                 1                 0                 0   \n",
              "1335           0                 0                 0                 1   \n",
              "1336           0                 0                 0                 0   \n",
              "1337           1                 0                 1                 0   \n",
              "\n",
              "      region_southwest  \n",
              "0                    1  \n",
              "1                    0  \n",
              "2                    0  \n",
              "3                    0  \n",
              "4                    0  \n",
              "...                ...  \n",
              "1333                 0  \n",
              "1334                 0  \n",
              "1335                 0  \n",
              "1336                 1  \n",
              "1337                 0  \n",
              "\n",
              "[1338 rows x 12 columns]"
            ],
            "text/html": [
              "\n",
              "  <div id=\"df-cdf3a9c2-f6d1-4ba7-8e1e-35ecb4477379\">\n",
              "    <div class=\"colab-df-container\">\n",
              "      <div>\n",
              "<style scoped>\n",
              "    .dataframe tbody tr th:only-of-type {\n",
              "        vertical-align: middle;\n",
              "    }\n",
              "\n",
              "    .dataframe tbody tr th {\n",
              "        vertical-align: top;\n",
              "    }\n",
              "\n",
              "    .dataframe thead th {\n",
              "        text-align: right;\n",
              "    }\n",
              "</style>\n",
              "<table border=\"1\" class=\"dataframe\">\n",
              "  <thead>\n",
              "    <tr style=\"text-align: right;\">\n",
              "      <th></th>\n",
              "      <th>age</th>\n",
              "      <th>bmi</th>\n",
              "      <th>children</th>\n",
              "      <th>charges</th>\n",
              "      <th>sex_female</th>\n",
              "      <th>sex_male</th>\n",
              "      <th>smoker_no</th>\n",
              "      <th>smoker_yes</th>\n",
              "      <th>region_northeast</th>\n",
              "      <th>region_northwest</th>\n",
              "      <th>region_southeast</th>\n",
              "      <th>region_southwest</th>\n",
              "    </tr>\n",
              "  </thead>\n",
              "  <tbody>\n",
              "    <tr>\n",
              "      <th>0</th>\n",
              "      <td>19</td>\n",
              "      <td>27.900</td>\n",
              "      <td>0</td>\n",
              "      <td>16884.92400</td>\n",
              "      <td>1</td>\n",
              "      <td>0</td>\n",
              "      <td>0</td>\n",
              "      <td>1</td>\n",
              "      <td>0</td>\n",
              "      <td>0</td>\n",
              "      <td>0</td>\n",
              "      <td>1</td>\n",
              "    </tr>\n",
              "    <tr>\n",
              "      <th>1</th>\n",
              "      <td>18</td>\n",
              "      <td>33.770</td>\n",
              "      <td>1</td>\n",
              "      <td>1725.55230</td>\n",
              "      <td>0</td>\n",
              "      <td>1</td>\n",
              "      <td>1</td>\n",
              "      <td>0</td>\n",
              "      <td>0</td>\n",
              "      <td>0</td>\n",
              "      <td>1</td>\n",
              "      <td>0</td>\n",
              "    </tr>\n",
              "    <tr>\n",
              "      <th>2</th>\n",
              "      <td>28</td>\n",
              "      <td>33.000</td>\n",
              "      <td>3</td>\n",
              "      <td>4449.46200</td>\n",
              "      <td>0</td>\n",
              "      <td>1</td>\n",
              "      <td>1</td>\n",
              "      <td>0</td>\n",
              "      <td>0</td>\n",
              "      <td>0</td>\n",
              "      <td>1</td>\n",
              "      <td>0</td>\n",
              "    </tr>\n",
              "    <tr>\n",
              "      <th>3</th>\n",
              "      <td>33</td>\n",
              "      <td>22.705</td>\n",
              "      <td>0</td>\n",
              "      <td>21984.47061</td>\n",
              "      <td>0</td>\n",
              "      <td>1</td>\n",
              "      <td>1</td>\n",
              "      <td>0</td>\n",
              "      <td>0</td>\n",
              "      <td>1</td>\n",
              "      <td>0</td>\n",
              "      <td>0</td>\n",
              "    </tr>\n",
              "    <tr>\n",
              "      <th>4</th>\n",
              "      <td>32</td>\n",
              "      <td>28.880</td>\n",
              "      <td>0</td>\n",
              "      <td>3866.85520</td>\n",
              "      <td>0</td>\n",
              "      <td>1</td>\n",
              "      <td>1</td>\n",
              "      <td>0</td>\n",
              "      <td>0</td>\n",
              "      <td>1</td>\n",
              "      <td>0</td>\n",
              "      <td>0</td>\n",
              "    </tr>\n",
              "    <tr>\n",
              "      <th>...</th>\n",
              "      <td>...</td>\n",
              "      <td>...</td>\n",
              "      <td>...</td>\n",
              "      <td>...</td>\n",
              "      <td>...</td>\n",
              "      <td>...</td>\n",
              "      <td>...</td>\n",
              "      <td>...</td>\n",
              "      <td>...</td>\n",
              "      <td>...</td>\n",
              "      <td>...</td>\n",
              "      <td>...</td>\n",
              "    </tr>\n",
              "    <tr>\n",
              "      <th>1333</th>\n",
              "      <td>50</td>\n",
              "      <td>30.970</td>\n",
              "      <td>3</td>\n",
              "      <td>10600.54830</td>\n",
              "      <td>0</td>\n",
              "      <td>1</td>\n",
              "      <td>1</td>\n",
              "      <td>0</td>\n",
              "      <td>0</td>\n",
              "      <td>1</td>\n",
              "      <td>0</td>\n",
              "      <td>0</td>\n",
              "    </tr>\n",
              "    <tr>\n",
              "      <th>1334</th>\n",
              "      <td>18</td>\n",
              "      <td>31.920</td>\n",
              "      <td>0</td>\n",
              "      <td>2205.98080</td>\n",
              "      <td>1</td>\n",
              "      <td>0</td>\n",
              "      <td>1</td>\n",
              "      <td>0</td>\n",
              "      <td>1</td>\n",
              "      <td>0</td>\n",
              "      <td>0</td>\n",
              "      <td>0</td>\n",
              "    </tr>\n",
              "    <tr>\n",
              "      <th>1335</th>\n",
              "      <td>18</td>\n",
              "      <td>36.850</td>\n",
              "      <td>0</td>\n",
              "      <td>1629.83350</td>\n",
              "      <td>1</td>\n",
              "      <td>0</td>\n",
              "      <td>1</td>\n",
              "      <td>0</td>\n",
              "      <td>0</td>\n",
              "      <td>0</td>\n",
              "      <td>1</td>\n",
              "      <td>0</td>\n",
              "    </tr>\n",
              "    <tr>\n",
              "      <th>1336</th>\n",
              "      <td>21</td>\n",
              "      <td>25.800</td>\n",
              "      <td>0</td>\n",
              "      <td>2007.94500</td>\n",
              "      <td>1</td>\n",
              "      <td>0</td>\n",
              "      <td>1</td>\n",
              "      <td>0</td>\n",
              "      <td>0</td>\n",
              "      <td>0</td>\n",
              "      <td>0</td>\n",
              "      <td>1</td>\n",
              "    </tr>\n",
              "    <tr>\n",
              "      <th>1337</th>\n",
              "      <td>61</td>\n",
              "      <td>29.070</td>\n",
              "      <td>0</td>\n",
              "      <td>29141.36030</td>\n",
              "      <td>1</td>\n",
              "      <td>0</td>\n",
              "      <td>0</td>\n",
              "      <td>1</td>\n",
              "      <td>0</td>\n",
              "      <td>1</td>\n",
              "      <td>0</td>\n",
              "      <td>0</td>\n",
              "    </tr>\n",
              "  </tbody>\n",
              "</table>\n",
              "<p>1338 rows × 12 columns</p>\n",
              "</div>\n",
              "      <button class=\"colab-df-convert\" onclick=\"convertToInteractive('df-cdf3a9c2-f6d1-4ba7-8e1e-35ecb4477379')\"\n",
              "              title=\"Convert this dataframe to an interactive table.\"\n",
              "              style=\"display:none;\">\n",
              "        \n",
              "  <svg xmlns=\"http://www.w3.org/2000/svg\" height=\"24px\"viewBox=\"0 0 24 24\"\n",
              "       width=\"24px\">\n",
              "    <path d=\"M0 0h24v24H0V0z\" fill=\"none\"/>\n",
              "    <path d=\"M18.56 5.44l.94 2.06.94-2.06 2.06-.94-2.06-.94-.94-2.06-.94 2.06-2.06.94zm-11 1L8.5 8.5l.94-2.06 2.06-.94-2.06-.94L8.5 2.5l-.94 2.06-2.06.94zm10 10l.94 2.06.94-2.06 2.06-.94-2.06-.94-.94-2.06-.94 2.06-2.06.94z\"/><path d=\"M17.41 7.96l-1.37-1.37c-.4-.4-.92-.59-1.43-.59-.52 0-1.04.2-1.43.59L10.3 9.45l-7.72 7.72c-.78.78-.78 2.05 0 2.83L4 21.41c.39.39.9.59 1.41.59.51 0 1.02-.2 1.41-.59l7.78-7.78 2.81-2.81c.8-.78.8-2.07 0-2.86zM5.41 20L4 18.59l7.72-7.72 1.47 1.35L5.41 20z\"/>\n",
              "  </svg>\n",
              "      </button>\n",
              "      \n",
              "  <style>\n",
              "    .colab-df-container {\n",
              "      display:flex;\n",
              "      flex-wrap:wrap;\n",
              "      gap: 12px;\n",
              "    }\n",
              "\n",
              "    .colab-df-convert {\n",
              "      background-color: #E8F0FE;\n",
              "      border: none;\n",
              "      border-radius: 50%;\n",
              "      cursor: pointer;\n",
              "      display: none;\n",
              "      fill: #1967D2;\n",
              "      height: 32px;\n",
              "      padding: 0 0 0 0;\n",
              "      width: 32px;\n",
              "    }\n",
              "\n",
              "    .colab-df-convert:hover {\n",
              "      background-color: #E2EBFA;\n",
              "      box-shadow: 0px 1px 2px rgba(60, 64, 67, 0.3), 0px 1px 3px 1px rgba(60, 64, 67, 0.15);\n",
              "      fill: #174EA6;\n",
              "    }\n",
              "\n",
              "    [theme=dark] .colab-df-convert {\n",
              "      background-color: #3B4455;\n",
              "      fill: #D2E3FC;\n",
              "    }\n",
              "\n",
              "    [theme=dark] .colab-df-convert:hover {\n",
              "      background-color: #434B5C;\n",
              "      box-shadow: 0px 1px 3px 1px rgba(0, 0, 0, 0.15);\n",
              "      filter: drop-shadow(0px 1px 2px rgba(0, 0, 0, 0.3));\n",
              "      fill: #FFFFFF;\n",
              "    }\n",
              "  </style>\n",
              "\n",
              "      <script>\n",
              "        const buttonEl =\n",
              "          document.querySelector('#df-cdf3a9c2-f6d1-4ba7-8e1e-35ecb4477379 button.colab-df-convert');\n",
              "        buttonEl.style.display =\n",
              "          google.colab.kernel.accessAllowed ? 'block' : 'none';\n",
              "\n",
              "        async function convertToInteractive(key) {\n",
              "          const element = document.querySelector('#df-cdf3a9c2-f6d1-4ba7-8e1e-35ecb4477379');\n",
              "          const dataTable =\n",
              "            await google.colab.kernel.invokeFunction('convertToInteractive',\n",
              "                                                     [key], {});\n",
              "          if (!dataTable) return;\n",
              "\n",
              "          const docLinkHtml = 'Like what you see? Visit the ' +\n",
              "            '<a target=\"_blank\" href=https://colab.research.google.com/notebooks/data_table.ipynb>data table notebook</a>'\n",
              "            + ' to learn more about interactive tables.';\n",
              "          element.innerHTML = '';\n",
              "          dataTable['output_type'] = 'display_data';\n",
              "          await google.colab.output.renderOutput(dataTable, element);\n",
              "          const docLink = document.createElement('div');\n",
              "          docLink.innerHTML = docLinkHtml;\n",
              "          element.appendChild(docLink);\n",
              "        }\n",
              "      </script>\n",
              "    </div>\n",
              "  </div>\n",
              "  "
            ]
          },
          "metadata": {},
          "execution_count": 61
        }
      ]
    },
    {
      "cell_type": "code",
      "source": [
        "# Create X and y values\n",
        "X=insurance_onehot.drop('charges',axis=1)\n",
        "y=insurance_onehot['charges']"
      ],
      "metadata": {
        "id": "zwmUtq_JKEPY"
      },
      "execution_count": null,
      "outputs": []
    },
    {
      "cell_type": "code",
      "source": [
        "X.head()"
      ],
      "metadata": {
        "colab": {
          "base_uri": "https://localhost:8080/",
          "height": 270
        },
        "id": "Ip1B1rsjTIEr",
        "outputId": "498c1c00-df03-47ce-ca30-c20a75b609a9"
      },
      "execution_count": null,
      "outputs": [
        {
          "output_type": "execute_result",
          "data": {
            "text/plain": [
              "   age     bmi  children  sex_female  sex_male  smoker_no  smoker_yes  \\\n",
              "0   19  27.900         0           1         0          0           1   \n",
              "1   18  33.770         1           0         1          1           0   \n",
              "2   28  33.000         3           0         1          1           0   \n",
              "3   33  22.705         0           0         1          1           0   \n",
              "4   32  28.880         0           0         1          1           0   \n",
              "\n",
              "   region_northeast  region_northwest  region_southeast  region_southwest  \n",
              "0                 0                 0                 0                 1  \n",
              "1                 0                 0                 1                 0  \n",
              "2                 0                 0                 1                 0  \n",
              "3                 0                 1                 0                 0  \n",
              "4                 0                 1                 0                 0  "
            ],
            "text/html": [
              "\n",
              "  <div id=\"df-4eb19c3c-cca9-4372-9822-c56d5327a9b8\">\n",
              "    <div class=\"colab-df-container\">\n",
              "      <div>\n",
              "<style scoped>\n",
              "    .dataframe tbody tr th:only-of-type {\n",
              "        vertical-align: middle;\n",
              "    }\n",
              "\n",
              "    .dataframe tbody tr th {\n",
              "        vertical-align: top;\n",
              "    }\n",
              "\n",
              "    .dataframe thead th {\n",
              "        text-align: right;\n",
              "    }\n",
              "</style>\n",
              "<table border=\"1\" class=\"dataframe\">\n",
              "  <thead>\n",
              "    <tr style=\"text-align: right;\">\n",
              "      <th></th>\n",
              "      <th>age</th>\n",
              "      <th>bmi</th>\n",
              "      <th>children</th>\n",
              "      <th>sex_female</th>\n",
              "      <th>sex_male</th>\n",
              "      <th>smoker_no</th>\n",
              "      <th>smoker_yes</th>\n",
              "      <th>region_northeast</th>\n",
              "      <th>region_northwest</th>\n",
              "      <th>region_southeast</th>\n",
              "      <th>region_southwest</th>\n",
              "    </tr>\n",
              "  </thead>\n",
              "  <tbody>\n",
              "    <tr>\n",
              "      <th>0</th>\n",
              "      <td>19</td>\n",
              "      <td>27.900</td>\n",
              "      <td>0</td>\n",
              "      <td>1</td>\n",
              "      <td>0</td>\n",
              "      <td>0</td>\n",
              "      <td>1</td>\n",
              "      <td>0</td>\n",
              "      <td>0</td>\n",
              "      <td>0</td>\n",
              "      <td>1</td>\n",
              "    </tr>\n",
              "    <tr>\n",
              "      <th>1</th>\n",
              "      <td>18</td>\n",
              "      <td>33.770</td>\n",
              "      <td>1</td>\n",
              "      <td>0</td>\n",
              "      <td>1</td>\n",
              "      <td>1</td>\n",
              "      <td>0</td>\n",
              "      <td>0</td>\n",
              "      <td>0</td>\n",
              "      <td>1</td>\n",
              "      <td>0</td>\n",
              "    </tr>\n",
              "    <tr>\n",
              "      <th>2</th>\n",
              "      <td>28</td>\n",
              "      <td>33.000</td>\n",
              "      <td>3</td>\n",
              "      <td>0</td>\n",
              "      <td>1</td>\n",
              "      <td>1</td>\n",
              "      <td>0</td>\n",
              "      <td>0</td>\n",
              "      <td>0</td>\n",
              "      <td>1</td>\n",
              "      <td>0</td>\n",
              "    </tr>\n",
              "    <tr>\n",
              "      <th>3</th>\n",
              "      <td>33</td>\n",
              "      <td>22.705</td>\n",
              "      <td>0</td>\n",
              "      <td>0</td>\n",
              "      <td>1</td>\n",
              "      <td>1</td>\n",
              "      <td>0</td>\n",
              "      <td>0</td>\n",
              "      <td>1</td>\n",
              "      <td>0</td>\n",
              "      <td>0</td>\n",
              "    </tr>\n",
              "    <tr>\n",
              "      <th>4</th>\n",
              "      <td>32</td>\n",
              "      <td>28.880</td>\n",
              "      <td>0</td>\n",
              "      <td>0</td>\n",
              "      <td>1</td>\n",
              "      <td>1</td>\n",
              "      <td>0</td>\n",
              "      <td>0</td>\n",
              "      <td>1</td>\n",
              "      <td>0</td>\n",
              "      <td>0</td>\n",
              "    </tr>\n",
              "  </tbody>\n",
              "</table>\n",
              "</div>\n",
              "      <button class=\"colab-df-convert\" onclick=\"convertToInteractive('df-4eb19c3c-cca9-4372-9822-c56d5327a9b8')\"\n",
              "              title=\"Convert this dataframe to an interactive table.\"\n",
              "              style=\"display:none;\">\n",
              "        \n",
              "  <svg xmlns=\"http://www.w3.org/2000/svg\" height=\"24px\"viewBox=\"0 0 24 24\"\n",
              "       width=\"24px\">\n",
              "    <path d=\"M0 0h24v24H0V0z\" fill=\"none\"/>\n",
              "    <path d=\"M18.56 5.44l.94 2.06.94-2.06 2.06-.94-2.06-.94-.94-2.06-.94 2.06-2.06.94zm-11 1L8.5 8.5l.94-2.06 2.06-.94-2.06-.94L8.5 2.5l-.94 2.06-2.06.94zm10 10l.94 2.06.94-2.06 2.06-.94-2.06-.94-.94-2.06-.94 2.06-2.06.94z\"/><path d=\"M17.41 7.96l-1.37-1.37c-.4-.4-.92-.59-1.43-.59-.52 0-1.04.2-1.43.59L10.3 9.45l-7.72 7.72c-.78.78-.78 2.05 0 2.83L4 21.41c.39.39.9.59 1.41.59.51 0 1.02-.2 1.41-.59l7.78-7.78 2.81-2.81c.8-.78.8-2.07 0-2.86zM5.41 20L4 18.59l7.72-7.72 1.47 1.35L5.41 20z\"/>\n",
              "  </svg>\n",
              "      </button>\n",
              "      \n",
              "  <style>\n",
              "    .colab-df-container {\n",
              "      display:flex;\n",
              "      flex-wrap:wrap;\n",
              "      gap: 12px;\n",
              "    }\n",
              "\n",
              "    .colab-df-convert {\n",
              "      background-color: #E8F0FE;\n",
              "      border: none;\n",
              "      border-radius: 50%;\n",
              "      cursor: pointer;\n",
              "      display: none;\n",
              "      fill: #1967D2;\n",
              "      height: 32px;\n",
              "      padding: 0 0 0 0;\n",
              "      width: 32px;\n",
              "    }\n",
              "\n",
              "    .colab-df-convert:hover {\n",
              "      background-color: #E2EBFA;\n",
              "      box-shadow: 0px 1px 2px rgba(60, 64, 67, 0.3), 0px 1px 3px 1px rgba(60, 64, 67, 0.15);\n",
              "      fill: #174EA6;\n",
              "    }\n",
              "\n",
              "    [theme=dark] .colab-df-convert {\n",
              "      background-color: #3B4455;\n",
              "      fill: #D2E3FC;\n",
              "    }\n",
              "\n",
              "    [theme=dark] .colab-df-convert:hover {\n",
              "      background-color: #434B5C;\n",
              "      box-shadow: 0px 1px 3px 1px rgba(0, 0, 0, 0.15);\n",
              "      filter: drop-shadow(0px 1px 2px rgba(0, 0, 0, 0.3));\n",
              "      fill: #FFFFFF;\n",
              "    }\n",
              "  </style>\n",
              "\n",
              "      <script>\n",
              "        const buttonEl =\n",
              "          document.querySelector('#df-4eb19c3c-cca9-4372-9822-c56d5327a9b8 button.colab-df-convert');\n",
              "        buttonEl.style.display =\n",
              "          google.colab.kernel.accessAllowed ? 'block' : 'none';\n",
              "\n",
              "        async function convertToInteractive(key) {\n",
              "          const element = document.querySelector('#df-4eb19c3c-cca9-4372-9822-c56d5327a9b8');\n",
              "          const dataTable =\n",
              "            await google.colab.kernel.invokeFunction('convertToInteractive',\n",
              "                                                     [key], {});\n",
              "          if (!dataTable) return;\n",
              "\n",
              "          const docLinkHtml = 'Like what you see? Visit the ' +\n",
              "            '<a target=\"_blank\" href=https://colab.research.google.com/notebooks/data_table.ipynb>data table notebook</a>'\n",
              "            + ' to learn more about interactive tables.';\n",
              "          element.innerHTML = '';\n",
              "          dataTable['output_type'] = 'display_data';\n",
              "          await google.colab.output.renderOutput(dataTable, element);\n",
              "          const docLink = document.createElement('div');\n",
              "          docLink.innerHTML = docLinkHtml;\n",
              "          element.appendChild(docLink);\n",
              "        }\n",
              "      </script>\n",
              "    </div>\n",
              "  </div>\n",
              "  "
            ]
          },
          "metadata": {},
          "execution_count": 63
        }
      ]
    },
    {
      "cell_type": "code",
      "source": [
        "y.head()"
      ],
      "metadata": {
        "colab": {
          "base_uri": "https://localhost:8080/"
        },
        "id": "PCPiwmR0S9xH",
        "outputId": "eb49e107-dfe3-466d-9ea6-024476e4389f"
      },
      "execution_count": null,
      "outputs": [
        {
          "output_type": "execute_result",
          "data": {
            "text/plain": [
              "0    16884.92400\n",
              "1     1725.55230\n",
              "2     4449.46200\n",
              "3    21984.47061\n",
              "4     3866.85520\n",
              "Name: charges, dtype: float64"
            ]
          },
          "metadata": {},
          "execution_count": 64
        }
      ]
    },
    {
      "cell_type": "code",
      "source": [
        "#Create training and test sets\n",
        "from sklearn.model_selection import train_test_split\n",
        "X_train,X_test,y_train,y_test=train_test_split(X,y,test_size=0.2,random_state=42)"
      ],
      "metadata": {
        "id": "b3pG4NX7J1Tp"
      },
      "execution_count": null,
      "outputs": []
    },
    {
      "cell_type": "code",
      "source": [
        "X_train"
      ],
      "metadata": {
        "colab": {
          "base_uri": "https://localhost:8080/",
          "height": 488
        },
        "id": "FjXo9Oa1N6Ug",
        "outputId": "ff2b3aa2-90d1-4321-e3dc-8c27d1cf9c5c"
      },
      "execution_count": null,
      "outputs": [
        {
          "output_type": "execute_result",
          "data": {
            "text/plain": [
              "      age     bmi  children  sex_female  sex_male  smoker_no  smoker_yes  \\\n",
              "560    46  19.950         2           1         0          1           0   \n",
              "1285   47  24.320         0           1         0          1           0   \n",
              "1142   52  24.860         0           1         0          1           0   \n",
              "969    39  34.320         5           1         0          1           0   \n",
              "486    54  21.470         3           1         0          1           0   \n",
              "...   ...     ...       ...         ...       ...        ...         ...   \n",
              "1095   18  31.350         4           1         0          1           0   \n",
              "1130   39  23.870         5           1         0          1           0   \n",
              "1294   58  25.175         0           0         1          1           0   \n",
              "860    37  47.600         2           1         0          0           1   \n",
              "1126   55  29.900         0           0         1          1           0   \n",
              "\n",
              "      region_northeast  region_northwest  region_southeast  region_southwest  \n",
              "560                  0                 1                 0                 0  \n",
              "1285                 1                 0                 0                 0  \n",
              "1142                 0                 0                 1                 0  \n",
              "969                  0                 0                 1                 0  \n",
              "486                  0                 1                 0                 0  \n",
              "...                ...               ...               ...               ...  \n",
              "1095                 1                 0                 0                 0  \n",
              "1130                 0                 0                 1                 0  \n",
              "1294                 1                 0                 0                 0  \n",
              "860                  0                 0                 0                 1  \n",
              "1126                 0                 0                 0                 1  \n",
              "\n",
              "[1070 rows x 11 columns]"
            ],
            "text/html": [
              "\n",
              "  <div id=\"df-35ffe772-a7aa-419b-9541-a8601cb08376\">\n",
              "    <div class=\"colab-df-container\">\n",
              "      <div>\n",
              "<style scoped>\n",
              "    .dataframe tbody tr th:only-of-type {\n",
              "        vertical-align: middle;\n",
              "    }\n",
              "\n",
              "    .dataframe tbody tr th {\n",
              "        vertical-align: top;\n",
              "    }\n",
              "\n",
              "    .dataframe thead th {\n",
              "        text-align: right;\n",
              "    }\n",
              "</style>\n",
              "<table border=\"1\" class=\"dataframe\">\n",
              "  <thead>\n",
              "    <tr style=\"text-align: right;\">\n",
              "      <th></th>\n",
              "      <th>age</th>\n",
              "      <th>bmi</th>\n",
              "      <th>children</th>\n",
              "      <th>sex_female</th>\n",
              "      <th>sex_male</th>\n",
              "      <th>smoker_no</th>\n",
              "      <th>smoker_yes</th>\n",
              "      <th>region_northeast</th>\n",
              "      <th>region_northwest</th>\n",
              "      <th>region_southeast</th>\n",
              "      <th>region_southwest</th>\n",
              "    </tr>\n",
              "  </thead>\n",
              "  <tbody>\n",
              "    <tr>\n",
              "      <th>560</th>\n",
              "      <td>46</td>\n",
              "      <td>19.950</td>\n",
              "      <td>2</td>\n",
              "      <td>1</td>\n",
              "      <td>0</td>\n",
              "      <td>1</td>\n",
              "      <td>0</td>\n",
              "      <td>0</td>\n",
              "      <td>1</td>\n",
              "      <td>0</td>\n",
              "      <td>0</td>\n",
              "    </tr>\n",
              "    <tr>\n",
              "      <th>1285</th>\n",
              "      <td>47</td>\n",
              "      <td>24.320</td>\n",
              "      <td>0</td>\n",
              "      <td>1</td>\n",
              "      <td>0</td>\n",
              "      <td>1</td>\n",
              "      <td>0</td>\n",
              "      <td>1</td>\n",
              "      <td>0</td>\n",
              "      <td>0</td>\n",
              "      <td>0</td>\n",
              "    </tr>\n",
              "    <tr>\n",
              "      <th>1142</th>\n",
              "      <td>52</td>\n",
              "      <td>24.860</td>\n",
              "      <td>0</td>\n",
              "      <td>1</td>\n",
              "      <td>0</td>\n",
              "      <td>1</td>\n",
              "      <td>0</td>\n",
              "      <td>0</td>\n",
              "      <td>0</td>\n",
              "      <td>1</td>\n",
              "      <td>0</td>\n",
              "    </tr>\n",
              "    <tr>\n",
              "      <th>969</th>\n",
              "      <td>39</td>\n",
              "      <td>34.320</td>\n",
              "      <td>5</td>\n",
              "      <td>1</td>\n",
              "      <td>0</td>\n",
              "      <td>1</td>\n",
              "      <td>0</td>\n",
              "      <td>0</td>\n",
              "      <td>0</td>\n",
              "      <td>1</td>\n",
              "      <td>0</td>\n",
              "    </tr>\n",
              "    <tr>\n",
              "      <th>486</th>\n",
              "      <td>54</td>\n",
              "      <td>21.470</td>\n",
              "      <td>3</td>\n",
              "      <td>1</td>\n",
              "      <td>0</td>\n",
              "      <td>1</td>\n",
              "      <td>0</td>\n",
              "      <td>0</td>\n",
              "      <td>1</td>\n",
              "      <td>0</td>\n",
              "      <td>0</td>\n",
              "    </tr>\n",
              "    <tr>\n",
              "      <th>...</th>\n",
              "      <td>...</td>\n",
              "      <td>...</td>\n",
              "      <td>...</td>\n",
              "      <td>...</td>\n",
              "      <td>...</td>\n",
              "      <td>...</td>\n",
              "      <td>...</td>\n",
              "      <td>...</td>\n",
              "      <td>...</td>\n",
              "      <td>...</td>\n",
              "      <td>...</td>\n",
              "    </tr>\n",
              "    <tr>\n",
              "      <th>1095</th>\n",
              "      <td>18</td>\n",
              "      <td>31.350</td>\n",
              "      <td>4</td>\n",
              "      <td>1</td>\n",
              "      <td>0</td>\n",
              "      <td>1</td>\n",
              "      <td>0</td>\n",
              "      <td>1</td>\n",
              "      <td>0</td>\n",
              "      <td>0</td>\n",
              "      <td>0</td>\n",
              "    </tr>\n",
              "    <tr>\n",
              "      <th>1130</th>\n",
              "      <td>39</td>\n",
              "      <td>23.870</td>\n",
              "      <td>5</td>\n",
              "      <td>1</td>\n",
              "      <td>0</td>\n",
              "      <td>1</td>\n",
              "      <td>0</td>\n",
              "      <td>0</td>\n",
              "      <td>0</td>\n",
              "      <td>1</td>\n",
              "      <td>0</td>\n",
              "    </tr>\n",
              "    <tr>\n",
              "      <th>1294</th>\n",
              "      <td>58</td>\n",
              "      <td>25.175</td>\n",
              "      <td>0</td>\n",
              "      <td>0</td>\n",
              "      <td>1</td>\n",
              "      <td>1</td>\n",
              "      <td>0</td>\n",
              "      <td>1</td>\n",
              "      <td>0</td>\n",
              "      <td>0</td>\n",
              "      <td>0</td>\n",
              "    </tr>\n",
              "    <tr>\n",
              "      <th>860</th>\n",
              "      <td>37</td>\n",
              "      <td>47.600</td>\n",
              "      <td>2</td>\n",
              "      <td>1</td>\n",
              "      <td>0</td>\n",
              "      <td>0</td>\n",
              "      <td>1</td>\n",
              "      <td>0</td>\n",
              "      <td>0</td>\n",
              "      <td>0</td>\n",
              "      <td>1</td>\n",
              "    </tr>\n",
              "    <tr>\n",
              "      <th>1126</th>\n",
              "      <td>55</td>\n",
              "      <td>29.900</td>\n",
              "      <td>0</td>\n",
              "      <td>0</td>\n",
              "      <td>1</td>\n",
              "      <td>1</td>\n",
              "      <td>0</td>\n",
              "      <td>0</td>\n",
              "      <td>0</td>\n",
              "      <td>0</td>\n",
              "      <td>1</td>\n",
              "    </tr>\n",
              "  </tbody>\n",
              "</table>\n",
              "<p>1070 rows × 11 columns</p>\n",
              "</div>\n",
              "      <button class=\"colab-df-convert\" onclick=\"convertToInteractive('df-35ffe772-a7aa-419b-9541-a8601cb08376')\"\n",
              "              title=\"Convert this dataframe to an interactive table.\"\n",
              "              style=\"display:none;\">\n",
              "        \n",
              "  <svg xmlns=\"http://www.w3.org/2000/svg\" height=\"24px\"viewBox=\"0 0 24 24\"\n",
              "       width=\"24px\">\n",
              "    <path d=\"M0 0h24v24H0V0z\" fill=\"none\"/>\n",
              "    <path d=\"M18.56 5.44l.94 2.06.94-2.06 2.06-.94-2.06-.94-.94-2.06-.94 2.06-2.06.94zm-11 1L8.5 8.5l.94-2.06 2.06-.94-2.06-.94L8.5 2.5l-.94 2.06-2.06.94zm10 10l.94 2.06.94-2.06 2.06-.94-2.06-.94-.94-2.06-.94 2.06-2.06.94z\"/><path d=\"M17.41 7.96l-1.37-1.37c-.4-.4-.92-.59-1.43-.59-.52 0-1.04.2-1.43.59L10.3 9.45l-7.72 7.72c-.78.78-.78 2.05 0 2.83L4 21.41c.39.39.9.59 1.41.59.51 0 1.02-.2 1.41-.59l7.78-7.78 2.81-2.81c.8-.78.8-2.07 0-2.86zM5.41 20L4 18.59l7.72-7.72 1.47 1.35L5.41 20z\"/>\n",
              "  </svg>\n",
              "      </button>\n",
              "      \n",
              "  <style>\n",
              "    .colab-df-container {\n",
              "      display:flex;\n",
              "      flex-wrap:wrap;\n",
              "      gap: 12px;\n",
              "    }\n",
              "\n",
              "    .colab-df-convert {\n",
              "      background-color: #E8F0FE;\n",
              "      border: none;\n",
              "      border-radius: 50%;\n",
              "      cursor: pointer;\n",
              "      display: none;\n",
              "      fill: #1967D2;\n",
              "      height: 32px;\n",
              "      padding: 0 0 0 0;\n",
              "      width: 32px;\n",
              "    }\n",
              "\n",
              "    .colab-df-convert:hover {\n",
              "      background-color: #E2EBFA;\n",
              "      box-shadow: 0px 1px 2px rgba(60, 64, 67, 0.3), 0px 1px 3px 1px rgba(60, 64, 67, 0.15);\n",
              "      fill: #174EA6;\n",
              "    }\n",
              "\n",
              "    [theme=dark] .colab-df-convert {\n",
              "      background-color: #3B4455;\n",
              "      fill: #D2E3FC;\n",
              "    }\n",
              "\n",
              "    [theme=dark] .colab-df-convert:hover {\n",
              "      background-color: #434B5C;\n",
              "      box-shadow: 0px 1px 3px 1px rgba(0, 0, 0, 0.15);\n",
              "      filter: drop-shadow(0px 1px 2px rgba(0, 0, 0, 0.3));\n",
              "      fill: #FFFFFF;\n",
              "    }\n",
              "  </style>\n",
              "\n",
              "      <script>\n",
              "        const buttonEl =\n",
              "          document.querySelector('#df-35ffe772-a7aa-419b-9541-a8601cb08376 button.colab-df-convert');\n",
              "        buttonEl.style.display =\n",
              "          google.colab.kernel.accessAllowed ? 'block' : 'none';\n",
              "\n",
              "        async function convertToInteractive(key) {\n",
              "          const element = document.querySelector('#df-35ffe772-a7aa-419b-9541-a8601cb08376');\n",
              "          const dataTable =\n",
              "            await google.colab.kernel.invokeFunction('convertToInteractive',\n",
              "                                                     [key], {});\n",
              "          if (!dataTable) return;\n",
              "\n",
              "          const docLinkHtml = 'Like what you see? Visit the ' +\n",
              "            '<a target=\"_blank\" href=https://colab.research.google.com/notebooks/data_table.ipynb>data table notebook</a>'\n",
              "            + ' to learn more about interactive tables.';\n",
              "          element.innerHTML = '';\n",
              "          dataTable['output_type'] = 'display_data';\n",
              "          await google.colab.output.renderOutput(dataTable, element);\n",
              "          const docLink = document.createElement('div');\n",
              "          docLink.innerHTML = docLinkHtml;\n",
              "          element.appendChild(docLink);\n",
              "        }\n",
              "      </script>\n",
              "    </div>\n",
              "  </div>\n",
              "  "
            ]
          },
          "metadata": {},
          "execution_count": 66
        }
      ]
    },
    {
      "cell_type": "code",
      "source": [
        "y_train"
      ],
      "metadata": {
        "colab": {
          "base_uri": "https://localhost:8080/"
        },
        "id": "i-OSNoP1Qygv",
        "outputId": "a1377250-8410-4644-cd50-0db9b979d71c"
      },
      "execution_count": null,
      "outputs": [
        {
          "output_type": "execute_result",
          "data": {
            "text/plain": [
              "560      9193.83850\n",
              "1285     8534.67180\n",
              "1142    27117.99378\n",
              "969      8596.82780\n",
              "486     12475.35130\n",
              "           ...     \n",
              "1095     4561.18850\n",
              "1130     8582.30230\n",
              "1294    11931.12525\n",
              "860     46113.51100\n",
              "1126    10214.63600\n",
              "Name: charges, Length: 1070, dtype: float64"
            ]
          },
          "metadata": {},
          "execution_count": 67
        }
      ]
    },
    {
      "cell_type": "code",
      "source": [
        "tf.random.set_seed(42)\n",
        "#Build a neural network \n",
        "i_model=tf.keras.Sequential([\n",
        "    tf.keras.layers.Dense(10),\n",
        "    tf.keras.layers.Dense(1)\n",
        "])\n",
        "\n",
        "#Compile model\n",
        "i_model.compile(loss=tf.keras.losses.mae,\n",
        "                optimizer=tf.keras.optimizers.SGD(),\n",
        "                metrics=[\"mae\"])\n",
        "\n",
        "#Fit model\n",
        "i_model.fit(X_train,y_train,epochs=100)"
      ],
      "metadata": {
        "colab": {
          "base_uri": "https://localhost:8080/"
        },
        "id": "0Cwy9iPcOFi9",
        "outputId": "bea844c9-5c2b-47e1-9911-90d8ce51e797"
      },
      "execution_count": null,
      "outputs": [
        {
          "output_type": "stream",
          "name": "stdout",
          "text": [
            "Epoch 1/100\n",
            "34/34 [==============================] - 1s 3ms/step - loss: 8637.0996 - mae: 8637.0996\n",
            "Epoch 2/100\n",
            "34/34 [==============================] - 0s 3ms/step - loss: 7886.7769 - mae: 7886.7769\n",
            "Epoch 3/100\n",
            "34/34 [==============================] - 0s 3ms/step - loss: 7558.1475 - mae: 7558.1475\n",
            "Epoch 4/100\n",
            "34/34 [==============================] - 0s 3ms/step - loss: 7792.0220 - mae: 7792.0220\n",
            "Epoch 5/100\n",
            "34/34 [==============================] - 0s 3ms/step - loss: 7748.3892 - mae: 7748.3892\n",
            "Epoch 6/100\n",
            "34/34 [==============================] - 0s 3ms/step - loss: 7595.3940 - mae: 7595.3940\n",
            "Epoch 7/100\n",
            "34/34 [==============================] - 0s 4ms/step - loss: 7589.9849 - mae: 7589.9849\n",
            "Epoch 8/100\n",
            "34/34 [==============================] - 0s 3ms/step - loss: 7698.5591 - mae: 7698.5591\n",
            "Epoch 9/100\n",
            "34/34 [==============================] - 0s 3ms/step - loss: 7496.7788 - mae: 7496.7788\n",
            "Epoch 10/100\n",
            "34/34 [==============================] - 0s 3ms/step - loss: 7493.1743 - mae: 7493.1743\n",
            "Epoch 11/100\n",
            "34/34 [==============================] - 0s 3ms/step - loss: 7769.7314 - mae: 7769.7314\n",
            "Epoch 12/100\n",
            "34/34 [==============================] - 0s 3ms/step - loss: 7706.9033 - mae: 7706.9033\n",
            "Epoch 13/100\n",
            "34/34 [==============================] - 0s 2ms/step - loss: 7687.7227 - mae: 7687.7227\n",
            "Epoch 14/100\n",
            "34/34 [==============================] - 0s 4ms/step - loss: 7689.8999 - mae: 7689.8999\n",
            "Epoch 15/100\n",
            "34/34 [==============================] - 0s 3ms/step - loss: 7393.5322 - mae: 7393.5322\n",
            "Epoch 16/100\n",
            "34/34 [==============================] - 0s 3ms/step - loss: 7780.6982 - mae: 7780.6982\n",
            "Epoch 17/100\n",
            "34/34 [==============================] - 0s 2ms/step - loss: 7578.5093 - mae: 7578.5093\n",
            "Epoch 18/100\n",
            "34/34 [==============================] - 0s 4ms/step - loss: 7750.8350 - mae: 7750.8350\n",
            "Epoch 19/100\n",
            "34/34 [==============================] - 0s 4ms/step - loss: 7739.2134 - mae: 7739.2134\n",
            "Epoch 20/100\n",
            "34/34 [==============================] - 0s 2ms/step - loss: 7875.0635 - mae: 7875.0635\n",
            "Epoch 21/100\n",
            "34/34 [==============================] - 0s 4ms/step - loss: 7466.6768 - mae: 7466.6768\n",
            "Epoch 22/100\n",
            "34/34 [==============================] - 0s 3ms/step - loss: 7941.2310 - mae: 7941.2310\n",
            "Epoch 23/100\n",
            "34/34 [==============================] - 0s 3ms/step - loss: 7640.2725 - mae: 7640.2725\n",
            "Epoch 24/100\n",
            "34/34 [==============================] - 0s 2ms/step - loss: 7539.2656 - mae: 7539.2656\n",
            "Epoch 25/100\n",
            "34/34 [==============================] - 0s 2ms/step - loss: 7619.9658 - mae: 7619.9658\n",
            "Epoch 26/100\n",
            "34/34 [==============================] - 0s 3ms/step - loss: 7644.1709 - mae: 7644.1709\n",
            "Epoch 27/100\n",
            "34/34 [==============================] - 0s 3ms/step - loss: 7709.0361 - mae: 7709.0361\n",
            "Epoch 28/100\n",
            "34/34 [==============================] - 0s 3ms/step - loss: 7366.8662 - mae: 7366.8662\n",
            "Epoch 29/100\n",
            "34/34 [==============================] - 0s 3ms/step - loss: 7444.3135 - mae: 7444.3135\n",
            "Epoch 30/100\n",
            "34/34 [==============================] - 0s 2ms/step - loss: 7616.4087 - mae: 7616.4087\n",
            "Epoch 31/100\n",
            "34/34 [==============================] - 0s 2ms/step - loss: 7686.3853 - mae: 7686.3853\n",
            "Epoch 32/100\n",
            "34/34 [==============================] - 0s 2ms/step - loss: 7548.0981 - mae: 7548.0981\n",
            "Epoch 33/100\n",
            "34/34 [==============================] - 0s 2ms/step - loss: 7501.5532 - mae: 7501.5532\n",
            "Epoch 34/100\n",
            "34/34 [==============================] - 0s 4ms/step - loss: 7363.4155 - mae: 7363.4155\n",
            "Epoch 35/100\n",
            "34/34 [==============================] - 0s 2ms/step - loss: 7295.4468 - mae: 7295.4468\n",
            "Epoch 36/100\n",
            "34/34 [==============================] - 0s 2ms/step - loss: 7569.8813 - mae: 7569.8813\n",
            "Epoch 37/100\n",
            "34/34 [==============================] - 0s 4ms/step - loss: 7548.2002 - mae: 7548.2002\n",
            "Epoch 38/100\n",
            "34/34 [==============================] - 0s 3ms/step - loss: 7424.3979 - mae: 7424.3979\n",
            "Epoch 39/100\n",
            "34/34 [==============================] - 0s 3ms/step - loss: 7529.7739 - mae: 7529.7739\n",
            "Epoch 40/100\n",
            "34/34 [==============================] - 0s 2ms/step - loss: 7467.3232 - mae: 7467.3232\n",
            "Epoch 41/100\n",
            "34/34 [==============================] - 0s 2ms/step - loss: 7635.9282 - mae: 7635.9282\n",
            "Epoch 42/100\n",
            "34/34 [==============================] - 0s 2ms/step - loss: 7536.8398 - mae: 7536.8398\n",
            "Epoch 43/100\n",
            "34/34 [==============================] - 0s 2ms/step - loss: 7616.5845 - mae: 7616.5845\n",
            "Epoch 44/100\n",
            "34/34 [==============================] - 0s 2ms/step - loss: 7439.4932 - mae: 7439.4932\n",
            "Epoch 45/100\n",
            "34/34 [==============================] - 0s 3ms/step - loss: 7538.0156 - mae: 7538.0156\n",
            "Epoch 46/100\n",
            "34/34 [==============================] - 0s 2ms/step - loss: 7415.1460 - mae: 7415.1460\n",
            "Epoch 47/100\n",
            "34/34 [==============================] - 0s 2ms/step - loss: 7420.6938 - mae: 7420.6938\n",
            "Epoch 48/100\n",
            "34/34 [==============================] - 0s 5ms/step - loss: 7509.9829 - mae: 7509.9829\n",
            "Epoch 49/100\n",
            "34/34 [==============================] - 0s 6ms/step - loss: 7541.1123 - mae: 7541.1123\n",
            "Epoch 50/100\n",
            "34/34 [==============================] - 0s 7ms/step - loss: 7467.8633 - mae: 7467.8633\n",
            "Epoch 51/100\n",
            "34/34 [==============================] - 0s 4ms/step - loss: 7389.3545 - mae: 7389.3545\n",
            "Epoch 52/100\n",
            "34/34 [==============================] - 0s 4ms/step - loss: 7499.7749 - mae: 7499.7749\n",
            "Epoch 53/100\n",
            "34/34 [==============================] - 0s 7ms/step - loss: 7523.9282 - mae: 7523.9282\n",
            "Epoch 54/100\n",
            "34/34 [==============================] - 0s 4ms/step - loss: 7243.3120 - mae: 7243.3120\n",
            "Epoch 55/100\n",
            "34/34 [==============================] - 0s 3ms/step - loss: 7429.5854 - mae: 7429.5854\n",
            "Epoch 56/100\n",
            "34/34 [==============================] - 0s 3ms/step - loss: 7313.4004 - mae: 7313.4004\n",
            "Epoch 57/100\n",
            "34/34 [==============================] - 0s 2ms/step - loss: 7526.3887 - mae: 7526.3887\n",
            "Epoch 58/100\n",
            "34/34 [==============================] - 0s 2ms/step - loss: 7542.2661 - mae: 7542.2661\n",
            "Epoch 59/100\n",
            "34/34 [==============================] - 0s 2ms/step - loss: 7576.9277 - mae: 7576.9277\n",
            "Epoch 60/100\n",
            "34/34 [==============================] - 0s 2ms/step - loss: 7546.4058 - mae: 7546.4058\n",
            "Epoch 61/100\n",
            "34/34 [==============================] - 0s 2ms/step - loss: 7351.2261 - mae: 7351.2261\n",
            "Epoch 62/100\n",
            "34/34 [==============================] - 0s 4ms/step - loss: 7302.1436 - mae: 7302.1436\n",
            "Epoch 63/100\n",
            "34/34 [==============================] - 0s 4ms/step - loss: 7393.0874 - mae: 7393.0874\n",
            "Epoch 64/100\n",
            "34/34 [==============================] - 0s 3ms/step - loss: 7442.2886 - mae: 7442.2886\n",
            "Epoch 65/100\n",
            "34/34 [==============================] - 0s 4ms/step - loss: 7492.6782 - mae: 7492.6782\n",
            "Epoch 66/100\n",
            "34/34 [==============================] - 0s 4ms/step - loss: 7561.9165 - mae: 7561.9165\n",
            "Epoch 67/100\n",
            "34/34 [==============================] - 0s 5ms/step - loss: 7340.5137 - mae: 7340.5137\n",
            "Epoch 68/100\n",
            "34/34 [==============================] - 0s 4ms/step - loss: 7496.0850 - mae: 7496.0850\n",
            "Epoch 69/100\n",
            "34/34 [==============================] - 0s 4ms/step - loss: 7617.0298 - mae: 7617.0298\n",
            "Epoch 70/100\n",
            "34/34 [==============================] - 0s 3ms/step - loss: 7641.1958 - mae: 7641.1958\n",
            "Epoch 71/100\n",
            "34/34 [==============================] - 0s 3ms/step - loss: 7084.2744 - mae: 7084.2744\n",
            "Epoch 72/100\n",
            "34/34 [==============================] - 0s 2ms/step - loss: 7240.4907 - mae: 7240.4907\n",
            "Epoch 73/100\n",
            "34/34 [==============================] - 0s 4ms/step - loss: 7283.4883 - mae: 7283.4883\n",
            "Epoch 74/100\n",
            "34/34 [==============================] - 0s 2ms/step - loss: 7335.5063 - mae: 7335.5063\n",
            "Epoch 75/100\n",
            "34/34 [==============================] - 0s 3ms/step - loss: 7275.6392 - mae: 7275.6392\n",
            "Epoch 76/100\n",
            "34/34 [==============================] - 0s 2ms/step - loss: 7313.1855 - mae: 7313.1855\n",
            "Epoch 77/100\n",
            "34/34 [==============================] - 0s 3ms/step - loss: 7485.7578 - mae: 7485.7578\n",
            "Epoch 78/100\n",
            "34/34 [==============================] - 0s 3ms/step - loss: 7352.2798 - mae: 7352.2798\n",
            "Epoch 79/100\n",
            "34/34 [==============================] - 0s 3ms/step - loss: 7520.5703 - mae: 7520.5703\n",
            "Epoch 80/100\n",
            "34/34 [==============================] - 0s 2ms/step - loss: 7279.3784 - mae: 7279.3784\n",
            "Epoch 81/100\n",
            "34/34 [==============================] - 0s 4ms/step - loss: 7273.8477 - mae: 7273.8477\n",
            "Epoch 82/100\n",
            "34/34 [==============================] - 0s 4ms/step - loss: 7176.5205 - mae: 7176.5205\n",
            "Epoch 83/100\n",
            "34/34 [==============================] - 0s 2ms/step - loss: 7425.6289 - mae: 7425.6289\n",
            "Epoch 84/100\n",
            "34/34 [==============================] - 0s 2ms/step - loss: 7403.1289 - mae: 7403.1289\n",
            "Epoch 85/100\n",
            "34/34 [==============================] - 0s 2ms/step - loss: 7356.0093 - mae: 7356.0093\n",
            "Epoch 86/100\n",
            "34/34 [==============================] - 0s 4ms/step - loss: 7484.7271 - mae: 7484.7271\n",
            "Epoch 87/100\n",
            "34/34 [==============================] - 0s 2ms/step - loss: 7217.6079 - mae: 7217.6079\n",
            "Epoch 88/100\n",
            "34/34 [==============================] - 0s 3ms/step - loss: 7261.0000 - mae: 7261.0000\n",
            "Epoch 89/100\n",
            "34/34 [==============================] - 0s 3ms/step - loss: 7134.1553 - mae: 7134.1553\n",
            "Epoch 90/100\n",
            "34/34 [==============================] - 0s 4ms/step - loss: 7083.4351 - mae: 7083.4351\n",
            "Epoch 91/100\n",
            "34/34 [==============================] - 0s 3ms/step - loss: 7254.1782 - mae: 7254.1782\n",
            "Epoch 92/100\n",
            "34/34 [==============================] - 0s 3ms/step - loss: 7268.7456 - mae: 7268.7456\n",
            "Epoch 93/100\n",
            "34/34 [==============================] - 0s 4ms/step - loss: 7470.5225 - mae: 7470.5225\n",
            "Epoch 94/100\n",
            "34/34 [==============================] - 0s 3ms/step - loss: 7210.9541 - mae: 7210.9541\n",
            "Epoch 95/100\n",
            "34/34 [==============================] - 0s 4ms/step - loss: 7395.6807 - mae: 7395.6807\n",
            "Epoch 96/100\n",
            "34/34 [==============================] - 0s 3ms/step - loss: 7328.0884 - mae: 7328.0884\n",
            "Epoch 97/100\n",
            "34/34 [==============================] - 0s 3ms/step - loss: 7230.4375 - mae: 7230.4375\n",
            "Epoch 98/100\n",
            "34/34 [==============================] - 0s 4ms/step - loss: 7261.3936 - mae: 7261.3936\n",
            "Epoch 99/100\n",
            "34/34 [==============================] - 0s 4ms/step - loss: 7342.5684 - mae: 7342.5684\n",
            "Epoch 100/100\n",
            "34/34 [==============================] - 0s 2ms/step - loss: 7106.1709 - mae: 7106.1709\n"
          ]
        },
        {
          "output_type": "execute_result",
          "data": {
            "text/plain": [
              "<keras.callbacks.History at 0x7f9480f5ec10>"
            ]
          },
          "metadata": {},
          "execution_count": 68
        }
      ]
    },
    {
      "cell_type": "markdown",
      "source": [
        "**If you see loss *nan* than their is something wrong with your model**"
      ],
      "metadata": {
        "id": "r0kjF9pXWhVf"
      }
    },
    {
      "cell_type": "code",
      "source": [
        "## Check reults of the insurance model\n",
        "i_model.evaluate(X_test,y_test)"
      ],
      "metadata": {
        "colab": {
          "base_uri": "https://localhost:8080/"
        },
        "id": "kGZQeFGlOGNU",
        "outputId": "80d3daac-52ca-45da-f518-edffeffbdf27"
      },
      "execution_count": null,
      "outputs": [
        {
          "output_type": "stream",
          "name": "stdout",
          "text": [
            "9/9 [==============================] - 0s 2ms/step - loss: 7023.3286 - mae: 7023.3286\n"
          ]
        },
        {
          "output_type": "execute_result",
          "data": {
            "text/plain": [
              "[7023.32861328125, 7023.32861328125]"
            ]
          },
          "metadata": {},
          "execution_count": 69
        }
      ]
    },
    {
      "cell_type": "code",
      "source": [
        "y_train.median(),y_train.mean()    #To check how much wrong our predictition is"
      ],
      "metadata": {
        "colab": {
          "base_uri": "https://localhost:8080/"
        },
        "id": "1eXqsnMQUO8w",
        "outputId": "70ff2e00-d5fe-48f1-bc2d-1ac646bd8926"
      },
      "execution_count": null,
      "outputs": [
        {
          "output_type": "execute_result",
          "data": {
            "text/plain": [
              "(9575.4421, 13346.089736364485)"
            ]
          },
          "metadata": {},
          "execution_count": 70
        }
      ]
    },
    {
      "cell_type": "markdown",
      "source": [
        "Let's improve a model"
      ],
      "metadata": {
        "id": "uHQVTPdjOGeW"
      }
    },
    {
      "cell_type": "code",
      "source": [
        "tf.random.set_seed(42)\n",
        "#Build a neural network \n",
        "i_model2=tf.keras.Sequential([\n",
        "    tf.keras.layers.Dense(50,activation='relu'),\n",
        "    tf.keras.layers.Dense(50,activation='relu'),\n",
        "    tf.keras.layers.Dense(1)\n",
        "])\n",
        "\n",
        "#Compile model\n",
        "i_model2.compile(loss=tf.keras.losses.mae,\n",
        "                optimizer=tf.keras.optimizers.Adam(),\n",
        "                metrics=[\"mae\"])\n",
        "\n",
        "#Fit model\n",
        "i_model2.fit(X_train,y_train,epochs=100)"
      ],
      "metadata": {
        "colab": {
          "base_uri": "https://localhost:8080/"
        },
        "id": "kajwuvfMUhVr",
        "outputId": "e1d882fd-ae72-4254-bbf3-79fcc4a0d53a"
      },
      "execution_count": null,
      "outputs": [
        {
          "output_type": "stream",
          "name": "stdout",
          "text": [
            "Epoch 1/100\n",
            "34/34 [==============================] - 0s 2ms/step - loss: 13335.7412 - mae: 13335.7412\n",
            "Epoch 2/100\n",
            "34/34 [==============================] - 0s 2ms/step - loss: 13297.0371 - mae: 13297.0371\n",
            "Epoch 3/100\n",
            "34/34 [==============================] - 0s 2ms/step - loss: 13216.6406 - mae: 13216.6406\n",
            "Epoch 4/100\n",
            "34/34 [==============================] - 0s 2ms/step - loss: 13047.6191 - mae: 13047.6191\n",
            "Epoch 5/100\n",
            "34/34 [==============================] - 0s 2ms/step - loss: 12729.6973 - mae: 12729.6973\n",
            "Epoch 6/100\n",
            "34/34 [==============================] - 0s 2ms/step - loss: 12198.0381 - mae: 12198.0381\n",
            "Epoch 7/100\n",
            "34/34 [==============================] - 0s 2ms/step - loss: 11403.3975 - mae: 11403.3975\n",
            "Epoch 8/100\n",
            "34/34 [==============================] - 0s 2ms/step - loss: 10369.8203 - mae: 10369.8203\n",
            "Epoch 9/100\n",
            "34/34 [==============================] - 0s 2ms/step - loss: 9256.2715 - mae: 9256.2715\n",
            "Epoch 10/100\n",
            "34/34 [==============================] - 0s 2ms/step - loss: 8263.7363 - mae: 8263.7363\n",
            "Epoch 11/100\n",
            "34/34 [==============================] - 0s 2ms/step - loss: 7673.0923 - mae: 7673.0923\n",
            "Epoch 12/100\n",
            "34/34 [==============================] - 0s 2ms/step - loss: 7479.1377 - mae: 7479.1377\n",
            "Epoch 13/100\n",
            "34/34 [==============================] - 0s 2ms/step - loss: 7435.9272 - mae: 7435.9272\n",
            "Epoch 14/100\n",
            "34/34 [==============================] - 0s 2ms/step - loss: 7418.7622 - mae: 7418.7622\n",
            "Epoch 15/100\n",
            "34/34 [==============================] - 0s 2ms/step - loss: 7406.0791 - mae: 7406.0791\n",
            "Epoch 16/100\n",
            "34/34 [==============================] - 0s 2ms/step - loss: 7392.0249 - mae: 7392.0249\n",
            "Epoch 17/100\n",
            "34/34 [==============================] - 0s 2ms/step - loss: 7379.0654 - mae: 7379.0654\n",
            "Epoch 18/100\n",
            "34/34 [==============================] - 0s 2ms/step - loss: 7364.5181 - mae: 7364.5181\n",
            "Epoch 19/100\n",
            "34/34 [==============================] - 0s 2ms/step - loss: 7350.4956 - mae: 7350.4956\n",
            "Epoch 20/100\n",
            "34/34 [==============================] - 0s 2ms/step - loss: 7336.4331 - mae: 7336.4331\n",
            "Epoch 21/100\n",
            "34/34 [==============================] - 0s 2ms/step - loss: 7325.2256 - mae: 7325.2256\n",
            "Epoch 22/100\n",
            "34/34 [==============================] - 0s 2ms/step - loss: 7308.4854 - mae: 7308.4854\n",
            "Epoch 23/100\n",
            "34/34 [==============================] - 0s 2ms/step - loss: 7295.0356 - mae: 7295.0356\n",
            "Epoch 24/100\n",
            "34/34 [==============================] - 0s 2ms/step - loss: 7280.5513 - mae: 7280.5513\n",
            "Epoch 25/100\n",
            "34/34 [==============================] - 0s 2ms/step - loss: 7273.4688 - mae: 7273.4688\n",
            "Epoch 26/100\n",
            "34/34 [==============================] - 0s 2ms/step - loss: 7251.6553 - mae: 7251.6553\n",
            "Epoch 27/100\n",
            "34/34 [==============================] - 0s 2ms/step - loss: 7235.2915 - mae: 7235.2915\n",
            "Epoch 28/100\n",
            "34/34 [==============================] - 0s 2ms/step - loss: 7218.8804 - mae: 7218.8804\n",
            "Epoch 29/100\n",
            "34/34 [==============================] - 0s 2ms/step - loss: 7203.5508 - mae: 7203.5508\n",
            "Epoch 30/100\n",
            "34/34 [==============================] - 0s 2ms/step - loss: 7186.3599 - mae: 7186.3599\n",
            "Epoch 31/100\n",
            "34/34 [==============================] - 0s 2ms/step - loss: 7169.2231 - mae: 7169.2231\n",
            "Epoch 32/100\n",
            "34/34 [==============================] - 0s 2ms/step - loss: 7154.6763 - mae: 7154.6763\n",
            "Epoch 33/100\n",
            "34/34 [==============================] - 0s 2ms/step - loss: 7135.0352 - mae: 7135.0352\n",
            "Epoch 34/100\n",
            "34/34 [==============================] - 0s 2ms/step - loss: 7117.1431 - mae: 7117.1431\n",
            "Epoch 35/100\n",
            "34/34 [==============================] - 0s 2ms/step - loss: 7098.9434 - mae: 7098.9434\n",
            "Epoch 36/100\n",
            "34/34 [==============================] - 0s 2ms/step - loss: 7080.8838 - mae: 7080.8838\n",
            "Epoch 37/100\n",
            "34/34 [==============================] - 0s 2ms/step - loss: 7061.4575 - mae: 7061.4575\n",
            "Epoch 38/100\n",
            "34/34 [==============================] - 0s 2ms/step - loss: 7045.1025 - mae: 7045.1025\n",
            "Epoch 39/100\n",
            "34/34 [==============================] - 0s 2ms/step - loss: 7023.3374 - mae: 7023.3374\n",
            "Epoch 40/100\n",
            "34/34 [==============================] - 0s 2ms/step - loss: 7004.4297 - mae: 7004.4297\n",
            "Epoch 41/100\n",
            "34/34 [==============================] - 0s 2ms/step - loss: 6984.8013 - mae: 6984.8013\n",
            "Epoch 42/100\n",
            "34/34 [==============================] - 0s 2ms/step - loss: 6968.9990 - mae: 6968.9990\n",
            "Epoch 43/100\n",
            "34/34 [==============================] - 0s 2ms/step - loss: 6944.2603 - mae: 6944.2603\n",
            "Epoch 44/100\n",
            "34/34 [==============================] - 0s 2ms/step - loss: 6923.0317 - mae: 6923.0317\n",
            "Epoch 45/100\n",
            "34/34 [==============================] - 0s 2ms/step - loss: 6903.9907 - mae: 6903.9907\n",
            "Epoch 46/100\n",
            "34/34 [==============================] - 0s 2ms/step - loss: 6881.6436 - mae: 6881.6436\n",
            "Epoch 47/100\n",
            "34/34 [==============================] - 0s 2ms/step - loss: 6863.8857 - mae: 6863.8857\n",
            "Epoch 48/100\n",
            "34/34 [==============================] - 0s 2ms/step - loss: 6837.9761 - mae: 6837.9761\n",
            "Epoch 49/100\n",
            "34/34 [==============================] - 0s 2ms/step - loss: 6819.8823 - mae: 6819.8823\n",
            "Epoch 50/100\n",
            "34/34 [==============================] - 0s 2ms/step - loss: 6793.5933 - mae: 6793.5933\n",
            "Epoch 51/100\n",
            "34/34 [==============================] - 0s 2ms/step - loss: 6774.8877 - mae: 6774.8877\n",
            "Epoch 52/100\n",
            "34/34 [==============================] - 0s 2ms/step - loss: 6749.1245 - mae: 6749.1245\n",
            "Epoch 53/100\n",
            "34/34 [==============================] - 0s 2ms/step - loss: 6724.3496 - mae: 6724.3496\n",
            "Epoch 54/100\n",
            "34/34 [==============================] - 0s 2ms/step - loss: 6699.3198 - mae: 6699.3198\n",
            "Epoch 55/100\n",
            "34/34 [==============================] - 0s 2ms/step - loss: 6677.4917 - mae: 6677.4917\n",
            "Epoch 56/100\n",
            "34/34 [==============================] - 0s 2ms/step - loss: 6653.1201 - mae: 6653.1201\n",
            "Epoch 57/100\n",
            "34/34 [==============================] - 0s 2ms/step - loss: 6630.5557 - mae: 6630.5557\n",
            "Epoch 58/100\n",
            "34/34 [==============================] - 0s 2ms/step - loss: 6607.6587 - mae: 6607.6587\n",
            "Epoch 59/100\n",
            "34/34 [==============================] - 0s 2ms/step - loss: 6586.0596 - mae: 6586.0596\n",
            "Epoch 60/100\n",
            "34/34 [==============================] - 0s 2ms/step - loss: 6566.7720 - mae: 6566.7720\n",
            "Epoch 61/100\n",
            "34/34 [==============================] - 0s 2ms/step - loss: 6548.4282 - mae: 6548.4282\n",
            "Epoch 62/100\n",
            "34/34 [==============================] - 0s 2ms/step - loss: 6528.1299 - mae: 6528.1299\n",
            "Epoch 63/100\n",
            "34/34 [==============================] - 0s 2ms/step - loss: 6511.3628 - mae: 6511.3628\n",
            "Epoch 64/100\n",
            "34/34 [==============================] - 0s 2ms/step - loss: 6495.1514 - mae: 6495.1514\n",
            "Epoch 65/100\n",
            "34/34 [==============================] - 0s 2ms/step - loss: 6480.6201 - mae: 6480.6201\n",
            "Epoch 66/100\n",
            "34/34 [==============================] - 0s 2ms/step - loss: 6468.6538 - mae: 6468.6538\n",
            "Epoch 67/100\n",
            "34/34 [==============================] - 0s 2ms/step - loss: 6457.3589 - mae: 6457.3589\n",
            "Epoch 68/100\n",
            "34/34 [==============================] - 0s 2ms/step - loss: 6446.4702 - mae: 6446.4702\n",
            "Epoch 69/100\n",
            "34/34 [==============================] - 0s 2ms/step - loss: 6438.1084 - mae: 6438.1084\n",
            "Epoch 70/100\n",
            "34/34 [==============================] - 0s 2ms/step - loss: 6426.4424 - mae: 6426.4424\n",
            "Epoch 71/100\n",
            "34/34 [==============================] - 0s 2ms/step - loss: 6415.4712 - mae: 6415.4712\n",
            "Epoch 72/100\n",
            "34/34 [==============================] - 0s 2ms/step - loss: 6406.5933 - mae: 6406.5933\n",
            "Epoch 73/100\n",
            "34/34 [==============================] - 0s 2ms/step - loss: 6401.1523 - mae: 6401.1523\n",
            "Epoch 74/100\n",
            "34/34 [==============================] - 0s 2ms/step - loss: 6386.3901 - mae: 6386.3901\n",
            "Epoch 75/100\n",
            "34/34 [==============================] - 0s 2ms/step - loss: 6378.1626 - mae: 6378.1626\n",
            "Epoch 76/100\n",
            "34/34 [==============================] - 0s 2ms/step - loss: 6372.3530 - mae: 6372.3530\n",
            "Epoch 77/100\n",
            "34/34 [==============================] - 0s 2ms/step - loss: 6356.4233 - mae: 6356.4233\n",
            "Epoch 78/100\n",
            "34/34 [==============================] - 0s 2ms/step - loss: 6347.1187 - mae: 6347.1187\n",
            "Epoch 79/100\n",
            "34/34 [==============================] - 0s 2ms/step - loss: 6336.5288 - mae: 6336.5288\n",
            "Epoch 80/100\n",
            "34/34 [==============================] - 0s 2ms/step - loss: 6326.8413 - mae: 6326.8413\n",
            "Epoch 81/100\n",
            "34/34 [==============================] - 0s 2ms/step - loss: 6316.8374 - mae: 6316.8374\n",
            "Epoch 82/100\n",
            "34/34 [==============================] - 0s 2ms/step - loss: 6308.6621 - mae: 6308.6621\n",
            "Epoch 83/100\n",
            "34/34 [==============================] - 0s 2ms/step - loss: 6298.2080 - mae: 6298.2080\n",
            "Epoch 84/100\n",
            "34/34 [==============================] - 0s 2ms/step - loss: 6285.6792 - mae: 6285.6792\n",
            "Epoch 85/100\n",
            "34/34 [==============================] - 0s 2ms/step - loss: 6277.0913 - mae: 6277.0913\n",
            "Epoch 86/100\n",
            "34/34 [==============================] - 0s 2ms/step - loss: 6264.6240 - mae: 6264.6240\n",
            "Epoch 87/100\n",
            "34/34 [==============================] - 0s 2ms/step - loss: 6254.5781 - mae: 6254.5781\n",
            "Epoch 88/100\n",
            "34/34 [==============================] - 0s 2ms/step - loss: 6243.7314 - mae: 6243.7314\n",
            "Epoch 89/100\n",
            "34/34 [==============================] - 0s 4ms/step - loss: 6234.9180 - mae: 6234.9180\n",
            "Epoch 90/100\n",
            "34/34 [==============================] - 0s 4ms/step - loss: 6221.8765 - mae: 6221.8765\n",
            "Epoch 91/100\n",
            "34/34 [==============================] - 0s 4ms/step - loss: 6210.6514 - mae: 6210.6514\n",
            "Epoch 92/100\n",
            "34/34 [==============================] - 0s 4ms/step - loss: 6199.2368 - mae: 6199.2368\n",
            "Epoch 93/100\n",
            "34/34 [==============================] - 0s 3ms/step - loss: 6185.0161 - mae: 6185.0161\n",
            "Epoch 94/100\n",
            "34/34 [==============================] - 0s 4ms/step - loss: 6173.2715 - mae: 6173.2715\n",
            "Epoch 95/100\n",
            "34/34 [==============================] - 0s 4ms/step - loss: 6159.7231 - mae: 6159.7231\n",
            "Epoch 96/100\n",
            "34/34 [==============================] - 0s 4ms/step - loss: 6147.2583 - mae: 6147.2583\n",
            "Epoch 97/100\n",
            "34/34 [==============================] - 0s 6ms/step - loss: 6136.3101 - mae: 6136.3101\n",
            "Epoch 98/100\n",
            "34/34 [==============================] - 0s 6ms/step - loss: 6119.2979 - mae: 6119.2979\n",
            "Epoch 99/100\n",
            "34/34 [==============================] - 0s 3ms/step - loss: 6106.8921 - mae: 6106.8921\n",
            "Epoch 100/100\n",
            "34/34 [==============================] - 0s 4ms/step - loss: 6092.7178 - mae: 6092.7178\n"
          ]
        },
        {
          "output_type": "execute_result",
          "data": {
            "text/plain": [
              "<keras.callbacks.History at 0x7f9478434fd0>"
            ]
          },
          "metadata": {},
          "execution_count": 71
        }
      ]
    },
    {
      "cell_type": "code",
      "source": [
        "## Check results of the insurance model\n",
        "i_model2.evaluate(X_test,y_test)"
      ],
      "metadata": {
        "colab": {
          "base_uri": "https://localhost:8080/"
        },
        "id": "gHtCbuoyVsNq",
        "outputId": "0c4e11a0-6de1-4080-f0a3-708f1d0d29b9"
      },
      "execution_count": null,
      "outputs": [
        {
          "output_type": "stream",
          "name": "stdout",
          "text": [
            "9/9 [==============================] - 0s 3ms/step - loss: 5929.0278 - mae: 5929.0278\n"
          ]
        },
        {
          "output_type": "execute_result",
          "data": {
            "text/plain": [
              "[5929.02783203125, 5929.02783203125]"
            ]
          },
          "metadata": {},
          "execution_count": 72
        }
      ]
    },
    {
      "cell_type": "code",
      "source": [
        "tf.random.set_seed(42)\n",
        "\n",
        "i_model3=tf.keras.Sequential([\n",
        "    tf.keras.layers.Dense(50,activation='relu'),\n",
        "    tf.keras.layers.Dense(50,activation='relu'),\n",
        "    tf.keras.layers.Dense(50,activation='relu'),\n",
        "    tf.keras.layers.Dense(1)\n",
        "])\n",
        "\n",
        "i_model3.compile(loss=tf.keras.losses.mae,\n",
        "                 optimizer=tf.keras.optimizers.Adam(),\n",
        "                 metrics=[\"mae\"]\n",
        "                 )\n",
        "\n",
        "history=i_model3.fit(X_train,y_train,epochs=200,batch_size=30)"
      ],
      "metadata": {
        "colab": {
          "base_uri": "https://localhost:8080/"
        },
        "id": "oJaz2oDFVzVe",
        "outputId": "2c15b75d-c368-4612-f822-7dc1f949a010"
      },
      "execution_count": null,
      "outputs": [
        {
          "output_type": "stream",
          "name": "stdout",
          "text": [
            "Epoch 1/200\n",
            "36/36 [==============================] - 1s 5ms/step - loss: 13325.1426 - mae: 13325.1426\n",
            "Epoch 2/200\n",
            "36/36 [==============================] - 0s 4ms/step - loss: 13167.2217 - mae: 13167.2217\n",
            "Epoch 3/200\n",
            "36/36 [==============================] - 0s 4ms/step - loss: 12306.5068 - mae: 12306.5068\n",
            "Epoch 4/200\n",
            "36/36 [==============================] - 0s 5ms/step - loss: 9497.4434 - mae: 9497.4434\n",
            "Epoch 5/200\n",
            "36/36 [==============================] - 0s 5ms/step - loss: 7475.7412 - mae: 7475.7412\n",
            "Epoch 6/200\n",
            "36/36 [==============================] - 0s 4ms/step - loss: 7400.6196 - mae: 7400.6196\n",
            "Epoch 7/200\n",
            "36/36 [==============================] - 0s 3ms/step - loss: 7341.5859 - mae: 7341.5859\n",
            "Epoch 8/200\n",
            "36/36 [==============================] - 0s 5ms/step - loss: 7299.8677 - mae: 7299.8677\n",
            "Epoch 9/200\n",
            "36/36 [==============================] - 0s 4ms/step - loss: 7256.4443 - mae: 7256.4443\n",
            "Epoch 10/200\n",
            "36/36 [==============================] - 0s 4ms/step - loss: 7216.2920 - mae: 7216.2920\n",
            "Epoch 11/200\n",
            "36/36 [==============================] - 0s 4ms/step - loss: 7176.1538 - mae: 7176.1538\n",
            "Epoch 12/200\n",
            "36/36 [==============================] - 0s 4ms/step - loss: 7124.1709 - mae: 7124.1709\n",
            "Epoch 13/200\n",
            "36/36 [==============================] - 0s 4ms/step - loss: 7074.6260 - mae: 7074.6260\n",
            "Epoch 14/200\n",
            "36/36 [==============================] - 0s 5ms/step - loss: 7023.1499 - mae: 7023.1499\n",
            "Epoch 15/200\n",
            "36/36 [==============================] - 0s 5ms/step - loss: 6978.6914 - mae: 6978.6914\n",
            "Epoch 16/200\n",
            "36/36 [==============================] - 0s 7ms/step - loss: 6919.5669 - mae: 6919.5669\n",
            "Epoch 17/200\n",
            "36/36 [==============================] - 0s 5ms/step - loss: 6867.5308 - mae: 6867.5308\n",
            "Epoch 18/200\n",
            "36/36 [==============================] - 0s 4ms/step - loss: 6808.1387 - mae: 6808.1387\n",
            "Epoch 19/200\n",
            "36/36 [==============================] - 0s 3ms/step - loss: 6745.5049 - mae: 6745.5049\n",
            "Epoch 20/200\n",
            "36/36 [==============================] - 0s 4ms/step - loss: 6690.0664 - mae: 6690.0664\n",
            "Epoch 21/200\n",
            "36/36 [==============================] - 0s 5ms/step - loss: 6633.1060 - mae: 6633.1060\n",
            "Epoch 22/200\n",
            "36/36 [==============================] - 0s 6ms/step - loss: 6594.2012 - mae: 6594.2012\n",
            "Epoch 23/200\n",
            "36/36 [==============================] - 0s 5ms/step - loss: 6546.8711 - mae: 6546.8711\n",
            "Epoch 24/200\n",
            "36/36 [==============================] - 0s 4ms/step - loss: 6512.9946 - mae: 6512.9946\n",
            "Epoch 25/200\n",
            "36/36 [==============================] - 0s 4ms/step - loss: 6486.3599 - mae: 6486.3599\n",
            "Epoch 26/200\n",
            "36/36 [==============================] - 0s 4ms/step - loss: 6467.5674 - mae: 6467.5674\n",
            "Epoch 27/200\n",
            "36/36 [==============================] - 0s 4ms/step - loss: 6442.9219 - mae: 6442.9219\n",
            "Epoch 28/200\n",
            "36/36 [==============================] - 0s 4ms/step - loss: 6414.1895 - mae: 6414.1895\n",
            "Epoch 29/200\n",
            "36/36 [==============================] - 0s 4ms/step - loss: 6389.6973 - mae: 6389.6973\n",
            "Epoch 30/200\n",
            "36/36 [==============================] - 0s 4ms/step - loss: 6368.4741 - mae: 6368.4741\n",
            "Epoch 31/200\n",
            "36/36 [==============================] - 0s 5ms/step - loss: 6339.2065 - mae: 6339.2065\n",
            "Epoch 32/200\n",
            "36/36 [==============================] - 0s 4ms/step - loss: 6309.3491 - mae: 6309.3491\n",
            "Epoch 33/200\n",
            "36/36 [==============================] - 0s 4ms/step - loss: 6276.3066 - mae: 6276.3066\n",
            "Epoch 34/200\n",
            "36/36 [==============================] - 0s 5ms/step - loss: 6252.2588 - mae: 6252.2588\n",
            "Epoch 35/200\n",
            "36/36 [==============================] - 0s 4ms/step - loss: 6208.5791 - mae: 6208.5791\n",
            "Epoch 36/200\n",
            "36/36 [==============================] - 0s 5ms/step - loss: 6174.4043 - mae: 6174.4043\n",
            "Epoch 37/200\n",
            "36/36 [==============================] - 0s 6ms/step - loss: 6138.3062 - mae: 6138.3062\n",
            "Epoch 38/200\n",
            "36/36 [==============================] - 0s 5ms/step - loss: 6088.4839 - mae: 6088.4839\n",
            "Epoch 39/200\n",
            "36/36 [==============================] - 0s 5ms/step - loss: 6046.6240 - mae: 6046.6240\n",
            "Epoch 40/200\n",
            "36/36 [==============================] - 0s 4ms/step - loss: 5990.6250 - mae: 5990.6250\n",
            "Epoch 41/200\n",
            "36/36 [==============================] - 0s 4ms/step - loss: 5928.3179 - mae: 5928.3179\n",
            "Epoch 42/200\n",
            "36/36 [==============================] - 0s 4ms/step - loss: 5864.7773 - mae: 5864.7773\n",
            "Epoch 43/200\n",
            "36/36 [==============================] - 0s 4ms/step - loss: 5799.0923 - mae: 5799.0923\n",
            "Epoch 44/200\n",
            "36/36 [==============================] - 0s 3ms/step - loss: 5706.9136 - mae: 5706.9136\n",
            "Epoch 45/200\n",
            "36/36 [==============================] - 0s 5ms/step - loss: 5626.4839 - mae: 5626.4839\n",
            "Epoch 46/200\n",
            "36/36 [==============================] - 0s 5ms/step - loss: 5545.6440 - mae: 5545.6440\n",
            "Epoch 47/200\n",
            "36/36 [==============================] - 0s 7ms/step - loss: 5425.9722 - mae: 5425.9722\n",
            "Epoch 48/200\n",
            "36/36 [==============================] - 0s 5ms/step - loss: 5327.4292 - mae: 5327.4292\n",
            "Epoch 49/200\n",
            "36/36 [==============================] - 0s 5ms/step - loss: 5159.6636 - mae: 5159.6636\n",
            "Epoch 50/200\n",
            "36/36 [==============================] - 0s 4ms/step - loss: 4996.5962 - mae: 4996.5962\n",
            "Epoch 51/200\n",
            "36/36 [==============================] - 0s 4ms/step - loss: 4837.3394 - mae: 4837.3394\n",
            "Epoch 52/200\n",
            "36/36 [==============================] - 0s 5ms/step - loss: 4626.3433 - mae: 4626.3433\n",
            "Epoch 53/200\n",
            "36/36 [==============================] - 0s 4ms/step - loss: 4378.3530 - mae: 4378.3530\n",
            "Epoch 54/200\n",
            "36/36 [==============================] - 0s 6ms/step - loss: 4167.3813 - mae: 4167.3813\n",
            "Epoch 55/200\n",
            "36/36 [==============================] - 0s 4ms/step - loss: 3953.3943 - mae: 3953.3943\n",
            "Epoch 56/200\n",
            "36/36 [==============================] - 0s 4ms/step - loss: 3812.6125 - mae: 3812.6125\n",
            "Epoch 57/200\n",
            "36/36 [==============================] - 0s 4ms/step - loss: 3686.0994 - mae: 3686.0994\n",
            "Epoch 58/200\n",
            "36/36 [==============================] - 0s 5ms/step - loss: 3601.1174 - mae: 3601.1174\n",
            "Epoch 59/200\n",
            "36/36 [==============================] - 0s 4ms/step - loss: 3563.6353 - mae: 3563.6353\n",
            "Epoch 60/200\n",
            "36/36 [==============================] - 0s 4ms/step - loss: 3493.1003 - mae: 3493.1006\n",
            "Epoch 61/200\n",
            "36/36 [==============================] - 0s 4ms/step - loss: 3469.7178 - mae: 3469.7178\n",
            "Epoch 62/200\n",
            "36/36 [==============================] - 0s 4ms/step - loss: 3447.5557 - mae: 3447.5557\n",
            "Epoch 63/200\n",
            "36/36 [==============================] - 0s 4ms/step - loss: 3436.9624 - mae: 3436.9624\n",
            "Epoch 64/200\n",
            "36/36 [==============================] - 0s 5ms/step - loss: 3400.6255 - mae: 3400.6255\n",
            "Epoch 65/200\n",
            "36/36 [==============================] - 0s 4ms/step - loss: 3396.3750 - mae: 3396.3750\n",
            "Epoch 66/200\n",
            "36/36 [==============================] - 0s 4ms/step - loss: 3384.0815 - mae: 3384.0815\n",
            "Epoch 67/200\n",
            "36/36 [==============================] - 0s 4ms/step - loss: 3354.2468 - mae: 3354.2468\n",
            "Epoch 68/200\n",
            "36/36 [==============================] - 0s 4ms/step - loss: 3346.0242 - mae: 3346.0242\n",
            "Epoch 69/200\n",
            "36/36 [==============================] - 0s 4ms/step - loss: 3326.1150 - mae: 3326.1150\n",
            "Epoch 70/200\n",
            "36/36 [==============================] - 0s 4ms/step - loss: 3310.6521 - mae: 3310.6521\n",
            "Epoch 71/200\n",
            "36/36 [==============================] - 0s 3ms/step - loss: 3282.5388 - mae: 3282.5388\n",
            "Epoch 72/200\n",
            "36/36 [==============================] - 0s 4ms/step - loss: 3263.1145 - mae: 3263.1145\n",
            "Epoch 73/200\n",
            "36/36 [==============================] - 0s 3ms/step - loss: 3240.9399 - mae: 3240.9399\n",
            "Epoch 74/200\n",
            "36/36 [==============================] - 0s 4ms/step - loss: 3243.5991 - mae: 3243.5991\n",
            "Epoch 75/200\n",
            "36/36 [==============================] - 0s 4ms/step - loss: 3215.3083 - mae: 3215.3083\n",
            "Epoch 76/200\n",
            "36/36 [==============================] - 0s 4ms/step - loss: 3187.7632 - mae: 3187.7632\n",
            "Epoch 77/200\n",
            "36/36 [==============================] - 0s 5ms/step - loss: 3170.0403 - mae: 3170.0403\n",
            "Epoch 78/200\n",
            "36/36 [==============================] - 0s 4ms/step - loss: 3158.2190 - mae: 3158.2188\n",
            "Epoch 79/200\n",
            "36/36 [==============================] - 0s 3ms/step - loss: 3154.0051 - mae: 3154.0051\n",
            "Epoch 80/200\n",
            "36/36 [==============================] - 0s 4ms/step - loss: 3131.5818 - mae: 3131.5818\n",
            "Epoch 81/200\n",
            "36/36 [==============================] - 0s 4ms/step - loss: 3091.7292 - mae: 3091.7292\n",
            "Epoch 82/200\n",
            "36/36 [==============================] - 0s 3ms/step - loss: 3066.9375 - mae: 3066.9375\n",
            "Epoch 83/200\n",
            "36/36 [==============================] - 0s 5ms/step - loss: 3043.0854 - mae: 3043.0854\n",
            "Epoch 84/200\n",
            "36/36 [==============================] - 0s 5ms/step - loss: 3011.5894 - mae: 3011.5894\n",
            "Epoch 85/200\n",
            "36/36 [==============================] - 0s 4ms/step - loss: 3003.6956 - mae: 3003.6956\n",
            "Epoch 86/200\n",
            "36/36 [==============================] - 0s 4ms/step - loss: 2964.5027 - mae: 2964.5027\n",
            "Epoch 87/200\n",
            "36/36 [==============================] - 0s 6ms/step - loss: 2937.8730 - mae: 2937.8730\n",
            "Epoch 88/200\n",
            "36/36 [==============================] - 0s 4ms/step - loss: 2923.2639 - mae: 2923.2639\n",
            "Epoch 89/200\n",
            "36/36 [==============================] - 0s 2ms/step - loss: 2888.0334 - mae: 2888.0334\n",
            "Epoch 90/200\n",
            "36/36 [==============================] - 0s 2ms/step - loss: 2876.2903 - mae: 2876.2903\n",
            "Epoch 91/200\n",
            "36/36 [==============================] - 0s 2ms/step - loss: 2835.1946 - mae: 2835.1943\n",
            "Epoch 92/200\n",
            "36/36 [==============================] - 0s 2ms/step - loss: 2843.3303 - mae: 2843.3303\n",
            "Epoch 93/200\n",
            "36/36 [==============================] - 0s 2ms/step - loss: 2823.9287 - mae: 2823.9287\n",
            "Epoch 94/200\n",
            "36/36 [==============================] - 0s 2ms/step - loss: 2820.9490 - mae: 2820.9490\n",
            "Epoch 95/200\n",
            "36/36 [==============================] - 0s 2ms/step - loss: 2808.3071 - mae: 2808.3071\n",
            "Epoch 96/200\n",
            "36/36 [==============================] - 0s 2ms/step - loss: 2788.1304 - mae: 2788.1304\n",
            "Epoch 97/200\n",
            "36/36 [==============================] - 0s 2ms/step - loss: 2822.8760 - mae: 2822.8760\n",
            "Epoch 98/200\n",
            "36/36 [==============================] - 0s 2ms/step - loss: 2777.0732 - mae: 2777.0732\n",
            "Epoch 99/200\n",
            "36/36 [==============================] - 0s 2ms/step - loss: 2772.7803 - mae: 2772.7803\n",
            "Epoch 100/200\n",
            "36/36 [==============================] - 0s 2ms/step - loss: 2762.0369 - mae: 2762.0369\n",
            "Epoch 101/200\n",
            "36/36 [==============================] - 0s 2ms/step - loss: 2742.9597 - mae: 2742.9597\n",
            "Epoch 102/200\n",
            "36/36 [==============================] - 0s 2ms/step - loss: 2747.8003 - mae: 2747.8003\n",
            "Epoch 103/200\n",
            "36/36 [==============================] - 0s 2ms/step - loss: 2747.8445 - mae: 2747.8445\n",
            "Epoch 104/200\n",
            "36/36 [==============================] - 0s 2ms/step - loss: 2733.6599 - mae: 2733.6599\n",
            "Epoch 105/200\n",
            "36/36 [==============================] - 0s 2ms/step - loss: 2734.5813 - mae: 2734.5813\n",
            "Epoch 106/200\n",
            "36/36 [==============================] - 0s 2ms/step - loss: 2726.1851 - mae: 2726.1851\n",
            "Epoch 107/200\n",
            "36/36 [==============================] - 0s 2ms/step - loss: 2723.5205 - mae: 2723.5205\n",
            "Epoch 108/200\n",
            "36/36 [==============================] - 0s 2ms/step - loss: 2719.0537 - mae: 2719.0537\n",
            "Epoch 109/200\n",
            "36/36 [==============================] - 0s 2ms/step - loss: 2711.7412 - mae: 2711.7412\n",
            "Epoch 110/200\n",
            "36/36 [==============================] - 0s 3ms/step - loss: 2699.2175 - mae: 2699.2175\n",
            "Epoch 111/200\n",
            "36/36 [==============================] - 0s 2ms/step - loss: 2700.2742 - mae: 2700.2742\n",
            "Epoch 112/200\n",
            "36/36 [==============================] - 0s 2ms/step - loss: 2694.6040 - mae: 2694.6040\n",
            "Epoch 113/200\n",
            "36/36 [==============================] - 0s 2ms/step - loss: 2688.6765 - mae: 2688.6765\n",
            "Epoch 114/200\n",
            "36/36 [==============================] - 0s 2ms/step - loss: 2682.0139 - mae: 2682.0139\n",
            "Epoch 115/200\n",
            "36/36 [==============================] - 0s 2ms/step - loss: 2687.6853 - mae: 2687.6853\n",
            "Epoch 116/200\n",
            "36/36 [==============================] - 0s 2ms/step - loss: 2671.9807 - mae: 2671.9807\n",
            "Epoch 117/200\n",
            "36/36 [==============================] - 0s 2ms/step - loss: 2677.0466 - mae: 2677.0466\n",
            "Epoch 118/200\n",
            "36/36 [==============================] - 0s 2ms/step - loss: 2663.7192 - mae: 2663.7192\n",
            "Epoch 119/200\n",
            "36/36 [==============================] - 0s 2ms/step - loss: 2656.3667 - mae: 2656.3667\n",
            "Epoch 120/200\n",
            "36/36 [==============================] - 0s 2ms/step - loss: 2662.7097 - mae: 2662.7097\n",
            "Epoch 121/200\n",
            "36/36 [==============================] - 0s 2ms/step - loss: 2652.1377 - mae: 2652.1377\n",
            "Epoch 122/200\n",
            "36/36 [==============================] - 0s 2ms/step - loss: 2647.8184 - mae: 2647.8184\n",
            "Epoch 123/200\n",
            "36/36 [==============================] - 0s 2ms/step - loss: 2635.6826 - mae: 2635.6826\n",
            "Epoch 124/200\n",
            "36/36 [==============================] - 0s 2ms/step - loss: 2626.7886 - mae: 2626.7886\n",
            "Epoch 125/200\n",
            "36/36 [==============================] - 0s 2ms/step - loss: 2629.8093 - mae: 2629.8093\n",
            "Epoch 126/200\n",
            "36/36 [==============================] - 0s 2ms/step - loss: 2624.6687 - mae: 2624.6687\n",
            "Epoch 127/200\n",
            "36/36 [==============================] - 0s 2ms/step - loss: 2624.5745 - mae: 2624.5745\n",
            "Epoch 128/200\n",
            "36/36 [==============================] - 0s 2ms/step - loss: 2618.2109 - mae: 2618.2112\n",
            "Epoch 129/200\n",
            "36/36 [==============================] - 0s 2ms/step - loss: 2621.0354 - mae: 2621.0354\n",
            "Epoch 130/200\n",
            "36/36 [==============================] - 0s 2ms/step - loss: 2603.1919 - mae: 2603.1919\n",
            "Epoch 131/200\n",
            "36/36 [==============================] - 0s 2ms/step - loss: 2599.1565 - mae: 2599.1565\n",
            "Epoch 132/200\n",
            "36/36 [==============================] - 0s 2ms/step - loss: 2602.4575 - mae: 2602.4575\n",
            "Epoch 133/200\n",
            "36/36 [==============================] - 0s 2ms/step - loss: 2588.9736 - mae: 2588.9736\n",
            "Epoch 134/200\n",
            "36/36 [==============================] - 0s 2ms/step - loss: 2581.3691 - mae: 2581.3691\n",
            "Epoch 135/200\n",
            "36/36 [==============================] - 0s 2ms/step - loss: 2580.6006 - mae: 2580.6006\n",
            "Epoch 136/200\n",
            "36/36 [==============================] - 0s 2ms/step - loss: 2568.5549 - mae: 2568.5549\n",
            "Epoch 137/200\n",
            "36/36 [==============================] - 0s 2ms/step - loss: 2563.5879 - mae: 2563.5879\n",
            "Epoch 138/200\n",
            "36/36 [==============================] - 0s 2ms/step - loss: 2562.5852 - mae: 2562.5852\n",
            "Epoch 139/200\n",
            "36/36 [==============================] - 0s 2ms/step - loss: 2560.7568 - mae: 2560.7568\n",
            "Epoch 140/200\n",
            "36/36 [==============================] - 0s 2ms/step - loss: 2573.9641 - mae: 2573.9641\n",
            "Epoch 141/200\n",
            "36/36 [==============================] - 0s 2ms/step - loss: 2561.9329 - mae: 2561.9329\n",
            "Epoch 142/200\n",
            "36/36 [==============================] - 0s 2ms/step - loss: 2555.2224 - mae: 2555.2224\n",
            "Epoch 143/200\n",
            "36/36 [==============================] - 0s 2ms/step - loss: 2571.0759 - mae: 2571.0759\n",
            "Epoch 144/200\n",
            "36/36 [==============================] - 0s 2ms/step - loss: 2528.7756 - mae: 2528.7756\n",
            "Epoch 145/200\n",
            "36/36 [==============================] - 0s 2ms/step - loss: 2556.1150 - mae: 2556.1150\n",
            "Epoch 146/200\n",
            "36/36 [==============================] - 0s 2ms/step - loss: 2528.6174 - mae: 2528.6174\n",
            "Epoch 147/200\n",
            "36/36 [==============================] - 0s 2ms/step - loss: 2517.0991 - mae: 2517.0991\n",
            "Epoch 148/200\n",
            "36/36 [==============================] - 0s 2ms/step - loss: 2506.6238 - mae: 2506.6238\n",
            "Epoch 149/200\n",
            "36/36 [==============================] - 0s 2ms/step - loss: 2498.0667 - mae: 2498.0667\n",
            "Epoch 150/200\n",
            "36/36 [==============================] - 0s 2ms/step - loss: 2497.2949 - mae: 2497.2949\n",
            "Epoch 151/200\n",
            "36/36 [==============================] - 0s 2ms/step - loss: 2492.1860 - mae: 2492.1860\n",
            "Epoch 152/200\n",
            "36/36 [==============================] - 0s 2ms/step - loss: 2492.1965 - mae: 2492.1965\n",
            "Epoch 153/200\n",
            "36/36 [==============================] - 0s 2ms/step - loss: 2490.6057 - mae: 2490.6057\n",
            "Epoch 154/200\n",
            "36/36 [==============================] - 0s 2ms/step - loss: 2495.8577 - mae: 2495.8577\n",
            "Epoch 155/200\n",
            "36/36 [==============================] - 0s 2ms/step - loss: 2478.3560 - mae: 2478.3560\n",
            "Epoch 156/200\n",
            "36/36 [==============================] - 0s 2ms/step - loss: 2465.9741 - mae: 2465.9741\n",
            "Epoch 157/200\n",
            "36/36 [==============================] - 0s 2ms/step - loss: 2467.3467 - mae: 2467.3467\n",
            "Epoch 158/200\n",
            "36/36 [==============================] - 0s 2ms/step - loss: 2466.6824 - mae: 2466.6824\n",
            "Epoch 159/200\n",
            "36/36 [==============================] - 0s 2ms/step - loss: 2456.1775 - mae: 2456.1775\n",
            "Epoch 160/200\n",
            "36/36 [==============================] - 0s 2ms/step - loss: 2455.0879 - mae: 2455.0879\n",
            "Epoch 161/200\n",
            "36/36 [==============================] - 0s 2ms/step - loss: 2448.3940 - mae: 2448.3940\n",
            "Epoch 162/200\n",
            "36/36 [==============================] - 0s 2ms/step - loss: 2443.1365 - mae: 2443.1365\n",
            "Epoch 163/200\n",
            "36/36 [==============================] - 0s 2ms/step - loss: 2435.4658 - mae: 2435.4658\n",
            "Epoch 164/200\n",
            "36/36 [==============================] - 0s 2ms/step - loss: 2430.2019 - mae: 2430.2019\n",
            "Epoch 165/200\n",
            "36/36 [==============================] - 0s 2ms/step - loss: 2425.1140 - mae: 2425.1140\n",
            "Epoch 166/200\n",
            "36/36 [==============================] - 0s 2ms/step - loss: 2417.9089 - mae: 2417.9089\n",
            "Epoch 167/200\n",
            "36/36 [==============================] - 0s 2ms/step - loss: 2414.9368 - mae: 2414.9368\n",
            "Epoch 168/200\n",
            "36/36 [==============================] - 0s 2ms/step - loss: 2413.2041 - mae: 2413.2041\n",
            "Epoch 169/200\n",
            "36/36 [==============================] - 0s 2ms/step - loss: 2408.2976 - mae: 2408.2976\n",
            "Epoch 170/200\n",
            "36/36 [==============================] - 0s 2ms/step - loss: 2401.7515 - mae: 2401.7515\n",
            "Epoch 171/200\n",
            "36/36 [==============================] - 0s 2ms/step - loss: 2400.0320 - mae: 2400.0322\n",
            "Epoch 172/200\n",
            "36/36 [==============================] - 0s 2ms/step - loss: 2398.3428 - mae: 2398.3428\n",
            "Epoch 173/200\n",
            "36/36 [==============================] - 0s 2ms/step - loss: 2398.6094 - mae: 2398.6094\n",
            "Epoch 174/200\n",
            "36/36 [==============================] - 0s 2ms/step - loss: 2393.0540 - mae: 2393.0540\n",
            "Epoch 175/200\n",
            "36/36 [==============================] - 0s 2ms/step - loss: 2377.9893 - mae: 2377.9893\n",
            "Epoch 176/200\n",
            "36/36 [==============================] - 0s 2ms/step - loss: 2382.9766 - mae: 2382.9766\n",
            "Epoch 177/200\n",
            "36/36 [==============================] - 0s 2ms/step - loss: 2390.4297 - mae: 2390.4297\n",
            "Epoch 178/200\n",
            "36/36 [==============================] - 0s 2ms/step - loss: 2377.7080 - mae: 2377.7080\n",
            "Epoch 179/200\n",
            "36/36 [==============================] - 0s 2ms/step - loss: 2376.9297 - mae: 2376.9297\n",
            "Epoch 180/200\n",
            "36/36 [==============================] - 0s 2ms/step - loss: 2355.7195 - mae: 2355.7195\n",
            "Epoch 181/200\n",
            "36/36 [==============================] - 0s 3ms/step - loss: 2352.2490 - mae: 2352.2495\n",
            "Epoch 182/200\n",
            "36/36 [==============================] - 0s 2ms/step - loss: 2359.8506 - mae: 2359.8506\n",
            "Epoch 183/200\n",
            "36/36 [==============================] - 0s 2ms/step - loss: 2344.6140 - mae: 2344.6140\n",
            "Epoch 184/200\n",
            "36/36 [==============================] - 0s 2ms/step - loss: 2343.1602 - mae: 2343.1602\n",
            "Epoch 185/200\n",
            "36/36 [==============================] - 0s 2ms/step - loss: 2348.9429 - mae: 2348.9429\n",
            "Epoch 186/200\n",
            "36/36 [==============================] - 0s 2ms/step - loss: 2331.1387 - mae: 2331.1387\n",
            "Epoch 187/200\n",
            "36/36 [==============================] - 0s 2ms/step - loss: 2337.9504 - mae: 2337.9504\n",
            "Epoch 188/200\n",
            "36/36 [==============================] - 0s 2ms/step - loss: 2350.8535 - mae: 2350.8535\n",
            "Epoch 189/200\n",
            "36/36 [==============================] - 0s 2ms/step - loss: 2328.9011 - mae: 2328.9011\n",
            "Epoch 190/200\n",
            "36/36 [==============================] - 0s 2ms/step - loss: 2333.2178 - mae: 2333.2178\n",
            "Epoch 191/200\n",
            "36/36 [==============================] - 0s 2ms/step - loss: 2328.4827 - mae: 2328.4827\n",
            "Epoch 192/200\n",
            "36/36 [==============================] - 0s 2ms/step - loss: 2315.2000 - mae: 2315.2000\n",
            "Epoch 193/200\n",
            "36/36 [==============================] - 0s 2ms/step - loss: 2336.2373 - mae: 2336.2373\n",
            "Epoch 194/200\n",
            "36/36 [==============================] - 0s 2ms/step - loss: 2312.6965 - mae: 2312.6965\n",
            "Epoch 195/200\n",
            "36/36 [==============================] - 0s 2ms/step - loss: 2306.7698 - mae: 2306.7698\n",
            "Epoch 196/200\n",
            "36/36 [==============================] - 0s 2ms/step - loss: 2294.8433 - mae: 2294.8433\n",
            "Epoch 197/200\n",
            "36/36 [==============================] - 0s 2ms/step - loss: 2306.7375 - mae: 2306.7375\n",
            "Epoch 198/200\n",
            "36/36 [==============================] - 0s 2ms/step - loss: 2301.4851 - mae: 2301.4851\n",
            "Epoch 199/200\n",
            "36/36 [==============================] - 0s 2ms/step - loss: 2312.2578 - mae: 2312.2578\n",
            "Epoch 200/200\n",
            "36/36 [==============================] - 0s 2ms/step - loss: 2283.9360 - mae: 2283.9360\n"
          ]
        }
      ]
    },
    {
      "cell_type": "code",
      "source": [
        "i_model3.evaluate(X_test,y_test)"
      ],
      "metadata": {
        "colab": {
          "base_uri": "https://localhost:8080/"
        },
        "id": "coO9iS-YbozP",
        "outputId": "c1c660ee-1b81-43f7-9c3a-5dcd786089a5"
      },
      "execution_count": null,
      "outputs": [
        {
          "output_type": "stream",
          "name": "stdout",
          "text": [
            "9/9 [==============================] - 0s 2ms/step - loss: 2071.7688 - mae: 2071.7688\n"
          ]
        },
        {
          "output_type": "execute_result",
          "data": {
            "text/plain": [
              "[2071.768798828125, 2071.768798828125]"
            ]
          },
          "metadata": {},
          "execution_count": 74
        }
      ]
    },
    {
      "cell_type": "code",
      "source": [
        "# Plot history ()\n",
        "plt.Figure(figsize=(10,7))\n",
        "pd.DataFrame(history.history).plot()\n",
        "plt.xlabel(\"epochs\")\n",
        "plt.ylabel(\"mae\")"
      ],
      "metadata": {
        "colab": {
          "base_uri": "https://localhost:8080/",
          "height": 296
        },
        "id": "OIr4NvE1YX52",
        "outputId": "63c811a1-d7f8-4e08-cefa-32ead1a80712"
      },
      "execution_count": null,
      "outputs": [
        {
          "output_type": "execute_result",
          "data": {
            "text/plain": [
              "Text(0, 0.5, 'mae')"
            ]
          },
          "metadata": {},
          "execution_count": 75
        },
        {
          "output_type": "display_data",
          "data": {
            "text/plain": [
              "<Figure size 432x288 with 1 Axes>"
            ],
            "image/png": "[encoded data removed]"
          },
          "metadata": {
            "needs_background": "light"
          }
        }
      ]
    },
    {
      "cell_type": "markdown",
      "source": [
        "**How long should we train model**\n",
        "\n",
        "It depends on problem statement\n",
        "\n",
        "Their is solutionis called EarlyStoppingCallback,which is a TensorFlow component you can add to stop training model once it stops improving a certain metrics"
      ],
      "metadata": {
        "id": "tzM16E3-dMeE"
      }
    },
    {
      "cell_type": "markdown",
      "source": [
        "**Preprocessing Data**\n",
        "> Normalisation\n",
        " \n",
        "> Standardization"
      ],
      "metadata": {
        "id": "ngWlx7jldAJ7"
      }
    },
    {
      "cell_type": "code",
      "source": [
        "X_train"
      ],
      "metadata": {
        "colab": {
          "base_uri": "https://localhost:8080/",
          "height": 488
        },
        "id": "CcTq_yvuxRbC",
        "outputId": "d5bbfb57-94e7-432f-d6ee-ad4f980fefc4"
      },
      "execution_count": null,
      "outputs": [
        {
          "output_type": "execute_result",
          "data": {
            "text/plain": [
              "      age     bmi  children  sex_female  sex_male  smoker_no  smoker_yes  \\\n",
              "560    46  19.950         2           1         0          1           0   \n",
              "1285   47  24.320         0           1         0          1           0   \n",
              "1142   52  24.860         0           1         0          1           0   \n",
              "969    39  34.320         5           1         0          1           0   \n",
              "486    54  21.470         3           1         0          1           0   \n",
              "...   ...     ...       ...         ...       ...        ...         ...   \n",
              "1095   18  31.350         4           1         0          1           0   \n",
              "1130   39  23.870         5           1         0          1           0   \n",
              "1294   58  25.175         0           0         1          1           0   \n",
              "860    37  47.600         2           1         0          0           1   \n",
              "1126   55  29.900         0           0         1          1           0   \n",
              "\n",
              "      region_northeast  region_northwest  region_southeast  region_southwest  \n",
              "560                  0                 1                 0                 0  \n",
              "1285                 1                 0                 0                 0  \n",
              "1142                 0                 0                 1                 0  \n",
              "969                  0                 0                 1                 0  \n",
              "486                  0                 1                 0                 0  \n",
              "...                ...               ...               ...               ...  \n",
              "1095                 1                 0                 0                 0  \n",
              "1130                 0                 0                 1                 0  \n",
              "1294                 1                 0                 0                 0  \n",
              "860                  0                 0                 0                 1  \n",
              "1126                 0                 0                 0                 1  \n",
              "\n",
              "[1070 rows x 11 columns]"
            ],
            "text/html": [
              "\n",
              "  <div id=\"df-e4fb7711-ceb4-4a4c-82ce-a09b134e5d9d\">\n",
              "    <div class=\"colab-df-container\">\n",
              "      <div>\n",
              "<style scoped>\n",
              "    .dataframe tbody tr th:only-of-type {\n",
              "        vertical-align: middle;\n",
              "    }\n",
              "\n",
              "    .dataframe tbody tr th {\n",
              "        vertical-align: top;\n",
              "    }\n",
              "\n",
              "    .dataframe thead th {\n",
              "        text-align: right;\n",
              "    }\n",
              "</style>\n",
              "<table border=\"1\" class=\"dataframe\">\n",
              "  <thead>\n",
              "    <tr style=\"text-align: right;\">\n",
              "      <th></th>\n",
              "      <th>age</th>\n",
              "      <th>bmi</th>\n",
              "      <th>children</th>\n",
              "      <th>sex_female</th>\n",
              "      <th>sex_male</th>\n",
              "      <th>smoker_no</th>\n",
              "      <th>smoker_yes</th>\n",
              "      <th>region_northeast</th>\n",
              "      <th>region_northwest</th>\n",
              "      <th>region_southeast</th>\n",
              "      <th>region_southwest</th>\n",
              "    </tr>\n",
              "  </thead>\n",
              "  <tbody>\n",
              "    <tr>\n",
              "      <th>560</th>\n",
              "      <td>46</td>\n",
              "      <td>19.950</td>\n",
              "      <td>2</td>\n",
              "      <td>1</td>\n",
              "      <td>0</td>\n",
              "      <td>1</td>\n",
              "      <td>0</td>\n",
              "      <td>0</td>\n",
              "      <td>1</td>\n",
              "      <td>0</td>\n",
              "      <td>0</td>\n",
              "    </tr>\n",
              "    <tr>\n",
              "      <th>1285</th>\n",
              "      <td>47</td>\n",
              "      <td>24.320</td>\n",
              "      <td>0</td>\n",
              "      <td>1</td>\n",
              "      <td>0</td>\n",
              "      <td>1</td>\n",
              "      <td>0</td>\n",
              "      <td>1</td>\n",
              "      <td>0</td>\n",
              "      <td>0</td>\n",
              "      <td>0</td>\n",
              "    </tr>\n",
              "    <tr>\n",
              "      <th>1142</th>\n",
              "      <td>52</td>\n",
              "      <td>24.860</td>\n",
              "      <td>0</td>\n",
              "      <td>1</td>\n",
              "      <td>0</td>\n",
              "      <td>1</td>\n",
              "      <td>0</td>\n",
              "      <td>0</td>\n",
              "      <td>0</td>\n",
              "      <td>1</td>\n",
              "      <td>0</td>\n",
              "    </tr>\n",
              "    <tr>\n",
              "      <th>969</th>\n",
              "      <td>39</td>\n",
              "      <td>34.320</td>\n",
              "      <td>5</td>\n",
              "      <td>1</td>\n",
              "      <td>0</td>\n",
              "      <td>1</td>\n",
              "      <td>0</td>\n",
              "      <td>0</td>\n",
              "      <td>0</td>\n",
              "      <td>1</td>\n",
              "      <td>0</td>\n",
              "    </tr>\n",
              "    <tr>\n",
              "      <th>486</th>\n",
              "      <td>54</td>\n",
              "      <td>21.470</td>\n",
              "      <td>3</td>\n",
              "      <td>1</td>\n",
              "      <td>0</td>\n",
              "      <td>1</td>\n",
              "      <td>0</td>\n",
              "      <td>0</td>\n",
              "      <td>1</td>\n",
              "      <td>0</td>\n",
              "      <td>0</td>\n",
              "    </tr>\n",
              "    <tr>\n",
              "      <th>...</th>\n",
              "      <td>...</td>\n",
              "      <td>...</td>\n",
              "      <td>...</td>\n",
              "      <td>...</td>\n",
              "      <td>...</td>\n",
              "      <td>...</td>\n",
              "      <td>...</td>\n",
              "      <td>...</td>\n",
              "      <td>...</td>\n",
              "      <td>...</td>\n",
              "      <td>...</td>\n",
              "    </tr>\n",
              "    <tr>\n",
              "      <th>1095</th>\n",
              "      <td>18</td>\n",
              "      <td>31.350</td>\n",
              "      <td>4</td>\n",
              "      <td>1</td>\n",
              "      <td>0</td>\n",
              "      <td>1</td>\n",
              "      <td>0</td>\n",
              "      <td>1</td>\n",
              "      <td>0</td>\n",
              "      <td>0</td>\n",
              "      <td>0</td>\n",
              "    </tr>\n",
              "    <tr>\n",
              "      <th>1130</th>\n",
              "      <td>39</td>\n",
              "      <td>23.870</td>\n",
              "      <td>5</td>\n",
              "      <td>1</td>\n",
              "      <td>0</td>\n",
              "      <td>1</td>\n",
              "      <td>0</td>\n",
              "      <td>0</td>\n",
              "      <td>0</td>\n",
              "      <td>1</td>\n",
              "      <td>0</td>\n",
              "    </tr>\n",
              "    <tr>\n",
              "      <th>1294</th>\n",
              "      <td>58</td>\n",
              "      <td>25.175</td>\n",
              "      <td>0</td>\n",
              "      <td>0</td>\n",
              "      <td>1</td>\n",
              "      <td>1</td>\n",
              "      <td>0</td>\n",
              "      <td>1</td>\n",
              "      <td>0</td>\n",
              "      <td>0</td>\n",
              "      <td>0</td>\n",
              "    </tr>\n",
              "    <tr>\n",
              "      <th>860</th>\n",
              "      <td>37</td>\n",
              "      <td>47.600</td>\n",
              "      <td>2</td>\n",
              "      <td>1</td>\n",
              "      <td>0</td>\n",
              "      <td>0</td>\n",
              "      <td>1</td>\n",
              "      <td>0</td>\n",
              "      <td>0</td>\n",
              "      <td>0</td>\n",
              "      <td>1</td>\n",
              "    </tr>\n",
              "    <tr>\n",
              "      <th>1126</th>\n",
              "      <td>55</td>\n",
              "      <td>29.900</td>\n",
              "      <td>0</td>\n",
              "      <td>0</td>\n",
              "      <td>1</td>\n",
              "      <td>1</td>\n",
              "      <td>0</td>\n",
              "      <td>0</td>\n",
              "      <td>0</td>\n",
              "      <td>0</td>\n",
              "      <td>1</td>\n",
              "    </tr>\n",
              "  </tbody>\n",
              "</table>\n",
              "<p>1070 rows × 11 columns</p>\n",
              "</div>\n",
              "      <button class=\"colab-df-convert\" onclick=\"convertToInteractive('df-e4fb7711-ceb4-4a4c-82ce-a09b134e5d9d')\"\n",
              "              title=\"Convert this dataframe to an interactive table.\"\n",
              "              style=\"display:none;\">\n",
              "        \n",
              "  <svg xmlns=\"http://www.w3.org/2000/svg\" height=\"24px\"viewBox=\"0 0 24 24\"\n",
              "       width=\"24px\">\n",
              "    <path d=\"M0 0h24v24H0V0z\" fill=\"none\"/>\n",
              "    <path d=\"M18.56 5.44l.94 2.06.94-2.06 2.06-.94-2.06-.94-.94-2.06-.94 2.06-2.06.94zm-11 1L8.5 8.5l.94-2.06 2.06-.94-2.06-.94L8.5 2.5l-.94 2.06-2.06.94zm10 10l.94 2.06.94-2.06 2.06-.94-2.06-.94-.94-2.06-.94 2.06-2.06.94z\"/><path d=\"M17.41 7.96l-1.37-1.37c-.4-.4-.92-.59-1.43-.59-.52 0-1.04.2-1.43.59L10.3 9.45l-7.72 7.72c-.78.78-.78 2.05 0 2.83L4 21.41c.39.39.9.59 1.41.59.51 0 1.02-.2 1.41-.59l7.78-7.78 2.81-2.81c.8-.78.8-2.07 0-2.86zM5.41 20L4 18.59l7.72-7.72 1.47 1.35L5.41 20z\"/>\n",
              "  </svg>\n",
              "      </button>\n",
              "      \n",
              "  <style>\n",
              "    .colab-df-container {\n",
              "      display:flex;\n",
              "      flex-wrap:wrap;\n",
              "      gap: 12px;\n",
              "    }\n",
              "\n",
              "    .colab-df-convert {\n",
              "      background-color: #E8F0FE;\n",
              "      border: none;\n",
              "      border-radius: 50%;\n",
              "      cursor: pointer;\n",
              "      display: none;\n",
              "      fill: #1967D2;\n",
              "      height: 32px;\n",
              "      padding: 0 0 0 0;\n",
              "      width: 32px;\n",
              "    }\n",
              "\n",
              "    .colab-df-convert:hover {\n",
              "      background-color: #E2EBFA;\n",
              "      box-shadow: 0px 1px 2px rgba(60, 64, 67, 0.3), 0px 1px 3px 1px rgba(60, 64, 67, 0.15);\n",
              "      fill: #174EA6;\n",
              "    }\n",
              "\n",
              "    [theme=dark] .colab-df-convert {\n",
              "      background-color: #3B4455;\n",
              "      fill: #D2E3FC;\n",
              "    }\n",
              "\n",
              "    [theme=dark] .colab-df-convert:hover {\n",
              "      background-color: #434B5C;\n",
              "      box-shadow: 0px 1px 3px 1px rgba(0, 0, 0, 0.15);\n",
              "      filter: drop-shadow(0px 1px 2px rgba(0, 0, 0, 0.3));\n",
              "      fill: #FFFFFF;\n",
              "    }\n",
              "  </style>\n",
              "\n",
              "      <script>\n",
              "        const buttonEl =\n",
              "          document.querySelector('#df-e4fb7711-ceb4-4a4c-82ce-a09b134e5d9d button.colab-df-convert');\n",
              "        buttonEl.style.display =\n",
              "          google.colab.kernel.accessAllowed ? 'block' : 'none';\n",
              "\n",
              "        async function convertToInteractive(key) {\n",
              "          const element = document.querySelector('#df-e4fb7711-ceb4-4a4c-82ce-a09b134e5d9d');\n",
              "          const dataTable =\n",
              "            await google.colab.kernel.invokeFunction('convertToInteractive',\n",
              "                                                     [key], {});\n",
              "          if (!dataTable) return;\n",
              "\n",
              "          const docLinkHtml = 'Like what you see? Visit the ' +\n",
              "            '<a target=\"_blank\" href=https://colab.research.google.com/notebooks/data_table.ipynb>data table notebook</a>'\n",
              "            + ' to learn more about interactive tables.';\n",
              "          element.innerHTML = '';\n",
              "          dataTable['output_type'] = 'display_data';\n",
              "          await google.colab.output.renderOutput(dataTable, element);\n",
              "          const docLink = document.createElement('div');\n",
              "          docLink.innerHTML = docLinkHtml;\n",
              "          element.appendChild(docLink);\n",
              "        }\n",
              "      </script>\n",
              "    </div>\n",
              "  </div>\n",
              "  "
            ]
          },
          "metadata": {},
          "execution_count": 76
        }
      ]
    },
    {
      "cell_type": "code",
      "source": [
        "X['age'].plot(kind='hist')"
      ],
      "metadata": {
        "colab": {
          "base_uri": "https://localhost:8080/",
          "height": 282
        },
        "id": "wa6tHbigxRuY",
        "outputId": "438a1295-a811-41fa-cbe9-23db4e9e70ca"
      },
      "execution_count": null,
      "outputs": [
        {
          "output_type": "execute_result",
          "data": {
            "text/plain": [
              "<matplotlib.axes._subplots.AxesSubplot at 0x7f9478184ca0>"
            ]
          },
          "metadata": {},
          "execution_count": 77
        },
        {
          "output_type": "display_data",
          "data": {
            "text/plain": [
              "<Figure size 432x288 with 1 Axes>"
            ],
            "image/png": "[encoded data removed]"
          },
          "metadata": {
            "needs_background": "light"
          }
        }
      ]
    },
    {
      "cell_type": "code",
      "source": [
        "X['bmi'].plot(kind='hist')"
      ],
      "metadata": {
        "colab": {
          "base_uri": "https://localhost:8080/",
          "height": 282
        },
        "id": "wL-QtBzcxSFD",
        "outputId": "c1be0633-c6d8-46a9-d71f-6664d4ee089c"
      },
      "execution_count": null,
      "outputs": [
        {
          "output_type": "execute_result",
          "data": {
            "text/plain": [
              "<matplotlib.axes._subplots.AxesSubplot at 0x7f94780eb610>"
            ]
          },
          "metadata": {},
          "execution_count": 78
        },
        {
          "output_type": "display_data",
          "data": {
            "text/plain": [
              "<Figure size 432x288 with 1 Axes>"
            ],
            "image/png": "[encoded data removed]"
          },
          "metadata": {
            "needs_background": "light"
          }
        }
      ]
    },
    {
      "cell_type": "code",
      "source": [
        "insurance"
      ],
      "metadata": {
        "colab": {
          "base_uri": "https://localhost:8080/",
          "height": 424
        },
        "id": "bSKe2As6wXWC",
        "outputId": "9688ae0b-3093-4e7b-99e4-e36fea4efa5b"
      },
      "execution_count": null,
      "outputs": [
        {
          "output_type": "execute_result",
          "data": {
            "text/plain": [
              "      age     sex     bmi  children smoker     region      charges\n",
              "0      19  female  27.900         0    yes  southwest  16884.92400\n",
              "1      18    male  33.770         1     no  southeast   1725.55230\n",
              "2      28    male  33.000         3     no  southeast   4449.46200\n",
              "3      33    male  22.705         0     no  northwest  21984.47061\n",
              "4      32    male  28.880         0     no  northwest   3866.85520\n",
              "...   ...     ...     ...       ...    ...        ...          ...\n",
              "1333   50    male  30.970         3     no  northwest  10600.54830\n",
              "1334   18  female  31.920         0     no  northeast   2205.98080\n",
              "1335   18  female  36.850         0     no  southeast   1629.83350\n",
              "1336   21  female  25.800         0     no  southwest   2007.94500\n",
              "1337   61  female  29.070         0    yes  northwest  29141.36030\n",
              "\n",
              "[1338 rows x 7 columns]"
            ],
            "text/html": [
              "\n",
              "  <div id=\"df-8725f1ce-4000-4532-aa09-584edfd35967\">\n",
              "    <div class=\"colab-df-container\">\n",
              "      <div>\n",
              "<style scoped>\n",
              "    .dataframe tbody tr th:only-of-type {\n",
              "        vertical-align: middle;\n",
              "    }\n",
              "\n",
              "    .dataframe tbody tr th {\n",
              "        vertical-align: top;\n",
              "    }\n",
              "\n",
              "    .dataframe thead th {\n",
              "        text-align: right;\n",
              "    }\n",
              "</style>\n",
              "<table border=\"1\" class=\"dataframe\">\n",
              "  <thead>\n",
              "    <tr style=\"text-align: right;\">\n",
              "      <th></th>\n",
              "      <th>age</th>\n",
              "      <th>sex</th>\n",
              "      <th>bmi</th>\n",
              "      <th>children</th>\n",
              "      <th>smoker</th>\n",
              "      <th>region</th>\n",
              "      <th>charges</th>\n",
              "    </tr>\n",
              "  </thead>\n",
              "  <tbody>\n",
              "    <tr>\n",
              "      <th>0</th>\n",
              "      <td>19</td>\n",
              "      <td>female</td>\n",
              "      <td>27.900</td>\n",
              "      <td>0</td>\n",
              "      <td>yes</td>\n",
              "      <td>southwest</td>\n",
              "      <td>16884.92400</td>\n",
              "    </tr>\n",
              "    <tr>\n",
              "      <th>1</th>\n",
              "      <td>18</td>\n",
              "      <td>male</td>\n",
              "      <td>33.770</td>\n",
              "      <td>1</td>\n",
              "      <td>no</td>\n",
              "      <td>southeast</td>\n",
              "      <td>1725.55230</td>\n",
              "    </tr>\n",
              "    <tr>\n",
              "      <th>2</th>\n",
              "      <td>28</td>\n",
              "      <td>male</td>\n",
              "      <td>33.000</td>\n",
              "      <td>3</td>\n",
              "      <td>no</td>\n",
              "      <td>southeast</td>\n",
              "      <td>4449.46200</td>\n",
              "    </tr>\n",
              "    <tr>\n",
              "      <th>3</th>\n",
              "      <td>33</td>\n",
              "      <td>male</td>\n",
              "      <td>22.705</td>\n",
              "      <td>0</td>\n",
              "      <td>no</td>\n",
              "      <td>northwest</td>\n",
              "      <td>21984.47061</td>\n",
              "    </tr>\n",
              "    <tr>\n",
              "      <th>4</th>\n",
              "      <td>32</td>\n",
              "      <td>male</td>\n",
              "      <td>28.880</td>\n",
              "      <td>0</td>\n",
              "      <td>no</td>\n",
              "      <td>northwest</td>\n",
              "      <td>3866.85520</td>\n",
              "    </tr>\n",
              "    <tr>\n",
              "      <th>...</th>\n",
              "      <td>...</td>\n",
              "      <td>...</td>\n",
              "      <td>...</td>\n",
              "      <td>...</td>\n",
              "      <td>...</td>\n",
              "      <td>...</td>\n",
              "      <td>...</td>\n",
              "    </tr>\n",
              "    <tr>\n",
              "      <th>1333</th>\n",
              "      <td>50</td>\n",
              "      <td>male</td>\n",
              "      <td>30.970</td>\n",
              "      <td>3</td>\n",
              "      <td>no</td>\n",
              "      <td>northwest</td>\n",
              "      <td>10600.54830</td>\n",
              "    </tr>\n",
              "    <tr>\n",
              "      <th>1334</th>\n",
              "      <td>18</td>\n",
              "      <td>female</td>\n",
              "      <td>31.920</td>\n",
              "      <td>0</td>\n",
              "      <td>no</td>\n",
              "      <td>northeast</td>\n",
              "      <td>2205.98080</td>\n",
              "    </tr>\n",
              "    <tr>\n",
              "      <th>1335</th>\n",
              "      <td>18</td>\n",
              "      <td>female</td>\n",
              "      <td>36.850</td>\n",
              "      <td>0</td>\n",
              "      <td>no</td>\n",
              "      <td>southeast</td>\n",
              "      <td>1629.83350</td>\n",
              "    </tr>\n",
              "    <tr>\n",
              "      <th>1336</th>\n",
              "      <td>21</td>\n",
              "      <td>female</td>\n",
              "      <td>25.800</td>\n",
              "      <td>0</td>\n",
              "      <td>no</td>\n",
              "      <td>southwest</td>\n",
              "      <td>2007.94500</td>\n",
              "    </tr>\n",
              "    <tr>\n",
              "      <th>1337</th>\n",
              "      <td>61</td>\n",
              "      <td>female</td>\n",
              "      <td>29.070</td>\n",
              "      <td>0</td>\n",
              "      <td>yes</td>\n",
              "      <td>northwest</td>\n",
              "      <td>29141.36030</td>\n",
              "    </tr>\n",
              "  </tbody>\n",
              "</table>\n",
              "<p>1338 rows × 7 columns</p>\n",
              "</div>\n",
              "      <button class=\"colab-df-convert\" onclick=\"convertToInteractive('df-8725f1ce-4000-4532-aa09-584edfd35967')\"\n",
              "              title=\"Convert this dataframe to an interactive table.\"\n",
              "              style=\"display:none;\">\n",
              "        \n",
              "  <svg xmlns=\"http://www.w3.org/2000/svg\" height=\"24px\"viewBox=\"0 0 24 24\"\n",
              "       width=\"24px\">\n",
              "    <path d=\"M0 0h24v24H0V0z\" fill=\"none\"/>\n",
              "    <path d=\"M18.56 5.44l.94 2.06.94-2.06 2.06-.94-2.06-.94-.94-2.06-.94 2.06-2.06.94zm-11 1L8.5 8.5l.94-2.06 2.06-.94-2.06-.94L8.5 2.5l-.94 2.06-2.06.94zm10 10l.94 2.06.94-2.06 2.06-.94-2.06-.94-.94-2.06-.94 2.06-2.06.94z\"/><path d=\"M17.41 7.96l-1.37-1.37c-.4-.4-.92-.59-1.43-.59-.52 0-1.04.2-1.43.59L10.3 9.45l-7.72 7.72c-.78.78-.78 2.05 0 2.83L4 21.41c.39.39.9.59 1.41.59.51 0 1.02-.2 1.41-.59l7.78-7.78 2.81-2.81c.8-.78.8-2.07 0-2.86zM5.41 20L4 18.59l7.72-7.72 1.47 1.35L5.41 20z\"/>\n",
              "  </svg>\n",
              "      </button>\n",
              "      \n",
              "  <style>\n",
              "    .colab-df-container {\n",
              "      display:flex;\n",
              "      flex-wrap:wrap;\n",
              "      gap: 12px;\n",
              "    }\n",
              "\n",
              "    .colab-df-convert {\n",
              "      background-color: #E8F0FE;\n",
              "      border: none;\n",
              "      border-radius: 50%;\n",
              "      cursor: pointer;\n",
              "      display: none;\n",
              "      fill: #1967D2;\n",
              "      height: 32px;\n",
              "      padding: 0 0 0 0;\n",
              "      width: 32px;\n",
              "    }\n",
              "\n",
              "    .colab-df-convert:hover {\n",
              "      background-color: #E2EBFA;\n",
              "      box-shadow: 0px 1px 2px rgba(60, 64, 67, 0.3), 0px 1px 3px 1px rgba(60, 64, 67, 0.15);\n",
              "      fill: #174EA6;\n",
              "    }\n",
              "\n",
              "    [theme=dark] .colab-df-convert {\n",
              "      background-color: #3B4455;\n",
              "      fill: #D2E3FC;\n",
              "    }\n",
              "\n",
              "    [theme=dark] .colab-df-convert:hover {\n",
              "      background-color: #434B5C;\n",
              "      box-shadow: 0px 1px 3px 1px rgba(0, 0, 0, 0.15);\n",
              "      filter: drop-shadow(0px 1px 2px rgba(0, 0, 0, 0.3));\n",
              "      fill: #FFFFFF;\n",
              "    }\n",
              "  </style>\n",
              "\n",
              "      <script>\n",
              "        const buttonEl =\n",
              "          document.querySelector('#df-8725f1ce-4000-4532-aa09-584edfd35967 button.colab-df-convert');\n",
              "        buttonEl.style.display =\n",
              "          google.colab.kernel.accessAllowed ? 'block' : 'none';\n",
              "\n",
              "        async function convertToInteractive(key) {\n",
              "          const element = document.querySelector('#df-8725f1ce-4000-4532-aa09-584edfd35967');\n",
              "          const dataTable =\n",
              "            await google.colab.kernel.invokeFunction('convertToInteractive',\n",
              "                                                     [key], {});\n",
              "          if (!dataTable) return;\n",
              "\n",
              "          const docLinkHtml = 'Like what you see? Visit the ' +\n",
              "            '<a target=\"_blank\" href=https://colab.research.google.com/notebooks/data_table.ipynb>data table notebook</a>'\n",
              "            + ' to learn more about interactive tables.';\n",
              "          element.innerHTML = '';\n",
              "          dataTable['output_type'] = 'display_data';\n",
              "          await google.colab.output.renderOutput(dataTable, element);\n",
              "          const docLink = document.createElement('div');\n",
              "          docLink.innerHTML = docLinkHtml;\n",
              "          element.appendChild(docLink);\n",
              "        }\n",
              "      </script>\n",
              "    </div>\n",
              "  </div>\n",
              "  "
            ]
          },
          "metadata": {},
          "execution_count": 79
        }
      ]
    },
    {
      "cell_type": "markdown",
      "source": [
        "To prepare our data,we can borrow a few classes from scikit-learn"
      ],
      "metadata": {
        "id": "znaBQYyEc9ds"
      }
    },
    {
      "cell_type": "code",
      "source": [
        "from sklearn.compose import make_column_transformer\n",
        "from sklearn.preprocessing import StandardScaler    #Make data more normally distributed it removes effect of outliers\n",
        "from sklearn.preprocessing import MinMaxScaler      #Normalisation scale model but still preserve distribution(Common in DL)\n",
        "from sklearn.preprocessing import OneHotEncoder"
      ],
      "metadata": {
        "id": "0EcXOnekwWyz"
      },
      "execution_count": null,
      "outputs": []
    },
    {
      "cell_type": "code",
      "source": [
        "ct=make_column_transformer(           #Fit transformer on training data and then use it to transform test data\n",
        "    (MinMaxScaler(),['age','bmi','children']),\n",
        "    (OneHotEncoder(handle_unknown=\"ignore\"),[\"sex\",\"smoker\",\"region\"])\n",
        ")\n",
        "\n",
        "X=insurance.drop(\"charges\",axis=1)\n",
        "y=insurance[\"charges\"]\n",
        "\n",
        "#Build our train and test \n",
        "X_train,X_test,y_train,y_test=train_test_split(X,y,test_size=0.2,random_state=42)\n",
        "\n",
        "#Fit our tranformer\n",
        "ct.fit(X_train)\n",
        "\n",
        "#Transform our data\n",
        "X_train_normal=ct.transform(X_train)\n",
        "X_test_normal=ct.transform(X_test)"
      ],
      "metadata": {
        "id": "DnPptPYicZhq"
      },
      "execution_count": null,
      "outputs": []
    },
    {
      "cell_type": "code",
      "source": [
        "X_train.iloc[0]"
      ],
      "metadata": {
        "colab": {
          "base_uri": "https://localhost:8080/"
        },
        "id": "s1S4IJhbf5Pr",
        "outputId": "c88d7291-2a21-4f70-e74b-e6b605adb0d6"
      },
      "execution_count": null,
      "outputs": [
        {
          "output_type": "execute_result",
          "data": {
            "text/plain": [
              "age                46\n",
              "sex            female\n",
              "bmi             19.95\n",
              "children            2\n",
              "smoker             no\n",
              "region      northwest\n",
              "Name: 560, dtype: object"
            ]
          },
          "metadata": {},
          "execution_count": 82
        }
      ]
    },
    {
      "cell_type": "code",
      "source": [
        "X_train_normal[0]"
      ],
      "metadata": {
        "colab": {
          "base_uri": "https://localhost:8080/"
        },
        "id": "BLOMzHn6caGn",
        "outputId": "c395e111-1853-4aa0-d428-2869000645e9"
      },
      "execution_count": null,
      "outputs": [
        {
          "output_type": "execute_result",
          "data": {
            "text/plain": [
              "array([0.60869565, 0.10734463, 0.4       , 1.        , 0.        ,\n",
              "       1.        , 0.        , 0.        , 1.        , 0.        ,\n",
              "       0.        ])"
            ]
          },
          "metadata": {},
          "execution_count": 83
        }
      ]
    },
    {
      "cell_type": "code",
      "source": [
        "X_train.shape,X_train_normal.shape"
      ],
      "metadata": {
        "colab": {
          "base_uri": "https://localhost:8080/"
        },
        "id": "6-rFLCVhwX9H",
        "outputId": "9e5b2484-fccc-4df3-e065-b00792550f7d"
      },
      "execution_count": null,
      "outputs": [
        {
          "output_type": "execute_result",
          "data": {
            "text/plain": [
              "((1070, 6), (1070, 11))"
            ]
          },
          "metadata": {},
          "execution_count": 84
        }
      ]
    },
    {
      "cell_type": "markdown",
      "source": [
        "\n",
        "Our data has been normalised and encoded"
      ],
      "metadata": {
        "id": "pMoIptvIgbPq"
      }
    },
    {
      "cell_type": "code",
      "source": [
        "tf.random.set_seed(42)\n",
        "# Create model\n",
        "i_nmodel=tf.keras.Sequential([\n",
        "    tf.keras.layers.Dense(50,activation='relu'),\n",
        "    tf.keras.layers.Dense(50,activation='relu'),\n",
        "    tf.keras.layers.Dense(50,activation='relu'),\n",
        "    tf.keras.layers.Dense(1)\n",
        "])\n",
        "\n",
        "# Compile model\n",
        "i_nmodel.compile(loss=tf.keras.losses.mean_absolute_error,\n",
        "              optimizer=tf.keras.optimizers.Adam(lr=0.01),\n",
        "              metrics=[\"mae\"])\n",
        "\n",
        "#Fit model\n",
        "i_nmodel.fit(X_train_normal,y_train,epochs=100,batch_size=30)"
      ],
      "metadata": {
        "id": "4t8l8gsCgmgb",
        "colab": {
          "base_uri": "https://localhost:8080/"
        },
        "outputId": "95925bf1-d933-481f-b102-7cb42c1bc1d2"
      },
      "execution_count": null,
      "outputs": [
        {
          "output_type": "stream",
          "name": "stdout",
          "text": [
            "Epoch 1/100\n"
          ]
        },
        {
          "output_type": "stream",
          "name": "stderr",
          "text": [
            "/usr/local/lib/python3.8/dist-packages/keras/optimizers/optimizer_v2/adam.py:110: UserWarning: The `lr` argument is deprecated, use `learning_rate` instead.\n",
            "  super(Adam, self).__init__(name, **kwargs)\n"
          ]
        },
        {
          "output_type": "stream",
          "name": "stdout",
          "text": [
            "36/36 [==============================] - 1s 2ms/step - loss: 12597.5488 - mae: 12597.5488\n",
            "Epoch 2/100\n",
            "36/36 [==============================] - 0s 2ms/step - loss: 7849.6992 - mae: 7849.6992\n",
            "Epoch 3/100\n",
            "36/36 [==============================] - 0s 2ms/step - loss: 6179.5508 - mae: 6179.5508\n",
            "Epoch 4/100\n",
            "36/36 [==============================] - 0s 2ms/step - loss: 3940.0210 - mae: 3940.0210\n",
            "Epoch 5/100\n",
            "36/36 [==============================] - 0s 2ms/step - loss: 3423.3921 - mae: 3423.3921\n",
            "Epoch 6/100\n",
            "36/36 [==============================] - 0s 2ms/step - loss: 3341.1560 - mae: 3341.1560\n",
            "Epoch 7/100\n",
            "36/36 [==============================] - 0s 2ms/step - loss: 3265.8792 - mae: 3265.8792\n",
            "Epoch 8/100\n",
            "36/36 [==============================] - 0s 2ms/step - loss: 3251.6870 - mae: 3251.6870\n",
            "Epoch 9/100\n",
            "36/36 [==============================] - 0s 2ms/step - loss: 3219.3347 - mae: 3219.3347\n",
            "Epoch 10/100\n",
            "36/36 [==============================] - 0s 2ms/step - loss: 3207.6157 - mae: 3207.6157\n",
            "Epoch 11/100\n",
            "36/36 [==============================] - 0s 2ms/step - loss: 3152.7534 - mae: 3152.7534\n",
            "Epoch 12/100\n",
            "36/36 [==============================] - 0s 2ms/step - loss: 3154.4155 - mae: 3154.4155\n",
            "Epoch 13/100\n",
            "36/36 [==============================] - 0s 2ms/step - loss: 3111.7402 - mae: 3111.7402\n",
            "Epoch 14/100\n",
            "36/36 [==============================] - 0s 2ms/step - loss: 3074.8406 - mae: 3074.8406\n",
            "Epoch 15/100\n",
            "36/36 [==============================] - 0s 2ms/step - loss: 3036.2744 - mae: 3036.2744\n",
            "Epoch 16/100\n",
            "36/36 [==============================] - 0s 3ms/step - loss: 3047.6782 - mae: 3047.6782\n",
            "Epoch 17/100\n",
            "36/36 [==============================] - 0s 2ms/step - loss: 2939.4753 - mae: 2939.4753\n",
            "Epoch 18/100\n",
            "36/36 [==============================] - 0s 2ms/step - loss: 2856.1401 - mae: 2856.1401\n",
            "Epoch 19/100\n",
            "36/36 [==============================] - 0s 2ms/step - loss: 2827.7080 - mae: 2827.7080\n",
            "Epoch 20/100\n",
            "36/36 [==============================] - 0s 2ms/step - loss: 2782.4592 - mae: 2782.4592\n",
            "Epoch 21/100\n",
            "36/36 [==============================] - 0s 2ms/step - loss: 2688.1580 - mae: 2688.1580\n",
            "Epoch 22/100\n",
            "36/36 [==============================] - 0s 2ms/step - loss: 2575.8608 - mae: 2575.8608\n",
            "Epoch 23/100\n",
            "36/36 [==============================] - 0s 2ms/step - loss: 2539.1206 - mae: 2539.1206\n",
            "Epoch 24/100\n",
            "36/36 [==============================] - 0s 2ms/step - loss: 2460.0066 - mae: 2460.0066\n",
            "Epoch 25/100\n",
            "36/36 [==============================] - 0s 3ms/step - loss: 2418.9180 - mae: 2418.9180\n",
            "Epoch 26/100\n",
            "36/36 [==============================] - 0s 2ms/step - loss: 2396.0403 - mae: 2396.0403\n",
            "Epoch 27/100\n",
            "36/36 [==============================] - 0s 2ms/step - loss: 2305.8528 - mae: 2305.8528\n",
            "Epoch 28/100\n",
            "36/36 [==============================] - 0s 2ms/step - loss: 2270.4099 - mae: 2270.4099\n",
            "Epoch 29/100\n",
            "36/36 [==============================] - 0s 2ms/step - loss: 2182.8853 - mae: 2182.8853\n",
            "Epoch 30/100\n",
            "36/36 [==============================] - 0s 2ms/step - loss: 2155.5442 - mae: 2155.5442\n",
            "Epoch 31/100\n",
            "36/36 [==============================] - 0s 2ms/step - loss: 2155.7234 - mae: 2155.7234\n",
            "Epoch 32/100\n",
            "36/36 [==============================] - 0s 2ms/step - loss: 2161.4187 - mae: 2161.4187\n",
            "Epoch 33/100\n",
            "36/36 [==============================] - 0s 2ms/step - loss: 2112.1755 - mae: 2112.1755\n",
            "Epoch 34/100\n",
            "36/36 [==============================] - 0s 2ms/step - loss: 2077.1709 - mae: 2077.1709\n",
            "Epoch 35/100\n",
            "36/36 [==============================] - 0s 2ms/step - loss: 2119.3264 - mae: 2119.3264\n",
            "Epoch 36/100\n",
            "36/36 [==============================] - 0s 2ms/step - loss: 2122.2222 - mae: 2122.2222\n",
            "Epoch 37/100\n",
            "36/36 [==============================] - 0s 2ms/step - loss: 2103.1877 - mae: 2103.1877\n",
            "Epoch 38/100\n",
            "36/36 [==============================] - 0s 2ms/step - loss: 2043.3860 - mae: 2043.3860\n",
            "Epoch 39/100\n",
            "36/36 [==============================] - 0s 2ms/step - loss: 2063.2036 - mae: 2063.2036\n",
            "Epoch 40/100\n",
            "36/36 [==============================] - 0s 2ms/step - loss: 2095.8855 - mae: 2095.8855\n",
            "Epoch 41/100\n",
            "36/36 [==============================] - 0s 2ms/step - loss: 2100.2161 - mae: 2100.2161\n",
            "Epoch 42/100\n",
            "36/36 [==============================] - 0s 2ms/step - loss: 2057.0850 - mae: 2057.0850\n",
            "Epoch 43/100\n",
            "36/36 [==============================] - 0s 2ms/step - loss: 2051.6165 - mae: 2051.6165\n",
            "Epoch 44/100\n",
            "36/36 [==============================] - 0s 2ms/step - loss: 2082.0081 - mae: 2082.0081\n",
            "Epoch 45/100\n",
            "36/36 [==============================] - 0s 2ms/step - loss: 2062.0239 - mae: 2062.0239\n",
            "Epoch 46/100\n",
            "36/36 [==============================] - 0s 2ms/step - loss: 2041.3596 - mae: 2041.3596\n",
            "Epoch 47/100\n",
            "36/36 [==============================] - 0s 2ms/step - loss: 2057.3274 - mae: 2057.3274\n",
            "Epoch 48/100\n",
            "36/36 [==============================] - 0s 2ms/step - loss: 2015.7369 - mae: 2015.7369\n",
            "Epoch 49/100\n",
            "36/36 [==============================] - 0s 2ms/step - loss: 2038.1411 - mae: 2038.1411\n",
            "Epoch 50/100\n",
            "36/36 [==============================] - 0s 2ms/step - loss: 2046.6404 - mae: 2046.6404\n",
            "Epoch 51/100\n",
            "36/36 [==============================] - 0s 2ms/step - loss: 2029.7229 - mae: 2029.7229\n",
            "Epoch 52/100\n",
            "36/36 [==============================] - 0s 2ms/step - loss: 2144.4036 - mae: 2144.4036\n",
            "Epoch 53/100\n",
            "36/36 [==============================] - 0s 2ms/step - loss: 2042.9722 - mae: 2042.9722\n",
            "Epoch 54/100\n",
            "36/36 [==============================] - 0s 2ms/step - loss: 2028.0665 - mae: 2028.0665\n",
            "Epoch 55/100\n",
            "36/36 [==============================] - 0s 2ms/step - loss: 2041.6147 - mae: 2041.6147\n",
            "Epoch 56/100\n",
            "36/36 [==============================] - 0s 2ms/step - loss: 2050.4292 - mae: 2050.4292\n",
            "Epoch 57/100\n",
            "36/36 [==============================] - 0s 3ms/step - loss: 2031.9005 - mae: 2031.9005\n",
            "Epoch 58/100\n",
            "36/36 [==============================] - 0s 2ms/step - loss: 2037.8972 - mae: 2037.8972\n",
            "Epoch 59/100\n",
            "36/36 [==============================] - 0s 2ms/step - loss: 2017.3004 - mae: 2017.3004\n",
            "Epoch 60/100\n",
            "36/36 [==============================] - 0s 2ms/step - loss: 2063.9893 - mae: 2063.9893\n",
            "Epoch 61/100\n",
            "36/36 [==============================] - 0s 2ms/step - loss: 2040.5253 - mae: 2040.5253\n",
            "Epoch 62/100\n",
            "36/36 [==============================] - 0s 2ms/step - loss: 2057.8486 - mae: 2057.8486\n",
            "Epoch 63/100\n",
            "36/36 [==============================] - 0s 2ms/step - loss: 2054.5017 - mae: 2054.5017\n",
            "Epoch 64/100\n",
            "36/36 [==============================] - 0s 2ms/step - loss: 2080.5959 - mae: 2080.5959\n",
            "Epoch 65/100\n",
            "36/36 [==============================] - 0s 2ms/step - loss: 2030.4185 - mae: 2030.4185\n",
            "Epoch 66/100\n",
            "36/36 [==============================] - 0s 2ms/step - loss: 2022.1790 - mae: 2022.1790\n",
            "Epoch 67/100\n",
            "36/36 [==============================] - 0s 2ms/step - loss: 1998.0092 - mae: 1998.0092\n",
            "Epoch 68/100\n",
            "36/36 [==============================] - 0s 2ms/step - loss: 2060.6643 - mae: 2060.6643\n",
            "Epoch 69/100\n",
            "36/36 [==============================] - 0s 2ms/step - loss: 2057.9104 - mae: 2057.9104\n",
            "Epoch 70/100\n",
            "36/36 [==============================] - 0s 3ms/step - loss: 2001.2594 - mae: 2001.2594\n",
            "Epoch 71/100\n",
            "36/36 [==============================] - 0s 2ms/step - loss: 2018.3430 - mae: 2018.3430\n",
            "Epoch 72/100\n",
            "36/36 [==============================] - 0s 2ms/step - loss: 2023.5750 - mae: 2023.5750\n",
            "Epoch 73/100\n",
            "36/36 [==============================] - 0s 2ms/step - loss: 2026.2142 - mae: 2026.2142\n",
            "Epoch 74/100\n",
            "36/36 [==============================] - 0s 2ms/step - loss: 2057.4929 - mae: 2057.4929\n",
            "Epoch 75/100\n",
            "36/36 [==============================] - 0s 2ms/step - loss: 2021.6661 - mae: 2021.6661\n",
            "Epoch 76/100\n",
            "36/36 [==============================] - 0s 2ms/step - loss: 1998.2050 - mae: 1998.2050\n",
            "Epoch 77/100\n",
            "36/36 [==============================] - 0s 2ms/step - loss: 2020.1748 - mae: 2020.1748\n",
            "Epoch 78/100\n",
            "36/36 [==============================] - 0s 2ms/step - loss: 1995.3663 - mae: 1995.3663\n",
            "Epoch 79/100\n",
            "36/36 [==============================] - 0s 2ms/step - loss: 2100.0688 - mae: 2100.0688\n",
            "Epoch 80/100\n",
            "36/36 [==============================] - 0s 2ms/step - loss: 2110.7754 - mae: 2110.7754\n",
            "Epoch 81/100\n",
            "36/36 [==============================] - 0s 2ms/step - loss: 2062.3218 - mae: 2062.3218\n",
            "Epoch 82/100\n",
            "36/36 [==============================] - 0s 2ms/step - loss: 2027.1042 - mae: 2027.1042\n",
            "Epoch 83/100\n",
            "36/36 [==============================] - 0s 2ms/step - loss: 2006.1746 - mae: 2006.1746\n",
            "Epoch 84/100\n",
            "36/36 [==============================] - 0s 2ms/step - loss: 1998.3832 - mae: 1998.3832\n",
            "Epoch 85/100\n",
            "36/36 [==============================] - 0s 2ms/step - loss: 1998.9231 - mae: 1998.9231\n",
            "Epoch 86/100\n",
            "36/36 [==============================] - 0s 3ms/step - loss: 2052.0398 - mae: 2052.0398\n",
            "Epoch 87/100\n",
            "36/36 [==============================] - 0s 2ms/step - loss: 2021.5255 - mae: 2021.5255\n",
            "Epoch 88/100\n",
            "36/36 [==============================] - 0s 2ms/step - loss: 2016.5215 - mae: 2016.5215\n",
            "Epoch 89/100\n",
            "36/36 [==============================] - 0s 2ms/step - loss: 2036.3551 - mae: 2036.3551\n",
            "Epoch 90/100\n",
            "36/36 [==============================] - 0s 2ms/step - loss: 2081.4055 - mae: 2081.4055\n",
            "Epoch 91/100\n",
            "36/36 [==============================] - 0s 2ms/step - loss: 2029.1820 - mae: 2029.1820\n",
            "Epoch 92/100\n",
            "36/36 [==============================] - 0s 2ms/step - loss: 2083.4216 - mae: 2083.4216\n",
            "Epoch 93/100\n",
            "36/36 [==============================] - 0s 2ms/step - loss: 2054.5537 - mae: 2054.5537\n",
            "Epoch 94/100\n",
            "36/36 [==============================] - 0s 2ms/step - loss: 2021.7267 - mae: 2021.7267\n",
            "Epoch 95/100\n",
            "36/36 [==============================] - 0s 2ms/step - loss: 2024.2191 - mae: 2024.2191\n",
            "Epoch 96/100\n",
            "36/36 [==============================] - 0s 2ms/step - loss: 2056.0332 - mae: 2056.0332\n",
            "Epoch 97/100\n",
            "36/36 [==============================] - 0s 2ms/step - loss: 2084.1313 - mae: 2084.1313\n",
            "Epoch 98/100\n",
            "36/36 [==============================] - 0s 2ms/step - loss: 2064.9741 - mae: 2064.9741\n",
            "Epoch 99/100\n",
            "36/36 [==============================] - 0s 2ms/step - loss: 2005.7147 - mae: 2005.7147\n",
            "Epoch 100/100\n",
            "36/36 [==============================] - 0s 2ms/step - loss: 2007.9612 - mae: 2007.9612\n"
          ]
        },
        {
          "output_type": "execute_result",
          "data": {
            "text/plain": [
              "<keras.callbacks.History at 0x7f9478031610>"
            ]
          },
          "metadata": {},
          "execution_count": 85
        }
      ]
    },
    {
      "cell_type": "code",
      "source": [
        "i_nmodel.evaluate(X_train_normal,y_train)"
      ],
      "metadata": {
        "colab": {
          "base_uri": "https://localhost:8080/"
        },
        "id": "UomxvK1RoitH",
        "outputId": "5c9fe578-3908-4268-c8e2-3402f0c91ff8"
      },
      "execution_count": null,
      "outputs": [
        {
          "output_type": "stream",
          "name": "stdout",
          "text": [
            "34/34 [==============================] - 0s 1ms/step - loss: 2015.7822 - mae: 2015.7822\n"
          ]
        },
        {
          "output_type": "execute_result",
          "data": {
            "text/plain": [
              "[2015.7822265625, 2015.7822265625]"
            ]
          },
          "metadata": {},
          "execution_count": 86
        }
      ]
    },
    {
      "cell_type": "code",
      "source": [
        "#9/9 [==============================] - 0s 2ms/step - loss: 2071.7688 - mae: 2071.7688\n",
        "#[2071.768798828125, 2071.768798828125]"
      ],
      "metadata": {
        "id": "MhHZ2PH5pHxj"
      },
      "execution_count": null,
      "outputs": []
    },
    {
      "cell_type": "code",
      "source": [
        "i_model3.summary()"
      ],
      "metadata": {
        "colab": {
          "base_uri": "https://localhost:8080/"
        },
        "id": "CToMGGUgnF4y",
        "outputId": "78b8ace4-d2af-40c6-8720-1c06042810ac"
      },
      "execution_count": null,
      "outputs": [
        {
          "output_type": "stream",
          "name": "stdout",
          "text": [
            "Model: \"sequential_5\"\n",
            "_________________________________________________________________\n",
            " Layer (type)                Output Shape              Param #   \n",
            "=================================================================\n",
            " dense_9 (Dense)             (None, 50)                600       \n",
            "                                                                 \n",
            " dense_10 (Dense)            (None, 50)                2550      \n",
            "                                                                 \n",
            " dense_11 (Dense)            (None, 50)                2550      \n",
            "                                                                 \n",
            " dense_12 (Dense)            (None, 1)                 51        \n",
            "                                                                 \n",
            "=================================================================\n",
            "Total params: 5,751\n",
            "Trainable params: 5,751\n",
            "Non-trainable params: 0\n",
            "_________________________________________________________________\n"
          ]
        }
      ]
    }
  ]
}